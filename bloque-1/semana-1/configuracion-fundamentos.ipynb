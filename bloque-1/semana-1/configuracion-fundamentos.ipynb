{
 "cells": [
  {
   "cell_type": "markdown",
   "id": "09afa1d2",
   "metadata": {},
   "source": [
    "# Semana 1: Configuración del Entorno y Fundamentos\n",
    "\n",
    "## Prerrequisitos de Programación con Python\n",
    "\n",
    "---\n",
    "\n",
    "**Objetivos de aprendizaje:**\n",
    "- Configurar un entorno de desarrollo Python funcional\n",
    "- Comprender qué es Python y por qué es útil para el análisis de datos\n",
    "- Instalar Python, pip y Jupyter Notebook\n",
    "- Dar los primeros pasos con variables, tipos de datos y operadores\n",
    "\n",
    "---"
   ]
  },
  {
   "cell_type": "markdown",
   "id": "d76a65d3",
   "metadata": {},
   "source": [
    "## 1. Teoría: Introducción a Python y su Ecosistema\n",
    "\n",
    "### ¿Qué es Python?\n",
    "\n",
    "Python es un lenguaje de programación de alto nivel, interpretado y de propósito general. Es especialmente popular en ciencia de datos por su sintaxis clara y la abundancia de librerías especializadas.\n",
    "\n",
    "### ¿Por qué Python para Análisis de Datos?\n",
    "\n",
    "Python es ideal para análisis de datos porque:\n",
    "\n",
    "1. **Sintaxis Clara**: Fácil de leer y escribir\n",
    "2. **Librerías Especializadas**: pandas, numpy, matplotlib, seaborn\n",
    "3. **Comunidad Activa**: Gran cantidad de recursos y documentación\n",
    "4. **Versatilidad**: Desde análisis básico hasta machine learning\n",
    "5. **Jupyter Notebook**: Entorno interactivo ideal para exploración\n",
    "\n",
    "### El Ecosistema de Python para Ciencia de Datos\n",
    "\n",
    "- **Python**: El lenguaje base\n",
    "- **pip**: Gestor de paquetes para instalar librerías\n",
    "- **Jupyter Notebook**: Entorno interactivo\n",
    "- **pandas**: Manipulación y análisis de datos\n",
    "- **numpy**: Computación numérica\n",
    "- **matplotlib**: Visualización básica\n",
    "- **seaborn**: Visualización estadística\n",
    "\n",
    "### Aplicaciones en el Deporte\n",
    "\n",
    "Con Python podemos:\n",
    "- Analizar estadísticas de jugadores\n",
    "- Crear visualizaciones de rendimiento\n",
    "- Predecir resultados de partidos\n",
    "- Optimizar estrategias de equipo"
   ]
  },
  {
   "cell_type": "markdown",
   "id": "c4825cf5",
   "metadata": {},
   "source": [
    "## 2. Práctica: Instalación de Python, pip y Jupyter Notebook\n",
    "\n",
    "### Opción 1: Instalación con Anaconda (Recomendada para principiantes)\n",
    "\n",
    "Anaconda es una distribución de Python que incluye todo lo necesario:\n",
    "\n",
    "1. **Descargar Anaconda**: Visita https://www.anaconda.com/download\n",
    "2. **Instalar**: Sigue las instrucciones del instalador\n",
    "3. **Verificar**: Abre Anaconda Navigator\n",
    "\n",
    "### Opción 2: Instalación Manual\n",
    "\n",
    "Si prefieres mayor control:\n",
    "\n",
    "1. **Instalar Python**: Visita https://www.python.org/downloads/\n",
    "2. **Verificar pip**: Viene incluido con Python 3.4+\n",
    "3. **Instalar Jupyter**: `pip install jupyter`\n",
    "4. **Instalar librerías**: `pip install pandas numpy matplotlib`\n",
    "\n",
    "### Verificación de la Instalación\n",
    "\n",
    "Ejecuta los siguientes comandos en tu terminal o símbolo del sistema:"
   ]
  },
  {
   "cell_type": "code",
   "execution_count": 1,
   "id": "a1fbc3f9",
   "metadata": {},
   "outputs": [
    {
     "name": "stdout",
     "output_type": "stream",
     "text": [
      "Versión de Python: 3.10.12 (main, May 27 2025, 17:12:29) [GCC 11.4.0]\n",
      "Todas las librerías están instaladas correctamente\n",
      "pandas: 2.3.1\n",
      "numpy: 2.2.6\n",
      "Todas las librerías están instaladas correctamente\n",
      "pandas: 2.3.1\n",
      "numpy: 2.2.6\n"
     ]
    }
   ],
   "source": [
    "# Verificar versión de Python\n",
    "import sys\n",
    "print(f\"Versión de Python: {sys.version}\")\n",
    "\n",
    "# Verificar librerías principales\n",
    "try:\n",
    "    import pandas as pd\n",
    "    import numpy as np\n",
    "    import matplotlib.pyplot as plt\n",
    "    print(\"Todas las librerías están instaladas correctamente\")\n",
    "    print(f\"pandas: {pd.__version__}\")\n",
    "    print(f\"numpy: {np.__version__}\")\n",
    "except ImportError as e:\n",
    "    print(f\"Error al importar: {e}\")\n",
    "    print(\"Instala las librerías con: pip install pandas numpy matplotlib\")"
   ]
  },
  {
   "cell_type": "markdown",
   "id": "c28537c9",
   "metadata": {},
   "source": [
    "### Introducción a Jupyter Notebook\n",
    "\n",
    "Jupyter Notebook es un entorno interactivo que permite:\n",
    "\n",
    "- **Combinar código y texto**: Celdas de código y markdown\n",
    "- **Ejecutar código por partes**: Ideal para exploración\n",
    "- **Visualizar resultados**: Gráficos integrados\n",
    "- **Compartir análisis**: Formato fácil de compartir\n",
    "\n",
    "#### Tipos de Celdas\n",
    "\n",
    "1. **Celdas de Código**: Ejecutan código Python\n",
    "2. **Celdas de Markdown**: Texto formateado y explicaciones\n",
    "3. **Celdas Raw**: Texto sin formato (poco usadas)\n",
    "\n",
    "#### Atajos Útiles\n",
    "\n",
    "- **Shift + Enter**: Ejecutar celda\n",
    "- **Ctrl + Enter**: Ejecutar celda sin avanzar\n",
    "- **A**: Insertar celda arriba\n",
    "- **B**: Insertar celda abajo\n",
    "- **M**: Convertir a markdown\n",
    "- **Y**: Convertir a código"
   ]
  },
  {
   "cell_type": "markdown",
   "id": "5ca9dbf1",
   "metadata": {},
   "source": [
    "## 3. Ejercicio: Primeros Pasos con Variables, Tipos de Datos y Operadores\n",
    "\n",
    "### Variables en Python\n",
    "\n",
    "Las variables son como \"cajas\" que almacenan valores. En Python no necesitas declarar el tipo de variable."
   ]
  },
  {
   "cell_type": "code",
   "execution_count": 2,
   "id": "96a48a03",
   "metadata": {},
   "outputs": [
    {
     "name": "stdout",
     "output_type": "stream",
     "text": [
      "Equipo: Barcelona\n",
      "Goles: 3\n",
      "Promedio de edad: 25.5\n",
      "Es ganador: True\n"
     ]
    }
   ],
   "source": [
    "# Ejemplos de variables\n",
    "equipo = \"Barcelona\"\n",
    "goles = 3\n",
    "promedio_edad = 25.5\n",
    "es_ganador = True\n",
    "\n",
    "print(f\"Equipo: {equipo}\")\n",
    "print(f\"Goles: {goles}\")\n",
    "print(f\"Promedio de edad: {promedio_edad}\")\n",
    "print(f\"Es ganador: {es_ganador}\")"
   ]
  },
  {
   "cell_type": "markdown",
   "id": "91e6c022",
   "metadata": {},
   "source": [
    "### Tipos de Datos Básicos\n",
    "\n",
    "Python tiene varios tipos de datos fundamentales:"
   ]
  },
  {
   "cell_type": "code",
   "execution_count": 3,
   "id": "dcf9ad27",
   "metadata": {},
   "outputs": [
    {
     "name": "stdout",
     "output_type": "stream",
     "text": [
      "Nombre: Lionel Messi - Tipo: <class 'str'>\n",
      "Edad: 36 - Tipo: <class 'int'>\n",
      "Altura: 1.7 - Tipo: <class 'float'>\n",
      "Es activo: True - Tipo: <class 'bool'>\n",
      "Equipos: ['Barcelona', 'PSG', 'Miami'] - Tipo: <class 'list'>\n",
      "Estadísticas: {'goles': 800, 'asistencias': 350} - Tipo: <class 'dict'>\n"
     ]
    }
   ],
   "source": [
    "# Tipos de datos básicos\n",
    "nombre_jugador = \"Lionel Messi\"           # str (string/texto)\n",
    "edad = 36                                 # int (entero)\n",
    "altura = 1.70                            # float (decimal)\n",
    "es_activo = True                         # bool (verdadero/falso)\n",
    "equipos = [\"Barcelona\", \"PSG\", \"Miami\"]   # list (lista)\n",
    "estadisticas = {\"goles\": 800, \"asistencias\": 350}  # dict (diccionario)\n",
    "\n",
    "# Verificar tipos\n",
    "print(f\"Nombre: {nombre_jugador} - Tipo: {type(nombre_jugador)}\")\n",
    "print(f\"Edad: {edad} - Tipo: {type(edad)}\")\n",
    "print(f\"Altura: {altura} - Tipo: {type(altura)}\")\n",
    "print(f\"Es activo: {es_activo} - Tipo: {type(es_activo)}\")\n",
    "print(f\"Equipos: {equipos} - Tipo: {type(equipos)}\")\n",
    "print(f\"Estadísticas: {estadisticas} - Tipo: {type(estadisticas)}\")"
   ]
  },
  {
   "cell_type": "markdown",
   "id": "1e4bbc93",
   "metadata": {},
   "source": [
    "### Operadores Básicos\n",
    "\n",
    "Los operadores nos permiten realizar operaciones con las variables:"
   ]
  },
  {
   "cell_type": "code",
   "execution_count": 4,
   "id": "3f46a35d",
   "metadata": {},
   "outputs": [
    {
     "name": "stdout",
     "output_type": "stream",
     "text": [
      "Total de goles: 3\n",
      "Diferencia de goles: 1\n",
      "Promedio de puntos por partido: 2.4\n",
      "Puntos posibles: 30\n",
      "Eficiencia: 80.0%\n"
     ]
    }
   ],
   "source": [
    "# Operadores aritméticos\n",
    "goles_casa = 2\n",
    "goles_visitante = 1\n",
    "partidos_jugados = 10\n",
    "puntos_totales = 24\n",
    "\n",
    "# Operaciones básicas\n",
    "total_goles = goles_casa + goles_visitante\n",
    "diferencia_goles = goles_casa - goles_visitante\n",
    "promedio_puntos = puntos_totales / partidos_jugados\n",
    "puntos_posibles = partidos_jugados * 3\n",
    "\n",
    "print(f\"Total de goles: {total_goles}\")\n",
    "print(f\"Diferencia de goles: {diferencia_goles}\")\n",
    "print(f\"Promedio de puntos por partido: {promedio_puntos}\")\n",
    "print(f\"Puntos posibles: {puntos_posibles}\")\n",
    "print(f\"Eficiencia: {(puntos_totales/puntos_posibles)*100:.1f}%\")"
   ]
  },
  {
   "cell_type": "code",
   "execution_count": 5,
   "id": "2d241968",
   "metadata": {},
   "outputs": [
    {
     "name": "stdout",
     "output_type": "stream",
     "text": [
      "¿Equipo A ganó?: True\n",
      "¿Fue empate?: False\n",
      "¿Equipo B perdió?: True\n",
      "¿Hubo al menos 2 goles?: True\n"
     ]
    }
   ],
   "source": [
    "# Operadores de comparación\n",
    "equipo_a_goles = 3\n",
    "equipo_b_goles = 1\n",
    "\n",
    "print(f\"¿Equipo A ganó?: {equipo_a_goles > equipo_b_goles}\")\n",
    "print(f\"¿Fue empate?: {equipo_a_goles == equipo_b_goles}\")\n",
    "print(f\"¿Equipo B perdió?: {equipo_b_goles < equipo_a_goles}\")\n",
    "print(f\"¿Hubo al menos 2 goles?: {equipo_a_goles + equipo_b_goles >= 2}\")"
   ]
  },
  {
   "cell_type": "markdown",
   "id": "96d6541b",
   "metadata": {},
   "source": [
    "### Ejercicio Práctico: Análisis Básico de un Partido\n",
    "\n",
    "Vamos a crear un pequeño análisis de un partido de fútbol:"
   ]
  },
  {
   "cell_type": "code",
   "execution_count": 4,
   "id": "f5120291",
   "metadata": {},
   "outputs": [
    {
     "name": "stdout",
     "output_type": "stream",
     "text": [
      "=== ANÁLISIS DEL PARTIDO ===\n",
      "Partido: Real Madrid vs Barcelona\n",
      "Resultado: 2 - 1\n",
      "Ganador: Real Madrid\n",
      "Total de goles: 3\n",
      "Diferencia: 1\n",
      "Asistencia: 75,000 espectadores\n",
      "Promedio de goles por minuto: 0.0333\n",
      "Tipo de resultado: Victoria local\n"
     ]
    }
   ],
   "source": [
    "# Datos del partido\n",
    "equipo_local = \"Real Madrid\"\n",
    "equipo_visitante = \"Barcelona\"\n",
    "goles_local = 2\n",
    "goles_visitante = 1\n",
    "asistencia = 75000\n",
    "minutos_jugados = 90\n",
    "\n",
    "# Análisis básico\n",
    "total_goles = goles_local + goles_visitante\n",
    "diferencia = abs(goles_local - goles_visitante)\n",
    "promedio_goles_por_minuto = total_goles / minutos_jugados\n",
    "\n",
    "# Determinar resultado\n",
    "if goles_local > goles_visitante:\n",
    "    ganador = equipo_local\n",
    "    resultado = \"Victoria local\"\n",
    "elif goles_visitante > goles_local:\n",
    "    ganador = equipo_visitante\n",
    "    resultado = \"Victoria visitante\"\n",
    "else:\n",
    "    ganador = \"Empate\"\n",
    "    resultado = \"Empate\"\n",
    "\n",
    "# Mostrar análisis\n",
    "print(\"=== ANÁLISIS DEL PARTIDO ===\")\n",
    "print(f\"Partido: {equipo_local} vs {equipo_visitante}\")\n",
    "print(f\"Resultado: {goles_local} - {goles_visitante}\")\n",
    "print(f\"Ganador: {ganador}\")\n",
    "print(f\"Total de goles: {total_goles}\")\n",
    "print(f\"Diferencia: {diferencia}\")\n",
    "print(f\"Asistencia: {asistencia:,} espectadores\")\n",
    "print(f\"Promedio de goles por minuto: {promedio_goles_por_minuto:.4f}\")\n",
    "print(f\"Tipo de resultado: {resultado}\")"
   ]
  },
  {
   "cell_type": "markdown",
   "id": "eeaf1881",
   "metadata": {},
   "source": [
    "### Trabajando con Strings (Cadenas de Texto)\n",
    "\n",
    "Los strings son muy útiles para trabajar con nombres de equipos, jugadores, etc:"
   ]
  },
  {
   "cell_type": "code",
   "execution_count": 7,
   "id": "594831cf",
   "metadata": {},
   "outputs": [
    {
     "name": "stdout",
     "output_type": "stream",
     "text": [
      "Jugador: Cristiano Ronaldo\n",
      "Equipo: AL-NASSR\n",
      "Posición: delantero\n",
      "\n",
      "Presentación: El jugador Cristiano Ronaldo juega como delantero en Al-Nassr\n",
      "\n",
      "Longitud del nombre: 17 caracteres\n",
      "¿Contiene 'Ronaldo'?: True\n"
     ]
    }
   ],
   "source": [
    "# Operaciones con strings\n",
    "jugador = \"cristiano ronaldo\"\n",
    "equipo = \"Al-Nassr\"\n",
    "posicion = \"Delantero\"\n",
    "\n",
    "# Formateo de strings\n",
    "jugador_formateado = jugador.title()  # Primera letra en mayúscula\n",
    "equipo_mayuscula = equipo.upper()     # Todo en mayúscula\n",
    "posicion_minuscula = posicion.lower() # Todo en minúscula\n",
    "\n",
    "print(f\"Jugador: {jugador_formateado}\")\n",
    "print(f\"Equipo: {equipo_mayuscula}\")\n",
    "print(f\"Posición: {posicion_minuscula}\")\n",
    "\n",
    "# Combinar strings\n",
    "presentacion = f\"El jugador {jugador_formateado} juega como {posicion_minuscula} en {equipo}\"\n",
    "print(f\"\\nPresentación: {presentacion}\")\n",
    "\n",
    "# Información sobre el string\n",
    "print(f\"\\nLongitud del nombre: {len(jugador_formateado)} caracteres\")\n",
    "print(f\"¿Contiene 'Ronaldo'?: {'Ronaldo' in jugador_formateado}\")"
   ]
  },
  {
   "cell_type": "markdown",
   "id": "66222592",
   "metadata": {},
   "source": [
    "## 4. Resumen y Próximos Pasos\n",
    "\n",
    "### Lo que Hemos Aprendido\n",
    "\n",
    "En esta primera semana hemos cubierto:\n",
    "\n",
    "**Configuración del entorno**: Python, pip, Jupyter Notebook\n",
    "\n",
    "**Conceptos básicos**: Variables, tipos de datos, operadores\n",
    "\n",
    "**Tipos de datos fundamentales**: int, float, str, bool\n",
    "\n",
    "**Operaciones básicas**: Aritméticas, comparaciones, strings\n",
    "\n",
    "**Aplicación práctica**: Análisis básico de datos deportivos\n",
    "\n",
    "### Próxima Semana\n",
    "\n",
    "En la Semana 2 aprenderemos:\n",
    "\n",
    "- **Estructuras de datos**: Listas, diccionarios, tuplas\n",
    "- **Control de flujo**: Bucles for/while, condicionales if/elif/else\n",
    "- **Manipulación de datos**: Operaciones con listas y diccionarios\n",
    "- **Ejercicios prácticos**: Análisis de múltiples partidos\n",
    "\n",
    "### Tarea para Casa\n",
    "\n",
    "1. **Completa todos los ejercicios** de este notebook\n",
    "2. **Practica con tus propios datos**: Crea análisis de tu equipo favorito\n",
    "3. **Familiarízate con Jupyter**: Practica crear y ejecutar celdas\n",
    "4. **Investiga**: Busca datasets deportivos simples para practicar\n",
    "\n",
    "---\n",
    "\n",
    "**¡Felicitaciones por completar tu primera semana de programación con Python!**\n",
    "\n",
    "*Recuerda: La programación se aprende practicando. Mientras más código escribas, más cómodo te sentirás.*"
   ]
  }
 ],
 "metadata": {
  "kernelspec": {
   "display_name": ".venv",
   "language": "python",
   "name": "python3"
  },
  "language_info": {
   "codemirror_mode": {
    "name": "ipython",
    "version": 3
   },
   "file_extension": ".py",
   "mimetype": "text/x-python",
   "name": "python",
   "nbconvert_exporter": "python",
   "pygments_lexer": "ipython3",
   "version": "3.10.12"
  }
 },
 "nbformat": 4,
 "nbformat_minor": 5
}
