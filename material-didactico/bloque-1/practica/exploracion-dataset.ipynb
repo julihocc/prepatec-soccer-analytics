{
 "cells": [
  {
   "cell_type": "markdown",
   "id": "23d25a74",
   "metadata": {},
   "source": [
    "# Exploración del Dataset \"Champs\" - Análisis de Resultados en Fútbol\n",
    "\n",
    "## Objetivos del Notebook\n",
    "\n",
    "Este notebook guía a través del análisis completo del dataset \"champs\" de Kaggle, cubriendo desde la exploración inicial hasta la creación de dashboards interactivos. Está diseñado para seguir el programa de estudio detallado del curso.\n",
    "\n",
    "### Contenido:\n",
    "1. **Importar librerías y cargar datos**\n",
    "2. **Exploración y consultas básicas**\n",
    "3. **Estadística descriptiva y visualización**\n",
    "4. **Visualizaciones comparativas**\n",
    "5. **Preparación de datos para modelado**\n",
    "6. **Implementación de regresión logística**\n",
    "7. **Evaluación de métricas del modelo**\n",
    "8. **Análisis de KPIs**\n",
    "9. **Creación de dashboards interactivos**\n",
    "\n",
    "---"
   ]
  },
  {
   "cell_type": "markdown",
   "id": "7ce84b6b",
   "metadata": {},
   "source": [
    "## 1. Importar Librerías y Cargar el Dataset \"Champs\"\n",
    "\n",
    "Comenzamos importando las librerías necesarias para el análisis y cargando el dataset desde un archivo CSV."
   ]
  },
  {
   "cell_type": "code",
   "execution_count": null,
   "id": "47ea56ce",
   "metadata": {},
   "outputs": [],
   "source": [
    "# Importar librerías esenciales\n",
    "import pandas as pd\n",
    "import numpy as np\n",
    "import matplotlib.pyplot as plt\n",
    "import seaborn as sns\n",
    "from sklearn.model_selection import train_test_split\n",
    "from sklearn.linear_model import LogisticRegression\n",
    "from sklearn.metrics import accuracy_score, precision_score, recall_score, confusion_matrix\n",
    "import warnings\n",
    "warnings.filterwarnings('ignore')\n",
    "\n",
    "# Configurar visualización\n",
    "plt.style.use('seaborn-v0_8')\n",
    "sns.set_palette(\"husl\")\n",
    "plt.rcParams['figure.figsize'] = (12, 8)"
   ]
  },
  {
   "cell_type": "code",
   "execution_count": null,
   "id": "fdd45690",
   "metadata": {},
   "outputs": [],
   "source": [
    "# Cargar el dataset \"champs\" desde archivo CSV\n",
    "# Nota: Asegúrate de que el archivo champs.csv esté en la carpeta recursos\n",
    "try:\n",
    "    df = pd.read_csv('../recursos/champs.csv')\n",
    "    print(\"✅ Dataset cargado exitosamente\")\n",
    "    print(f\"📊 Dimensiones: {df.shape}\")\n",
    "except FileNotFoundError:\n",
    "    print(\"❌ Error: No se encontró el archivo champs.csv\")\n",
    "    print(\"📁 Asegúrate de que el archivo esté en la carpeta recursos\")\n",
    "    # Crear un dataset de ejemplo para demostración\n",
    "    df = pd.DataFrame({\n",
    "        'date': pd.date_range('2023-01-01', periods=100),\n",
    "        'home_team': np.random.choice(['Team A', 'Team B', 'Team C'], 100),\n",
    "        'away_team': np.random.choice(['Team A', 'Team B', 'Team C'], 100),\n",
    "        'home_goals': np.random.poisson(1.5, 100),\n",
    "        'away_goals': np.random.poisson(1.2, 100),\n",
    "        'league': np.random.choice(['Liga 1', 'Liga 2'], 100)\n",
    "    })\n",
    "    print(\"📊 Usando dataset de ejemplo\")"
   ]
  },
  {
   "cell_type": "markdown",
   "id": "e386c032",
   "metadata": {},
   "source": [
    "## 2. Exploración y Consultas Básicas del Dataset\n",
    "\n",
    "Realizamos una exploración inicial para entender la estructura, tipos de datos y contenido del dataset."
   ]
  },
  {
   "cell_type": "code",
   "execution_count": null,
   "id": "41ef889d",
   "metadata": {},
   "outputs": [],
   "source": [
    "# Exploración básica del dataset\n",
    "print(\"📈 INFORMACIÓN GENERAL DEL DATASET\")\n",
    "print(\"=\" * 50)\n",
    "print(f\"Número de filas: {len(df)}\")\n",
    "print(f\"Número de columnas: {len(df.columns)}\")\n",
    "print(f\"Columnas: {list(df.columns)}\")\n",
    "print(\"\\n📊 PRIMERAS 5 FILAS:\")\n",
    "print(df.head())\n",
    "\n",
    "print(\"\\n🔍 INFORMACIÓN DETALLADA:\")\n",
    "print(df.info())\n",
    "\n",
    "print(\"\\n📋 ESTADÍSTICAS DESCRIPTIVAS:\")\n",
    "print(df.describe())"
   ]
  },
  {
   "cell_type": "code",
   "execution_count": null,
   "id": "fdebfb3a",
   "metadata": {},
   "outputs": [],
   "source": [
    "# Ejercicio: Conteo y filtrado de partidos por liga/temporada\n",
    "print(\"🏆 ANÁLISIS POR LIGA\")\n",
    "print(\"=\" * 30)\n",
    "\n",
    "# Conteo de partidos por liga (si existe la columna)\n",
    "if 'league' in df.columns:\n",
    "    partidos_por_liga = df['league'].value_counts()\n",
    "    print(\"Partidos por liga:\")\n",
    "    print(partidos_por_liga)\n",
    "    \n",
    "    # Visualización del conteo por liga\n",
    "    plt.figure(figsize=(10, 6))\n",
    "    partidos_por_liga.plot(kind='bar')\n",
    "    plt.title('Número de Partidos por Liga')\n",
    "    plt.xlabel('Liga')\n",
    "    plt.ylabel('Número de Partidos')\n",
    "    plt.xticks(rotation=45)\n",
    "    plt.tight_layout()\n",
    "    plt.show()\n",
    "\n",
    "# Análisis temporal (si existe columna de fecha)\n",
    "if 'date' in df.columns:\n",
    "    df['date'] = pd.to_datetime(df['date'])\n",
    "    df['year'] = df['date'].dt.year\n",
    "    df['month'] = df['date'].dt.month\n",
    "    \n",
    "    print(\"\\n📅 ANÁLISIS TEMPORAL:\")\n",
    "    partidos_por_año = df['year'].value_counts().sort_index()\n",
    "    print(\"Partidos por año:\")\n",
    "    print(partidos_por_año)\n",
    "    \n",
    "    # Visualización temporal\n",
    "    plt.figure(figsize=(12, 6))\n",
    "    partidos_por_año.plot(kind='line', marker='o')\n",
    "    plt.title('Evolución del Número de Partidos por Año')\n",
    "    plt.xlabel('Año')\n",
    "    plt.ylabel('Número de Partidos')\n",
    "    plt.grid(True)\n",
    "    plt.tight_layout()\n",
    "    plt.show()"
   ]
  },
  {
   "cell_type": "markdown",
   "id": "d1c4f5a5",
   "metadata": {},
   "source": [
    "## 3. Estadística Descriptiva y Visualización de Goles\n",
    "\n",
    "Calculamos estadísticas descriptivas básicas y creamos visualizaciones para entender la distribución de goles."
   ]
  },
  {
   "cell_type": "code",
   "execution_count": null,
   "id": "8c21a1c1",
   "metadata": {},
   "outputs": [],
   "source": [
    "# Estadística descriptiva de goles\n",
    "print(\"⚽ ESTADÍSTICAS DE GOLES\")\n",
    "print(\"=\" * 40)\n",
    "\n",
    "# Verificar si existen las columnas de goles\n",
    "goles_columns = [col for col in df.columns if 'goal' in col.lower()]\n",
    "if not goles_columns:\n",
    "    # Crear columnas de ejemplo si no existen\n",
    "    df['home_goals'] = np.random.poisson(1.5, len(df))\n",
    "    df['away_goals'] = np.random.poisson(1.2, len(df))\n",
    "    goles_columns = ['home_goals', 'away_goals']\n",
    "\n",
    "# Calcular estadísticas descriptivas\n",
    "for col in goles_columns:\n",
    "    print(f\"\\n📊 {col.upper()}:\")\n",
    "    print(f\"Media: {df[col].mean():.2f}\")\n",
    "    print(f\"Mediana: {df[col].median():.2f}\")\n",
    "    print(f\"Moda: {df[col].mode().iloc[0] if not df[col].mode().empty else 'N/A'}\")\n",
    "    print(f\"Desviación estándar: {df[col].std():.2f}\")\n",
    "    print(f\"Mínimo: {df[col].min()}\")\n",
    "    print(f\"Máximo: {df[col].max()}\")\n",
    "\n",
    "# Crear columna de goles totales\n",
    "df['total_goals'] = df['home_goals'] + df['away_goals']\n",
    "print(f\"\\n🎯 GOLES TOTALES POR PARTIDO:\")\n",
    "print(f\"Media: {df['total_goals'].mean():.2f}\")\n",
    "print(f\"Mediana: {df['total_goals'].median():.2f}\")\n",
    "print(f\"Desviación estándar: {df['total_goals'].std():.2f}\")"
   ]
  }
 ],
 "metadata": {
  "language_info": {
   "name": "python"
  }
 },
 "nbformat": 4,
 "nbformat_minor": 5
}
