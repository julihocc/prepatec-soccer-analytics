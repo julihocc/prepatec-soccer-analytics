{
 "cells": [
  {
   "cell_type": "markdown",
   "id": "58d98959",
   "metadata": {},
   "source": [
    "# Semana 5: Visualización y Presentación de Resultados\n",
    "\n",
    "## Ciencia de Datos en el Deporte - Fundamentos con Python\n",
    "\n",
    "---\n",
    "\n",
    "**Objetivos de aprendizaje:**\n",
    "- Crear visualizaciones avanzadas e informativas\n",
    "- Desarrollar dashboards interactivos para análisis deportivo\n",
    "- Aplicar principios de storytelling con datos\n",
    "- Presentar resultados de manera profesional y comprensible\n",
    "- Utilizar librerías de visualización avanzadas (Plotly, Seaborn)\n",
    "- Generar reportes automatizados para equipos técnicos\n",
    "\n",
    "---"
   ]
  },
  {
   "cell_type": "markdown",
   "id": "8230801a",
   "metadata": {},
   "source": [
    "## 1. Teoría: Visualización Efectiva de Datos\n",
    "\n",
    "### 1.1 ¿Por qué es Importante la Visualización?\n",
    "\n",
    "La visualización de datos es **fundamental** en el análisis deportivo porque:\n",
    "\n",
    "#### **🧠 Cognición Humana**\n",
    "- El cerebro procesa información visual **60,000 veces** más rápido que texto\n",
    "- Los patrones visuales son más fáciles de identificar y recordar\n",
    "- Las decisiones se toman más rápidamente con información visual clara\n",
    "\n",
    "#### **📊 Comunicación Efectiva**\n",
    "- **Simplifica** conceptos complejos para audiencias no técnicas\n",
    "- **Persuade** y convence con evidencia visual\n",
    "- **Unifica** la comprensión entre diferentes stakeholders\n",
    "\n",
    "#### **🎯 Análisis Deportivo**\n",
    "- **Identifica patrones** en el rendimiento que no son obvios en tablas\n",
    "- **Compara** jugadores, equipos y métricas de manera intuitiva\n",
    "- **Detecta tendencias** temporales y estacionales\n",
    "\n",
    "### 1.2 Principios de Visualización Efectiva\n",
    "\n",
    "#### **1.2.1 Claridad y Simplicidad**\n",
    "- **Una idea por gráfico**: Enfoque en un mensaje principal\n",
    "- **Menos es más**: Evitar saturación visual\n",
    "- **Contexto apropiado**: Incluir información suficiente para interpretación\n",
    "\n",
    "#### **1.2.2 Precisión e Integridad**\n",
    "- **Escalas apropiadas**: Comenzar ejes en cero cuando sea relevante\n",
    "- **Proporciones correctas**: Evitar distorsiones visuales\n",
    "- **Datos completos**: Mostrar limitaciones y advertencias\n",
    "\n",
    "#### **1.2.3 Diseño Intuitivo**\n",
    "- **Colores significativos**: Usar paletas que apoyen el mensaje\n",
    "- **Tipografía legible**: Tamaños y fuentes apropiadas\n",
    "- **Jerarquía visual**: Destacar información más importante\n",
    "\n",
    "### 1.3 Tipos de Visualizaciones en Fútbol\n",
    "\n",
    "#### **📈 Análisis de Rendimiento**\n",
    "- **Líneas de tiempo**: Evolución del rendimiento\n",
    "- **Gráficos de barras**: Comparación entre jugadores/equipos\n",
    "- **Heatmaps**: Distribución espacial o correlaciones\n",
    "\n",
    "#### **⚽ Análisis Táctico**\n",
    "- **Mapas de calor**: Posicionamiento de jugadores\n",
    "- **Diagramas de flujo**: Patrones de pase\n",
    "- **Redes de pases**: Conexiones entre jugadores\n",
    "\n",
    "#### **💰 Análisis Económico**\n",
    "- **Gráficos de dispersión**: Relación valor-rendimiento\n",
    "- **Histogramas**: Distribución de salarios/transferencias\n",
    "- **Dashboards**: Resúmenes ejecutivos\n",
    "\n",
    "### 1.4 Herramientas y Librerías\n",
    "\n",
    "#### **🐍 Python - Librerías Esenciales**\n",
    "- **Matplotlib**: Base para visualizaciones estáticas\n",
    "- **Seaborn**: Visualizaciones estadísticas elegantes\n",
    "- **Plotly**: Gráficos interactivos y dashboards\n",
    "- **Bokeh**: Visualizaciones web interactivas\n",
    "\n",
    "#### **📊 Tipos de Gráficos por Propósito**\n",
    "\n",
    "| Propósito | Tipo de Gráfico | Cuándo Usar |\n",
    "|-----------|----------------|-------------|\n",
    "| Comparación | Barras, Columnas | Comparar categorías |\n",
    "| Evolución | Líneas | Mostrar cambios en tiempo |\n",
    "| Distribución | Histogramas, Box plots | Analizar distribuciones |\n",
    "| Correlación | Dispersión, Heatmaps | Relaciones entre variables |\n",
    "| Composición | Pie, Stacked bars | Partes de un todo |\n",
    "\n",
    "---"
   ]
  },
  {
   "cell_type": "markdown",
   "id": "c0b82c85",
   "metadata": {},
   "source": [
    "## 2. Configuración del Entorno\n",
    "\n",
    "### 2.1 Librerías para Visualización Avanzada\n",
    "\n",
    "Para crear visualizaciones profesionales necesitamos:\n",
    "\n",
    "- **pandas**: Manipulación y análisis de datos\n",
    "- **numpy**: Cálculos numéricos\n",
    "- **matplotlib**: Visualizaciones estáticas básicas\n",
    "- **seaborn**: Visualizaciones estadísticas elegantes\n",
    "- **plotly**: Gráficos interactivos y dashboards\n",
    "- **plotly.graph_objects**: Control detallado de gráficos\n",
    "- **plotly.express**: Gráficos rápidos y expresivos\n",
    "- **warnings**: Manejo de advertencias"
   ]
  },
  {
   "cell_type": "code",
   "execution_count": 1,
   "id": "2410024e",
   "metadata": {},
   "outputs": [
    {
     "data": {
      "text/html": [
       "        <script type=\"text/javascript\">\n",
       "        window.PlotlyConfig = {MathJaxConfig: 'local'};\n",
       "        if (window.MathJax && window.MathJax.Hub && window.MathJax.Hub.Config) {window.MathJax.Hub.Config({SVG: {font: \"STIX-Web\"}});}\n",
       "        </script>\n",
       "        <script type=\"module\">import \"https://cdn.plot.ly/plotly-3.0.1.min\"</script>\n",
       "        "
      ]
     },
     "metadata": {},
     "output_type": "display_data"
    },
    {
     "name": "stdout",
     "output_type": "stream",
     "text": [
      "✅ LIBRERÍAS IMPORTADAS EXITOSAMENTE\n",
      "==================================================\n",
      "📊 Pandas: 2.3.1\n",
      "🔢 NumPy: 2.2.6\n",
      "📈 Matplotlib: 3.10.3\n",
      "🎨 Seaborn: 0.13.2\n",
      "📱 Plotly: 6.2.0\n",
      "\n",
      "🔧 CONFIGURACIÓN APLICADA:\n",
      "- Estilo matplotlib: seaborn\n",
      "- Paleta seaborn: husl\n",
      "- Tamaño de figura: 12x8\n",
      "- Plotly configurado para notebooks\n",
      "- Advertencias suprimidas\n",
      "\n",
      "🚀 ¡Listo para crear visualizaciones impactantes!\n"
     ]
    }
   ],
   "source": [
    "# Importar librerías esenciales\n",
    "import pandas as pd\n",
    "import numpy as np\n",
    "import matplotlib.pyplot as plt\n",
    "import seaborn as sns\n",
    "import warnings\n",
    "from datetime import datetime, timedelta\n",
    "import random\n",
    "\n",
    "# Librerías para visualización avanzada\n",
    "import plotly.express as px\n",
    "import plotly.graph_objects as go\n",
    "from plotly.subplots import make_subplots\n",
    "import plotly.figure_factory as ff\n",
    "\n",
    "# Configuración\n",
    "warnings.filterwarnings('ignore')\n",
    "pd.set_option('display.max_columns', None)\n",
    "pd.set_option('display.width', None)\n",
    "\n",
    "# Configurar matplotlib y seaborn\n",
    "plt.style.use('seaborn-v0_8')\n",
    "sns.set_palette(\"husl\")\n",
    "plt.rcParams['figure.figsize'] = (12, 8)\n",
    "plt.rcParams['font.size'] = 12\n",
    "\n",
    "# Configurar plotly para notebooks\n",
    "import plotly.offline as pyo\n",
    "pyo.init_notebook_mode(connected=True)\n",
    "\n",
    "# Verificar versiones\n",
    "print(\"✅ LIBRERÍAS IMPORTADAS EXITOSAMENTE\")\n",
    "print(\"=\" * 50)\n",
    "print(f\"📊 Pandas: {pd.__version__}\")\n",
    "print(f\"🔢 NumPy: {np.__version__}\")\n",
    "print(f\"📈 Matplotlib: {plt.matplotlib.__version__}\")\n",
    "print(f\"🎨 Seaborn: {sns.__version__}\")\n",
    "import plotly\n",
    "print(f\"📱 Plotly: {plotly.__version__}\")\n",
    "\n",
    "print(\"\\n🔧 CONFIGURACIÓN APLICADA:\")\n",
    "print(\"- Estilo matplotlib: seaborn\")\n",
    "print(\"- Paleta seaborn: husl\")\n",
    "print(\"- Tamaño de figura: 12x8\")\n",
    "print(\"- Plotly configurado para notebooks\")\n",
    "print(\"- Advertencias suprimidas\")\n",
    "\n",
    "print(\"\\n🚀 ¡Listo para crear visualizaciones impactantes!\")"
   ]
  },
  {
   "cell_type": "markdown",
   "id": "1960bdfa",
   "metadata": {},
   "source": [
    "## 3. Carga y Preparación de Datos\n",
    "\n",
    "### 3.1 Dataset para Visualización Avanzada\n",
    "\n",
    "Para demostrar técnicas de visualización avanzada, crearemos un dataset rico que incluya:\n",
    "\n",
    "- **Datos de jugadores**: Estadísticas individuales y métricas de rendimiento\n",
    "- **Datos temporales**: Evolución del rendimiento a lo largo de la temporada\n",
    "- **Datos de equipos**: Métricas agregadas y comparaciones\n",
    "- **Datos económicos**: Valores de mercado y salarios\n",
    "- **Datos geográficos**: Origen de los jugadores para visualizaciones de mapas\n",
    "\n",
    "### 3.2 Estructura del Dataset\n",
    "\n",
    "El dataset incluirá múltiples dimensiones para permitir visualizaciones complejas y storytelling efectivo."
   ]
  },
  {
   "cell_type": "code",
   "execution_count": 2,
   "id": "8256c412",
   "metadata": {},
   "outputs": [
    {
     "name": "stdout",
     "output_type": "stream",
     "text": [
      "🚀 GENERANDO DATASET PARA VISUALIZACIONES AVANZADAS\n",
      "============================================================\n",
      "📊 Dataset de jugadores creado: 200 jugadores\n",
      "🏟️ Equipos representados: 10\n",
      "🌍 Países de origen: 12\n",
      "📅 Datos temporales creados: 200 registros\n",
      "🗓️ Periodo: 2024-08-04 a 2024-12-15\n",
      "\n",
      "=== MUESTRA DEL DATASET DE JUGADORES ===\n",
      "  jugador_id       nombre           equipo       posicion  edad       pais  \\\n",
      "0       J001  Jugador_001    Real Sociedad       Defensor    28  Argentina   \n",
      "1       J002  Jugador_002          Sevilla       Defensor    23    Francia   \n",
      "2       J003  Jugador_003          Sevilla       Defensor    23     España   \n",
      "3       J004  Jugador_004  Athletic Bilbao  Mediocampista    32     España   \n",
      "4       J005  Jugador_005            Betis  Mediocampista    21   Portugal   \n",
      "\n",
      "   altura  peso  goles_temporada  asistencias_temporada  partidos_jugados  \\\n",
      "0   173.1  67.7                0                      0                22   \n",
      "1   158.5  79.8                0                      1                29   \n",
      "2   185.6  70.2                0                      1                28   \n",
      "3   183.9  76.4                0                      1                22   \n",
      "4   179.1  69.6                0                      4                21   \n",
      "\n",
      "   minutos_totales  valor_mercado  salario_anual  rating_promedio      lat  \\\n",
      "0             1499           24.9           16.1             62.3 -38.4161   \n",
      "1             1387           33.2           26.2             76.2  46.6034   \n",
      "2             2737           24.1           16.8             66.5  40.4168   \n",
      "3             1696           13.8           11.4             69.8  40.4168   \n",
      "4             1662           21.5           20.0             72.0  39.3999   \n",
      "\n",
      "       lon  \n",
      "0 -63.6167  \n",
      "1   1.8883  \n",
      "2  -3.7038  \n",
      "3  -3.7038  \n",
      "4  -8.2245  \n",
      "\n",
      "=== ESTADÍSTICAS BÁSICAS ===\n",
      "         edad  altura    peso  goles_temporada  asistencias_temporada  \\\n",
      "count  200.00  200.00  200.00           200.00                 200.00   \n",
      "mean    25.66  178.27   74.14             2.78                   2.78   \n",
      "std      3.85    7.95    8.59             3.32                   2.85   \n",
      "min     18.00  155.80   47.90             0.00                   0.00   \n",
      "25%     23.00  172.80   68.15             0.00                   1.00   \n",
      "50%     25.00  179.10   73.75             2.00                   2.00   \n",
      "75%     28.00  183.90   79.72             3.00                   4.00   \n",
      "max     35.00  198.60   96.10            17.00                  16.00   \n",
      "\n",
      "       partidos_jugados  minutos_totales  valor_mercado  salario_anual  \\\n",
      "count            200.00           200.00         200.00         200.00   \n",
      "mean              26.66          1947.11          29.83          24.02   \n",
      "std                6.30           620.93          11.96           9.89   \n",
      "min               15.00           625.00          10.80           8.20   \n",
      "25%               22.00          1495.00          21.48          17.25   \n",
      "50%               26.50          1904.00          27.70          21.90   \n",
      "75%               32.00          2315.25          35.02          28.45   \n",
      "max               37.00          3502.00          90.90          63.00   \n",
      "\n",
      "       rating_promedio     lat     lon  \n",
      "count           200.00  200.00  200.00  \n",
      "mean             76.73   20.77  -22.55  \n",
      "std              10.43   32.23   30.97  \n",
      "min              56.10  -38.42 -102.55  \n",
      "25%              68.80  -14.24  -51.93  \n",
      "50%              75.10   40.42   -3.70  \n",
      "75%              84.30   40.42   -3.70  \n",
      "max              95.00   52.36   12.57  \n",
      "\n",
      "=== DISTRIBUCIÓN POR EQUIPO ===\n",
      "equipo\n",
      "Athletic Bilbao    31\n",
      "Sevilla            25\n",
      "Valencia           21\n",
      "Real Madrid        20\n",
      "Villarreal         19\n",
      "Betis              19\n",
      "Espanyol           18\n",
      "Atlético Madrid    18\n",
      "Real Sociedad      17\n",
      "Barcelona          12\n",
      "Name: count, dtype: int64\n",
      "\n",
      "✅ Datos preparados para visualizaciones avanzadas\n"
     ]
    }
   ],
   "source": [
    "# Generar dataset completo para visualizaciones avanzadas\n",
    "np.random.seed(42)\n",
    "\n",
    "# Configurar datos base\n",
    "n_jugadores = 200\n",
    "n_equipos = 10\n",
    "n_fechas = 20  # Fechas de la temporada\n",
    "\n",
    "# Equipos y sus características\n",
    "equipos = ['Real Madrid', 'Barcelona', 'Atlético Madrid', 'Valencia', 'Sevilla', \n",
    "           'Athletic Bilbao', 'Real Sociedad', 'Villarreal', 'Betis', 'Espanyol']\n",
    "\n",
    "presupuestos = [200, 180, 120, 80, 90, 60, 70, 85, 65, 45]  # Millones de euros\n",
    "ligas = ['Primera División'] * 10\n",
    "\n",
    "# Países de origen\n",
    "paises = ['España', 'Brasil', 'Argentina', 'Francia', 'Alemania', 'Portugal', \n",
    "          'Inglaterra', 'Italia', 'Colombia', 'México', 'Uruguay', 'Chile']\n",
    "coords_paises = {\n",
    "    'España': (40.4168, -3.7038), 'Brasil': (-14.2350, -51.9253),\n",
    "    'Argentina': (-38.4161, -63.6167), 'Francia': (46.6034, 1.8883),\n",
    "    'Alemania': (51.1657, 10.4515), 'Portugal': (39.3999, -8.2245),\n",
    "    'Inglaterra': (52.3555, -1.1743), 'Italia': (41.8719, 12.5674),\n",
    "    'Colombia': (4.5709, -74.2973), 'México': (23.6345, -102.5528),\n",
    "    'Uruguay': (-32.5228, -55.7658), 'Chile': (-35.6751, -71.5430)\n",
    "}\n",
    "\n",
    "print(\"🚀 GENERANDO DATASET PARA VISUALIZACIONES AVANZADAS\")\n",
    "print(\"=\" * 60)\n",
    "\n",
    "# Generar datos de jugadores\n",
    "jugadores_data = []\n",
    "for i in range(n_jugadores):\n",
    "    equipo = np.random.choice(equipos)\n",
    "    equipo_idx = equipos.index(equipo)\n",
    "    posicion = np.random.choice(['Delantero', 'Mediocampista', 'Defensor', 'Portero'], \n",
    "                               p=[0.25, 0.35, 0.30, 0.10])\n",
    "    \n",
    "    # Datos básicos\n",
    "    edad = int(np.random.normal(26, 4))\n",
    "    edad = max(18, min(35, edad))\n",
    "    \n",
    "    pais = np.random.choice(paises, p=[0.35, 0.15, 0.10, 0.08, 0.07, 0.06, 0.05, 0.05, 0.03, 0.03, 0.02, 0.01])\n",
    "    altura = np.random.normal(178, 8)  # cm\n",
    "    peso = np.random.normal(75, 8)     # kg\n",
    "    \n",
    "    # Factor de calidad del equipo afecta las estadísticas\n",
    "    factor_equipo = presupuestos[equipo_idx] / 200  # Normalizar al mejor equipo\n",
    "    \n",
    "    # Estadísticas base (influenciadas por posición y equipo)\n",
    "    if posicion == 'Delantero':\n",
    "        goles_base = np.random.poisson(12 * factor_equipo)\n",
    "        asistencias_base = np.random.poisson(4 * factor_equipo)\n",
    "    elif posicion == 'Mediocampista':\n",
    "        goles_base = np.random.poisson(6 * factor_equipo)\n",
    "        asistencias_base = np.random.poisson(10 * factor_equipo)\n",
    "    elif posicion == 'Defensor':\n",
    "        goles_base = np.random.poisson(2 * factor_equipo)\n",
    "        asistencias_base = np.random.poisson(3 * factor_equipo)\n",
    "    else:  # Portero\n",
    "        goles_base = 0\n",
    "        asistencias_base = np.random.poisson(1)\n",
    "    \n",
    "    # Minutos y partidos\n",
    "    partidos = np.random.randint(15, 38)\n",
    "    minutos_por_partido = np.random.normal(70, 15) if posicion != 'Portero' else np.random.normal(85, 10)\n",
    "    minutos_totales = int(partidos * minutos_por_partido)\n",
    "    \n",
    "    # Valor de mercado (influenciado por múltiples factores)\n",
    "    valor_base = 10 + (goles_base * 1.5) + (asistencias_base * 0.8) + (factor_equipo * 20)\n",
    "    factor_edad = 1.3 if 22 <= edad <= 28 else 0.8 if edad > 30 else 1.0\n",
    "    valor_mercado = valor_base * factor_edad * np.random.uniform(0.7, 1.3)\n",
    "    \n",
    "    # Salario (correlacionado con valor de mercado)\n",
    "    salario_anual = valor_mercado * 0.8 * np.random.uniform(0.8, 1.2)  # Millones\n",
    "    \n",
    "    # Rating promedio (0-100)\n",
    "    rating = 60 + (goles_base + asistencias_base) * 2 + factor_equipo * 15 + np.random.normal(0, 5)\n",
    "    rating = max(50, min(95, rating))\n",
    "    \n",
    "    jugadores_data.append({\n",
    "        'jugador_id': f'J{i+1:03d}',\n",
    "        'nombre': f'Jugador_{i+1:03d}',\n",
    "        'equipo': equipo,\n",
    "        'posicion': posicion,\n",
    "        'edad': edad,\n",
    "        'pais': pais,\n",
    "        'altura': round(altura, 1),\n",
    "        'peso': round(peso, 1),\n",
    "        'goles_temporada': goles_base,\n",
    "        'asistencias_temporada': asistencias_base,\n",
    "        'partidos_jugados': partidos,\n",
    "        'minutos_totales': minutos_totales,\n",
    "        'valor_mercado': round(valor_mercado, 1),\n",
    "        'salario_anual': round(salario_anual, 1),\n",
    "        'rating_promedio': round(rating, 1)\n",
    "    })\n",
    "\n",
    "# Crear DataFrame principal\n",
    "df_jugadores = pd.DataFrame(jugadores_data)\n",
    "\n",
    "# Agregar coordenadas geográficas\n",
    "df_jugadores['lat'] = df_jugadores['pais'].map(lambda x: coords_paises[x][0])\n",
    "df_jugadores['lon'] = df_jugadores['pais'].map(lambda x: coords_paises[x][1])\n",
    "\n",
    "print(f\"📊 Dataset de jugadores creado: {len(df_jugadores)} jugadores\")\n",
    "print(f\"🏟️ Equipos representados: {len(df_jugadores['equipo'].unique())}\")\n",
    "print(f\"🌍 Países de origen: {len(df_jugadores['pais'].unique())}\")\n",
    "\n",
    "# Generar datos temporales (evolución durante la temporada)\n",
    "fechas = pd.date_range(start='2024-08-01', periods=n_fechas, freq='W')\n",
    "datos_temporales = []\n",
    "\n",
    "for fecha in fechas:\n",
    "    for equipo in equipos:\n",
    "        # Métricas agregadas del equipo por fecha\n",
    "        jugadores_equipo = df_jugadores[df_jugadores['equipo'] == equipo]\n",
    "        \n",
    "        # Simular variabilidad temporal\n",
    "        factor_temporal = np.random.uniform(0.8, 1.2)\n",
    "        \n",
    "        goles_fecha = int(np.sum(jugadores_equipo['goles_temporada']) / n_fechas * factor_temporal)\n",
    "        puntos_acumulados = np.random.randint(0, min(60, (fechas.tolist().index(fecha) + 1) * 3))\n",
    "        \n",
    "        datos_temporales.append({\n",
    "            'fecha': fecha,\n",
    "            'equipo': equipo,\n",
    "            'goles_fecha': goles_fecha,\n",
    "            'puntos_acumulados': puntos_acumulados,\n",
    "            'jornada': fechas.tolist().index(fecha) + 1\n",
    "        })\n",
    "\n",
    "df_temporal = pd.DataFrame(datos_temporales)\n",
    "\n",
    "print(f\"📅 Datos temporales creados: {len(df_temporal)} registros\")\n",
    "print(f\"🗓️ Periodo: {fechas[0].strftime('%Y-%m-%d')} a {fechas[-1].strftime('%Y-%m-%d')}\")\n",
    "\n",
    "# Mostrar muestra de los datos\n",
    "print(\"\\n=== MUESTRA DEL DATASET DE JUGADORES ===\")\n",
    "print(df_jugadores.head())\n",
    "\n",
    "print(\"\\n=== ESTADÍSTICAS BÁSICAS ===\")\n",
    "print(df_jugadores.describe().round(2))\n",
    "\n",
    "print(\"\\n=== DISTRIBUCIÓN POR EQUIPO ===\")\n",
    "print(df_jugadores['equipo'].value_counts())\n",
    "\n",
    "print(\"\\n✅ Datos preparados para visualizaciones avanzadas\")"
   ]
  },
  {
   "cell_type": "markdown",
   "id": "7a9d72e9",
   "metadata": {},
   "source": [
    "## 4. Visualizaciones Avanzadas con Plotly\n",
    "\n",
    "### 4.1 Gráficos Interactivos para Análisis Deportivo\n",
    "\n",
    "Plotly nos permite crear visualizaciones **interactivas** que mejoran significativamente la experiencia de análisis:\n",
    "\n",
    "#### **Ventajas de la Interactividad:**\n",
    "- **Exploración dinámica**: Zoom, filtros, hover para detalles\n",
    "- **Múltiples perspectivas**: Cambio de variables en tiempo real\n",
    "- **Engagement**: Mayor atención y comprensión de la audiencia\n",
    "- **Análisis profundo**: Capacidad de drill-down en los datos\n",
    "\n",
    "### 4.2 Gráficos de Dispersión Interactivos\n",
    "\n",
    "Comenzamos con análisis de correlaciones mejorados con interactividad."
   ]
  },
  {
   "cell_type": "code",
   "execution_count": 3,
   "id": "f6a036dd",
   "metadata": {},
   "outputs": [
    {
     "name": "stdout",
     "output_type": "stream",
     "text": [
      "📊 VISUALIZACIONES INTERACTIVAS CON PLOTLY\n",
      "============================================================\n"
     ]
    },
    {
     "data": {
      "application/vnd.plotly.v1+json": {
       "config": {
        "plotlyServerURL": "https://plot.ly"
       },
       "data": [
        {
         "customdata": [
          [
           "Jugador_001",
           "Real Sociedad",
           28,
           0
          ],
          [
           "Jugador_002",
           "Sevilla",
           23,
           1
          ],
          [
           "Jugador_003",
           "Sevilla",
           23,
           1
          ],
          [
           "Jugador_011",
           "Valencia",
           28,
           2
          ],
          [
           "Jugador_012",
           "Atlético Madrid",
           30,
           3
          ],
          [
           "Jugador_018",
           "Athletic Bilbao",
           24,
           0
          ],
          [
           "Jugador_021",
           "Espanyol",
           21,
           0
          ],
          [
           "Jugador_024",
           "Athletic Bilbao",
           25,
           0
          ],
          [
           "Jugador_032",
           "Espanyol",
           21,
           0
          ],
          [
           "Jugador_034",
           "Betis",
           22,
           0
          ],
          [
           "Jugador_037",
           "Real Madrid",
           33,
           3
          ],
          [
           "Jugador_038",
           "Villarreal",
           29,
           2
          ],
          [
           "Jugador_039",
           "Sevilla",
           27,
           1
          ],
          [
           "Jugador_043",
           "Villarreal",
           23,
           0
          ],
          [
           "Jugador_047",
           "Real Sociedad",
           23,
           3
          ],
          [
           "Jugador_052",
           "Valencia",
           22,
           0
          ],
          [
           "Jugador_053",
           "Barcelona",
           18,
           1
          ],
          [
           "Jugador_056",
           "Espanyol",
           30,
           2
          ],
          [
           "Jugador_059",
           "Athletic Bilbao",
           21,
           1
          ],
          [
           "Jugador_061",
           "Atlético Madrid",
           31,
           5
          ],
          [
           "Jugador_065",
           "Valencia",
           23,
           2
          ],
          [
           "Jugador_069",
           "Atlético Madrid",
           32,
           3
          ],
          [
           "Jugador_071",
           "Real Madrid",
           29,
           7
          ],
          [
           "Jugador_072",
           "Barcelona",
           19,
           2
          ],
          [
           "Jugador_078",
           "Valencia",
           23,
           2
          ],
          [
           "Jugador_080",
           "Athletic Bilbao",
           28,
           1
          ],
          [
           "Jugador_082",
           "Villarreal",
           26,
           2
          ],
          [
           "Jugador_083",
           "Betis",
           21,
           0
          ],
          [
           "Jugador_086",
           "Betis",
           23,
           1
          ],
          [
           "Jugador_088",
           "Villarreal",
           30,
           4
          ],
          [
           "Jugador_090",
           "Atlético Madrid",
           25,
           2
          ],
          [
           "Jugador_094",
           "Athletic Bilbao",
           18,
           0
          ],
          [
           "Jugador_098",
           "Valencia",
           22,
           2
          ],
          [
           "Jugador_099",
           "Villarreal",
           20,
           0
          ],
          [
           "Jugador_106",
           "Espanyol",
           24,
           0
          ],
          [
           "Jugador_117",
           "Sevilla",
           27,
           2
          ],
          [
           "Jugador_119",
           "Real Madrid",
           27,
           2
          ],
          [
           "Jugador_124",
           "Valencia",
           31,
           2
          ],
          [
           "Jugador_131",
           "Sevilla",
           20,
           1
          ],
          [
           "Jugador_132",
           "Sevilla",
           24,
           0
          ],
          [
           "Jugador_137",
           "Sevilla",
           28,
           1
          ],
          [
           "Jugador_143",
           "Barcelona",
           27,
           1
          ],
          [
           "Jugador_145",
           "Valencia",
           25,
           2
          ],
          [
           "Jugador_151",
           "Real Sociedad",
           18,
           0
          ],
          [
           "Jugador_153",
           "Betis",
           27,
           5
          ],
          [
           "Jugador_156",
           "Espanyol",
           25,
           1
          ],
          [
           "Jugador_157",
           "Atlético Madrid",
           25,
           0
          ],
          [
           "Jugador_165",
           "Sevilla",
           25,
           1
          ],
          [
           "Jugador_174",
           "Real Madrid",
           30,
           4
          ],
          [
           "Jugador_177",
           "Athletic Bilbao",
           24,
           1
          ],
          [
           "Jugador_178",
           "Sevilla",
           24,
           0
          ],
          [
           "Jugador_180",
           "Villarreal",
           28,
           1
          ],
          [
           "Jugador_184",
           "Real Sociedad",
           29,
           1
          ],
          [
           "Jugador_188",
           "Athletic Bilbao",
           28,
           0
          ],
          [
           "Jugador_192",
           "Athletic Bilbao",
           27,
           2
          ],
          [
           "Jugador_199",
           "Athletic Bilbao",
           27,
           1
          ]
         ],
         "hovertemplate": "Posición=Defensor<br>Goles en la Temporada=%{x}<br>Valor de Mercado (M€)=%{y}<br>Rating=%{marker.size}<br>nombre=%{customdata[0]}<br>equipo=%{customdata[1]}<br>edad=%{customdata[2]}<br>asistencias_temporada=%{customdata[3]}<extra></extra>",
         "legendgroup": "Defensor",
         "marker": {
          "color": "#636efa",
          "size": {
           "bdata": "ZmZmZmYmT0DNzMzMzAxTQAAAAAAAoFBAMzMzMzOzUECamZmZmdlVQM3MzMzMTFBAMzMzMzMzTECamZmZmRlRQGZmZmZmJk5AZmZmZmZGUkAAAAAAACBXQJqZmZmZeVNAMzMzMzOzTkBmZmZmZsZTQM3MzMzMDFFAZmZmZmamUUCamZmZmflSQGZmZmZmZlFAAAAAAACAT0AzMzMzMxNVQGZmZmZmZlFAzczMzMxsVkBmZmZmZiZVQDMzMzMz81JAMzMzMzNzUEDNzMzMzIxQQGZmZmZmRlJAMzMzMzNzUUAAAAAAAGBTQJqZmZmZuVFAZmZmZmZmUkCamZmZmdlQQDMzMzMzc1BAZmZmZmamT0BmZmZmZmZMQGZmZmZmhlBAMzMzMzPTVUCamZmZmXlRQDMzMzMzU1BAmpmZmZmZT0AAAAAAAKBTQGZmZmZmxlJAMzMzMzOzUkCamZmZmdlQQJqZmZmZ+VJAzczMzMysUEAAAAAAAMBSQDMzMzMzM1FAAAAAAADAVUAAAAAAAKBSQAAAAAAAIFFAAAAAAACAUUAAAAAAACBTQGZmZmZm5k9AZmZmZmYGU0BmZmZmZuZPQA==",
           "dtype": "f8"
          },
          "sizemode": "area",
          "sizeref": 0.2375,
          "symbol": "circle"
         },
         "mode": "markers",
         "name": "Defensor",
         "orientation": "v",
         "showlegend": true,
         "type": "scatter",
         "x": {
          "bdata": "AAAAAgUBAQAAAAMCAQAAAwIBAAQAAwEBAgAAAQAAAAAAAQABAgABAAMCAAEBAAAAAgAAAAEAAQA=",
          "dtype": "i1"
         },
         "xaxis": "x",
         "y": {
          "bdata": "ZmZmZmbmOECamZmZmZlAQJqZmZmZGThAzczMzMzMOEBmZmZmZmZBQDMzMzMzMzFAzczMzMzMKUDNzMzMzMw1QDMzMzMzszBAmpmZmZmZNkAAAAAAAIBBQM3MzMzMTDtAZmZmZmZmPECamZmZmRk+QM3MzMzMzDNAZmZmZmamQUAAAAAAAIA7QM3MzMzMzDRAmpmZmZmZKkCamZmZmVlAQM3MzMzMzDtAAAAAAACANkDNzMzMzAxIQJqZmZmZmTdAZmZmZmZmQECamZmZmRkwQJqZmZmZGT9AzczMzMzMNUCamZmZmRk0QGZmZmZmZjpAzczMzMwMQECamZmZmRkxQJqZmZmZmT9AZmZmZmbmMUDNzMzMzMwrQM3MzMzMjEJAMzMzMzOzQEAAAAAAAAArQGZmZmZm5jdAZmZmZmbmNUBmZmZmZmZAQGZmZmZmZkdAZmZmZmbmMUBmZmZmZmY3QGZmZmZmZjtAAAAAAAAAM0BmZmZmZiZCQDMzMzMzsztAZmZmZmYmQ0DNzMzMzEw0QJqZmZmZGTNAMzMzMzOzO0CamZmZmRk1QM3MzMzMTDhAMzMzMzMzMkCamZmZmZk2QA==",
          "dtype": "f8"
         },
         "yaxis": "y"
        },
        {
         "customdata": [
          [
           "Jugador_004",
           "Athletic Bilbao",
           32,
           1
          ],
          [
           "Jugador_005",
           "Betis",
           21,
           4
          ],
          [
           "Jugador_009",
           "Real Sociedad",
           21,
           3
          ],
          [
           "Jugador_014",
           "Atlético Madrid",
           25,
           5
          ],
          [
           "Jugador_015",
           "Athletic Bilbao",
           22,
           2
          ],
          [
           "Jugador_016",
           "Atlético Madrid",
           29,
           4
          ],
          [
           "Jugador_017",
           "Sevilla",
           24,
           4
          ],
          [
           "Jugador_020",
           "Valencia",
           24,
           1
          ],
          [
           "Jugador_022",
           "Real Sociedad",
           21,
           4
          ],
          [
           "Jugador_026",
           "Athletic Bilbao",
           22,
           2
          ],
          [
           "Jugador_029",
           "Atlético Madrid",
           24,
           9
          ],
          [
           "Jugador_031",
           "Sevilla",
           27,
           8
          ],
          [
           "Jugador_033",
           "Villarreal",
           19,
           4
          ],
          [
           "Jugador_035",
           "Espanyol",
           31,
           1
          ],
          [
           "Jugador_040",
           "Real Sociedad",
           29,
           5
          ],
          [
           "Jugador_041",
           "Valencia",
           27,
           6
          ],
          [
           "Jugador_044",
           "Sevilla",
           28,
           6
          ],
          [
           "Jugador_045",
           "Real Madrid",
           33,
           7
          ],
          [
           "Jugador_046",
           "Atlético Madrid",
           28,
           6
          ],
          [
           "Jugador_055",
           "Espanyol",
           27,
           3
          ],
          [
           "Jugador_058",
           "Real Madrid",
           26,
           14
          ],
          [
           "Jugador_060",
           "Betis",
           23,
           3
          ],
          [
           "Jugador_067",
           "Valencia",
           23,
           11
          ],
          [
           "Jugador_068",
           "Valencia",
           25,
           5
          ],
          [
           "Jugador_073",
           "Villarreal",
           23,
           4
          ],
          [
           "Jugador_074",
           "Betis",
           27,
           0
          ],
          [
           "Jugador_075",
           "Villarreal",
           24,
           4
          ],
          [
           "Jugador_076",
           "Barcelona",
           25,
           7
          ],
          [
           "Jugador_079",
           "Betis",
           18,
           5
          ],
          [
           "Jugador_084",
           "Espanyol",
           28,
           0
          ],
          [
           "Jugador_085",
           "Betis",
           25,
           3
          ],
          [
           "Jugador_092",
           "Valencia",
           26,
           3
          ],
          [
           "Jugador_096",
           "Athletic Bilbao",
           30,
           4
          ],
          [
           "Jugador_097",
           "Real Sociedad",
           27,
           2
          ],
          [
           "Jugador_101",
           "Athletic Bilbao",
           26,
           5
          ],
          [
           "Jugador_108",
           "Espanyol",
           20,
           3
          ],
          [
           "Jugador_111",
           "Betis",
           30,
           7
          ],
          [
           "Jugador_113",
           "Real Madrid",
           27,
           14
          ],
          [
           "Jugador_118",
           "Villarreal",
           30,
           2
          ],
          [
           "Jugador_120",
           "Athletic Bilbao",
           24,
           1
          ],
          [
           "Jugador_121",
           "Barcelona",
           30,
           11
          ],
          [
           "Jugador_122",
           "Sevilla",
           24,
           5
          ],
          [
           "Jugador_123",
           "Barcelona",
           21,
           6
          ],
          [
           "Jugador_125",
           "Athletic Bilbao",
           24,
           2
          ],
          [
           "Jugador_127",
           "Villarreal",
           29,
           2
          ],
          [
           "Jugador_128",
           "Real Madrid",
           21,
           16
          ],
          [
           "Jugador_133",
           "Sevilla",
           27,
           4
          ],
          [
           "Jugador_134",
           "Sevilla",
           30,
           1
          ],
          [
           "Jugador_135",
           "Real Sociedad",
           21,
           3
          ],
          [
           "Jugador_136",
           "Athletic Bilbao",
           30,
           5
          ],
          [
           "Jugador_138",
           "Atlético Madrid",
           26,
           8
          ],
          [
           "Jugador_139",
           "Athletic Bilbao",
           31,
           2
          ],
          [
           "Jugador_141",
           "Athletic Bilbao",
           34,
           3
          ],
          [
           "Jugador_142",
           "Athletic Bilbao",
           28,
           3
          ],
          [
           "Jugador_144",
           "Real Madrid",
           25,
           7
          ],
          [
           "Jugador_146",
           "Real Madrid",
           30,
           14
          ],
          [
           "Jugador_148",
           "Athletic Bilbao",
           22,
           6
          ],
          [
           "Jugador_152",
           "Athletic Bilbao",
           26,
           4
          ],
          [
           "Jugador_158",
           "Valencia",
           23,
           5
          ],
          [
           "Jugador_159",
           "Atlético Madrid",
           25,
           4
          ],
          [
           "Jugador_161",
           "Sevilla",
           28,
           7
          ],
          [
           "Jugador_164",
           "Real Sociedad",
           29,
           5
          ],
          [
           "Jugador_166",
           "Villarreal",
           31,
           3
          ],
          [
           "Jugador_172",
           "Valencia",
           27,
           1
          ],
          [
           "Jugador_175",
           "Athletic Bilbao",
           25,
           1
          ],
          [
           "Jugador_176",
           "Valencia",
           29,
           7
          ],
          [
           "Jugador_182",
           "Atlético Madrid",
           24,
           5
          ],
          [
           "Jugador_185",
           "Sevilla",
           22,
           7
          ],
          [
           "Jugador_187",
           "Valencia",
           28,
           6
          ],
          [
           "Jugador_194",
           "Real Sociedad",
           27,
           2
          ],
          [
           "Jugador_197",
           "Villarreal",
           23,
           6
          ]
         ],
         "hovertemplate": "Posición=Mediocampista<br>Goles en la Temporada=%{x}<br>Valor de Mercado (M€)=%{y}<br>Rating=%{marker.size}<br>nombre=%{customdata[0]}<br>equipo=%{customdata[1]}<br>edad=%{customdata[2]}<br>asistencias_temporada=%{customdata[3]}<extra></extra>",
         "legendgroup": "Mediocampista",
         "marker": {
          "color": "#EF553B",
          "size": {
           "bdata": "MzMzMzNzUUAAAAAAAABSQJqZmZmZ2VBAAAAAAADAV0DNzMzMzExTQGZmZmZmZlFAAAAAAABAUkAzMzMzM/NSQGZmZmZmJlNAMzMzMzOzTUAAAAAAAMBXQM3MzMzMDFZAMzMzMzMzVECamZmZmVlRQDMzMzMzE1VAAAAAAACAU0BmZmZmZsZSQM3MzMzMLFdAZmZmZmaGVkAzMzMzM3NSQAAAAAAAwFdAAAAAAAAAVUAAAAAAAMBXQDMzMzMzc1JAmpmZmZl5UEDNzMzMzAxMQM3MzMzMDFZAmpmZmZm5VkAzMzMzM/NVQJqZmZmZ2U5AmpmZmZlZUUCamZmZmblUQAAAAAAAAFNAAAAAAABAT0AAAAAAAABUQJqZmZmZOVJAzczMzMzMVEAAAAAAAMBXQDMzMzMzE1FAMzMzMzNTUUBmZmZmZgZXQDMzMzMzU1RAAAAAAADAV0CamZmZmXlTQAAAAAAAIFRAAAAAAADAV0DNzMzMzKxSQJqZmZmZ2U5AzczMzMwsUkAzMzMzM5NSQGZmZmZmRldAMzMzMzPTUUDNzMzMzGxSQJqZmZmZuVRAzczMzMxsV0AAAAAAAMBXQAAAAAAAoFFAZmZmZmYmVECamZmZmTlVQM3MzMzMbFRAmpmZmZnZVUAAAAAAACBWQAAAAAAAAFFAMzMzMzMzUkAzMzMzM7NSQDMzMzMzU1JAZmZmZmaGVkCamZmZmVlWQM3MzMzMbFRAmpmZmZnZUUDNzMzMzIxWQA==",
           "dtype": "f8"
          },
          "sizemode": "area",
          "sizeref": 0.2375,
          "symbol": "circle"
         },
         "mode": "markers",
         "name": "Mediocampista",
         "orientation": "v",
         "showlegend": true,
         "type": "scatter",
         "x": {
          "bdata": "AAAABwEBAwUCAAMDAwACAQIGAgIJBgIAAQECBAMBAgIBAAICAQcCAgICAwIDAwEBAwAFAwIDAgYDAwMEAwIBAwICBgIDAwI=",
          "dtype": "i1"
         },
         "xaxis": "x",
         "y": {
          "bdata": "mpmZmZmZK0AAAAAAAIA1QM3MzMzMzDJAAAAAAAAAQkBmZmZmZuY4QGZmZmZm5jdAmpmZmZmZQEDNzMzMzMw+QAAAAAAAgD1AmpmZmZkZMUCamZmZmdlEQM3MzMzMTD9AMzMzMzMzO0CamZmZmZktQAAAAAAAADxAZmZmZmYmREDNzMzMzMw7QM3MzMzMjEBAMzMzMzPzQ0DNzMzMzMw6QJqZmZmZ2UxAMzMzMzPzRUDNzMzMzAxJQM3MzMzMzDVAZmZmZmZmNkBmZmZmZmY7QJqZmZmZ2UFAMzMzMzPzTkAzMzMzMzM6QJqZmZmZGTFAzczMzMzMPUAzMzMzM7M6QGZmZmZmZjZAzczMzMzMPkAzMzMzM7M6QGZmZmZmZjZAzczMzMxMM0BmZmZmZmZTQDMzMzMzMzZAZmZmZmZmPEDNzMzMzExEQGZmZmZmZj1AzczMzMwMR0AAAAAAAAA7QM3MzMzMzDFAzczMzMwMSUCamZmZmZk+QJqZmZmZGTFAMzMzMzOzM0AAAAAAAAA3QDMzMzMz80lAMzMzMzMzNEDNzMzMzMwtQJqZmZmZGUBAzczMzMwMSkBmZmZmZiZHQGZmZmZmZkFAAAAAAACAQUDNzMzMzIxAQGZmZmZm5khAzczMzMyMQUCamZmZmZk4QJqZmZmZmTZAAAAAAACANUAzMzMzMzM+QJqZmZmZmTpAMzMzMzPzREBmZmZmZqZDQM3MzMzMDEdAmpmZmZmZPkBmZmZmZiZAQA==",
          "dtype": "f8"
         },
         "yaxis": "y"
        },
        {
         "customdata": [
          [
           "Jugador_006",
           "Real Madrid",
           30,
           4
          ],
          [
           "Jugador_007",
           "Atlético Madrid",
           20,
           5
          ],
          [
           "Jugador_008",
           "Real Madrid",
           24,
           3
          ],
          [
           "Jugador_010",
           "Villarreal",
           26,
           0
          ],
          [
           "Jugador_013",
           "Real Madrid",
           20,
           7
          ],
          [
           "Jugador_019",
           "Valencia",
           23,
           3
          ],
          [
           "Jugador_023",
           "Sevilla",
           30,
           1
          ],
          [
           "Jugador_025",
           "Real Madrid",
           18,
           4
          ],
          [
           "Jugador_027",
           "Athletic Bilbao",
           23,
           1
          ],
          [
           "Jugador_030",
           "Real Sociedad",
           28,
           3
          ],
          [
           "Jugador_048",
           "Espanyol",
           24,
           0
          ],
          [
           "Jugador_050",
           "Betis",
           32,
           1
          ],
          [
           "Jugador_051",
           "Real Sociedad",
           24,
           1
          ],
          [
           "Jugador_054",
           "Real Madrid",
           25,
           7
          ],
          [
           "Jugador_057",
           "Valencia",
           35,
           1
          ],
          [
           "Jugador_062",
           "Real Sociedad",
           28,
           1
          ],
          [
           "Jugador_063",
           "Atlético Madrid",
           30,
           0
          ],
          [
           "Jugador_064",
           "Real Sociedad",
           23,
           0
          ],
          [
           "Jugador_066",
           "Villarreal",
           30,
           2
          ],
          [
           "Jugador_070",
           "Barcelona",
           26,
           7
          ],
          [
           "Jugador_077",
           "Espanyol",
           28,
           0
          ],
          [
           "Jugador_081",
           "Athletic Bilbao",
           27,
           3
          ],
          [
           "Jugador_087",
           "Athletic Bilbao",
           20,
           0
          ],
          [
           "Jugador_089",
           "Athletic Bilbao",
           23,
           2
          ],
          [
           "Jugador_093",
           "Betis",
           24,
           0
          ],
          [
           "Jugador_095",
           "Espanyol",
           25,
           0
          ],
          [
           "Jugador_102",
           "Barcelona",
           19,
           4
          ],
          [
           "Jugador_103",
           "Espanyol",
           29,
           1
          ],
          [
           "Jugador_104",
           "Espanyol",
           26,
           2
          ],
          [
           "Jugador_105",
           "Sevilla",
           24,
           3
          ],
          [
           "Jugador_112",
           "Betis",
           25,
           1
          ],
          [
           "Jugador_114",
           "Athletic Bilbao",
           24,
           1
          ],
          [
           "Jugador_115",
           "Barcelona",
           20,
           4
          ],
          [
           "Jugador_116",
           "Barcelona",
           31,
           5
          ],
          [
           "Jugador_126",
           "Real Madrid",
           23,
           2
          ],
          [
           "Jugador_147",
           "Betis",
           18,
           2
          ],
          [
           "Jugador_150",
           "Real Sociedad",
           24,
           1
          ],
          [
           "Jugador_154",
           "Real Madrid",
           21,
           5
          ],
          [
           "Jugador_155",
           "Espanyol",
           28,
           1
          ],
          [
           "Jugador_160",
           "Valencia",
           30,
           1
          ],
          [
           "Jugador_167",
           "Sevilla",
           23,
           2
          ],
          [
           "Jugador_168",
           "Espanyol",
           24,
           0
          ],
          [
           "Jugador_171",
           "Sevilla",
           32,
           2
          ],
          [
           "Jugador_173",
           "Barcelona",
           32,
           5
          ],
          [
           "Jugador_179",
           "Atlético Madrid",
           35,
           4
          ],
          [
           "Jugador_181",
           "Sevilla",
           28,
           3
          ],
          [
           "Jugador_183",
           "Valencia",
           28,
           0
          ],
          [
           "Jugador_189",
           "Sevilla",
           31,
           4
          ],
          [
           "Jugador_191",
           "Betis",
           32,
           1
          ],
          [
           "Jugador_193",
           "Villarreal",
           26,
           1
          ],
          [
           "Jugador_196",
           "Sevilla",
           26,
           1
          ],
          [
           "Jugador_198",
           "Villarreal",
           24,
           0
          ],
          [
           "Jugador_200",
           "Betis",
           27,
           1
          ]
         ],
         "hovertemplate": "Posición=Delantero<br>Goles en la Temporada=%{x}<br>Valor de Mercado (M€)=%{y}<br>Rating=%{marker.size}<br>nombre=%{customdata[0]}<br>equipo=%{customdata[1]}<br>edad=%{customdata[2]}<br>asistencias_temporada=%{customdata[3]}<extra></extra>",
         "legendgroup": "Delantero",
         "marker": {
          "color": "#00cc96",
          "size": {
           "bdata": "AAAAAADAV0BmZmZmZiZXQAAAAAAAwFdAAAAAAABAUkAAAAAAAMBXQDMzMzMzk1NAzczMzMzMVEAAAAAAAMBXQAAAAAAA4FNAAAAAAADAVEAAAAAAAIBQQJqZmZmZuVFAZmZmZmZmUkAAAAAAAMBXQDMzMzMzc1JAAAAAAAAAUUAzMzMzM7NVQJqZmZmZmVBAZmZmZmaGUkAAAAAAAMBXQGZmZmZmBlNAzczMzMxsVUAzMzMzMzNRQJqZmZmZuVNAMzMzMzMzVEBmZmZmZmZRQAAAAAAAwFdAmpmZmZlZU0BmZmZmZsZRQJqZmZmZeVRAmpmZmZn5VEAAAAAAACBSQAAAAAAAwFdAAAAAAADAV0AAAAAAAMBXQGZmZmZmJlVAZmZmZmbGUkAAAAAAAMBXQDMzMzMz81JAMzMzMzPzUEBmZmZmZqZUQAAAAAAAAFJAAAAAAAAgVUAAAAAAAMBXQAAAAAAAwFdAmpmZmZm5VUAAAAAAAOBSQAAAAAAAwFdAZmZmZmbGUkDNzMzMzAxUQDMzMzMzM1NAAAAAAADgU0AAAAAAAABSQA==",
           "dtype": "f8"
          },
          "sizemode": "area",
          "sizeref": 0.2375,
          "symbol": "circle"
         },
         "mode": "markers",
         "name": "Delantero",
         "orientation": "v",
         "showlegend": true,
         "type": "scatter",
         "x": {
          "bdata": "DQULBQoDCQoDBgMCBwwDAAgBAg4HAwQFBwIJAwEFBAMNCRAEAg4GAgYEBhEKBAMKAgcFBgQ=",
          "dtype": "i1"
         },
         "xaxis": "x",
         "y": {
          "bdata": "MzMzMzMzSUAAAAAAAAA+QJqZmZmZGUtAzczMzMwMQ0CamZmZmVlJQAAAAAAAADhAzczMzMzMPkAzMzMzM/NJQAAAAAAAgDxAAAAAAAAAQkAzMzMzM7M2QJqZmZmZmS5AzczMzMyMQ0BmZmZmZiZMQGZmZmZmZjBAZmZmZmZmNUDNzMzMzMxEQM3MzMzMTDxAZmZmZmbmMUAzMzMzMzNNQAAAAAAAAD1AAAAAAACAQEAzMzMzM7MwQGZmZmZm5jpAzczMzMyMQEAzMzMzMzMzQDMzMzMzc0VAzczMzMxMMkAzMzMzMzM4QAAAAAAAwEJAMzMzMzOzNkDNzMzMzEw+QAAAAAAAQEpAzczMzMxMQUCamZmZmblWQGZmZmZmZjVAzczMzMzMO0AzMzMzM3NEQGZmZmZmZkBAZmZmZmbmMUCamZmZmVlIQDMzMzMzszxAmpmZmZkZO0AAAAAAAABGQAAAAAAAAEJAMzMzMzNzQUAzMzMzM/NAQM3MzMzMTENAAAAAAAAAM0AAAAAAAMBEQDMzMzMzM0VAZmZmZmamRUBmZmZmZuY2QA==",
          "dtype": "f8"
         },
         "yaxis": "y"
        },
        {
         "customdata": [
          [
           "Jugador_028",
           "Barcelona",
           24,
           3
          ],
          [
           "Jugador_036",
           "Athletic Bilbao",
           26,
           2
          ],
          [
           "Jugador_042",
           "Espanyol",
           20,
           1
          ],
          [
           "Jugador_049",
           "Atlético Madrid",
           23,
           1
          ],
          [
           "Jugador_091",
           "Real Madrid",
           35,
           1
          ],
          [
           "Jugador_100",
           "Sevilla",
           25,
           0
          ],
          [
           "Jugador_107",
           "Betis",
           21,
           1
          ],
          [
           "Jugador_109",
           "Real Sociedad",
           26,
           2
          ],
          [
           "Jugador_110",
           "Villarreal",
           22,
           0
          ],
          [
           "Jugador_129",
           "Atlético Madrid",
           29,
           0
          ],
          [
           "Jugador_130",
           "Espanyol",
           25,
           1
          ],
          [
           "Jugador_140",
           "Villarreal",
           27,
           1
          ],
          [
           "Jugador_149",
           "Betis",
           34,
           2
          ],
          [
           "Jugador_162",
           "Real Madrid",
           19,
           0
          ],
          [
           "Jugador_163",
           "Real Madrid",
           28,
           3
          ],
          [
           "Jugador_169",
           "Athletic Bilbao",
           23,
           0
          ],
          [
           "Jugador_170",
           "Athletic Bilbao",
           29,
           1
          ],
          [
           "Jugador_186",
           "Atlético Madrid",
           21,
           0
          ],
          [
           "Jugador_190",
           "Valencia",
           28,
           0
          ],
          [
           "Jugador_195",
           "Betis",
           19,
           0
          ]
         ],
         "hovertemplate": "Posición=Portero<br>Goles en la Temporada=%{x}<br>Valor de Mercado (M€)=%{y}<br>Rating=%{marker.size}<br>nombre=%{customdata[0]}<br>equipo=%{customdata[1]}<br>edad=%{customdata[2]}<br>asistencias_temporada=%{customdata[3]}<extra></extra>",
         "legendgroup": "Portero",
         "marker": {
          "color": "#ab63fa",
          "size": {
           "bdata": "ZmZmZmZGU0CamZmZmdlRQAAAAAAAQFFAAAAAAADAUEBmZmZmZkZRQDMzMzMzc0xAmpmZmZkZUUAAAAAAACBQQDMzMzMzk1BAMzMzMzMzUEAzMzMzM5NSQDMzMzMzE1FAmpmZmZmZT0BmZmZmZiZTQM3MzMzMzFRAzczMzMysUkDNzMzMzMxOQJqZmZmZGU9AzczMzMzMTUDNzMzMzExPQA==",
           "dtype": "f8"
          },
          "sizemode": "area",
          "sizeref": 0.2375,
          "symbol": "circle"
         },
         "mode": "markers",
         "name": "Portero",
         "orientation": "v",
         "showlegend": true,
         "type": "scatter",
         "x": {
          "bdata": "AAAAAAAAAAAAAAAAAAAAAAAAAAA=",
          "dtype": "i1"
         },
         "xaxis": "x",
         "y": {
          "bdata": "ZmZmZmYmREAAAAAAAIA0QJqZmZmZGTFAZmZmZmbmPUAAAAAAAAAzQM3MzMzMzDdAzczMzMzMM0CamZmZmZkxQDMzMzMzszFAmpmZmZmZOEAAAAAAAAA2QDMzMzMzszdAmpmZmZmZJUBmZmZmZuZAQDMzMzMzM0FAzczMzMxMNEDNzMzMzMwrQGZmZmZm5jJAmpmZmZkZOkAzMzMzMzMsQA==",
          "dtype": "f8"
         },
         "yaxis": "y"
        },
        {
         "line": {
          "color": "red",
          "dash": "dash"
         },
         "mode": "lines",
         "name": "Tendencia",
         "type": "scatter",
         "x": {
          "bdata": "AAAAAAANBQsABQIFCgcBAQMBAwUBAgkACgADAAMGAwADAAAAAwIBAgEAAAIGAgADAAIHAwIMAgEDCQAGBAAIAQACAgADDgEBAQECBAcCAwADAAEBAgAEAAUAAAIHAAIBAAABAAIJAwEFAAACAAABBAcDDQkBAgICAgIDAAIQAwMAAAEAAQEDAAMFAwACAwICAAYEAwACAQMBDgYAAAMEAgMAAAIAAQYEAAAGAxECAgIAAAoABAYDAQIAAwAKAAIBBwMABQIGAAQ=",
          "dtype": "i1"
         },
         "y": {
          "bdata": "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",
          "dtype": "f8"
         }
        }
       ],
       "layout": {
        "height": 600,
        "hovermode": "closest",
        "legend": {
         "itemsizing": "constant",
         "title": {
          "font": {
           "size": 14
          },
          "text": "Posición"
         },
         "tracegroupgap": 0
        },
        "template": {
         "data": {
          "bar": [
           {
            "error_x": {
             "color": "#2a3f5f"
            },
            "error_y": {
             "color": "#2a3f5f"
            },
            "marker": {
             "line": {
              "color": "white",
              "width": 0.5
             },
             "pattern": {
              "fillmode": "overlay",
              "size": 10,
              "solidity": 0.2
             }
            },
            "type": "bar"
           }
          ],
          "barpolar": [
           {
            "marker": {
             "line": {
              "color": "white",
              "width": 0.5
             },
             "pattern": {
              "fillmode": "overlay",
              "size": 10,
              "solidity": 0.2
             }
            },
            "type": "barpolar"
           }
          ],
          "carpet": [
           {
            "aaxis": {
             "endlinecolor": "#2a3f5f",
             "gridcolor": "#C8D4E3",
             "linecolor": "#C8D4E3",
             "minorgridcolor": "#C8D4E3",
             "startlinecolor": "#2a3f5f"
            },
            "baxis": {
             "endlinecolor": "#2a3f5f",
             "gridcolor": "#C8D4E3",
             "linecolor": "#C8D4E3",
             "minorgridcolor": "#C8D4E3",
             "startlinecolor": "#2a3f5f"
            },
            "type": "carpet"
           }
          ],
          "choropleth": [
           {
            "colorbar": {
             "outlinewidth": 0,
             "ticks": ""
            },
            "type": "choropleth"
           }
          ],
          "contour": [
           {
            "colorbar": {
             "outlinewidth": 0,
             "ticks": ""
            },
            "colorscale": [
             [
              0,
              "#0d0887"
             ],
             [
              0.1111111111111111,
              "#46039f"
             ],
             [
              0.2222222222222222,
              "#7201a8"
             ],
             [
              0.3333333333333333,
              "#9c179e"
             ],
             [
              0.4444444444444444,
              "#bd3786"
             ],
             [
              0.5555555555555556,
              "#d8576b"
             ],
             [
              0.6666666666666666,
              "#ed7953"
             ],
             [
              0.7777777777777778,
              "#fb9f3a"
             ],
             [
              0.8888888888888888,
              "#fdca26"
             ],
             [
              1,
              "#f0f921"
             ]
            ],
            "type": "contour"
           }
          ],
          "contourcarpet": [
           {
            "colorbar": {
             "outlinewidth": 0,
             "ticks": ""
            },
            "type": "contourcarpet"
           }
          ],
          "heatmap": [
           {
            "colorbar": {
             "outlinewidth": 0,
             "ticks": ""
            },
            "colorscale": [
             [
              0,
              "#0d0887"
             ],
             [
              0.1111111111111111,
              "#46039f"
             ],
             [
              0.2222222222222222,
              "#7201a8"
             ],
             [
              0.3333333333333333,
              "#9c179e"
             ],
             [
              0.4444444444444444,
              "#bd3786"
             ],
             [
              0.5555555555555556,
              "#d8576b"
             ],
             [
              0.6666666666666666,
              "#ed7953"
             ],
             [
              0.7777777777777778,
              "#fb9f3a"
             ],
             [
              0.8888888888888888,
              "#fdca26"
             ],
             [
              1,
              "#f0f921"
             ]
            ],
            "type": "heatmap"
           }
          ],
          "histogram": [
           {
            "marker": {
             "pattern": {
              "fillmode": "overlay",
              "size": 10,
              "solidity": 0.2
             }
            },
            "type": "histogram"
           }
          ],
          "histogram2d": [
           {
            "colorbar": {
             "outlinewidth": 0,
             "ticks": ""
            },
            "colorscale": [
             [
              0,
              "#0d0887"
             ],
             [
              0.1111111111111111,
              "#46039f"
             ],
             [
              0.2222222222222222,
              "#7201a8"
             ],
             [
              0.3333333333333333,
              "#9c179e"
             ],
             [
              0.4444444444444444,
              "#bd3786"
             ],
             [
              0.5555555555555556,
              "#d8576b"
             ],
             [
              0.6666666666666666,
              "#ed7953"
             ],
             [
              0.7777777777777778,
              "#fb9f3a"
             ],
             [
              0.8888888888888888,
              "#fdca26"
             ],
             [
              1,
              "#f0f921"
             ]
            ],
            "type": "histogram2d"
           }
          ],
          "histogram2dcontour": [
           {
            "colorbar": {
             "outlinewidth": 0,
             "ticks": ""
            },
            "colorscale": [
             [
              0,
              "#0d0887"
             ],
             [
              0.1111111111111111,
              "#46039f"
             ],
             [
              0.2222222222222222,
              "#7201a8"
             ],
             [
              0.3333333333333333,
              "#9c179e"
             ],
             [
              0.4444444444444444,
              "#bd3786"
             ],
             [
              0.5555555555555556,
              "#d8576b"
             ],
             [
              0.6666666666666666,
              "#ed7953"
             ],
             [
              0.7777777777777778,
              "#fb9f3a"
             ],
             [
              0.8888888888888888,
              "#fdca26"
             ],
             [
              1,
              "#f0f921"
             ]
            ],
            "type": "histogram2dcontour"
           }
          ],
          "mesh3d": [
           {
            "colorbar": {
             "outlinewidth": 0,
             "ticks": ""
            },
            "type": "mesh3d"
           }
          ],
          "parcoords": [
           {
            "line": {
             "colorbar": {
              "outlinewidth": 0,
              "ticks": ""
             }
            },
            "type": "parcoords"
           }
          ],
          "pie": [
           {
            "automargin": true,
            "type": "pie"
           }
          ],
          "scatter": [
           {
            "fillpattern": {
             "fillmode": "overlay",
             "size": 10,
             "solidity": 0.2
            },
            "type": "scatter"
           }
          ],
          "scatter3d": [
           {
            "line": {
             "colorbar": {
              "outlinewidth": 0,
              "ticks": ""
             }
            },
            "marker": {
             "colorbar": {
              "outlinewidth": 0,
              "ticks": ""
             }
            },
            "type": "scatter3d"
           }
          ],
          "scattercarpet": [
           {
            "marker": {
             "colorbar": {
              "outlinewidth": 0,
              "ticks": ""
             }
            },
            "type": "scattercarpet"
           }
          ],
          "scattergeo": [
           {
            "marker": {
             "colorbar": {
              "outlinewidth": 0,
              "ticks": ""
             }
            },
            "type": "scattergeo"
           }
          ],
          "scattergl": [
           {
            "marker": {
             "colorbar": {
              "outlinewidth": 0,
              "ticks": ""
             }
            },
            "type": "scattergl"
           }
          ],
          "scattermap": [
           {
            "marker": {
             "colorbar": {
              "outlinewidth": 0,
              "ticks": ""
             }
            },
            "type": "scattermap"
           }
          ],
          "scattermapbox": [
           {
            "marker": {
             "colorbar": {
              "outlinewidth": 0,
              "ticks": ""
             }
            },
            "type": "scattermapbox"
           }
          ],
          "scatterpolar": [
           {
            "marker": {
             "colorbar": {
              "outlinewidth": 0,
              "ticks": ""
             }
            },
            "type": "scatterpolar"
           }
          ],
          "scatterpolargl": [
           {
            "marker": {
             "colorbar": {
              "outlinewidth": 0,
              "ticks": ""
             }
            },
            "type": "scatterpolargl"
           }
          ],
          "scatterternary": [
           {
            "marker": {
             "colorbar": {
              "outlinewidth": 0,
              "ticks": ""
             }
            },
            "type": "scatterternary"
           }
          ],
          "surface": [
           {
            "colorbar": {
             "outlinewidth": 0,
             "ticks": ""
            },
            "colorscale": [
             [
              0,
              "#0d0887"
             ],
             [
              0.1111111111111111,
              "#46039f"
             ],
             [
              0.2222222222222222,
              "#7201a8"
             ],
             [
              0.3333333333333333,
              "#9c179e"
             ],
             [
              0.4444444444444444,
              "#bd3786"
             ],
             [
              0.5555555555555556,
              "#d8576b"
             ],
             [
              0.6666666666666666,
              "#ed7953"
             ],
             [
              0.7777777777777778,
              "#fb9f3a"
             ],
             [
              0.8888888888888888,
              "#fdca26"
             ],
             [
              1,
              "#f0f921"
             ]
            ],
            "type": "surface"
           }
          ],
          "table": [
           {
            "cells": {
             "fill": {
              "color": "#EBF0F8"
             },
             "line": {
              "color": "white"
             }
            },
            "header": {
             "fill": {
              "color": "#C8D4E3"
             },
             "line": {
              "color": "white"
             }
            },
            "type": "table"
           }
          ]
         },
         "layout": {
          "annotationdefaults": {
           "arrowcolor": "#2a3f5f",
           "arrowhead": 0,
           "arrowwidth": 1
          },
          "autotypenumbers": "strict",
          "coloraxis": {
           "colorbar": {
            "outlinewidth": 0,
            "ticks": ""
           }
          },
          "colorscale": {
           "diverging": [
            [
             0,
             "#8e0152"
            ],
            [
             0.1,
             "#c51b7d"
            ],
            [
             0.2,
             "#de77ae"
            ],
            [
             0.3,
             "#f1b6da"
            ],
            [
             0.4,
             "#fde0ef"
            ],
            [
             0.5,
             "#f7f7f7"
            ],
            [
             0.6,
             "#e6f5d0"
            ],
            [
             0.7,
             "#b8e186"
            ],
            [
             0.8,
             "#7fbc41"
            ],
            [
             0.9,
             "#4d9221"
            ],
            [
             1,
             "#276419"
            ]
           ],
           "sequential": [
            [
             0,
             "#0d0887"
            ],
            [
             0.1111111111111111,
             "#46039f"
            ],
            [
             0.2222222222222222,
             "#7201a8"
            ],
            [
             0.3333333333333333,
             "#9c179e"
            ],
            [
             0.4444444444444444,
             "#bd3786"
            ],
            [
             0.5555555555555556,
             "#d8576b"
            ],
            [
             0.6666666666666666,
             "#ed7953"
            ],
            [
             0.7777777777777778,
             "#fb9f3a"
            ],
            [
             0.8888888888888888,
             "#fdca26"
            ],
            [
             1,
             "#f0f921"
            ]
           ],
           "sequentialminus": [
            [
             0,
             "#0d0887"
            ],
            [
             0.1111111111111111,
             "#46039f"
            ],
            [
             0.2222222222222222,
             "#7201a8"
            ],
            [
             0.3333333333333333,
             "#9c179e"
            ],
            [
             0.4444444444444444,
             "#bd3786"
            ],
            [
             0.5555555555555556,
             "#d8576b"
            ],
            [
             0.6666666666666666,
             "#ed7953"
            ],
            [
             0.7777777777777778,
             "#fb9f3a"
            ],
            [
             0.8888888888888888,
             "#fdca26"
            ],
            [
             1,
             "#f0f921"
            ]
           ]
          },
          "colorway": [
           "#636efa",
           "#EF553B",
           "#00cc96",
           "#ab63fa",
           "#FFA15A",
           "#19d3f3",
           "#FF6692",
           "#B6E880",
           "#FF97FF",
           "#FECB52"
          ],
          "font": {
           "color": "#2a3f5f"
          },
          "geo": {
           "bgcolor": "white",
           "lakecolor": "white",
           "landcolor": "white",
           "showlakes": true,
           "showland": true,
           "subunitcolor": "#C8D4E3"
          },
          "hoverlabel": {
           "align": "left"
          },
          "hovermode": "closest",
          "mapbox": {
           "style": "light"
          },
          "paper_bgcolor": "white",
          "plot_bgcolor": "white",
          "polar": {
           "angularaxis": {
            "gridcolor": "#EBF0F8",
            "linecolor": "#EBF0F8",
            "ticks": ""
           },
           "bgcolor": "white",
           "radialaxis": {
            "gridcolor": "#EBF0F8",
            "linecolor": "#EBF0F8",
            "ticks": ""
           }
          },
          "scene": {
           "xaxis": {
            "backgroundcolor": "white",
            "gridcolor": "#DFE8F3",
            "gridwidth": 2,
            "linecolor": "#EBF0F8",
            "showbackground": true,
            "ticks": "",
            "zerolinecolor": "#EBF0F8"
           },
           "yaxis": {
            "backgroundcolor": "white",
            "gridcolor": "#DFE8F3",
            "gridwidth": 2,
            "linecolor": "#EBF0F8",
            "showbackground": true,
            "ticks": "",
            "zerolinecolor": "#EBF0F8"
           },
           "zaxis": {
            "backgroundcolor": "white",
            "gridcolor": "#DFE8F3",
            "gridwidth": 2,
            "linecolor": "#EBF0F8",
            "showbackground": true,
            "ticks": "",
            "zerolinecolor": "#EBF0F8"
           }
          },
          "shapedefaults": {
           "line": {
            "color": "#2a3f5f"
           }
          },
          "ternary": {
           "aaxis": {
            "gridcolor": "#DFE8F3",
            "linecolor": "#A2B1C6",
            "ticks": ""
           },
           "baxis": {
            "gridcolor": "#DFE8F3",
            "linecolor": "#A2B1C6",
            "ticks": ""
           },
           "bgcolor": "white",
           "caxis": {
            "gridcolor": "#DFE8F3",
            "linecolor": "#A2B1C6",
            "ticks": ""
           }
          },
          "title": {
           "x": 0.05
          },
          "xaxis": {
           "automargin": true,
           "gridcolor": "#EBF0F8",
           "linecolor": "#EBF0F8",
           "ticks": "",
           "title": {
            "standoff": 15
           },
           "zerolinecolor": "#EBF0F8",
           "zerolinewidth": 2
          },
          "yaxis": {
           "automargin": true,
           "gridcolor": "#EBF0F8",
           "linecolor": "#EBF0F8",
           "ticks": "",
           "title": {
            "standoff": 15
           },
           "zerolinecolor": "#EBF0F8",
           "zerolinewidth": 2
          }
         }
        },
        "title": {
         "font": {
          "size": 16
         },
         "text": "💰 Relación entre Goles y Valor de Mercado por Posición"
        },
        "width": 900,
        "xaxis": {
         "anchor": "y",
         "domain": [
          0,
          1
         ],
         "title": {
          "font": {
           "size": 14
          },
          "text": "Goles en la Temporada"
         }
        },
        "yaxis": {
         "anchor": "x",
         "domain": [
          0,
          1
         ],
         "title": {
          "font": {
           "size": 14
          },
          "text": "Valor de Mercado (M€)"
         }
        }
       }
      },
      "text/html": [
       "<div>            <script src=\"https://cdnjs.cloudflare.com/ajax/libs/mathjax/2.7.5/MathJax.js?config=TeX-AMS-MML_SVG\"></script><script type=\"text/javascript\">if (window.MathJax && window.MathJax.Hub && window.MathJax.Hub.Config) {window.MathJax.Hub.Config({SVG: {font: \"STIX-Web\"}});}</script>                <script type=\"text/javascript\">window.PlotlyConfig = {MathJaxConfig: 'local'};</script>\n",
       "        <script charset=\"utf-8\" src=\"https://cdn.plot.ly/plotly-3.0.1.min.js\" integrity=\"sha256-oy6Be7Eh6eiQFs5M7oXuPxxm9qbJXEtTpfSI93dW16Q=\" crossorigin=\"anonymous\"></script>                <div id=\"920ed747-d8c1-4f37-b028-0e50ad056e01\" class=\"plotly-graph-div\" style=\"height:600px; width:900px;\"></div>            <script type=\"text/javascript\">                window.PLOTLYENV=window.PLOTLYENV || {};                                if (document.getElementById(\"920ed747-d8c1-4f37-b028-0e50ad056e01\")) {                    Plotly.newPlot(                        \"920ed747-d8c1-4f37-b028-0e50ad056e01\",                        [{\"customdata\":[[\"Jugador_001\",\"Real Sociedad\",28,0],[\"Jugador_002\",\"Sevilla\",23,1],[\"Jugador_003\",\"Sevilla\",23,1],[\"Jugador_011\",\"Valencia\",28,2],[\"Jugador_012\",\"Atlético Madrid\",30,3],[\"Jugador_018\",\"Athletic Bilbao\",24,0],[\"Jugador_021\",\"Espanyol\",21,0],[\"Jugador_024\",\"Athletic Bilbao\",25,0],[\"Jugador_032\",\"Espanyol\",21,0],[\"Jugador_034\",\"Betis\",22,0],[\"Jugador_037\",\"Real Madrid\",33,3],[\"Jugador_038\",\"Villarreal\",29,2],[\"Jugador_039\",\"Sevilla\",27,1],[\"Jugador_043\",\"Villarreal\",23,0],[\"Jugador_047\",\"Real Sociedad\",23,3],[\"Jugador_052\",\"Valencia\",22,0],[\"Jugador_053\",\"Barcelona\",18,1],[\"Jugador_056\",\"Espanyol\",30,2],[\"Jugador_059\",\"Athletic Bilbao\",21,1],[\"Jugador_061\",\"Atlético Madrid\",31,5],[\"Jugador_065\",\"Valencia\",23,2],[\"Jugador_069\",\"Atlético Madrid\",32,3],[\"Jugador_071\",\"Real Madrid\",29,7],[\"Jugador_072\",\"Barcelona\",19,2],[\"Jugador_078\",\"Valencia\",23,2],[\"Jugador_080\",\"Athletic Bilbao\",28,1],[\"Jugador_082\",\"Villarreal\",26,2],[\"Jugador_083\",\"Betis\",21,0],[\"Jugador_086\",\"Betis\",23,1],[\"Jugador_088\",\"Villarreal\",30,4],[\"Jugador_090\",\"Atlético Madrid\",25,2],[\"Jugador_094\",\"Athletic Bilbao\",18,0],[\"Jugador_098\",\"Valencia\",22,2],[\"Jugador_099\",\"Villarreal\",20,0],[\"Jugador_106\",\"Espanyol\",24,0],[\"Jugador_117\",\"Sevilla\",27,2],[\"Jugador_119\",\"Real Madrid\",27,2],[\"Jugador_124\",\"Valencia\",31,2],[\"Jugador_131\",\"Sevilla\",20,1],[\"Jugador_132\",\"Sevilla\",24,0],[\"Jugador_137\",\"Sevilla\",28,1],[\"Jugador_143\",\"Barcelona\",27,1],[\"Jugador_145\",\"Valencia\",25,2],[\"Jugador_151\",\"Real Sociedad\",18,0],[\"Jugador_153\",\"Betis\",27,5],[\"Jugador_156\",\"Espanyol\",25,1],[\"Jugador_157\",\"Atlético Madrid\",25,0],[\"Jugador_165\",\"Sevilla\",25,1],[\"Jugador_174\",\"Real Madrid\",30,4],[\"Jugador_177\",\"Athletic Bilbao\",24,1],[\"Jugador_178\",\"Sevilla\",24,0],[\"Jugador_180\",\"Villarreal\",28,1],[\"Jugador_184\",\"Real Sociedad\",29,1],[\"Jugador_188\",\"Athletic Bilbao\",28,0],[\"Jugador_192\",\"Athletic Bilbao\",27,2],[\"Jugador_199\",\"Athletic Bilbao\",27,1]],\"hovertemplate\":\"Posición=Defensor\\u003cbr\\u003eGoles en la Temporada=%{x}\\u003cbr\\u003eValor de Mercado (M€)=%{y}\\u003cbr\\u003eRating=%{marker.size}\\u003cbr\\u003enombre=%{customdata[0]}\\u003cbr\\u003eequipo=%{customdata[1]}\\u003cbr\\u003eedad=%{customdata[2]}\\u003cbr\\u003easistencias_temporada=%{customdata[3]}\\u003cextra\\u003e\\u003c\\u002fextra\\u003e\",\"legendgroup\":\"Defensor\",\"marker\":{\"color\":\"#636efa\",\"size\":{\"dtype\":\"f8\",\"bdata\":\"ZmZmZmYmT0DNzMzMzAxTQAAAAAAAoFBAMzMzMzOzUECamZmZmdlVQM3MzMzMTFBAMzMzMzMzTECamZmZmRlRQGZmZmZmJk5AZmZmZmZGUkAAAAAAACBXQJqZmZmZeVNAMzMzMzOzTkBmZmZmZsZTQM3MzMzMDFFAZmZmZmamUUCamZmZmflSQGZmZmZmZlFAAAAAAACAT0AzMzMzMxNVQGZmZmZmZlFAzczMzMxsVkBmZmZmZiZVQDMzMzMz81JAMzMzMzNzUEDNzMzMzIxQQGZmZmZmRlJAMzMzMzNzUUAAAAAAAGBTQJqZmZmZuVFAZmZmZmZmUkCamZmZmdlQQDMzMzMzc1BAZmZmZmamT0BmZmZmZmZMQGZmZmZmhlBAMzMzMzPTVUCamZmZmXlRQDMzMzMzU1BAmpmZmZmZT0AAAAAAAKBTQGZmZmZmxlJAMzMzMzOzUkCamZmZmdlQQJqZmZmZ+VJAzczMzMysUEAAAAAAAMBSQDMzMzMzM1FAAAAAAADAVUAAAAAAAKBSQAAAAAAAIFFAAAAAAACAUUAAAAAAACBTQGZmZmZm5k9AZmZmZmYGU0BmZmZmZuZPQA==\"},\"sizemode\":\"area\",\"sizeref\":0.2375,\"symbol\":\"circle\"},\"mode\":\"markers\",\"name\":\"Defensor\",\"orientation\":\"v\",\"showlegend\":true,\"x\":{\"dtype\":\"i1\",\"bdata\":\"AAAAAgUBAQAAAAMCAQAAAwIBAAQAAwEBAgAAAQAAAAAAAQABAgABAAMCAAEBAAAAAgAAAAEAAQA=\"},\"xaxis\":\"x\",\"y\":{\"dtype\":\"f8\",\"bdata\":\"ZmZmZmbmOECamZmZmZlAQJqZmZmZGThAzczMzMzMOEBmZmZmZmZBQDMzMzMzMzFAzczMzMzMKUDNzMzMzMw1QDMzMzMzszBAmpmZmZmZNkAAAAAAAIBBQM3MzMzMTDtAZmZmZmZmPECamZmZmRk+QM3MzMzMzDNAZmZmZmamQUAAAAAAAIA7QM3MzMzMzDRAmpmZmZmZKkCamZmZmVlAQM3MzMzMzDtAAAAAAACANkDNzMzMzAxIQJqZmZmZmTdAZmZmZmZmQECamZmZmRkwQJqZmZmZGT9AzczMzMzMNUCamZmZmRk0QGZmZmZmZjpAzczMzMwMQECamZmZmRkxQJqZmZmZmT9AZmZmZmbmMUDNzMzMzMwrQM3MzMzMjEJAMzMzMzOzQEAAAAAAAAArQGZmZmZm5jdAZmZmZmbmNUBmZmZmZmZAQGZmZmZmZkdAZmZmZmbmMUBmZmZmZmY3QGZmZmZmZjtAAAAAAAAAM0BmZmZmZiZCQDMzMzMzsztAZmZmZmYmQ0DNzMzMzEw0QJqZmZmZGTNAMzMzMzOzO0CamZmZmRk1QM3MzMzMTDhAMzMzMzMzMkCamZmZmZk2QA==\"},\"yaxis\":\"y\",\"type\":\"scatter\"},{\"customdata\":[[\"Jugador_004\",\"Athletic Bilbao\",32,1],[\"Jugador_005\",\"Betis\",21,4],[\"Jugador_009\",\"Real Sociedad\",21,3],[\"Jugador_014\",\"Atlético Madrid\",25,5],[\"Jugador_015\",\"Athletic Bilbao\",22,2],[\"Jugador_016\",\"Atlético Madrid\",29,4],[\"Jugador_017\",\"Sevilla\",24,4],[\"Jugador_020\",\"Valencia\",24,1],[\"Jugador_022\",\"Real Sociedad\",21,4],[\"Jugador_026\",\"Athletic Bilbao\",22,2],[\"Jugador_029\",\"Atlético Madrid\",24,9],[\"Jugador_031\",\"Sevilla\",27,8],[\"Jugador_033\",\"Villarreal\",19,4],[\"Jugador_035\",\"Espanyol\",31,1],[\"Jugador_040\",\"Real Sociedad\",29,5],[\"Jugador_041\",\"Valencia\",27,6],[\"Jugador_044\",\"Sevilla\",28,6],[\"Jugador_045\",\"Real Madrid\",33,7],[\"Jugador_046\",\"Atlético Madrid\",28,6],[\"Jugador_055\",\"Espanyol\",27,3],[\"Jugador_058\",\"Real Madrid\",26,14],[\"Jugador_060\",\"Betis\",23,3],[\"Jugador_067\",\"Valencia\",23,11],[\"Jugador_068\",\"Valencia\",25,5],[\"Jugador_073\",\"Villarreal\",23,4],[\"Jugador_074\",\"Betis\",27,0],[\"Jugador_075\",\"Villarreal\",24,4],[\"Jugador_076\",\"Barcelona\",25,7],[\"Jugador_079\",\"Betis\",18,5],[\"Jugador_084\",\"Espanyol\",28,0],[\"Jugador_085\",\"Betis\",25,3],[\"Jugador_092\",\"Valencia\",26,3],[\"Jugador_096\",\"Athletic Bilbao\",30,4],[\"Jugador_097\",\"Real Sociedad\",27,2],[\"Jugador_101\",\"Athletic Bilbao\",26,5],[\"Jugador_108\",\"Espanyol\",20,3],[\"Jugador_111\",\"Betis\",30,7],[\"Jugador_113\",\"Real Madrid\",27,14],[\"Jugador_118\",\"Villarreal\",30,2],[\"Jugador_120\",\"Athletic Bilbao\",24,1],[\"Jugador_121\",\"Barcelona\",30,11],[\"Jugador_122\",\"Sevilla\",24,5],[\"Jugador_123\",\"Barcelona\",21,6],[\"Jugador_125\",\"Athletic Bilbao\",24,2],[\"Jugador_127\",\"Villarreal\",29,2],[\"Jugador_128\",\"Real Madrid\",21,16],[\"Jugador_133\",\"Sevilla\",27,4],[\"Jugador_134\",\"Sevilla\",30,1],[\"Jugador_135\",\"Real Sociedad\",21,3],[\"Jugador_136\",\"Athletic Bilbao\",30,5],[\"Jugador_138\",\"Atlético Madrid\",26,8],[\"Jugador_139\",\"Athletic Bilbao\",31,2],[\"Jugador_141\",\"Athletic Bilbao\",34,3],[\"Jugador_142\",\"Athletic Bilbao\",28,3],[\"Jugador_144\",\"Real Madrid\",25,7],[\"Jugador_146\",\"Real Madrid\",30,14],[\"Jugador_148\",\"Athletic Bilbao\",22,6],[\"Jugador_152\",\"Athletic Bilbao\",26,4],[\"Jugador_158\",\"Valencia\",23,5],[\"Jugador_159\",\"Atlético Madrid\",25,4],[\"Jugador_161\",\"Sevilla\",28,7],[\"Jugador_164\",\"Real Sociedad\",29,5],[\"Jugador_166\",\"Villarreal\",31,3],[\"Jugador_172\",\"Valencia\",27,1],[\"Jugador_175\",\"Athletic Bilbao\",25,1],[\"Jugador_176\",\"Valencia\",29,7],[\"Jugador_182\",\"Atlético Madrid\",24,5],[\"Jugador_185\",\"Sevilla\",22,7],[\"Jugador_187\",\"Valencia\",28,6],[\"Jugador_194\",\"Real Sociedad\",27,2],[\"Jugador_197\",\"Villarreal\",23,6]],\"hovertemplate\":\"Posición=Mediocampista\\u003cbr\\u003eGoles en la Temporada=%{x}\\u003cbr\\u003eValor de Mercado (M€)=%{y}\\u003cbr\\u003eRating=%{marker.size}\\u003cbr\\u003enombre=%{customdata[0]}\\u003cbr\\u003eequipo=%{customdata[1]}\\u003cbr\\u003eedad=%{customdata[2]}\\u003cbr\\u003easistencias_temporada=%{customdata[3]}\\u003cextra\\u003e\\u003c\\u002fextra\\u003e\",\"legendgroup\":\"Mediocampista\",\"marker\":{\"color\":\"#EF553B\",\"size\":{\"dtype\":\"f8\",\"bdata\":\"MzMzMzNzUUAAAAAAAABSQJqZmZmZ2VBAAAAAAADAV0DNzMzMzExTQGZmZmZmZlFAAAAAAABAUkAzMzMzM\\u002fNSQGZmZmZmJlNAMzMzMzOzTUAAAAAAAMBXQM3MzMzMDFZAMzMzMzMzVECamZmZmVlRQDMzMzMzE1VAAAAAAACAU0BmZmZmZsZSQM3MzMzMLFdAZmZmZmaGVkAzMzMzM3NSQAAAAAAAwFdAAAAAAAAAVUAAAAAAAMBXQDMzMzMzc1JAmpmZmZl5UEDNzMzMzAxMQM3MzMzMDFZAmpmZmZm5VkAzMzMzM\\u002fNVQJqZmZmZ2U5AmpmZmZlZUUCamZmZmblUQAAAAAAAAFNAAAAAAABAT0AAAAAAAABUQJqZmZmZOVJAzczMzMzMVEAAAAAAAMBXQDMzMzMzE1FAMzMzMzNTUUBmZmZmZgZXQDMzMzMzU1RAAAAAAADAV0CamZmZmXlTQAAAAAAAIFRAAAAAAADAV0DNzMzMzKxSQJqZmZmZ2U5AzczMzMwsUkAzMzMzM5NSQGZmZmZmRldAMzMzMzPTUUDNzMzMzGxSQJqZmZmZuVRAzczMzMxsV0AAAAAAAMBXQAAAAAAAoFFAZmZmZmYmVECamZmZmTlVQM3MzMzMbFRAmpmZmZnZVUAAAAAAACBWQAAAAAAAAFFAMzMzMzMzUkAzMzMzM7NSQDMzMzMzU1JAZmZmZmaGVkCamZmZmVlWQM3MzMzMbFRAmpmZmZnZUUDNzMzMzIxWQA==\"},\"sizemode\":\"area\",\"sizeref\":0.2375,\"symbol\":\"circle\"},\"mode\":\"markers\",\"name\":\"Mediocampista\",\"orientation\":\"v\",\"showlegend\":true,\"x\":{\"dtype\":\"i1\",\"bdata\":\"AAAABwEBAwUCAAMDAwACAQIGAgIJBgIAAQECBAMBAgIBAAICAQcCAgICAwIDAwEBAwAFAwIDAgYDAwMEAwIBAwICBgIDAwI=\"},\"xaxis\":\"x\",\"y\":{\"dtype\":\"f8\",\"bdata\":\"mpmZmZmZK0AAAAAAAIA1QM3MzMzMzDJAAAAAAAAAQkBmZmZmZuY4QGZmZmZm5jdAmpmZmZmZQEDNzMzMzMw+QAAAAAAAgD1AmpmZmZkZMUCamZmZmdlEQM3MzMzMTD9AMzMzMzMzO0CamZmZmZktQAAAAAAAADxAZmZmZmYmREDNzMzMzMw7QM3MzMzMjEBAMzMzMzPzQ0DNzMzMzMw6QJqZmZmZ2UxAMzMzMzPzRUDNzMzMzAxJQM3MzMzMzDVAZmZmZmZmNkBmZmZmZmY7QJqZmZmZ2UFAMzMzMzPzTkAzMzMzMzM6QJqZmZmZGTFAzczMzMzMPUAzMzMzM7M6QGZmZmZmZjZAzczMzMzMPkAzMzMzM7M6QGZmZmZmZjZAzczMzMxMM0BmZmZmZmZTQDMzMzMzMzZAZmZmZmZmPEDNzMzMzExEQGZmZmZmZj1AzczMzMwMR0AAAAAAAAA7QM3MzMzMzDFAzczMzMwMSUCamZmZmZk+QJqZmZmZGTFAMzMzMzOzM0AAAAAAAAA3QDMzMzMz80lAMzMzMzMzNEDNzMzMzMwtQJqZmZmZGUBAzczMzMwMSkBmZmZmZiZHQGZmZmZmZkFAAAAAAACAQUDNzMzMzIxAQGZmZmZm5khAzczMzMyMQUCamZmZmZk4QJqZmZmZmTZAAAAAAACANUAzMzMzMzM+QJqZmZmZmTpAMzMzMzPzREBmZmZmZqZDQM3MzMzMDEdAmpmZmZmZPkBmZmZmZiZAQA==\"},\"yaxis\":\"y\",\"type\":\"scatter\"},{\"customdata\":[[\"Jugador_006\",\"Real Madrid\",30,4],[\"Jugador_007\",\"Atlético Madrid\",20,5],[\"Jugador_008\",\"Real Madrid\",24,3],[\"Jugador_010\",\"Villarreal\",26,0],[\"Jugador_013\",\"Real Madrid\",20,7],[\"Jugador_019\",\"Valencia\",23,3],[\"Jugador_023\",\"Sevilla\",30,1],[\"Jugador_025\",\"Real Madrid\",18,4],[\"Jugador_027\",\"Athletic Bilbao\",23,1],[\"Jugador_030\",\"Real Sociedad\",28,3],[\"Jugador_048\",\"Espanyol\",24,0],[\"Jugador_050\",\"Betis\",32,1],[\"Jugador_051\",\"Real Sociedad\",24,1],[\"Jugador_054\",\"Real Madrid\",25,7],[\"Jugador_057\",\"Valencia\",35,1],[\"Jugador_062\",\"Real Sociedad\",28,1],[\"Jugador_063\",\"Atlético Madrid\",30,0],[\"Jugador_064\",\"Real Sociedad\",23,0],[\"Jugador_066\",\"Villarreal\",30,2],[\"Jugador_070\",\"Barcelona\",26,7],[\"Jugador_077\",\"Espanyol\",28,0],[\"Jugador_081\",\"Athletic Bilbao\",27,3],[\"Jugador_087\",\"Athletic Bilbao\",20,0],[\"Jugador_089\",\"Athletic Bilbao\",23,2],[\"Jugador_093\",\"Betis\",24,0],[\"Jugador_095\",\"Espanyol\",25,0],[\"Jugador_102\",\"Barcelona\",19,4],[\"Jugador_103\",\"Espanyol\",29,1],[\"Jugador_104\",\"Espanyol\",26,2],[\"Jugador_105\",\"Sevilla\",24,3],[\"Jugador_112\",\"Betis\",25,1],[\"Jugador_114\",\"Athletic Bilbao\",24,1],[\"Jugador_115\",\"Barcelona\",20,4],[\"Jugador_116\",\"Barcelona\",31,5],[\"Jugador_126\",\"Real Madrid\",23,2],[\"Jugador_147\",\"Betis\",18,2],[\"Jugador_150\",\"Real Sociedad\",24,1],[\"Jugador_154\",\"Real Madrid\",21,5],[\"Jugador_155\",\"Espanyol\",28,1],[\"Jugador_160\",\"Valencia\",30,1],[\"Jugador_167\",\"Sevilla\",23,2],[\"Jugador_168\",\"Espanyol\",24,0],[\"Jugador_171\",\"Sevilla\",32,2],[\"Jugador_173\",\"Barcelona\",32,5],[\"Jugador_179\",\"Atlético Madrid\",35,4],[\"Jugador_181\",\"Sevilla\",28,3],[\"Jugador_183\",\"Valencia\",28,0],[\"Jugador_189\",\"Sevilla\",31,4],[\"Jugador_191\",\"Betis\",32,1],[\"Jugador_193\",\"Villarreal\",26,1],[\"Jugador_196\",\"Sevilla\",26,1],[\"Jugador_198\",\"Villarreal\",24,0],[\"Jugador_200\",\"Betis\",27,1]],\"hovertemplate\":\"Posición=Delantero\\u003cbr\\u003eGoles en la Temporada=%{x}\\u003cbr\\u003eValor de Mercado (M€)=%{y}\\u003cbr\\u003eRating=%{marker.size}\\u003cbr\\u003enombre=%{customdata[0]}\\u003cbr\\u003eequipo=%{customdata[1]}\\u003cbr\\u003eedad=%{customdata[2]}\\u003cbr\\u003easistencias_temporada=%{customdata[3]}\\u003cextra\\u003e\\u003c\\u002fextra\\u003e\",\"legendgroup\":\"Delantero\",\"marker\":{\"color\":\"#00cc96\",\"size\":{\"dtype\":\"f8\",\"bdata\":\"AAAAAADAV0BmZmZmZiZXQAAAAAAAwFdAAAAAAABAUkAAAAAAAMBXQDMzMzMzk1NAzczMzMzMVEAAAAAAAMBXQAAAAAAA4FNAAAAAAADAVEAAAAAAAIBQQJqZmZmZuVFAZmZmZmZmUkAAAAAAAMBXQDMzMzMzc1JAAAAAAAAAUUAzMzMzM7NVQJqZmZmZmVBAZmZmZmaGUkAAAAAAAMBXQGZmZmZmBlNAzczMzMxsVUAzMzMzMzNRQJqZmZmZuVNAMzMzMzMzVEBmZmZmZmZRQAAAAAAAwFdAmpmZmZlZU0BmZmZmZsZRQJqZmZmZeVRAmpmZmZn5VEAAAAAAACBSQAAAAAAAwFdAAAAAAADAV0AAAAAAAMBXQGZmZmZmJlVAZmZmZmbGUkAAAAAAAMBXQDMzMzMz81JAMzMzMzPzUEBmZmZmZqZUQAAAAAAAAFJAAAAAAAAgVUAAAAAAAMBXQAAAAAAAwFdAmpmZmZm5VUAAAAAAAOBSQAAAAAAAwFdAZmZmZmbGUkDNzMzMzAxUQDMzMzMzM1NAAAAAAADgU0AAAAAAAABSQA==\"},\"sizemode\":\"area\",\"sizeref\":0.2375,\"symbol\":\"circle\"},\"mode\":\"markers\",\"name\":\"Delantero\",\"orientation\":\"v\",\"showlegend\":true,\"x\":{\"dtype\":\"i1\",\"bdata\":\"DQULBQoDCQoDBgMCBwwDAAgBAg4HAwQFBwIJAwEFBAMNCRAEAg4GAgYEBhEKBAMKAgcFBgQ=\"},\"xaxis\":\"x\",\"y\":{\"dtype\":\"f8\",\"bdata\":\"MzMzMzMzSUAAAAAAAAA+QJqZmZmZGUtAzczMzMwMQ0CamZmZmVlJQAAAAAAAADhAzczMzMzMPkAzMzMzM\\u002fNJQAAAAAAAgDxAAAAAAAAAQkAzMzMzM7M2QJqZmZmZmS5AzczMzMyMQ0BmZmZmZiZMQGZmZmZmZjBAZmZmZmZmNUDNzMzMzMxEQM3MzMzMTDxAZmZmZmbmMUAzMzMzMzNNQAAAAAAAAD1AAAAAAACAQEAzMzMzM7MwQGZmZmZm5jpAzczMzMyMQEAzMzMzMzMzQDMzMzMzc0VAzczMzMxMMkAzMzMzMzM4QAAAAAAAwEJAMzMzMzOzNkDNzMzMzEw+QAAAAAAAQEpAzczMzMxMQUCamZmZmblWQGZmZmZmZjVAzczMzMzMO0AzMzMzM3NEQGZmZmZmZkBAZmZmZmbmMUCamZmZmVlIQDMzMzMzszxAmpmZmZkZO0AAAAAAAABGQAAAAAAAAEJAMzMzMzNzQUAzMzMzM\\u002fNAQM3MzMzMTENAAAAAAAAAM0AAAAAAAMBEQDMzMzMzM0VAZmZmZmamRUBmZmZmZuY2QA==\"},\"yaxis\":\"y\",\"type\":\"scatter\"},{\"customdata\":[[\"Jugador_028\",\"Barcelona\",24,3],[\"Jugador_036\",\"Athletic Bilbao\",26,2],[\"Jugador_042\",\"Espanyol\",20,1],[\"Jugador_049\",\"Atlético Madrid\",23,1],[\"Jugador_091\",\"Real Madrid\",35,1],[\"Jugador_100\",\"Sevilla\",25,0],[\"Jugador_107\",\"Betis\",21,1],[\"Jugador_109\",\"Real Sociedad\",26,2],[\"Jugador_110\",\"Villarreal\",22,0],[\"Jugador_129\",\"Atlético Madrid\",29,0],[\"Jugador_130\",\"Espanyol\",25,1],[\"Jugador_140\",\"Villarreal\",27,1],[\"Jugador_149\",\"Betis\",34,2],[\"Jugador_162\",\"Real Madrid\",19,0],[\"Jugador_163\",\"Real Madrid\",28,3],[\"Jugador_169\",\"Athletic Bilbao\",23,0],[\"Jugador_170\",\"Athletic Bilbao\",29,1],[\"Jugador_186\",\"Atlético Madrid\",21,0],[\"Jugador_190\",\"Valencia\",28,0],[\"Jugador_195\",\"Betis\",19,0]],\"hovertemplate\":\"Posición=Portero\\u003cbr\\u003eGoles en la Temporada=%{x}\\u003cbr\\u003eValor de Mercado (M€)=%{y}\\u003cbr\\u003eRating=%{marker.size}\\u003cbr\\u003enombre=%{customdata[0]}\\u003cbr\\u003eequipo=%{customdata[1]}\\u003cbr\\u003eedad=%{customdata[2]}\\u003cbr\\u003easistencias_temporada=%{customdata[3]}\\u003cextra\\u003e\\u003c\\u002fextra\\u003e\",\"legendgroup\":\"Portero\",\"marker\":{\"color\":\"#ab63fa\",\"size\":{\"dtype\":\"f8\",\"bdata\":\"ZmZmZmZGU0CamZmZmdlRQAAAAAAAQFFAAAAAAADAUEBmZmZmZkZRQDMzMzMzc0xAmpmZmZkZUUAAAAAAACBQQDMzMzMzk1BAMzMzMzMzUEAzMzMzM5NSQDMzMzMzE1FAmpmZmZmZT0BmZmZmZiZTQM3MzMzMzFRAzczMzMysUkDNzMzMzMxOQJqZmZmZGU9AzczMzMzMTUDNzMzMzExPQA==\"},\"sizemode\":\"area\",\"sizeref\":0.2375,\"symbol\":\"circle\"},\"mode\":\"markers\",\"name\":\"Portero\",\"orientation\":\"v\",\"showlegend\":true,\"x\":{\"dtype\":\"i1\",\"bdata\":\"AAAAAAAAAAAAAAAAAAAAAAAAAAA=\"},\"xaxis\":\"x\",\"y\":{\"dtype\":\"f8\",\"bdata\":\"ZmZmZmYmREAAAAAAAIA0QJqZmZmZGTFAZmZmZmbmPUAAAAAAAAAzQM3MzMzMzDdAzczMzMzMM0CamZmZmZkxQDMzMzMzszFAmpmZmZmZOEAAAAAAAAA2QDMzMzMzszdAmpmZmZmZJUBmZmZmZuZAQDMzMzMzM0FAzczMzMxMNEDNzMzMzMwrQGZmZmZm5jJAmpmZmZkZOkAzMzMzMzMsQA==\"},\"yaxis\":\"y\",\"type\":\"scatter\"},{\"line\":{\"color\":\"red\",\"dash\":\"dash\"},\"mode\":\"lines\",\"name\":\"Tendencia\",\"x\":{\"dtype\":\"i1\",\"bdata\":\"AAAAAAANBQsABQIFCgcBAQMBAwUBAgkACgADAAMGAwADAAAAAwIBAgEAAAIGAgADAAIHAwIMAgEDCQAGBAAIAQACAgADDgEBAQECBAcCAwADAAEBAgAEAAUAAAIHAAIBAAABAAIJAwEFAAACAAABBAcDDQkBAgICAgIDAAIQAwMAAAEAAQEDAAMFAwACAwICAAYEAwACAQMBDgYAAAMEAgMAAAIAAQYEAAAGAxECAgIAAAoABAYDAQIAAwAKAAIBBwMABQIGAAQ=\"},\"y\":{\"dtype\":\"f8\",\"bdata\":\"CK9mMqIaN0AIr2Yyoho3QAivZjKiGjdACK9mMqIaN0AIr2Yyoho3QMvC2jfFTktAeJT9JKWcQUA2dyMzPeJIQAivZjKiGjdAeJT9JKWcQUAyRtU7svM7QHiU\\u002fSSlnEFAbNHHMPmrR0AM4LQpLQlEQJ36HTcqhzlAnfodNyqHOUDGkYxAOmA+QJ36HTcqhzlAxpGMQDpgPkB4lP0kpZxBQJ36HTcqhzlAMkbVO7LzO0CiK2wutXVGQAivZjKiGjdAbNHHMPmrR0AIr2Yyoho3QMaRjEA6YD5ACK9mMqIaN0DGkYxAOmA+QEI6WSfp0kJAxpGMQDpgPkAIr2Yyoho3QMaRjEA6YD5ACK9mMqIaN0AIr2Yyoho3QAivZjKiGjdAxpGMQDpgPkAyRtU7svM7QJ36HTcqhzlAMkbVO7LzO0Cd+h03Koc5QAivZjKiGjdACK9mMqIaN0AyRtU7svM7QEI6WSfp0kJAMkbVO7LzO0AIr2Yyoho3QMaRjEA6YD5ACK9mMqIaN0AyRtU7svM7QAzgtCktCURAxpGMQDpgPkAyRtU7svM7QAAdfzWBGEpAMkbVO7LzO0Cd+h03Koc5QMaRjEA6YD5AoitsLrV1RkAIr2Yyoho3QEI6WSfp0kJAru6hImFmQEAIr2Yyoho3QNeFECxxP0VAnfodNyqHOUAIr2Yyoho3QDJG1Tuy8ztAMkbVO7LzO0AIr2Yyoho3QMaRjEA6YD5AlWg2OgmFTECd+h03Koc5QJ36HTcqhzlAnfodNyqHOUCd+h03Koc5QDJG1Tuy8ztAru6hImFmQEAM4LQpLQlEQDJG1Tuy8ztAxpGMQDpgPkAIr2Yyoho3QMaRjEA6YD5ACK9mMqIaN0Cd+h03Koc5QJ36HTcqhzlAMkbVO7LzO0AIr2Yyoho3QK7uoSJhZkBACK9mMqIaN0B4lP0kpZxBQAivZjKiGjdACK9mMqIaN0AyRtU7svM7QAzgtCktCURACK9mMqIaN0AyRtU7svM7QJ36HTcqhzlACK9mMqIaN0AIr2Yyoho3QJ36HTcqhzlACK9mMqIaN0AyRtU7svM7QKIrbC61dUZAxpGMQDpgPkCd+h03Koc5QHiU\\u002fSSlnEFACK9mMqIaN0AIr2Yyoho3QDJG1Tuy8ztACK9mMqIaN0AIr2Yyoho3QJ36HTcqhzlAru6hImFmQEAM4LQpLQlEQMaRjEA6YD5Ay8LaN8VOS0CiK2wutXVGQJ36HTcqhzlAMkbVO7LzO0AyRtU7svM7QDJG1Tuy8ztAMkbVO7LzO0AyRtU7svM7QMaRjEA6YD5ACK9mMqIaN0AyRtU7svM7QCq07T6R8U5AxpGMQDpgPkDGkYxAOmA+QAivZjKiGjdACK9mMqIaN0Cd+h03Koc5QAivZjKiGjdAnfodNyqHOUCd+h03Koc5QMaRjEA6YD5ACK9mMqIaN0DGkYxAOmA+QHiU\\u002fSSlnEFAxpGMQDpgPkAIr2Yyoho3QDJG1Tuy8ztAxpGMQDpgPkAyRtU7svM7QDJG1Tuy8ztACK9mMqIaN0BCOlkn6dJCQK7uoSJhZkBAxpGMQDpgPkAIr2Yyoho3QDJG1Tuy8ztAnfodNyqHOUDGkYxAOmA+QJ36HTcqhzlAlWg2OgmFTEBCOlkn6dJCQAivZjKiGjdACK9mMqIaN0DGkYxAOmA+QK7uoSJhZkBAMkbVO7LzO0DGkYxAOmA+QAivZjKiGjdACK9mMqIaN0AyRtU7svM7QAivZjKiGjdAnfodNyqHOUBCOlkn6dJCQK7uoSJhZkBACK9mMqIaN0AIr2Yyoho3QEI6WSfp0kJAxpGMQDpgPkD6rKSg6hNQQDJG1Tuy8ztAMkbVO7LzO0AyRtU7svM7QAivZjKiGjdACK9mMqIaN0Bs0ccw+atHQAivZjKiGjdAru6hImFmQEBCOlkn6dJCQMaRjEA6YD5AnfodNyqHOUAyRtU7svM7QAivZjKiGjdAxpGMQDpgPkAIr2Yyoho3QGzRxzD5q0dACK9mMqIaN0AyRtU7svM7QJ36HTcqhzlADOC0KS0JREDGkYxAOmA+QAivZjKiGjdAeJT9JKWcQUAyRtU7svM7QEI6WSfp0kJACK9mMqIaN0Cu7qEiYWZAQA==\"},\"type\":\"scatter\"}],                        {\"template\":{\"data\":{\"barpolar\":[{\"marker\":{\"line\":{\"color\":\"white\",\"width\":0.5},\"pattern\":{\"fillmode\":\"overlay\",\"size\":10,\"solidity\":0.2}},\"type\":\"barpolar\"}],\"bar\":[{\"error_x\":{\"color\":\"#2a3f5f\"},\"error_y\":{\"color\":\"#2a3f5f\"},\"marker\":{\"line\":{\"color\":\"white\",\"width\":0.5},\"pattern\":{\"fillmode\":\"overlay\",\"size\":10,\"solidity\":0.2}},\"type\":\"bar\"}],\"carpet\":[{\"aaxis\":{\"endlinecolor\":\"#2a3f5f\",\"gridcolor\":\"#C8D4E3\",\"linecolor\":\"#C8D4E3\",\"minorgridcolor\":\"#C8D4E3\",\"startlinecolor\":\"#2a3f5f\"},\"baxis\":{\"endlinecolor\":\"#2a3f5f\",\"gridcolor\":\"#C8D4E3\",\"linecolor\":\"#C8D4E3\",\"minorgridcolor\":\"#C8D4E3\",\"startlinecolor\":\"#2a3f5f\"},\"type\":\"carpet\"}],\"choropleth\":[{\"colorbar\":{\"outlinewidth\":0,\"ticks\":\"\"},\"type\":\"choropleth\"}],\"contourcarpet\":[{\"colorbar\":{\"outlinewidth\":0,\"ticks\":\"\"},\"type\":\"contourcarpet\"}],\"contour\":[{\"colorbar\":{\"outlinewidth\":0,\"ticks\":\"\"},\"colorscale\":[[0.0,\"#0d0887\"],[0.1111111111111111,\"#46039f\"],[0.2222222222222222,\"#7201a8\"],[0.3333333333333333,\"#9c179e\"],[0.4444444444444444,\"#bd3786\"],[0.5555555555555556,\"#d8576b\"],[0.6666666666666666,\"#ed7953\"],[0.7777777777777778,\"#fb9f3a\"],[0.8888888888888888,\"#fdca26\"],[1.0,\"#f0f921\"]],\"type\":\"contour\"}],\"heatmap\":[{\"colorbar\":{\"outlinewidth\":0,\"ticks\":\"\"},\"colorscale\":[[0.0,\"#0d0887\"],[0.1111111111111111,\"#46039f\"],[0.2222222222222222,\"#7201a8\"],[0.3333333333333333,\"#9c179e\"],[0.4444444444444444,\"#bd3786\"],[0.5555555555555556,\"#d8576b\"],[0.6666666666666666,\"#ed7953\"],[0.7777777777777778,\"#fb9f3a\"],[0.8888888888888888,\"#fdca26\"],[1.0,\"#f0f921\"]],\"type\":\"heatmap\"}],\"histogram2dcontour\":[{\"colorbar\":{\"outlinewidth\":0,\"ticks\":\"\"},\"colorscale\":[[0.0,\"#0d0887\"],[0.1111111111111111,\"#46039f\"],[0.2222222222222222,\"#7201a8\"],[0.3333333333333333,\"#9c179e\"],[0.4444444444444444,\"#bd3786\"],[0.5555555555555556,\"#d8576b\"],[0.6666666666666666,\"#ed7953\"],[0.7777777777777778,\"#fb9f3a\"],[0.8888888888888888,\"#fdca26\"],[1.0,\"#f0f921\"]],\"type\":\"histogram2dcontour\"}],\"histogram2d\":[{\"colorbar\":{\"outlinewidth\":0,\"ticks\":\"\"},\"colorscale\":[[0.0,\"#0d0887\"],[0.1111111111111111,\"#46039f\"],[0.2222222222222222,\"#7201a8\"],[0.3333333333333333,\"#9c179e\"],[0.4444444444444444,\"#bd3786\"],[0.5555555555555556,\"#d8576b\"],[0.6666666666666666,\"#ed7953\"],[0.7777777777777778,\"#fb9f3a\"],[0.8888888888888888,\"#fdca26\"],[1.0,\"#f0f921\"]],\"type\":\"histogram2d\"}],\"histogram\":[{\"marker\":{\"pattern\":{\"fillmode\":\"overlay\",\"size\":10,\"solidity\":0.2}},\"type\":\"histogram\"}],\"mesh3d\":[{\"colorbar\":{\"outlinewidth\":0,\"ticks\":\"\"},\"type\":\"mesh3d\"}],\"parcoords\":[{\"line\":{\"colorbar\":{\"outlinewidth\":0,\"ticks\":\"\"}},\"type\":\"parcoords\"}],\"pie\":[{\"automargin\":true,\"type\":\"pie\"}],\"scatter3d\":[{\"line\":{\"colorbar\":{\"outlinewidth\":0,\"ticks\":\"\"}},\"marker\":{\"colorbar\":{\"outlinewidth\":0,\"ticks\":\"\"}},\"type\":\"scatter3d\"}],\"scattercarpet\":[{\"marker\":{\"colorbar\":{\"outlinewidth\":0,\"ticks\":\"\"}},\"type\":\"scattercarpet\"}],\"scattergeo\":[{\"marker\":{\"colorbar\":{\"outlinewidth\":0,\"ticks\":\"\"}},\"type\":\"scattergeo\"}],\"scattergl\":[{\"marker\":{\"colorbar\":{\"outlinewidth\":0,\"ticks\":\"\"}},\"type\":\"scattergl\"}],\"scattermapbox\":[{\"marker\":{\"colorbar\":{\"outlinewidth\":0,\"ticks\":\"\"}},\"type\":\"scattermapbox\"}],\"scattermap\":[{\"marker\":{\"colorbar\":{\"outlinewidth\":0,\"ticks\":\"\"}},\"type\":\"scattermap\"}],\"scatterpolargl\":[{\"marker\":{\"colorbar\":{\"outlinewidth\":0,\"ticks\":\"\"}},\"type\":\"scatterpolargl\"}],\"scatterpolar\":[{\"marker\":{\"colorbar\":{\"outlinewidth\":0,\"ticks\":\"\"}},\"type\":\"scatterpolar\"}],\"scatter\":[{\"fillpattern\":{\"fillmode\":\"overlay\",\"size\":10,\"solidity\":0.2},\"type\":\"scatter\"}],\"scatterternary\":[{\"marker\":{\"colorbar\":{\"outlinewidth\":0,\"ticks\":\"\"}},\"type\":\"scatterternary\"}],\"surface\":[{\"colorbar\":{\"outlinewidth\":0,\"ticks\":\"\"},\"colorscale\":[[0.0,\"#0d0887\"],[0.1111111111111111,\"#46039f\"],[0.2222222222222222,\"#7201a8\"],[0.3333333333333333,\"#9c179e\"],[0.4444444444444444,\"#bd3786\"],[0.5555555555555556,\"#d8576b\"],[0.6666666666666666,\"#ed7953\"],[0.7777777777777778,\"#fb9f3a\"],[0.8888888888888888,\"#fdca26\"],[1.0,\"#f0f921\"]],\"type\":\"surface\"}],\"table\":[{\"cells\":{\"fill\":{\"color\":\"#EBF0F8\"},\"line\":{\"color\":\"white\"}},\"header\":{\"fill\":{\"color\":\"#C8D4E3\"},\"line\":{\"color\":\"white\"}},\"type\":\"table\"}]},\"layout\":{\"annotationdefaults\":{\"arrowcolor\":\"#2a3f5f\",\"arrowhead\":0,\"arrowwidth\":1},\"autotypenumbers\":\"strict\",\"coloraxis\":{\"colorbar\":{\"outlinewidth\":0,\"ticks\":\"\"}},\"colorscale\":{\"diverging\":[[0,\"#8e0152\"],[0.1,\"#c51b7d\"],[0.2,\"#de77ae\"],[0.3,\"#f1b6da\"],[0.4,\"#fde0ef\"],[0.5,\"#f7f7f7\"],[0.6,\"#e6f5d0\"],[0.7,\"#b8e186\"],[0.8,\"#7fbc41\"],[0.9,\"#4d9221\"],[1,\"#276419\"]],\"sequential\":[[0.0,\"#0d0887\"],[0.1111111111111111,\"#46039f\"],[0.2222222222222222,\"#7201a8\"],[0.3333333333333333,\"#9c179e\"],[0.4444444444444444,\"#bd3786\"],[0.5555555555555556,\"#d8576b\"],[0.6666666666666666,\"#ed7953\"],[0.7777777777777778,\"#fb9f3a\"],[0.8888888888888888,\"#fdca26\"],[1.0,\"#f0f921\"]],\"sequentialminus\":[[0.0,\"#0d0887\"],[0.1111111111111111,\"#46039f\"],[0.2222222222222222,\"#7201a8\"],[0.3333333333333333,\"#9c179e\"],[0.4444444444444444,\"#bd3786\"],[0.5555555555555556,\"#d8576b\"],[0.6666666666666666,\"#ed7953\"],[0.7777777777777778,\"#fb9f3a\"],[0.8888888888888888,\"#fdca26\"],[1.0,\"#f0f921\"]]},\"colorway\":[\"#636efa\",\"#EF553B\",\"#00cc96\",\"#ab63fa\",\"#FFA15A\",\"#19d3f3\",\"#FF6692\",\"#B6E880\",\"#FF97FF\",\"#FECB52\"],\"font\":{\"color\":\"#2a3f5f\"},\"geo\":{\"bgcolor\":\"white\",\"lakecolor\":\"white\",\"landcolor\":\"white\",\"showlakes\":true,\"showland\":true,\"subunitcolor\":\"#C8D4E3\"},\"hoverlabel\":{\"align\":\"left\"},\"hovermode\":\"closest\",\"mapbox\":{\"style\":\"light\"},\"paper_bgcolor\":\"white\",\"plot_bgcolor\":\"white\",\"polar\":{\"angularaxis\":{\"gridcolor\":\"#EBF0F8\",\"linecolor\":\"#EBF0F8\",\"ticks\":\"\"},\"bgcolor\":\"white\",\"radialaxis\":{\"gridcolor\":\"#EBF0F8\",\"linecolor\":\"#EBF0F8\",\"ticks\":\"\"}},\"scene\":{\"xaxis\":{\"backgroundcolor\":\"white\",\"gridcolor\":\"#DFE8F3\",\"gridwidth\":2,\"linecolor\":\"#EBF0F8\",\"showbackground\":true,\"ticks\":\"\",\"zerolinecolor\":\"#EBF0F8\"},\"yaxis\":{\"backgroundcolor\":\"white\",\"gridcolor\":\"#DFE8F3\",\"gridwidth\":2,\"linecolor\":\"#EBF0F8\",\"showbackground\":true,\"ticks\":\"\",\"zerolinecolor\":\"#EBF0F8\"},\"zaxis\":{\"backgroundcolor\":\"white\",\"gridcolor\":\"#DFE8F3\",\"gridwidth\":2,\"linecolor\":\"#EBF0F8\",\"showbackground\":true,\"ticks\":\"\",\"zerolinecolor\":\"#EBF0F8\"}},\"shapedefaults\":{\"line\":{\"color\":\"#2a3f5f\"}},\"ternary\":{\"aaxis\":{\"gridcolor\":\"#DFE8F3\",\"linecolor\":\"#A2B1C6\",\"ticks\":\"\"},\"baxis\":{\"gridcolor\":\"#DFE8F3\",\"linecolor\":\"#A2B1C6\",\"ticks\":\"\"},\"bgcolor\":\"white\",\"caxis\":{\"gridcolor\":\"#DFE8F3\",\"linecolor\":\"#A2B1C6\",\"ticks\":\"\"}},\"title\":{\"x\":0.05},\"xaxis\":{\"automargin\":true,\"gridcolor\":\"#EBF0F8\",\"linecolor\":\"#EBF0F8\",\"ticks\":\"\",\"title\":{\"standoff\":15},\"zerolinecolor\":\"#EBF0F8\",\"zerolinewidth\":2},\"yaxis\":{\"automargin\":true,\"gridcolor\":\"#EBF0F8\",\"linecolor\":\"#EBF0F8\",\"ticks\":\"\",\"title\":{\"standoff\":15},\"zerolinecolor\":\"#EBF0F8\",\"zerolinewidth\":2}}},\"xaxis\":{\"anchor\":\"y\",\"domain\":[0.0,1.0],\"title\":{\"text\":\"Goles en la Temporada\",\"font\":{\"size\":14}}},\"yaxis\":{\"anchor\":\"x\",\"domain\":[0.0,1.0],\"title\":{\"text\":\"Valor de Mercado (M€)\",\"font\":{\"size\":14}}},\"legend\":{\"title\":{\"text\":\"Posición\",\"font\":{\"size\":14}},\"tracegroupgap\":0,\"itemsizing\":\"constant\"},\"title\":{\"text\":\"💰 Relación entre Goles y Valor de Mercado por Posición\",\"font\":{\"size\":16}},\"width\":900,\"height\":600,\"hovermode\":\"closest\"},                        {\"responsive\": true}                    ).then(function(){\n",
       "                            \n",
       "var gd = document.getElementById('920ed747-d8c1-4f37-b028-0e50ad056e01');\n",
       "var x = new MutationObserver(function (mutations, observer) {{\n",
       "        var display = window.getComputedStyle(gd).display;\n",
       "        if (!display || display === 'none') {{\n",
       "            console.log([gd, 'removed!']);\n",
       "            Plotly.purge(gd);\n",
       "            observer.disconnect();\n",
       "        }}\n",
       "}});\n",
       "\n",
       "// Listen for the removal of the full notebook cells\n",
       "var notebookContainer = gd.closest('#notebook-container');\n",
       "if (notebookContainer) {{\n",
       "    x.observe(notebookContainer, {childList: true});\n",
       "}}\n",
       "\n",
       "// Listen for the clearing of the current output cell\n",
       "var outputEl = gd.closest('.output');\n",
       "if (outputEl) {{\n",
       "    x.observe(outputEl, {childList: true});\n",
       "}}\n",
       "\n",
       "                        })                };            </script>        </div>"
      ]
     },
     "metadata": {},
     "output_type": "display_data"
    },
    {
     "name": "stdout",
     "output_type": "stream",
     "text": [
      "✅ Gráfico de dispersión interactivo creado\n",
      "📈 Correlación Goles-Valor: 0.673\n"
     ]
    },
    {
     "data": {
      "application/vnd.plotly.v1+json": {
       "config": {
        "plotlyServerURL": "https://plot.ly"
       },
       "data": [
        {
         "hovertemplate": "Equipo=%{x}<br>Valor Promedio (M€)=%{y}<br>Rating Promedio=%{marker.color}<extra></extra>",
         "legendgroup": "",
         "marker": {
          "color": {
           "bdata": "DtXtUN0OUkDHcRzHcbxUQM3MzMzMBFZA6JY49XuOUkBQ+qRP+jRRQD4K16NwpVZAkZCQkJAQUkB0kxgEVu5SQHqe53meh1JAcer33BKnUkA=",
           "dtype": "f8"
          },
          "coloraxis": "coloraxis",
          "pattern": {
           "shape": ""
          }
         },
         "name": "",
         "orientation": "v",
         "showlegend": false,
         "textposition": "auto",
         "type": "bar",
         "x": [
          "Athletic Bilbao",
          "Atlético Madrid",
          "Barcelona",
          "Betis",
          "Espanyol",
          "Real Madrid",
          "Real Sociedad",
          "Sevilla",
          "Valencia",
          "Villarreal"
         ],
         "xaxis": "x",
         "y": {
          "bdata": "9QRHT3D0NkCO4ziO41hBQCMiIiIiokVAxanfc0scN0BbsAVbsAU1QHsUrkfh2kdA+Pb29vb2OUDUeOkmMQg/QGIYhmEYhjxAViCMtGOFO0A=",
          "dtype": "f8"
         },
         "yaxis": "y"
        }
       ],
       "layout": {
        "barmode": "relative",
        "coloraxis": {
         "colorbar": {
          "title": {
           "text": "Rating Promedio"
          }
         },
         "colorscale": [
          [
           0,
           "#0d0887"
          ],
          [
           0.1111111111111111,
           "#46039f"
          ],
          [
           0.2222222222222222,
           "#7201a8"
          ],
          [
           0.3333333333333333,
           "#9c179e"
          ],
          [
           0.4444444444444444,
           "#bd3786"
          ],
          [
           0.5555555555555556,
           "#d8576b"
          ],
          [
           0.6666666666666666,
           "#ed7953"
          ],
          [
           0.7777777777777778,
           "#fb9f3a"
          ],
          [
           0.8888888888888888,
           "#fdca26"
          ],
          [
           1,
           "#f0f921"
          ]
         ]
        },
        "height": 500,
        "legend": {
         "tracegroupgap": 0
        },
        "template": {
         "data": {
          "bar": [
           {
            "error_x": {
             "color": "#2a3f5f"
            },
            "error_y": {
             "color": "#2a3f5f"
            },
            "marker": {
             "line": {
              "color": "white",
              "width": 0.5
             },
             "pattern": {
              "fillmode": "overlay",
              "size": 10,
              "solidity": 0.2
             }
            },
            "type": "bar"
           }
          ],
          "barpolar": [
           {
            "marker": {
             "line": {
              "color": "white",
              "width": 0.5
             },
             "pattern": {
              "fillmode": "overlay",
              "size": 10,
              "solidity": 0.2
             }
            },
            "type": "barpolar"
           }
          ],
          "carpet": [
           {
            "aaxis": {
             "endlinecolor": "#2a3f5f",
             "gridcolor": "#C8D4E3",
             "linecolor": "#C8D4E3",
             "minorgridcolor": "#C8D4E3",
             "startlinecolor": "#2a3f5f"
            },
            "baxis": {
             "endlinecolor": "#2a3f5f",
             "gridcolor": "#C8D4E3",
             "linecolor": "#C8D4E3",
             "minorgridcolor": "#C8D4E3",
             "startlinecolor": "#2a3f5f"
            },
            "type": "carpet"
           }
          ],
          "choropleth": [
           {
            "colorbar": {
             "outlinewidth": 0,
             "ticks": ""
            },
            "type": "choropleth"
           }
          ],
          "contour": [
           {
            "colorbar": {
             "outlinewidth": 0,
             "ticks": ""
            },
            "colorscale": [
             [
              0,
              "#0d0887"
             ],
             [
              0.1111111111111111,
              "#46039f"
             ],
             [
              0.2222222222222222,
              "#7201a8"
             ],
             [
              0.3333333333333333,
              "#9c179e"
             ],
             [
              0.4444444444444444,
              "#bd3786"
             ],
             [
              0.5555555555555556,
              "#d8576b"
             ],
             [
              0.6666666666666666,
              "#ed7953"
             ],
             [
              0.7777777777777778,
              "#fb9f3a"
             ],
             [
              0.8888888888888888,
              "#fdca26"
             ],
             [
              1,
              "#f0f921"
             ]
            ],
            "type": "contour"
           }
          ],
          "contourcarpet": [
           {
            "colorbar": {
             "outlinewidth": 0,
             "ticks": ""
            },
            "type": "contourcarpet"
           }
          ],
          "heatmap": [
           {
            "colorbar": {
             "outlinewidth": 0,
             "ticks": ""
            },
            "colorscale": [
             [
              0,
              "#0d0887"
             ],
             [
              0.1111111111111111,
              "#46039f"
             ],
             [
              0.2222222222222222,
              "#7201a8"
             ],
             [
              0.3333333333333333,
              "#9c179e"
             ],
             [
              0.4444444444444444,
              "#bd3786"
             ],
             [
              0.5555555555555556,
              "#d8576b"
             ],
             [
              0.6666666666666666,
              "#ed7953"
             ],
             [
              0.7777777777777778,
              "#fb9f3a"
             ],
             [
              0.8888888888888888,
              "#fdca26"
             ],
             [
              1,
              "#f0f921"
             ]
            ],
            "type": "heatmap"
           }
          ],
          "histogram": [
           {
            "marker": {
             "pattern": {
              "fillmode": "overlay",
              "size": 10,
              "solidity": 0.2
             }
            },
            "type": "histogram"
           }
          ],
          "histogram2d": [
           {
            "colorbar": {
             "outlinewidth": 0,
             "ticks": ""
            },
            "colorscale": [
             [
              0,
              "#0d0887"
             ],
             [
              0.1111111111111111,
              "#46039f"
             ],
             [
              0.2222222222222222,
              "#7201a8"
             ],
             [
              0.3333333333333333,
              "#9c179e"
             ],
             [
              0.4444444444444444,
              "#bd3786"
             ],
             [
              0.5555555555555556,
              "#d8576b"
             ],
             [
              0.6666666666666666,
              "#ed7953"
             ],
             [
              0.7777777777777778,
              "#fb9f3a"
             ],
             [
              0.8888888888888888,
              "#fdca26"
             ],
             [
              1,
              "#f0f921"
             ]
            ],
            "type": "histogram2d"
           }
          ],
          "histogram2dcontour": [
           {
            "colorbar": {
             "outlinewidth": 0,
             "ticks": ""
            },
            "colorscale": [
             [
              0,
              "#0d0887"
             ],
             [
              0.1111111111111111,
              "#46039f"
             ],
             [
              0.2222222222222222,
              "#7201a8"
             ],
             [
              0.3333333333333333,
              "#9c179e"
             ],
             [
              0.4444444444444444,
              "#bd3786"
             ],
             [
              0.5555555555555556,
              "#d8576b"
             ],
             [
              0.6666666666666666,
              "#ed7953"
             ],
             [
              0.7777777777777778,
              "#fb9f3a"
             ],
             [
              0.8888888888888888,
              "#fdca26"
             ],
             [
              1,
              "#f0f921"
             ]
            ],
            "type": "histogram2dcontour"
           }
          ],
          "mesh3d": [
           {
            "colorbar": {
             "outlinewidth": 0,
             "ticks": ""
            },
            "type": "mesh3d"
           }
          ],
          "parcoords": [
           {
            "line": {
             "colorbar": {
              "outlinewidth": 0,
              "ticks": ""
             }
            },
            "type": "parcoords"
           }
          ],
          "pie": [
           {
            "automargin": true,
            "type": "pie"
           }
          ],
          "scatter": [
           {
            "fillpattern": {
             "fillmode": "overlay",
             "size": 10,
             "solidity": 0.2
            },
            "type": "scatter"
           }
          ],
          "scatter3d": [
           {
            "line": {
             "colorbar": {
              "outlinewidth": 0,
              "ticks": ""
             }
            },
            "marker": {
             "colorbar": {
              "outlinewidth": 0,
              "ticks": ""
             }
            },
            "type": "scatter3d"
           }
          ],
          "scattercarpet": [
           {
            "marker": {
             "colorbar": {
              "outlinewidth": 0,
              "ticks": ""
             }
            },
            "type": "scattercarpet"
           }
          ],
          "scattergeo": [
           {
            "marker": {
             "colorbar": {
              "outlinewidth": 0,
              "ticks": ""
             }
            },
            "type": "scattergeo"
           }
          ],
          "scattergl": [
           {
            "marker": {
             "colorbar": {
              "outlinewidth": 0,
              "ticks": ""
             }
            },
            "type": "scattergl"
           }
          ],
          "scattermap": [
           {
            "marker": {
             "colorbar": {
              "outlinewidth": 0,
              "ticks": ""
             }
            },
            "type": "scattermap"
           }
          ],
          "scattermapbox": [
           {
            "marker": {
             "colorbar": {
              "outlinewidth": 0,
              "ticks": ""
             }
            },
            "type": "scattermapbox"
           }
          ],
          "scatterpolar": [
           {
            "marker": {
             "colorbar": {
              "outlinewidth": 0,
              "ticks": ""
             }
            },
            "type": "scatterpolar"
           }
          ],
          "scatterpolargl": [
           {
            "marker": {
             "colorbar": {
              "outlinewidth": 0,
              "ticks": ""
             }
            },
            "type": "scatterpolargl"
           }
          ],
          "scatterternary": [
           {
            "marker": {
             "colorbar": {
              "outlinewidth": 0,
              "ticks": ""
             }
            },
            "type": "scatterternary"
           }
          ],
          "surface": [
           {
            "colorbar": {
             "outlinewidth": 0,
             "ticks": ""
            },
            "colorscale": [
             [
              0,
              "#0d0887"
             ],
             [
              0.1111111111111111,
              "#46039f"
             ],
             [
              0.2222222222222222,
              "#7201a8"
             ],
             [
              0.3333333333333333,
              "#9c179e"
             ],
             [
              0.4444444444444444,
              "#bd3786"
             ],
             [
              0.5555555555555556,
              "#d8576b"
             ],
             [
              0.6666666666666666,
              "#ed7953"
             ],
             [
              0.7777777777777778,
              "#fb9f3a"
             ],
             [
              0.8888888888888888,
              "#fdca26"
             ],
             [
              1,
              "#f0f921"
             ]
            ],
            "type": "surface"
           }
          ],
          "table": [
           {
            "cells": {
             "fill": {
              "color": "#EBF0F8"
             },
             "line": {
              "color": "white"
             }
            },
            "header": {
             "fill": {
              "color": "#C8D4E3"
             },
             "line": {
              "color": "white"
             }
            },
            "type": "table"
           }
          ]
         },
         "layout": {
          "annotationdefaults": {
           "arrowcolor": "#2a3f5f",
           "arrowhead": 0,
           "arrowwidth": 1
          },
          "autotypenumbers": "strict",
          "coloraxis": {
           "colorbar": {
            "outlinewidth": 0,
            "ticks": ""
           }
          },
          "colorscale": {
           "diverging": [
            [
             0,
             "#8e0152"
            ],
            [
             0.1,
             "#c51b7d"
            ],
            [
             0.2,
             "#de77ae"
            ],
            [
             0.3,
             "#f1b6da"
            ],
            [
             0.4,
             "#fde0ef"
            ],
            [
             0.5,
             "#f7f7f7"
            ],
            [
             0.6,
             "#e6f5d0"
            ],
            [
             0.7,
             "#b8e186"
            ],
            [
             0.8,
             "#7fbc41"
            ],
            [
             0.9,
             "#4d9221"
            ],
            [
             1,
             "#276419"
            ]
           ],
           "sequential": [
            [
             0,
             "#0d0887"
            ],
            [
             0.1111111111111111,
             "#46039f"
            ],
            [
             0.2222222222222222,
             "#7201a8"
            ],
            [
             0.3333333333333333,
             "#9c179e"
            ],
            [
             0.4444444444444444,
             "#bd3786"
            ],
            [
             0.5555555555555556,
             "#d8576b"
            ],
            [
             0.6666666666666666,
             "#ed7953"
            ],
            [
             0.7777777777777778,
             "#fb9f3a"
            ],
            [
             0.8888888888888888,
             "#fdca26"
            ],
            [
             1,
             "#f0f921"
            ]
           ],
           "sequentialminus": [
            [
             0,
             "#0d0887"
            ],
            [
             0.1111111111111111,
             "#46039f"
            ],
            [
             0.2222222222222222,
             "#7201a8"
            ],
            [
             0.3333333333333333,
             "#9c179e"
            ],
            [
             0.4444444444444444,
             "#bd3786"
            ],
            [
             0.5555555555555556,
             "#d8576b"
            ],
            [
             0.6666666666666666,
             "#ed7953"
            ],
            [
             0.7777777777777778,
             "#fb9f3a"
            ],
            [
             0.8888888888888888,
             "#fdca26"
            ],
            [
             1,
             "#f0f921"
            ]
           ]
          },
          "colorway": [
           "#636efa",
           "#EF553B",
           "#00cc96",
           "#ab63fa",
           "#FFA15A",
           "#19d3f3",
           "#FF6692",
           "#B6E880",
           "#FF97FF",
           "#FECB52"
          ],
          "font": {
           "color": "#2a3f5f"
          },
          "geo": {
           "bgcolor": "white",
           "lakecolor": "white",
           "landcolor": "white",
           "showlakes": true,
           "showland": true,
           "subunitcolor": "#C8D4E3"
          },
          "hoverlabel": {
           "align": "left"
          },
          "hovermode": "closest",
          "mapbox": {
           "style": "light"
          },
          "paper_bgcolor": "white",
          "plot_bgcolor": "white",
          "polar": {
           "angularaxis": {
            "gridcolor": "#EBF0F8",
            "linecolor": "#EBF0F8",
            "ticks": ""
           },
           "bgcolor": "white",
           "radialaxis": {
            "gridcolor": "#EBF0F8",
            "linecolor": "#EBF0F8",
            "ticks": ""
           }
          },
          "scene": {
           "xaxis": {
            "backgroundcolor": "white",
            "gridcolor": "#DFE8F3",
            "gridwidth": 2,
            "linecolor": "#EBF0F8",
            "showbackground": true,
            "ticks": "",
            "zerolinecolor": "#EBF0F8"
           },
           "yaxis": {
            "backgroundcolor": "white",
            "gridcolor": "#DFE8F3",
            "gridwidth": 2,
            "linecolor": "#EBF0F8",
            "showbackground": true,
            "ticks": "",
            "zerolinecolor": "#EBF0F8"
           },
           "zaxis": {
            "backgroundcolor": "white",
            "gridcolor": "#DFE8F3",
            "gridwidth": 2,
            "linecolor": "#EBF0F8",
            "showbackground": true,
            "ticks": "",
            "zerolinecolor": "#EBF0F8"
           }
          },
          "shapedefaults": {
           "line": {
            "color": "#2a3f5f"
           }
          },
          "ternary": {
           "aaxis": {
            "gridcolor": "#DFE8F3",
            "linecolor": "#A2B1C6",
            "ticks": ""
           },
           "baxis": {
            "gridcolor": "#DFE8F3",
            "linecolor": "#A2B1C6",
            "ticks": ""
           },
           "bgcolor": "white",
           "caxis": {
            "gridcolor": "#DFE8F3",
            "linecolor": "#A2B1C6",
            "ticks": ""
           }
          },
          "title": {
           "x": 0.05
          },
          "xaxis": {
           "automargin": true,
           "gridcolor": "#EBF0F8",
           "linecolor": "#EBF0F8",
           "ticks": "",
           "title": {
            "standoff": 15
           },
           "zerolinecolor": "#EBF0F8",
           "zerolinewidth": 2
          },
          "yaxis": {
           "automargin": true,
           "gridcolor": "#EBF0F8",
           "linecolor": "#EBF0F8",
           "ticks": "",
           "title": {
            "standoff": 15
           },
           "zerolinecolor": "#EBF0F8",
           "zerolinewidth": 2
          }
         }
        },
        "title": {
         "text": "🏆 Valor de Mercado Promedio por Equipo"
        },
        "width": 900,
        "xaxis": {
         "anchor": "y",
         "domain": [
          0,
          1
         ],
         "tickangle": -45,
         "title": {
          "text": "Equipo"
         }
        },
        "yaxis": {
         "anchor": "x",
         "domain": [
          0,
          1
         ],
         "title": {
          "text": "Valor Promedio (M€)"
         }
        }
       }
      },
      "text/html": [
       "<div>            <script src=\"https://cdnjs.cloudflare.com/ajax/libs/mathjax/2.7.5/MathJax.js?config=TeX-AMS-MML_SVG\"></script><script type=\"text/javascript\">if (window.MathJax && window.MathJax.Hub && window.MathJax.Hub.Config) {window.MathJax.Hub.Config({SVG: {font: \"STIX-Web\"}});}</script>                <script type=\"text/javascript\">window.PlotlyConfig = {MathJaxConfig: 'local'};</script>\n",
       "        <script charset=\"utf-8\" src=\"https://cdn.plot.ly/plotly-3.0.1.min.js\" integrity=\"sha256-oy6Be7Eh6eiQFs5M7oXuPxxm9qbJXEtTpfSI93dW16Q=\" crossorigin=\"anonymous\"></script>                <div id=\"32c52a08-0572-4a0f-a585-9482c2afba56\" class=\"plotly-graph-div\" style=\"height:500px; width:900px;\"></div>            <script type=\"text/javascript\">                window.PLOTLYENV=window.PLOTLYENV || {};                                if (document.getElementById(\"32c52a08-0572-4a0f-a585-9482c2afba56\")) {                    Plotly.newPlot(                        \"32c52a08-0572-4a0f-a585-9482c2afba56\",                        [{\"hovertemplate\":\"Equipo=%{x}\\u003cbr\\u003eValor Promedio (M€)=%{y}\\u003cbr\\u003eRating Promedio=%{marker.color}\\u003cextra\\u003e\\u003c\\u002fextra\\u003e\",\"legendgroup\":\"\",\"marker\":{\"color\":{\"dtype\":\"f8\",\"bdata\":\"DtXtUN0OUkDHcRzHcbxUQM3MzMzMBFZA6JY49XuOUkBQ+qRP+jRRQD4K16NwpVZAkZCQkJAQUkB0kxgEVu5SQHqe53meh1JAcer33BKnUkA=\"},\"coloraxis\":\"coloraxis\",\"pattern\":{\"shape\":\"\"}},\"name\":\"\",\"orientation\":\"v\",\"showlegend\":false,\"textposition\":\"auto\",\"x\":[\"Athletic Bilbao\",\"Atlético Madrid\",\"Barcelona\",\"Betis\",\"Espanyol\",\"Real Madrid\",\"Real Sociedad\",\"Sevilla\",\"Valencia\",\"Villarreal\"],\"xaxis\":\"x\",\"y\":{\"dtype\":\"f8\",\"bdata\":\"9QRHT3D0NkCO4ziO41hBQCMiIiIiokVAxanfc0scN0BbsAVbsAU1QHsUrkfh2kdA+Pb29vb2OUDUeOkmMQg\\u002fQGIYhmEYhjxAViCMtGOFO0A=\"},\"yaxis\":\"y\",\"type\":\"bar\"}],                        {\"template\":{\"data\":{\"barpolar\":[{\"marker\":{\"line\":{\"color\":\"white\",\"width\":0.5},\"pattern\":{\"fillmode\":\"overlay\",\"size\":10,\"solidity\":0.2}},\"type\":\"barpolar\"}],\"bar\":[{\"error_x\":{\"color\":\"#2a3f5f\"},\"error_y\":{\"color\":\"#2a3f5f\"},\"marker\":{\"line\":{\"color\":\"white\",\"width\":0.5},\"pattern\":{\"fillmode\":\"overlay\",\"size\":10,\"solidity\":0.2}},\"type\":\"bar\"}],\"carpet\":[{\"aaxis\":{\"endlinecolor\":\"#2a3f5f\",\"gridcolor\":\"#C8D4E3\",\"linecolor\":\"#C8D4E3\",\"minorgridcolor\":\"#C8D4E3\",\"startlinecolor\":\"#2a3f5f\"},\"baxis\":{\"endlinecolor\":\"#2a3f5f\",\"gridcolor\":\"#C8D4E3\",\"linecolor\":\"#C8D4E3\",\"minorgridcolor\":\"#C8D4E3\",\"startlinecolor\":\"#2a3f5f\"},\"type\":\"carpet\"}],\"choropleth\":[{\"colorbar\":{\"outlinewidth\":0,\"ticks\":\"\"},\"type\":\"choropleth\"}],\"contourcarpet\":[{\"colorbar\":{\"outlinewidth\":0,\"ticks\":\"\"},\"type\":\"contourcarpet\"}],\"contour\":[{\"colorbar\":{\"outlinewidth\":0,\"ticks\":\"\"},\"colorscale\":[[0.0,\"#0d0887\"],[0.1111111111111111,\"#46039f\"],[0.2222222222222222,\"#7201a8\"],[0.3333333333333333,\"#9c179e\"],[0.4444444444444444,\"#bd3786\"],[0.5555555555555556,\"#d8576b\"],[0.6666666666666666,\"#ed7953\"],[0.7777777777777778,\"#fb9f3a\"],[0.8888888888888888,\"#fdca26\"],[1.0,\"#f0f921\"]],\"type\":\"contour\"}],\"heatmap\":[{\"colorbar\":{\"outlinewidth\":0,\"ticks\":\"\"},\"colorscale\":[[0.0,\"#0d0887\"],[0.1111111111111111,\"#46039f\"],[0.2222222222222222,\"#7201a8\"],[0.3333333333333333,\"#9c179e\"],[0.4444444444444444,\"#bd3786\"],[0.5555555555555556,\"#d8576b\"],[0.6666666666666666,\"#ed7953\"],[0.7777777777777778,\"#fb9f3a\"],[0.8888888888888888,\"#fdca26\"],[1.0,\"#f0f921\"]],\"type\":\"heatmap\"}],\"histogram2dcontour\":[{\"colorbar\":{\"outlinewidth\":0,\"ticks\":\"\"},\"colorscale\":[[0.0,\"#0d0887\"],[0.1111111111111111,\"#46039f\"],[0.2222222222222222,\"#7201a8\"],[0.3333333333333333,\"#9c179e\"],[0.4444444444444444,\"#bd3786\"],[0.5555555555555556,\"#d8576b\"],[0.6666666666666666,\"#ed7953\"],[0.7777777777777778,\"#fb9f3a\"],[0.8888888888888888,\"#fdca26\"],[1.0,\"#f0f921\"]],\"type\":\"histogram2dcontour\"}],\"histogram2d\":[{\"colorbar\":{\"outlinewidth\":0,\"ticks\":\"\"},\"colorscale\":[[0.0,\"#0d0887\"],[0.1111111111111111,\"#46039f\"],[0.2222222222222222,\"#7201a8\"],[0.3333333333333333,\"#9c179e\"],[0.4444444444444444,\"#bd3786\"],[0.5555555555555556,\"#d8576b\"],[0.6666666666666666,\"#ed7953\"],[0.7777777777777778,\"#fb9f3a\"],[0.8888888888888888,\"#fdca26\"],[1.0,\"#f0f921\"]],\"type\":\"histogram2d\"}],\"histogram\":[{\"marker\":{\"pattern\":{\"fillmode\":\"overlay\",\"size\":10,\"solidity\":0.2}},\"type\":\"histogram\"}],\"mesh3d\":[{\"colorbar\":{\"outlinewidth\":0,\"ticks\":\"\"},\"type\":\"mesh3d\"}],\"parcoords\":[{\"line\":{\"colorbar\":{\"outlinewidth\":0,\"ticks\":\"\"}},\"type\":\"parcoords\"}],\"pie\":[{\"automargin\":true,\"type\":\"pie\"}],\"scatter3d\":[{\"line\":{\"colorbar\":{\"outlinewidth\":0,\"ticks\":\"\"}},\"marker\":{\"colorbar\":{\"outlinewidth\":0,\"ticks\":\"\"}},\"type\":\"scatter3d\"}],\"scattercarpet\":[{\"marker\":{\"colorbar\":{\"outlinewidth\":0,\"ticks\":\"\"}},\"type\":\"scattercarpet\"}],\"scattergeo\":[{\"marker\":{\"colorbar\":{\"outlinewidth\":0,\"ticks\":\"\"}},\"type\":\"scattergeo\"}],\"scattergl\":[{\"marker\":{\"colorbar\":{\"outlinewidth\":0,\"ticks\":\"\"}},\"type\":\"scattergl\"}],\"scattermapbox\":[{\"marker\":{\"colorbar\":{\"outlinewidth\":0,\"ticks\":\"\"}},\"type\":\"scattermapbox\"}],\"scattermap\":[{\"marker\":{\"colorbar\":{\"outlinewidth\":0,\"ticks\":\"\"}},\"type\":\"scattermap\"}],\"scatterpolargl\":[{\"marker\":{\"colorbar\":{\"outlinewidth\":0,\"ticks\":\"\"}},\"type\":\"scatterpolargl\"}],\"scatterpolar\":[{\"marker\":{\"colorbar\":{\"outlinewidth\":0,\"ticks\":\"\"}},\"type\":\"scatterpolar\"}],\"scatter\":[{\"fillpattern\":{\"fillmode\":\"overlay\",\"size\":10,\"solidity\":0.2},\"type\":\"scatter\"}],\"scatterternary\":[{\"marker\":{\"colorbar\":{\"outlinewidth\":0,\"ticks\":\"\"}},\"type\":\"scatterternary\"}],\"surface\":[{\"colorbar\":{\"outlinewidth\":0,\"ticks\":\"\"},\"colorscale\":[[0.0,\"#0d0887\"],[0.1111111111111111,\"#46039f\"],[0.2222222222222222,\"#7201a8\"],[0.3333333333333333,\"#9c179e\"],[0.4444444444444444,\"#bd3786\"],[0.5555555555555556,\"#d8576b\"],[0.6666666666666666,\"#ed7953\"],[0.7777777777777778,\"#fb9f3a\"],[0.8888888888888888,\"#fdca26\"],[1.0,\"#f0f921\"]],\"type\":\"surface\"}],\"table\":[{\"cells\":{\"fill\":{\"color\":\"#EBF0F8\"},\"line\":{\"color\":\"white\"}},\"header\":{\"fill\":{\"color\":\"#C8D4E3\"},\"line\":{\"color\":\"white\"}},\"type\":\"table\"}]},\"layout\":{\"annotationdefaults\":{\"arrowcolor\":\"#2a3f5f\",\"arrowhead\":0,\"arrowwidth\":1},\"autotypenumbers\":\"strict\",\"coloraxis\":{\"colorbar\":{\"outlinewidth\":0,\"ticks\":\"\"}},\"colorscale\":{\"diverging\":[[0,\"#8e0152\"],[0.1,\"#c51b7d\"],[0.2,\"#de77ae\"],[0.3,\"#f1b6da\"],[0.4,\"#fde0ef\"],[0.5,\"#f7f7f7\"],[0.6,\"#e6f5d0\"],[0.7,\"#b8e186\"],[0.8,\"#7fbc41\"],[0.9,\"#4d9221\"],[1,\"#276419\"]],\"sequential\":[[0.0,\"#0d0887\"],[0.1111111111111111,\"#46039f\"],[0.2222222222222222,\"#7201a8\"],[0.3333333333333333,\"#9c179e\"],[0.4444444444444444,\"#bd3786\"],[0.5555555555555556,\"#d8576b\"],[0.6666666666666666,\"#ed7953\"],[0.7777777777777778,\"#fb9f3a\"],[0.8888888888888888,\"#fdca26\"],[1.0,\"#f0f921\"]],\"sequentialminus\":[[0.0,\"#0d0887\"],[0.1111111111111111,\"#46039f\"],[0.2222222222222222,\"#7201a8\"],[0.3333333333333333,\"#9c179e\"],[0.4444444444444444,\"#bd3786\"],[0.5555555555555556,\"#d8576b\"],[0.6666666666666666,\"#ed7953\"],[0.7777777777777778,\"#fb9f3a\"],[0.8888888888888888,\"#fdca26\"],[1.0,\"#f0f921\"]]},\"colorway\":[\"#636efa\",\"#EF553B\",\"#00cc96\",\"#ab63fa\",\"#FFA15A\",\"#19d3f3\",\"#FF6692\",\"#B6E880\",\"#FF97FF\",\"#FECB52\"],\"font\":{\"color\":\"#2a3f5f\"},\"geo\":{\"bgcolor\":\"white\",\"lakecolor\":\"white\",\"landcolor\":\"white\",\"showlakes\":true,\"showland\":true,\"subunitcolor\":\"#C8D4E3\"},\"hoverlabel\":{\"align\":\"left\"},\"hovermode\":\"closest\",\"mapbox\":{\"style\":\"light\"},\"paper_bgcolor\":\"white\",\"plot_bgcolor\":\"white\",\"polar\":{\"angularaxis\":{\"gridcolor\":\"#EBF0F8\",\"linecolor\":\"#EBF0F8\",\"ticks\":\"\"},\"bgcolor\":\"white\",\"radialaxis\":{\"gridcolor\":\"#EBF0F8\",\"linecolor\":\"#EBF0F8\",\"ticks\":\"\"}},\"scene\":{\"xaxis\":{\"backgroundcolor\":\"white\",\"gridcolor\":\"#DFE8F3\",\"gridwidth\":2,\"linecolor\":\"#EBF0F8\",\"showbackground\":true,\"ticks\":\"\",\"zerolinecolor\":\"#EBF0F8\"},\"yaxis\":{\"backgroundcolor\":\"white\",\"gridcolor\":\"#DFE8F3\",\"gridwidth\":2,\"linecolor\":\"#EBF0F8\",\"showbackground\":true,\"ticks\":\"\",\"zerolinecolor\":\"#EBF0F8\"},\"zaxis\":{\"backgroundcolor\":\"white\",\"gridcolor\":\"#DFE8F3\",\"gridwidth\":2,\"linecolor\":\"#EBF0F8\",\"showbackground\":true,\"ticks\":\"\",\"zerolinecolor\":\"#EBF0F8\"}},\"shapedefaults\":{\"line\":{\"color\":\"#2a3f5f\"}},\"ternary\":{\"aaxis\":{\"gridcolor\":\"#DFE8F3\",\"linecolor\":\"#A2B1C6\",\"ticks\":\"\"},\"baxis\":{\"gridcolor\":\"#DFE8F3\",\"linecolor\":\"#A2B1C6\",\"ticks\":\"\"},\"bgcolor\":\"white\",\"caxis\":{\"gridcolor\":\"#DFE8F3\",\"linecolor\":\"#A2B1C6\",\"ticks\":\"\"}},\"title\":{\"x\":0.05},\"xaxis\":{\"automargin\":true,\"gridcolor\":\"#EBF0F8\",\"linecolor\":\"#EBF0F8\",\"ticks\":\"\",\"title\":{\"standoff\":15},\"zerolinecolor\":\"#EBF0F8\",\"zerolinewidth\":2},\"yaxis\":{\"automargin\":true,\"gridcolor\":\"#EBF0F8\",\"linecolor\":\"#EBF0F8\",\"ticks\":\"\",\"title\":{\"standoff\":15},\"zerolinecolor\":\"#EBF0F8\",\"zerolinewidth\":2}}},\"xaxis\":{\"anchor\":\"y\",\"domain\":[0.0,1.0],\"title\":{\"text\":\"Equipo\"},\"tickangle\":-45},\"yaxis\":{\"anchor\":\"x\",\"domain\":[0.0,1.0],\"title\":{\"text\":\"Valor Promedio (M€)\"}},\"coloraxis\":{\"colorbar\":{\"title\":{\"text\":\"Rating Promedio\"}},\"colorscale\":[[0.0,\"#0d0887\"],[0.1111111111111111,\"#46039f\"],[0.2222222222222222,\"#7201a8\"],[0.3333333333333333,\"#9c179e\"],[0.4444444444444444,\"#bd3786\"],[0.5555555555555556,\"#d8576b\"],[0.6666666666666666,\"#ed7953\"],[0.7777777777777778,\"#fb9f3a\"],[0.8888888888888888,\"#fdca26\"],[1.0,\"#f0f921\"]]},\"legend\":{\"tracegroupgap\":0},\"title\":{\"text\":\"🏆 Valor de Mercado Promedio por Equipo\"},\"barmode\":\"relative\",\"width\":900,\"height\":500},                        {\"responsive\": true}                    ).then(function(){\n",
       "                            \n",
       "var gd = document.getElementById('32c52a08-0572-4a0f-a585-9482c2afba56');\n",
       "var x = new MutationObserver(function (mutations, observer) {{\n",
       "        var display = window.getComputedStyle(gd).display;\n",
       "        if (!display || display === 'none') {{\n",
       "            console.log([gd, 'removed!']);\n",
       "            Plotly.purge(gd);\n",
       "            observer.disconnect();\n",
       "        }}\n",
       "}});\n",
       "\n",
       "// Listen for the removal of the full notebook cells\n",
       "var notebookContainer = gd.closest('#notebook-container');\n",
       "if (notebookContainer) {{\n",
       "    x.observe(notebookContainer, {childList: true});\n",
       "}}\n",
       "\n",
       "// Listen for the clearing of the current output cell\n",
       "var outputEl = gd.closest('.output');\n",
       "if (outputEl) {{\n",
       "    x.observe(outputEl, {childList: true});\n",
       "}}\n",
       "\n",
       "                        })                };            </script>        </div>"
      ]
     },
     "metadata": {},
     "output_type": "display_data"
    },
    {
     "name": "stdout",
     "output_type": "stream",
     "text": [
      "✅ Gráfico de barras interactivo por equipos creado\n"
     ]
    },
    {
     "data": {
      "application/vnd.plotly.v1+json": {
       "config": {
        "plotlyServerURL": "https://plot.ly"
       },
       "data": [
        {
         "alignmentgroup": "True",
         "hovertemplate": "Posición=%{x}<br>Valor de Mercado (M€)=%{y}<extra></extra>",
         "legendgroup": "Defensor",
         "marker": {
          "color": "#636efa"
         },
         "name": "Defensor",
         "notched": false,
         "offsetgroup": "Defensor",
         "orientation": "v",
         "showlegend": true,
         "type": "box",
         "x": [
          "Defensor",
          "Defensor",
          "Defensor",
          "Defensor",
          "Defensor",
          "Defensor",
          "Defensor",
          "Defensor",
          "Defensor",
          "Defensor",
          "Defensor",
          "Defensor",
          "Defensor",
          "Defensor",
          "Defensor",
          "Defensor",
          "Defensor",
          "Defensor",
          "Defensor",
          "Defensor",
          "Defensor",
          "Defensor",
          "Defensor",
          "Defensor",
          "Defensor",
          "Defensor",
          "Defensor",
          "Defensor",
          "Defensor",
          "Defensor",
          "Defensor",
          "Defensor",
          "Defensor",
          "Defensor",
          "Defensor",
          "Defensor",
          "Defensor",
          "Defensor",
          "Defensor",
          "Defensor",
          "Defensor",
          "Defensor",
          "Defensor",
          "Defensor",
          "Defensor",
          "Defensor",
          "Defensor",
          "Defensor",
          "Defensor",
          "Defensor",
          "Defensor",
          "Defensor",
          "Defensor",
          "Defensor",
          "Defensor",
          "Defensor"
         ],
         "x0": " ",
         "xaxis": "x",
         "y": {
          "bdata": "ZmZmZmbmOECamZmZmZlAQJqZmZmZGThAzczMzMzMOEBmZmZmZmZBQDMzMzMzMzFAzczMzMzMKUDNzMzMzMw1QDMzMzMzszBAmpmZmZmZNkAAAAAAAIBBQM3MzMzMTDtAZmZmZmZmPECamZmZmRk+QM3MzMzMzDNAZmZmZmamQUAAAAAAAIA7QM3MzMzMzDRAmpmZmZmZKkCamZmZmVlAQM3MzMzMzDtAAAAAAACANkDNzMzMzAxIQJqZmZmZmTdAZmZmZmZmQECamZmZmRkwQJqZmZmZGT9AzczMzMzMNUCamZmZmRk0QGZmZmZmZjpAzczMzMwMQECamZmZmRkxQJqZmZmZmT9AZmZmZmbmMUDNzMzMzMwrQM3MzMzMjEJAMzMzMzOzQEAAAAAAAAArQGZmZmZm5jdAZmZmZmbmNUBmZmZmZmZAQGZmZmZmZkdAZmZmZmbmMUBmZmZmZmY3QGZmZmZmZjtAAAAAAAAAM0BmZmZmZiZCQDMzMzMzsztAZmZmZmYmQ0DNzMzMzEw0QJqZmZmZGTNAMzMzMzOzO0CamZmZmRk1QM3MzMzMTDhAMzMzMzMzMkCamZmZmZk2QA==",
          "dtype": "f8"
         },
         "y0": " ",
         "yaxis": "y"
        },
        {
         "alignmentgroup": "True",
         "hovertemplate": "Posición=%{x}<br>Valor de Mercado (M€)=%{y}<extra></extra>",
         "legendgroup": "Mediocampista",
         "marker": {
          "color": "#EF553B"
         },
         "name": "Mediocampista",
         "notched": false,
         "offsetgroup": "Mediocampista",
         "orientation": "v",
         "showlegend": true,
         "type": "box",
         "x": [
          "Mediocampista",
          "Mediocampista",
          "Mediocampista",
          "Mediocampista",
          "Mediocampista",
          "Mediocampista",
          "Mediocampista",
          "Mediocampista",
          "Mediocampista",
          "Mediocampista",
          "Mediocampista",
          "Mediocampista",
          "Mediocampista",
          "Mediocampista",
          "Mediocampista",
          "Mediocampista",
          "Mediocampista",
          "Mediocampista",
          "Mediocampista",
          "Mediocampista",
          "Mediocampista",
          "Mediocampista",
          "Mediocampista",
          "Mediocampista",
          "Mediocampista",
          "Mediocampista",
          "Mediocampista",
          "Mediocampista",
          "Mediocampista",
          "Mediocampista",
          "Mediocampista",
          "Mediocampista",
          "Mediocampista",
          "Mediocampista",
          "Mediocampista",
          "Mediocampista",
          "Mediocampista",
          "Mediocampista",
          "Mediocampista",
          "Mediocampista",
          "Mediocampista",
          "Mediocampista",
          "Mediocampista",
          "Mediocampista",
          "Mediocampista",
          "Mediocampista",
          "Mediocampista",
          "Mediocampista",
          "Mediocampista",
          "Mediocampista",
          "Mediocampista",
          "Mediocampista",
          "Mediocampista",
          "Mediocampista",
          "Mediocampista",
          "Mediocampista",
          "Mediocampista",
          "Mediocampista",
          "Mediocampista",
          "Mediocampista",
          "Mediocampista",
          "Mediocampista",
          "Mediocampista",
          "Mediocampista",
          "Mediocampista",
          "Mediocampista",
          "Mediocampista",
          "Mediocampista",
          "Mediocampista",
          "Mediocampista",
          "Mediocampista"
         ],
         "x0": " ",
         "xaxis": "x",
         "y": {
          "bdata": "mpmZmZmZK0AAAAAAAIA1QM3MzMzMzDJAAAAAAAAAQkBmZmZmZuY4QGZmZmZm5jdAmpmZmZmZQEDNzMzMzMw+QAAAAAAAgD1AmpmZmZkZMUCamZmZmdlEQM3MzMzMTD9AMzMzMzMzO0CamZmZmZktQAAAAAAAADxAZmZmZmYmREDNzMzMzMw7QM3MzMzMjEBAMzMzMzPzQ0DNzMzMzMw6QJqZmZmZ2UxAMzMzMzPzRUDNzMzMzAxJQM3MzMzMzDVAZmZmZmZmNkBmZmZmZmY7QJqZmZmZ2UFAMzMzMzPzTkAzMzMzMzM6QJqZmZmZGTFAzczMzMzMPUAzMzMzM7M6QGZmZmZmZjZAzczMzMzMPkAzMzMzM7M6QGZmZmZmZjZAzczMzMxMM0BmZmZmZmZTQDMzMzMzMzZAZmZmZmZmPEDNzMzMzExEQGZmZmZmZj1AzczMzMwMR0AAAAAAAAA7QM3MzMzMzDFAzczMzMwMSUCamZmZmZk+QJqZmZmZGTFAMzMzMzOzM0AAAAAAAAA3QDMzMzMz80lAMzMzMzMzNEDNzMzMzMwtQJqZmZmZGUBAzczMzMwMSkBmZmZmZiZHQGZmZmZmZkFAAAAAAACAQUDNzMzMzIxAQGZmZmZm5khAzczMzMyMQUCamZmZmZk4QJqZmZmZmTZAAAAAAACANUAzMzMzMzM+QJqZmZmZmTpAMzMzMzPzREBmZmZmZqZDQM3MzMzMDEdAmpmZmZmZPkBmZmZmZiZAQA==",
          "dtype": "f8"
         },
         "y0": " ",
         "yaxis": "y"
        },
        {
         "alignmentgroup": "True",
         "hovertemplate": "Posición=%{x}<br>Valor de Mercado (M€)=%{y}<extra></extra>",
         "legendgroup": "Delantero",
         "marker": {
          "color": "#00cc96"
         },
         "name": "Delantero",
         "notched": false,
         "offsetgroup": "Delantero",
         "orientation": "v",
         "showlegend": true,
         "type": "box",
         "x": [
          "Delantero",
          "Delantero",
          "Delantero",
          "Delantero",
          "Delantero",
          "Delantero",
          "Delantero",
          "Delantero",
          "Delantero",
          "Delantero",
          "Delantero",
          "Delantero",
          "Delantero",
          "Delantero",
          "Delantero",
          "Delantero",
          "Delantero",
          "Delantero",
          "Delantero",
          "Delantero",
          "Delantero",
          "Delantero",
          "Delantero",
          "Delantero",
          "Delantero",
          "Delantero",
          "Delantero",
          "Delantero",
          "Delantero",
          "Delantero",
          "Delantero",
          "Delantero",
          "Delantero",
          "Delantero",
          "Delantero",
          "Delantero",
          "Delantero",
          "Delantero",
          "Delantero",
          "Delantero",
          "Delantero",
          "Delantero",
          "Delantero",
          "Delantero",
          "Delantero",
          "Delantero",
          "Delantero",
          "Delantero",
          "Delantero",
          "Delantero",
          "Delantero",
          "Delantero",
          "Delantero"
         ],
         "x0": " ",
         "xaxis": "x",
         "y": {
          "bdata": "MzMzMzMzSUAAAAAAAAA+QJqZmZmZGUtAzczMzMwMQ0CamZmZmVlJQAAAAAAAADhAzczMzMzMPkAzMzMzM/NJQAAAAAAAgDxAAAAAAAAAQkAzMzMzM7M2QJqZmZmZmS5AzczMzMyMQ0BmZmZmZiZMQGZmZmZmZjBAZmZmZmZmNUDNzMzMzMxEQM3MzMzMTDxAZmZmZmbmMUAzMzMzMzNNQAAAAAAAAD1AAAAAAACAQEAzMzMzM7MwQGZmZmZm5jpAzczMzMyMQEAzMzMzMzMzQDMzMzMzc0VAzczMzMxMMkAzMzMzMzM4QAAAAAAAwEJAMzMzMzOzNkDNzMzMzEw+QAAAAAAAQEpAzczMzMxMQUCamZmZmblWQGZmZmZmZjVAzczMzMzMO0AzMzMzM3NEQGZmZmZmZkBAZmZmZmbmMUCamZmZmVlIQDMzMzMzszxAmpmZmZkZO0AAAAAAAABGQAAAAAAAAEJAMzMzMzNzQUAzMzMzM/NAQM3MzMzMTENAAAAAAAAAM0AAAAAAAMBEQDMzMzMzM0VAZmZmZmamRUBmZmZmZuY2QA==",
          "dtype": "f8"
         },
         "y0": " ",
         "yaxis": "y"
        },
        {
         "alignmentgroup": "True",
         "hovertemplate": "Posición=%{x}<br>Valor de Mercado (M€)=%{y}<extra></extra>",
         "legendgroup": "Portero",
         "marker": {
          "color": "#ab63fa"
         },
         "name": "Portero",
         "notched": false,
         "offsetgroup": "Portero",
         "orientation": "v",
         "showlegend": true,
         "type": "box",
         "x": [
          "Portero",
          "Portero",
          "Portero",
          "Portero",
          "Portero",
          "Portero",
          "Portero",
          "Portero",
          "Portero",
          "Portero",
          "Portero",
          "Portero",
          "Portero",
          "Portero",
          "Portero",
          "Portero",
          "Portero",
          "Portero",
          "Portero",
          "Portero"
         ],
         "x0": " ",
         "xaxis": "x",
         "y": {
          "bdata": "ZmZmZmYmREAAAAAAAIA0QJqZmZmZGTFAZmZmZmbmPUAAAAAAAAAzQM3MzMzMzDdAzczMzMzMM0CamZmZmZkxQDMzMzMzszFAmpmZmZmZOEAAAAAAAAA2QDMzMzMzszdAmpmZmZmZJUBmZmZmZuZAQDMzMzMzM0FAzczMzMxMNEDNzMzMzMwrQGZmZmZm5jJAmpmZmZkZOkAzMzMzMzMsQA==",
          "dtype": "f8"
         },
         "y0": " ",
         "yaxis": "y"
        }
       ],
       "layout": {
        "boxmode": "overlay",
        "height": 500,
        "legend": {
         "title": {
          "text": "Posición"
         },
         "tracegroupgap": 0
        },
        "template": {
         "data": {
          "bar": [
           {
            "error_x": {
             "color": "#2a3f5f"
            },
            "error_y": {
             "color": "#2a3f5f"
            },
            "marker": {
             "line": {
              "color": "white",
              "width": 0.5
             },
             "pattern": {
              "fillmode": "overlay",
              "size": 10,
              "solidity": 0.2
             }
            },
            "type": "bar"
           }
          ],
          "barpolar": [
           {
            "marker": {
             "line": {
              "color": "white",
              "width": 0.5
             },
             "pattern": {
              "fillmode": "overlay",
              "size": 10,
              "solidity": 0.2
             }
            },
            "type": "barpolar"
           }
          ],
          "carpet": [
           {
            "aaxis": {
             "endlinecolor": "#2a3f5f",
             "gridcolor": "#C8D4E3",
             "linecolor": "#C8D4E3",
             "minorgridcolor": "#C8D4E3",
             "startlinecolor": "#2a3f5f"
            },
            "baxis": {
             "endlinecolor": "#2a3f5f",
             "gridcolor": "#C8D4E3",
             "linecolor": "#C8D4E3",
             "minorgridcolor": "#C8D4E3",
             "startlinecolor": "#2a3f5f"
            },
            "type": "carpet"
           }
          ],
          "choropleth": [
           {
            "colorbar": {
             "outlinewidth": 0,
             "ticks": ""
            },
            "type": "choropleth"
           }
          ],
          "contour": [
           {
            "colorbar": {
             "outlinewidth": 0,
             "ticks": ""
            },
            "colorscale": [
             [
              0,
              "#0d0887"
             ],
             [
              0.1111111111111111,
              "#46039f"
             ],
             [
              0.2222222222222222,
              "#7201a8"
             ],
             [
              0.3333333333333333,
              "#9c179e"
             ],
             [
              0.4444444444444444,
              "#bd3786"
             ],
             [
              0.5555555555555556,
              "#d8576b"
             ],
             [
              0.6666666666666666,
              "#ed7953"
             ],
             [
              0.7777777777777778,
              "#fb9f3a"
             ],
             [
              0.8888888888888888,
              "#fdca26"
             ],
             [
              1,
              "#f0f921"
             ]
            ],
            "type": "contour"
           }
          ],
          "contourcarpet": [
           {
            "colorbar": {
             "outlinewidth": 0,
             "ticks": ""
            },
            "type": "contourcarpet"
           }
          ],
          "heatmap": [
           {
            "colorbar": {
             "outlinewidth": 0,
             "ticks": ""
            },
            "colorscale": [
             [
              0,
              "#0d0887"
             ],
             [
              0.1111111111111111,
              "#46039f"
             ],
             [
              0.2222222222222222,
              "#7201a8"
             ],
             [
              0.3333333333333333,
              "#9c179e"
             ],
             [
              0.4444444444444444,
              "#bd3786"
             ],
             [
              0.5555555555555556,
              "#d8576b"
             ],
             [
              0.6666666666666666,
              "#ed7953"
             ],
             [
              0.7777777777777778,
              "#fb9f3a"
             ],
             [
              0.8888888888888888,
              "#fdca26"
             ],
             [
              1,
              "#f0f921"
             ]
            ],
            "type": "heatmap"
           }
          ],
          "histogram": [
           {
            "marker": {
             "pattern": {
              "fillmode": "overlay",
              "size": 10,
              "solidity": 0.2
             }
            },
            "type": "histogram"
           }
          ],
          "histogram2d": [
           {
            "colorbar": {
             "outlinewidth": 0,
             "ticks": ""
            },
            "colorscale": [
             [
              0,
              "#0d0887"
             ],
             [
              0.1111111111111111,
              "#46039f"
             ],
             [
              0.2222222222222222,
              "#7201a8"
             ],
             [
              0.3333333333333333,
              "#9c179e"
             ],
             [
              0.4444444444444444,
              "#bd3786"
             ],
             [
              0.5555555555555556,
              "#d8576b"
             ],
             [
              0.6666666666666666,
              "#ed7953"
             ],
             [
              0.7777777777777778,
              "#fb9f3a"
             ],
             [
              0.8888888888888888,
              "#fdca26"
             ],
             [
              1,
              "#f0f921"
             ]
            ],
            "type": "histogram2d"
           }
          ],
          "histogram2dcontour": [
           {
            "colorbar": {
             "outlinewidth": 0,
             "ticks": ""
            },
            "colorscale": [
             [
              0,
              "#0d0887"
             ],
             [
              0.1111111111111111,
              "#46039f"
             ],
             [
              0.2222222222222222,
              "#7201a8"
             ],
             [
              0.3333333333333333,
              "#9c179e"
             ],
             [
              0.4444444444444444,
              "#bd3786"
             ],
             [
              0.5555555555555556,
              "#d8576b"
             ],
             [
              0.6666666666666666,
              "#ed7953"
             ],
             [
              0.7777777777777778,
              "#fb9f3a"
             ],
             [
              0.8888888888888888,
              "#fdca26"
             ],
             [
              1,
              "#f0f921"
             ]
            ],
            "type": "histogram2dcontour"
           }
          ],
          "mesh3d": [
           {
            "colorbar": {
             "outlinewidth": 0,
             "ticks": ""
            },
            "type": "mesh3d"
           }
          ],
          "parcoords": [
           {
            "line": {
             "colorbar": {
              "outlinewidth": 0,
              "ticks": ""
             }
            },
            "type": "parcoords"
           }
          ],
          "pie": [
           {
            "automargin": true,
            "type": "pie"
           }
          ],
          "scatter": [
           {
            "fillpattern": {
             "fillmode": "overlay",
             "size": 10,
             "solidity": 0.2
            },
            "type": "scatter"
           }
          ],
          "scatter3d": [
           {
            "line": {
             "colorbar": {
              "outlinewidth": 0,
              "ticks": ""
             }
            },
            "marker": {
             "colorbar": {
              "outlinewidth": 0,
              "ticks": ""
             }
            },
            "type": "scatter3d"
           }
          ],
          "scattercarpet": [
           {
            "marker": {
             "colorbar": {
              "outlinewidth": 0,
              "ticks": ""
             }
            },
            "type": "scattercarpet"
           }
          ],
          "scattergeo": [
           {
            "marker": {
             "colorbar": {
              "outlinewidth": 0,
              "ticks": ""
             }
            },
            "type": "scattergeo"
           }
          ],
          "scattergl": [
           {
            "marker": {
             "colorbar": {
              "outlinewidth": 0,
              "ticks": ""
             }
            },
            "type": "scattergl"
           }
          ],
          "scattermap": [
           {
            "marker": {
             "colorbar": {
              "outlinewidth": 0,
              "ticks": ""
             }
            },
            "type": "scattermap"
           }
          ],
          "scattermapbox": [
           {
            "marker": {
             "colorbar": {
              "outlinewidth": 0,
              "ticks": ""
             }
            },
            "type": "scattermapbox"
           }
          ],
          "scatterpolar": [
           {
            "marker": {
             "colorbar": {
              "outlinewidth": 0,
              "ticks": ""
             }
            },
            "type": "scatterpolar"
           }
          ],
          "scatterpolargl": [
           {
            "marker": {
             "colorbar": {
              "outlinewidth": 0,
              "ticks": ""
             }
            },
            "type": "scatterpolargl"
           }
          ],
          "scatterternary": [
           {
            "marker": {
             "colorbar": {
              "outlinewidth": 0,
              "ticks": ""
             }
            },
            "type": "scatterternary"
           }
          ],
          "surface": [
           {
            "colorbar": {
             "outlinewidth": 0,
             "ticks": ""
            },
            "colorscale": [
             [
              0,
              "#0d0887"
             ],
             [
              0.1111111111111111,
              "#46039f"
             ],
             [
              0.2222222222222222,
              "#7201a8"
             ],
             [
              0.3333333333333333,
              "#9c179e"
             ],
             [
              0.4444444444444444,
              "#bd3786"
             ],
             [
              0.5555555555555556,
              "#d8576b"
             ],
             [
              0.6666666666666666,
              "#ed7953"
             ],
             [
              0.7777777777777778,
              "#fb9f3a"
             ],
             [
              0.8888888888888888,
              "#fdca26"
             ],
             [
              1,
              "#f0f921"
             ]
            ],
            "type": "surface"
           }
          ],
          "table": [
           {
            "cells": {
             "fill": {
              "color": "#EBF0F8"
             },
             "line": {
              "color": "white"
             }
            },
            "header": {
             "fill": {
              "color": "#C8D4E3"
             },
             "line": {
              "color": "white"
             }
            },
            "type": "table"
           }
          ]
         },
         "layout": {
          "annotationdefaults": {
           "arrowcolor": "#2a3f5f",
           "arrowhead": 0,
           "arrowwidth": 1
          },
          "autotypenumbers": "strict",
          "coloraxis": {
           "colorbar": {
            "outlinewidth": 0,
            "ticks": ""
           }
          },
          "colorscale": {
           "diverging": [
            [
             0,
             "#8e0152"
            ],
            [
             0.1,
             "#c51b7d"
            ],
            [
             0.2,
             "#de77ae"
            ],
            [
             0.3,
             "#f1b6da"
            ],
            [
             0.4,
             "#fde0ef"
            ],
            [
             0.5,
             "#f7f7f7"
            ],
            [
             0.6,
             "#e6f5d0"
            ],
            [
             0.7,
             "#b8e186"
            ],
            [
             0.8,
             "#7fbc41"
            ],
            [
             0.9,
             "#4d9221"
            ],
            [
             1,
             "#276419"
            ]
           ],
           "sequential": [
            [
             0,
             "#0d0887"
            ],
            [
             0.1111111111111111,
             "#46039f"
            ],
            [
             0.2222222222222222,
             "#7201a8"
            ],
            [
             0.3333333333333333,
             "#9c179e"
            ],
            [
             0.4444444444444444,
             "#bd3786"
            ],
            [
             0.5555555555555556,
             "#d8576b"
            ],
            [
             0.6666666666666666,
             "#ed7953"
            ],
            [
             0.7777777777777778,
             "#fb9f3a"
            ],
            [
             0.8888888888888888,
             "#fdca26"
            ],
            [
             1,
             "#f0f921"
            ]
           ],
           "sequentialminus": [
            [
             0,
             "#0d0887"
            ],
            [
             0.1111111111111111,
             "#46039f"
            ],
            [
             0.2222222222222222,
             "#7201a8"
            ],
            [
             0.3333333333333333,
             "#9c179e"
            ],
            [
             0.4444444444444444,
             "#bd3786"
            ],
            [
             0.5555555555555556,
             "#d8576b"
            ],
            [
             0.6666666666666666,
             "#ed7953"
            ],
            [
             0.7777777777777778,
             "#fb9f3a"
            ],
            [
             0.8888888888888888,
             "#fdca26"
            ],
            [
             1,
             "#f0f921"
            ]
           ]
          },
          "colorway": [
           "#636efa",
           "#EF553B",
           "#00cc96",
           "#ab63fa",
           "#FFA15A",
           "#19d3f3",
           "#FF6692",
           "#B6E880",
           "#FF97FF",
           "#FECB52"
          ],
          "font": {
           "color": "#2a3f5f"
          },
          "geo": {
           "bgcolor": "white",
           "lakecolor": "white",
           "landcolor": "white",
           "showlakes": true,
           "showland": true,
           "subunitcolor": "#C8D4E3"
          },
          "hoverlabel": {
           "align": "left"
          },
          "hovermode": "closest",
          "mapbox": {
           "style": "light"
          },
          "paper_bgcolor": "white",
          "plot_bgcolor": "white",
          "polar": {
           "angularaxis": {
            "gridcolor": "#EBF0F8",
            "linecolor": "#EBF0F8",
            "ticks": ""
           },
           "bgcolor": "white",
           "radialaxis": {
            "gridcolor": "#EBF0F8",
            "linecolor": "#EBF0F8",
            "ticks": ""
           }
          },
          "scene": {
           "xaxis": {
            "backgroundcolor": "white",
            "gridcolor": "#DFE8F3",
            "gridwidth": 2,
            "linecolor": "#EBF0F8",
            "showbackground": true,
            "ticks": "",
            "zerolinecolor": "#EBF0F8"
           },
           "yaxis": {
            "backgroundcolor": "white",
            "gridcolor": "#DFE8F3",
            "gridwidth": 2,
            "linecolor": "#EBF0F8",
            "showbackground": true,
            "ticks": "",
            "zerolinecolor": "#EBF0F8"
           },
           "zaxis": {
            "backgroundcolor": "white",
            "gridcolor": "#DFE8F3",
            "gridwidth": 2,
            "linecolor": "#EBF0F8",
            "showbackground": true,
            "ticks": "",
            "zerolinecolor": "#EBF0F8"
           }
          },
          "shapedefaults": {
           "line": {
            "color": "#2a3f5f"
           }
          },
          "ternary": {
           "aaxis": {
            "gridcolor": "#DFE8F3",
            "linecolor": "#A2B1C6",
            "ticks": ""
           },
           "baxis": {
            "gridcolor": "#DFE8F3",
            "linecolor": "#A2B1C6",
            "ticks": ""
           },
           "bgcolor": "white",
           "caxis": {
            "gridcolor": "#DFE8F3",
            "linecolor": "#A2B1C6",
            "ticks": ""
           }
          },
          "title": {
           "x": 0.05
          },
          "xaxis": {
           "automargin": true,
           "gridcolor": "#EBF0F8",
           "linecolor": "#EBF0F8",
           "ticks": "",
           "title": {
            "standoff": 15
           },
           "zerolinecolor": "#EBF0F8",
           "zerolinewidth": 2
          },
          "yaxis": {
           "automargin": true,
           "gridcolor": "#EBF0F8",
           "linecolor": "#EBF0F8",
           "ticks": "",
           "title": {
            "standoff": 15
           },
           "zerolinecolor": "#EBF0F8",
           "zerolinewidth": 2
          }
         }
        },
        "title": {
         "text": "📦 Distribución de Valor de Mercado por Posición"
        },
        "width": 800,
        "xaxis": {
         "anchor": "y",
         "categoryarray": [
          "Defensor",
          "Mediocampista",
          "Delantero",
          "Portero"
         ],
         "categoryorder": "array",
         "domain": [
          0,
          1
         ],
         "title": {
          "text": "Posición"
         }
        },
        "yaxis": {
         "anchor": "x",
         "domain": [
          0,
          1
         ],
         "title": {
          "text": "Valor de Mercado (M€)"
         }
        }
       }
      },
      "text/html": [
       "<div>            <script src=\"https://cdnjs.cloudflare.com/ajax/libs/mathjax/2.7.5/MathJax.js?config=TeX-AMS-MML_SVG\"></script><script type=\"text/javascript\">if (window.MathJax && window.MathJax.Hub && window.MathJax.Hub.Config) {window.MathJax.Hub.Config({SVG: {font: \"STIX-Web\"}});}</script>                <script type=\"text/javascript\">window.PlotlyConfig = {MathJaxConfig: 'local'};</script>\n",
       "        <script charset=\"utf-8\" src=\"https://cdn.plot.ly/plotly-3.0.1.min.js\" integrity=\"sha256-oy6Be7Eh6eiQFs5M7oXuPxxm9qbJXEtTpfSI93dW16Q=\" crossorigin=\"anonymous\"></script>                <div id=\"a7d204ab-3b51-4d6b-9ed4-d0159b5313cd\" class=\"plotly-graph-div\" style=\"height:500px; width:800px;\"></div>            <script type=\"text/javascript\">                window.PLOTLYENV=window.PLOTLYENV || {};                                if (document.getElementById(\"a7d204ab-3b51-4d6b-9ed4-d0159b5313cd\")) {                    Plotly.newPlot(                        \"a7d204ab-3b51-4d6b-9ed4-d0159b5313cd\",                        [{\"alignmentgroup\":\"True\",\"hovertemplate\":\"Posición=%{x}\\u003cbr\\u003eValor de Mercado (M€)=%{y}\\u003cextra\\u003e\\u003c\\u002fextra\\u003e\",\"legendgroup\":\"Defensor\",\"marker\":{\"color\":\"#636efa\"},\"name\":\"Defensor\",\"notched\":false,\"offsetgroup\":\"Defensor\",\"orientation\":\"v\",\"showlegend\":true,\"x\":[\"Defensor\",\"Defensor\",\"Defensor\",\"Defensor\",\"Defensor\",\"Defensor\",\"Defensor\",\"Defensor\",\"Defensor\",\"Defensor\",\"Defensor\",\"Defensor\",\"Defensor\",\"Defensor\",\"Defensor\",\"Defensor\",\"Defensor\",\"Defensor\",\"Defensor\",\"Defensor\",\"Defensor\",\"Defensor\",\"Defensor\",\"Defensor\",\"Defensor\",\"Defensor\",\"Defensor\",\"Defensor\",\"Defensor\",\"Defensor\",\"Defensor\",\"Defensor\",\"Defensor\",\"Defensor\",\"Defensor\",\"Defensor\",\"Defensor\",\"Defensor\",\"Defensor\",\"Defensor\",\"Defensor\",\"Defensor\",\"Defensor\",\"Defensor\",\"Defensor\",\"Defensor\",\"Defensor\",\"Defensor\",\"Defensor\",\"Defensor\",\"Defensor\",\"Defensor\",\"Defensor\",\"Defensor\",\"Defensor\",\"Defensor\"],\"x0\":\" \",\"xaxis\":\"x\",\"y\":{\"dtype\":\"f8\",\"bdata\":\"ZmZmZmbmOECamZmZmZlAQJqZmZmZGThAzczMzMzMOEBmZmZmZmZBQDMzMzMzMzFAzczMzMzMKUDNzMzMzMw1QDMzMzMzszBAmpmZmZmZNkAAAAAAAIBBQM3MzMzMTDtAZmZmZmZmPECamZmZmRk+QM3MzMzMzDNAZmZmZmamQUAAAAAAAIA7QM3MzMzMzDRAmpmZmZmZKkCamZmZmVlAQM3MzMzMzDtAAAAAAACANkDNzMzMzAxIQJqZmZmZmTdAZmZmZmZmQECamZmZmRkwQJqZmZmZGT9AzczMzMzMNUCamZmZmRk0QGZmZmZmZjpAzczMzMwMQECamZmZmRkxQJqZmZmZmT9AZmZmZmbmMUDNzMzMzMwrQM3MzMzMjEJAMzMzMzOzQEAAAAAAAAArQGZmZmZm5jdAZmZmZmbmNUBmZmZmZmZAQGZmZmZmZkdAZmZmZmbmMUBmZmZmZmY3QGZmZmZmZjtAAAAAAAAAM0BmZmZmZiZCQDMzMzMzsztAZmZmZmYmQ0DNzMzMzEw0QJqZmZmZGTNAMzMzMzOzO0CamZmZmRk1QM3MzMzMTDhAMzMzMzMzMkCamZmZmZk2QA==\"},\"y0\":\" \",\"yaxis\":\"y\",\"type\":\"box\"},{\"alignmentgroup\":\"True\",\"hovertemplate\":\"Posición=%{x}\\u003cbr\\u003eValor de Mercado (M€)=%{y}\\u003cextra\\u003e\\u003c\\u002fextra\\u003e\",\"legendgroup\":\"Mediocampista\",\"marker\":{\"color\":\"#EF553B\"},\"name\":\"Mediocampista\",\"notched\":false,\"offsetgroup\":\"Mediocampista\",\"orientation\":\"v\",\"showlegend\":true,\"x\":[\"Mediocampista\",\"Mediocampista\",\"Mediocampista\",\"Mediocampista\",\"Mediocampista\",\"Mediocampista\",\"Mediocampista\",\"Mediocampista\",\"Mediocampista\",\"Mediocampista\",\"Mediocampista\",\"Mediocampista\",\"Mediocampista\",\"Mediocampista\",\"Mediocampista\",\"Mediocampista\",\"Mediocampista\",\"Mediocampista\",\"Mediocampista\",\"Mediocampista\",\"Mediocampista\",\"Mediocampista\",\"Mediocampista\",\"Mediocampista\",\"Mediocampista\",\"Mediocampista\",\"Mediocampista\",\"Mediocampista\",\"Mediocampista\",\"Mediocampista\",\"Mediocampista\",\"Mediocampista\",\"Mediocampista\",\"Mediocampista\",\"Mediocampista\",\"Mediocampista\",\"Mediocampista\",\"Mediocampista\",\"Mediocampista\",\"Mediocampista\",\"Mediocampista\",\"Mediocampista\",\"Mediocampista\",\"Mediocampista\",\"Mediocampista\",\"Mediocampista\",\"Mediocampista\",\"Mediocampista\",\"Mediocampista\",\"Mediocampista\",\"Mediocampista\",\"Mediocampista\",\"Mediocampista\",\"Mediocampista\",\"Mediocampista\",\"Mediocampista\",\"Mediocampista\",\"Mediocampista\",\"Mediocampista\",\"Mediocampista\",\"Mediocampista\",\"Mediocampista\",\"Mediocampista\",\"Mediocampista\",\"Mediocampista\",\"Mediocampista\",\"Mediocampista\",\"Mediocampista\",\"Mediocampista\",\"Mediocampista\",\"Mediocampista\"],\"x0\":\" \",\"xaxis\":\"x\",\"y\":{\"dtype\":\"f8\",\"bdata\":\"mpmZmZmZK0AAAAAAAIA1QM3MzMzMzDJAAAAAAAAAQkBmZmZmZuY4QGZmZmZm5jdAmpmZmZmZQEDNzMzMzMw+QAAAAAAAgD1AmpmZmZkZMUCamZmZmdlEQM3MzMzMTD9AMzMzMzMzO0CamZmZmZktQAAAAAAAADxAZmZmZmYmREDNzMzMzMw7QM3MzMzMjEBAMzMzMzPzQ0DNzMzMzMw6QJqZmZmZ2UxAMzMzMzPzRUDNzMzMzAxJQM3MzMzMzDVAZmZmZmZmNkBmZmZmZmY7QJqZmZmZ2UFAMzMzMzPzTkAzMzMzMzM6QJqZmZmZGTFAzczMzMzMPUAzMzMzM7M6QGZmZmZmZjZAzczMzMzMPkAzMzMzM7M6QGZmZmZmZjZAzczMzMxMM0BmZmZmZmZTQDMzMzMzMzZAZmZmZmZmPEDNzMzMzExEQGZmZmZmZj1AzczMzMwMR0AAAAAAAAA7QM3MzMzMzDFAzczMzMwMSUCamZmZmZk+QJqZmZmZGTFAMzMzMzOzM0AAAAAAAAA3QDMzMzMz80lAMzMzMzMzNEDNzMzMzMwtQJqZmZmZGUBAzczMzMwMSkBmZmZmZiZHQGZmZmZmZkFAAAAAAACAQUDNzMzMzIxAQGZmZmZm5khAzczMzMyMQUCamZmZmZk4QJqZmZmZmTZAAAAAAACANUAzMzMzMzM+QJqZmZmZmTpAMzMzMzPzREBmZmZmZqZDQM3MzMzMDEdAmpmZmZmZPkBmZmZmZiZAQA==\"},\"y0\":\" \",\"yaxis\":\"y\",\"type\":\"box\"},{\"alignmentgroup\":\"True\",\"hovertemplate\":\"Posición=%{x}\\u003cbr\\u003eValor de Mercado (M€)=%{y}\\u003cextra\\u003e\\u003c\\u002fextra\\u003e\",\"legendgroup\":\"Delantero\",\"marker\":{\"color\":\"#00cc96\"},\"name\":\"Delantero\",\"notched\":false,\"offsetgroup\":\"Delantero\",\"orientation\":\"v\",\"showlegend\":true,\"x\":[\"Delantero\",\"Delantero\",\"Delantero\",\"Delantero\",\"Delantero\",\"Delantero\",\"Delantero\",\"Delantero\",\"Delantero\",\"Delantero\",\"Delantero\",\"Delantero\",\"Delantero\",\"Delantero\",\"Delantero\",\"Delantero\",\"Delantero\",\"Delantero\",\"Delantero\",\"Delantero\",\"Delantero\",\"Delantero\",\"Delantero\",\"Delantero\",\"Delantero\",\"Delantero\",\"Delantero\",\"Delantero\",\"Delantero\",\"Delantero\",\"Delantero\",\"Delantero\",\"Delantero\",\"Delantero\",\"Delantero\",\"Delantero\",\"Delantero\",\"Delantero\",\"Delantero\",\"Delantero\",\"Delantero\",\"Delantero\",\"Delantero\",\"Delantero\",\"Delantero\",\"Delantero\",\"Delantero\",\"Delantero\",\"Delantero\",\"Delantero\",\"Delantero\",\"Delantero\",\"Delantero\"],\"x0\":\" \",\"xaxis\":\"x\",\"y\":{\"dtype\":\"f8\",\"bdata\":\"MzMzMzMzSUAAAAAAAAA+QJqZmZmZGUtAzczMzMwMQ0CamZmZmVlJQAAAAAAAADhAzczMzMzMPkAzMzMzM\\u002fNJQAAAAAAAgDxAAAAAAAAAQkAzMzMzM7M2QJqZmZmZmS5AzczMzMyMQ0BmZmZmZiZMQGZmZmZmZjBAZmZmZmZmNUDNzMzMzMxEQM3MzMzMTDxAZmZmZmbmMUAzMzMzMzNNQAAAAAAAAD1AAAAAAACAQEAzMzMzM7MwQGZmZmZm5jpAzczMzMyMQEAzMzMzMzMzQDMzMzMzc0VAzczMzMxMMkAzMzMzMzM4QAAAAAAAwEJAMzMzMzOzNkDNzMzMzEw+QAAAAAAAQEpAzczMzMxMQUCamZmZmblWQGZmZmZmZjVAzczMzMzMO0AzMzMzM3NEQGZmZmZmZkBAZmZmZmbmMUCamZmZmVlIQDMzMzMzszxAmpmZmZkZO0AAAAAAAABGQAAAAAAAAEJAMzMzMzNzQUAzMzMzM\\u002fNAQM3MzMzMTENAAAAAAAAAM0AAAAAAAMBEQDMzMzMzM0VAZmZmZmamRUBmZmZmZuY2QA==\"},\"y0\":\" \",\"yaxis\":\"y\",\"type\":\"box\"},{\"alignmentgroup\":\"True\",\"hovertemplate\":\"Posición=%{x}\\u003cbr\\u003eValor de Mercado (M€)=%{y}\\u003cextra\\u003e\\u003c\\u002fextra\\u003e\",\"legendgroup\":\"Portero\",\"marker\":{\"color\":\"#ab63fa\"},\"name\":\"Portero\",\"notched\":false,\"offsetgroup\":\"Portero\",\"orientation\":\"v\",\"showlegend\":true,\"x\":[\"Portero\",\"Portero\",\"Portero\",\"Portero\",\"Portero\",\"Portero\",\"Portero\",\"Portero\",\"Portero\",\"Portero\",\"Portero\",\"Portero\",\"Portero\",\"Portero\",\"Portero\",\"Portero\",\"Portero\",\"Portero\",\"Portero\",\"Portero\"],\"x0\":\" \",\"xaxis\":\"x\",\"y\":{\"dtype\":\"f8\",\"bdata\":\"ZmZmZmYmREAAAAAAAIA0QJqZmZmZGTFAZmZmZmbmPUAAAAAAAAAzQM3MzMzMzDdAzczMzMzMM0CamZmZmZkxQDMzMzMzszFAmpmZmZmZOEAAAAAAAAA2QDMzMzMzszdAmpmZmZmZJUBmZmZmZuZAQDMzMzMzM0FAzczMzMxMNEDNzMzMzMwrQGZmZmZm5jJAmpmZmZkZOkAzMzMzMzMsQA==\"},\"y0\":\" \",\"yaxis\":\"y\",\"type\":\"box\"}],                        {\"template\":{\"data\":{\"barpolar\":[{\"marker\":{\"line\":{\"color\":\"white\",\"width\":0.5},\"pattern\":{\"fillmode\":\"overlay\",\"size\":10,\"solidity\":0.2}},\"type\":\"barpolar\"}],\"bar\":[{\"error_x\":{\"color\":\"#2a3f5f\"},\"error_y\":{\"color\":\"#2a3f5f\"},\"marker\":{\"line\":{\"color\":\"white\",\"width\":0.5},\"pattern\":{\"fillmode\":\"overlay\",\"size\":10,\"solidity\":0.2}},\"type\":\"bar\"}],\"carpet\":[{\"aaxis\":{\"endlinecolor\":\"#2a3f5f\",\"gridcolor\":\"#C8D4E3\",\"linecolor\":\"#C8D4E3\",\"minorgridcolor\":\"#C8D4E3\",\"startlinecolor\":\"#2a3f5f\"},\"baxis\":{\"endlinecolor\":\"#2a3f5f\",\"gridcolor\":\"#C8D4E3\",\"linecolor\":\"#C8D4E3\",\"minorgridcolor\":\"#C8D4E3\",\"startlinecolor\":\"#2a3f5f\"},\"type\":\"carpet\"}],\"choropleth\":[{\"colorbar\":{\"outlinewidth\":0,\"ticks\":\"\"},\"type\":\"choropleth\"}],\"contourcarpet\":[{\"colorbar\":{\"outlinewidth\":0,\"ticks\":\"\"},\"type\":\"contourcarpet\"}],\"contour\":[{\"colorbar\":{\"outlinewidth\":0,\"ticks\":\"\"},\"colorscale\":[[0.0,\"#0d0887\"],[0.1111111111111111,\"#46039f\"],[0.2222222222222222,\"#7201a8\"],[0.3333333333333333,\"#9c179e\"],[0.4444444444444444,\"#bd3786\"],[0.5555555555555556,\"#d8576b\"],[0.6666666666666666,\"#ed7953\"],[0.7777777777777778,\"#fb9f3a\"],[0.8888888888888888,\"#fdca26\"],[1.0,\"#f0f921\"]],\"type\":\"contour\"}],\"heatmap\":[{\"colorbar\":{\"outlinewidth\":0,\"ticks\":\"\"},\"colorscale\":[[0.0,\"#0d0887\"],[0.1111111111111111,\"#46039f\"],[0.2222222222222222,\"#7201a8\"],[0.3333333333333333,\"#9c179e\"],[0.4444444444444444,\"#bd3786\"],[0.5555555555555556,\"#d8576b\"],[0.6666666666666666,\"#ed7953\"],[0.7777777777777778,\"#fb9f3a\"],[0.8888888888888888,\"#fdca26\"],[1.0,\"#f0f921\"]],\"type\":\"heatmap\"}],\"histogram2dcontour\":[{\"colorbar\":{\"outlinewidth\":0,\"ticks\":\"\"},\"colorscale\":[[0.0,\"#0d0887\"],[0.1111111111111111,\"#46039f\"],[0.2222222222222222,\"#7201a8\"],[0.3333333333333333,\"#9c179e\"],[0.4444444444444444,\"#bd3786\"],[0.5555555555555556,\"#d8576b\"],[0.6666666666666666,\"#ed7953\"],[0.7777777777777778,\"#fb9f3a\"],[0.8888888888888888,\"#fdca26\"],[1.0,\"#f0f921\"]],\"type\":\"histogram2dcontour\"}],\"histogram2d\":[{\"colorbar\":{\"outlinewidth\":0,\"ticks\":\"\"},\"colorscale\":[[0.0,\"#0d0887\"],[0.1111111111111111,\"#46039f\"],[0.2222222222222222,\"#7201a8\"],[0.3333333333333333,\"#9c179e\"],[0.4444444444444444,\"#bd3786\"],[0.5555555555555556,\"#d8576b\"],[0.6666666666666666,\"#ed7953\"],[0.7777777777777778,\"#fb9f3a\"],[0.8888888888888888,\"#fdca26\"],[1.0,\"#f0f921\"]],\"type\":\"histogram2d\"}],\"histogram\":[{\"marker\":{\"pattern\":{\"fillmode\":\"overlay\",\"size\":10,\"solidity\":0.2}},\"type\":\"histogram\"}],\"mesh3d\":[{\"colorbar\":{\"outlinewidth\":0,\"ticks\":\"\"},\"type\":\"mesh3d\"}],\"parcoords\":[{\"line\":{\"colorbar\":{\"outlinewidth\":0,\"ticks\":\"\"}},\"type\":\"parcoords\"}],\"pie\":[{\"automargin\":true,\"type\":\"pie\"}],\"scatter3d\":[{\"line\":{\"colorbar\":{\"outlinewidth\":0,\"ticks\":\"\"}},\"marker\":{\"colorbar\":{\"outlinewidth\":0,\"ticks\":\"\"}},\"type\":\"scatter3d\"}],\"scattercarpet\":[{\"marker\":{\"colorbar\":{\"outlinewidth\":0,\"ticks\":\"\"}},\"type\":\"scattercarpet\"}],\"scattergeo\":[{\"marker\":{\"colorbar\":{\"outlinewidth\":0,\"ticks\":\"\"}},\"type\":\"scattergeo\"}],\"scattergl\":[{\"marker\":{\"colorbar\":{\"outlinewidth\":0,\"ticks\":\"\"}},\"type\":\"scattergl\"}],\"scattermapbox\":[{\"marker\":{\"colorbar\":{\"outlinewidth\":0,\"ticks\":\"\"}},\"type\":\"scattermapbox\"}],\"scattermap\":[{\"marker\":{\"colorbar\":{\"outlinewidth\":0,\"ticks\":\"\"}},\"type\":\"scattermap\"}],\"scatterpolargl\":[{\"marker\":{\"colorbar\":{\"outlinewidth\":0,\"ticks\":\"\"}},\"type\":\"scatterpolargl\"}],\"scatterpolar\":[{\"marker\":{\"colorbar\":{\"outlinewidth\":0,\"ticks\":\"\"}},\"type\":\"scatterpolar\"}],\"scatter\":[{\"fillpattern\":{\"fillmode\":\"overlay\",\"size\":10,\"solidity\":0.2},\"type\":\"scatter\"}],\"scatterternary\":[{\"marker\":{\"colorbar\":{\"outlinewidth\":0,\"ticks\":\"\"}},\"type\":\"scatterternary\"}],\"surface\":[{\"colorbar\":{\"outlinewidth\":0,\"ticks\":\"\"},\"colorscale\":[[0.0,\"#0d0887\"],[0.1111111111111111,\"#46039f\"],[0.2222222222222222,\"#7201a8\"],[0.3333333333333333,\"#9c179e\"],[0.4444444444444444,\"#bd3786\"],[0.5555555555555556,\"#d8576b\"],[0.6666666666666666,\"#ed7953\"],[0.7777777777777778,\"#fb9f3a\"],[0.8888888888888888,\"#fdca26\"],[1.0,\"#f0f921\"]],\"type\":\"surface\"}],\"table\":[{\"cells\":{\"fill\":{\"color\":\"#EBF0F8\"},\"line\":{\"color\":\"white\"}},\"header\":{\"fill\":{\"color\":\"#C8D4E3\"},\"line\":{\"color\":\"white\"}},\"type\":\"table\"}]},\"layout\":{\"annotationdefaults\":{\"arrowcolor\":\"#2a3f5f\",\"arrowhead\":0,\"arrowwidth\":1},\"autotypenumbers\":\"strict\",\"coloraxis\":{\"colorbar\":{\"outlinewidth\":0,\"ticks\":\"\"}},\"colorscale\":{\"diverging\":[[0,\"#8e0152\"],[0.1,\"#c51b7d\"],[0.2,\"#de77ae\"],[0.3,\"#f1b6da\"],[0.4,\"#fde0ef\"],[0.5,\"#f7f7f7\"],[0.6,\"#e6f5d0\"],[0.7,\"#b8e186\"],[0.8,\"#7fbc41\"],[0.9,\"#4d9221\"],[1,\"#276419\"]],\"sequential\":[[0.0,\"#0d0887\"],[0.1111111111111111,\"#46039f\"],[0.2222222222222222,\"#7201a8\"],[0.3333333333333333,\"#9c179e\"],[0.4444444444444444,\"#bd3786\"],[0.5555555555555556,\"#d8576b\"],[0.6666666666666666,\"#ed7953\"],[0.7777777777777778,\"#fb9f3a\"],[0.8888888888888888,\"#fdca26\"],[1.0,\"#f0f921\"]],\"sequentialminus\":[[0.0,\"#0d0887\"],[0.1111111111111111,\"#46039f\"],[0.2222222222222222,\"#7201a8\"],[0.3333333333333333,\"#9c179e\"],[0.4444444444444444,\"#bd3786\"],[0.5555555555555556,\"#d8576b\"],[0.6666666666666666,\"#ed7953\"],[0.7777777777777778,\"#fb9f3a\"],[0.8888888888888888,\"#fdca26\"],[1.0,\"#f0f921\"]]},\"colorway\":[\"#636efa\",\"#EF553B\",\"#00cc96\",\"#ab63fa\",\"#FFA15A\",\"#19d3f3\",\"#FF6692\",\"#B6E880\",\"#FF97FF\",\"#FECB52\"],\"font\":{\"color\":\"#2a3f5f\"},\"geo\":{\"bgcolor\":\"white\",\"lakecolor\":\"white\",\"landcolor\":\"white\",\"showlakes\":true,\"showland\":true,\"subunitcolor\":\"#C8D4E3\"},\"hoverlabel\":{\"align\":\"left\"},\"hovermode\":\"closest\",\"mapbox\":{\"style\":\"light\"},\"paper_bgcolor\":\"white\",\"plot_bgcolor\":\"white\",\"polar\":{\"angularaxis\":{\"gridcolor\":\"#EBF0F8\",\"linecolor\":\"#EBF0F8\",\"ticks\":\"\"},\"bgcolor\":\"white\",\"radialaxis\":{\"gridcolor\":\"#EBF0F8\",\"linecolor\":\"#EBF0F8\",\"ticks\":\"\"}},\"scene\":{\"xaxis\":{\"backgroundcolor\":\"white\",\"gridcolor\":\"#DFE8F3\",\"gridwidth\":2,\"linecolor\":\"#EBF0F8\",\"showbackground\":true,\"ticks\":\"\",\"zerolinecolor\":\"#EBF0F8\"},\"yaxis\":{\"backgroundcolor\":\"white\",\"gridcolor\":\"#DFE8F3\",\"gridwidth\":2,\"linecolor\":\"#EBF0F8\",\"showbackground\":true,\"ticks\":\"\",\"zerolinecolor\":\"#EBF0F8\"},\"zaxis\":{\"backgroundcolor\":\"white\",\"gridcolor\":\"#DFE8F3\",\"gridwidth\":2,\"linecolor\":\"#EBF0F8\",\"showbackground\":true,\"ticks\":\"\",\"zerolinecolor\":\"#EBF0F8\"}},\"shapedefaults\":{\"line\":{\"color\":\"#2a3f5f\"}},\"ternary\":{\"aaxis\":{\"gridcolor\":\"#DFE8F3\",\"linecolor\":\"#A2B1C6\",\"ticks\":\"\"},\"baxis\":{\"gridcolor\":\"#DFE8F3\",\"linecolor\":\"#A2B1C6\",\"ticks\":\"\"},\"bgcolor\":\"white\",\"caxis\":{\"gridcolor\":\"#DFE8F3\",\"linecolor\":\"#A2B1C6\",\"ticks\":\"\"}},\"title\":{\"x\":0.05},\"xaxis\":{\"automargin\":true,\"gridcolor\":\"#EBF0F8\",\"linecolor\":\"#EBF0F8\",\"ticks\":\"\",\"title\":{\"standoff\":15},\"zerolinecolor\":\"#EBF0F8\",\"zerolinewidth\":2},\"yaxis\":{\"automargin\":true,\"gridcolor\":\"#EBF0F8\",\"linecolor\":\"#EBF0F8\",\"ticks\":\"\",\"title\":{\"standoff\":15},\"zerolinecolor\":\"#EBF0F8\",\"zerolinewidth\":2}}},\"xaxis\":{\"anchor\":\"y\",\"domain\":[0.0,1.0],\"title\":{\"text\":\"Posición\"},\"categoryorder\":\"array\",\"categoryarray\":[\"Defensor\",\"Mediocampista\",\"Delantero\",\"Portero\"]},\"yaxis\":{\"anchor\":\"x\",\"domain\":[0.0,1.0],\"title\":{\"text\":\"Valor de Mercado (M€)\"}},\"legend\":{\"title\":{\"text\":\"Posición\"},\"tracegroupgap\":0},\"title\":{\"text\":\"📦 Distribución de Valor de Mercado por Posición\"},\"boxmode\":\"overlay\",\"width\":800,\"height\":500},                        {\"responsive\": true}                    ).then(function(){\n",
       "                            \n",
       "var gd = document.getElementById('a7d204ab-3b51-4d6b-9ed4-d0159b5313cd');\n",
       "var x = new MutationObserver(function (mutations, observer) {{\n",
       "        var display = window.getComputedStyle(gd).display;\n",
       "        if (!display || display === 'none') {{\n",
       "            console.log([gd, 'removed!']);\n",
       "            Plotly.purge(gd);\n",
       "            observer.disconnect();\n",
       "        }}\n",
       "}});\n",
       "\n",
       "// Listen for the removal of the full notebook cells\n",
       "var notebookContainer = gd.closest('#notebook-container');\n",
       "if (notebookContainer) {{\n",
       "    x.observe(notebookContainer, {childList: true});\n",
       "}}\n",
       "\n",
       "// Listen for the clearing of the current output cell\n",
       "var outputEl = gd.closest('.output');\n",
       "if (outputEl) {{\n",
       "    x.observe(outputEl, {childList: true});\n",
       "}}\n",
       "\n",
       "                        })                };            </script>        </div>"
      ]
     },
     "metadata": {},
     "output_type": "display_data"
    },
    {
     "name": "stdout",
     "output_type": "stream",
     "text": [
      "✅ Box plots interactivos por posición creados\n"
     ]
    }
   ],
   "source": [
    "# 4.2 Gráfico de dispersión interactivo: Valor de Mercado vs Rendimiento\n",
    "\n",
    "print(\"📊 VISUALIZACIONES INTERACTIVAS CON PLOTLY\")\n",
    "print(\"=\" * 60)\n",
    "\n",
    "# Crear gráfico de dispersión avanzado\n",
    "fig_scatter = px.scatter(\n",
    "    df_jugadores, \n",
    "    x='goles_temporada', \n",
    "    y='valor_mercado',\n",
    "    color='posicion',\n",
    "    size='rating_promedio',\n",
    "    hover_data=['nombre', 'equipo', 'edad', 'asistencias_temporada'],\n",
    "    title='💰 Relación entre Goles y Valor de Mercado por Posición',\n",
    "    labels={\n",
    "        'goles_temporada': 'Goles en la Temporada',\n",
    "        'valor_mercado': 'Valor de Mercado (M€)',\n",
    "        'posicion': 'Posición',\n",
    "        'rating_promedio': 'Rating'\n",
    "    }\n",
    ")\n",
    "\n",
    "# Personalizar el gráfico\n",
    "fig_scatter.update_layout(\n",
    "    width=900,\n",
    "    height=600,\n",
    "    title_font_size=16,\n",
    "    xaxis_title_font_size=14,\n",
    "    yaxis_title_font_size=14,\n",
    "    legend_title_font_size=14,\n",
    "    hovermode='closest',\n",
    "    template='plotly_white'\n",
    ")\n",
    "\n",
    "# Agregar línea de tendencia\n",
    "from sklearn.linear_model import LinearRegression\n",
    "X = df_jugadores[['goles_temporada']]\n",
    "y = df_jugadores['valor_mercado']\n",
    "reg = LinearRegression().fit(X, y)\n",
    "df_jugadores['valor_predicho'] = reg.predict(X)\n",
    "\n",
    "fig_scatter.add_scatter(\n",
    "    x=df_jugadores['goles_temporada'], \n",
    "    y=df_jugadores['valor_predicho'],\n",
    "    mode='lines',\n",
    "    name='Tendencia',\n",
    "    line=dict(color='red', dash='dash')\n",
    ")\n",
    "\n",
    "fig_scatter.show()\n",
    "\n",
    "print(\"✅ Gráfico de dispersión interactivo creado\")\n",
    "print(f\"📈 Correlación Goles-Valor: {df_jugadores['goles_temporada'].corr(df_jugadores['valor_mercado']):.3f}\")\n",
    "\n",
    "# Gráfico de barras interactivo por equipos\n",
    "fig_bar = px.bar(\n",
    "    df_jugadores.groupby('equipo').agg({\n",
    "        'valor_mercado': 'mean',\n",
    "        'goles_temporada': 'sum',\n",
    "        'rating_promedio': 'mean'\n",
    "    }).reset_index(),\n",
    "    x='equipo',\n",
    "    y='valor_mercado',\n",
    "    color='rating_promedio',\n",
    "    title='🏆 Valor de Mercado Promedio por Equipo',\n",
    "    labels={\n",
    "        'equipo': 'Equipo',\n",
    "        'valor_mercado': 'Valor Promedio (M€)',\n",
    "        'rating_promedio': 'Rating Promedio'\n",
    "    }\n",
    ")\n",
    "\n",
    "fig_bar.update_layout(\n",
    "    width=900,\n",
    "    height=500,\n",
    "    xaxis_tickangle=-45,\n",
    "    template='plotly_white'\n",
    ")\n",
    "\n",
    "fig_bar.show()\n",
    "\n",
    "print(\"✅ Gráfico de barras interactivo por equipos creado\")\n",
    "\n",
    "# Análisis por posición con box plots\n",
    "fig_box = px.box(\n",
    "    df_jugadores,\n",
    "    x='posicion',\n",
    "    y='valor_mercado',\n",
    "    color='posicion',\n",
    "    title='📦 Distribución de Valor de Mercado por Posición',\n",
    "    labels={\n",
    "        'posicion': 'Posición',\n",
    "        'valor_mercado': 'Valor de Mercado (M€)'\n",
    "    }\n",
    ")\n",
    "\n",
    "fig_box.update_layout(\n",
    "    width=800,\n",
    "    height=500,\n",
    "    template='plotly_white'\n",
    ")\n",
    "\n",
    "fig_box.show()\n",
    "\n",
    "print(\"✅ Box plots interactivos por posición creados\")"
   ]
  },
  {
   "cell_type": "markdown",
   "id": "8ac5bf20",
   "metadata": {},
   "source": [
    "### 4.3 Visualizaciones Geográficas y Temporales\n",
    "\n",
    "Los **mapas interactivos** y **series temporales** añaden dimensiones espaciales y temporales al análisis deportivo."
   ]
  },
  {
   "cell_type": "code",
   "execution_count": 4,
   "id": "79991b43",
   "metadata": {},
   "outputs": [
    {
     "name": "stdout",
     "output_type": "stream",
     "text": [
      "\n",
      "🗺️ VISUALIZACIONES GEOGRÁFICAS Y TEMPORALES\n",
      "============================================================\n"
     ]
    },
    {
     "data": {
      "application/vnd.plotly.v1+json": {
       "config": {
        "plotlyServerURL": "https://plot.ly"
       },
       "data": [
        {
         "customdata": {
          "bdata": "AAAAAAAAMUDQz8/Pzw9TQAAAAAAAADZARhdddNEVU0AAAAAAAIBBQIac++wCYlNAAAAAAAAACECZmZmZmRlUQAAAAAAAAAhAvLu7u7t7UkAAAAAAAIBQQLrooosualNAAAAAAAAAMEBmZmZmZgZTQAAAAAAAACBAmpmZmZn9UUAAAAAAAAAcQB3UQR3UAVNAAAAAAAAAGEBnZmZmZgZTQAAAAAAAACxA+Yqv+IrPUkAAAAAAAAAIQLy7u7u7W1NA",
          "dtype": "f8",
          "shape": "12, 2"
         },
         "geo": "geo",
         "hovertemplate": "<b>%{hovertext}</b><br><br>Número de Jugadores=%{customdata[0]}<br>lat=%{lat}<br>lon=%{lon}<br>rating_promedio=%{customdata[1]}<br>Valor Promedio (M€)=%{marker.color}<extra></extra>",
         "hovertext": [
          "Alemania",
          "Argentina",
          "Brasil",
          "Chile",
          "Colombia",
          "España",
          "Francia",
          "Inglaterra",
          "Italia",
          "México",
          "Portugal",
          "Uruguay"
         ],
         "lat": {
          "bdata": "PnlYqDWVSUDM7snDQjVDwLgehetReCzAysNCrWnWQcBGJXUCmkgSQIV80LNZNURABTQRNjxNR0Av3SQGgS1KQPKwUGua70RA30+Nl26iN0DQ1VbsL7NDQKUsQxzrQkDA",
          "dtype": "f8"
         },
         "legendgroup": "",
         "lon": {
          "bdata": "ukkMAivnJEC7uI0G8M5PwJF++zpw9knAmG4Sg8DiUcB0RpT2BpNSwP5l9+RhoQ3AvJaQD3o2/j+1FfvL7snyvzSAt0CCIilApU5AE2GjWcBt5/up8XIgwG6jAbwF4kvA",
          "dtype": "f8"
         },
         "marker": {
          "color": {
           "bdata": "DAwMDAwMOkA9JchTgrw9QODJanljhEBAzczMzMxMOUDv7u7u7u44QLdCcSsUtz5AzczMzMxsO0DNzMzMzBw3QG7btm3bNj9A7+7u7u7OQECogzqog3o6QBEREREREURA",
           "dtype": "f8"
          },
          "coloraxis": "coloraxis",
          "size": {
           "bdata": "ERYjAwNCEAgHBg4D",
           "dtype": "i1"
          },
          "sizemode": "area",
          "sizeref": 0.165,
          "symbol": "circle"
         },
         "mode": "markers",
         "name": "",
         "showlegend": false,
         "type": "scattergeo"
        }
       ],
       "layout": {
        "coloraxis": {
         "colorbar": {
          "title": {
           "text": "Valor Promedio (M€)"
          }
         },
         "colorscale": [
          [
           0,
           "#0d0887"
          ],
          [
           0.1111111111111111,
           "#46039f"
          ],
          [
           0.2222222222222222,
           "#7201a8"
          ],
          [
           0.3333333333333333,
           "#9c179e"
          ],
          [
           0.4444444444444444,
           "#bd3786"
          ],
          [
           0.5555555555555556,
           "#d8576b"
          ],
          [
           0.6666666666666666,
           "#ed7953"
          ],
          [
           0.7777777777777778,
           "#fb9f3a"
          ],
          [
           0.8888888888888888,
           "#fdca26"
          ],
          [
           1,
           "#f0f921"
          ]
         ]
        },
        "geo": {
         "center": {},
         "coastlinecolor": "darkgray",
         "domain": {
          "x": [
           0,
           1
          ],
          "y": [
           0,
           1
          ]
         },
         "landcolor": "lightgray",
         "projection": {
          "type": "equirectangular"
         },
         "showland": true
        },
        "height": 500,
        "legend": {
         "itemsizing": "constant",
         "tracegroupgap": 0
        },
        "template": {
         "data": {
          "bar": [
           {
            "error_x": {
             "color": "#2a3f5f"
            },
            "error_y": {
             "color": "#2a3f5f"
            },
            "marker": {
             "line": {
              "color": "#E5ECF6",
              "width": 0.5
             },
             "pattern": {
              "fillmode": "overlay",
              "size": 10,
              "solidity": 0.2
             }
            },
            "type": "bar"
           }
          ],
          "barpolar": [
           {
            "marker": {
             "line": {
              "color": "#E5ECF6",
              "width": 0.5
             },
             "pattern": {
              "fillmode": "overlay",
              "size": 10,
              "solidity": 0.2
             }
            },
            "type": "barpolar"
           }
          ],
          "carpet": [
           {
            "aaxis": {
             "endlinecolor": "#2a3f5f",
             "gridcolor": "white",
             "linecolor": "white",
             "minorgridcolor": "white",
             "startlinecolor": "#2a3f5f"
            },
            "baxis": {
             "endlinecolor": "#2a3f5f",
             "gridcolor": "white",
             "linecolor": "white",
             "minorgridcolor": "white",
             "startlinecolor": "#2a3f5f"
            },
            "type": "carpet"
           }
          ],
          "choropleth": [
           {
            "colorbar": {
             "outlinewidth": 0,
             "ticks": ""
            },
            "type": "choropleth"
           }
          ],
          "contour": [
           {
            "colorbar": {
             "outlinewidth": 0,
             "ticks": ""
            },
            "colorscale": [
             [
              0,
              "#0d0887"
             ],
             [
              0.1111111111111111,
              "#46039f"
             ],
             [
              0.2222222222222222,
              "#7201a8"
             ],
             [
              0.3333333333333333,
              "#9c179e"
             ],
             [
              0.4444444444444444,
              "#bd3786"
             ],
             [
              0.5555555555555556,
              "#d8576b"
             ],
             [
              0.6666666666666666,
              "#ed7953"
             ],
             [
              0.7777777777777778,
              "#fb9f3a"
             ],
             [
              0.8888888888888888,
              "#fdca26"
             ],
             [
              1,
              "#f0f921"
             ]
            ],
            "type": "contour"
           }
          ],
          "contourcarpet": [
           {
            "colorbar": {
             "outlinewidth": 0,
             "ticks": ""
            },
            "type": "contourcarpet"
           }
          ],
          "heatmap": [
           {
            "colorbar": {
             "outlinewidth": 0,
             "ticks": ""
            },
            "colorscale": [
             [
              0,
              "#0d0887"
             ],
             [
              0.1111111111111111,
              "#46039f"
             ],
             [
              0.2222222222222222,
              "#7201a8"
             ],
             [
              0.3333333333333333,
              "#9c179e"
             ],
             [
              0.4444444444444444,
              "#bd3786"
             ],
             [
              0.5555555555555556,
              "#d8576b"
             ],
             [
              0.6666666666666666,
              "#ed7953"
             ],
             [
              0.7777777777777778,
              "#fb9f3a"
             ],
             [
              0.8888888888888888,
              "#fdca26"
             ],
             [
              1,
              "#f0f921"
             ]
            ],
            "type": "heatmap"
           }
          ],
          "histogram": [
           {
            "marker": {
             "pattern": {
              "fillmode": "overlay",
              "size": 10,
              "solidity": 0.2
             }
            },
            "type": "histogram"
           }
          ],
          "histogram2d": [
           {
            "colorbar": {
             "outlinewidth": 0,
             "ticks": ""
            },
            "colorscale": [
             [
              0,
              "#0d0887"
             ],
             [
              0.1111111111111111,
              "#46039f"
             ],
             [
              0.2222222222222222,
              "#7201a8"
             ],
             [
              0.3333333333333333,
              "#9c179e"
             ],
             [
              0.4444444444444444,
              "#bd3786"
             ],
             [
              0.5555555555555556,
              "#d8576b"
             ],
             [
              0.6666666666666666,
              "#ed7953"
             ],
             [
              0.7777777777777778,
              "#fb9f3a"
             ],
             [
              0.8888888888888888,
              "#fdca26"
             ],
             [
              1,
              "#f0f921"
             ]
            ],
            "type": "histogram2d"
           }
          ],
          "histogram2dcontour": [
           {
            "colorbar": {
             "outlinewidth": 0,
             "ticks": ""
            },
            "colorscale": [
             [
              0,
              "#0d0887"
             ],
             [
              0.1111111111111111,
              "#46039f"
             ],
             [
              0.2222222222222222,
              "#7201a8"
             ],
             [
              0.3333333333333333,
              "#9c179e"
             ],
             [
              0.4444444444444444,
              "#bd3786"
             ],
             [
              0.5555555555555556,
              "#d8576b"
             ],
             [
              0.6666666666666666,
              "#ed7953"
             ],
             [
              0.7777777777777778,
              "#fb9f3a"
             ],
             [
              0.8888888888888888,
              "#fdca26"
             ],
             [
              1,
              "#f0f921"
             ]
            ],
            "type": "histogram2dcontour"
           }
          ],
          "mesh3d": [
           {
            "colorbar": {
             "outlinewidth": 0,
             "ticks": ""
            },
            "type": "mesh3d"
           }
          ],
          "parcoords": [
           {
            "line": {
             "colorbar": {
              "outlinewidth": 0,
              "ticks": ""
             }
            },
            "type": "parcoords"
           }
          ],
          "pie": [
           {
            "automargin": true,
            "type": "pie"
           }
          ],
          "scatter": [
           {
            "fillpattern": {
             "fillmode": "overlay",
             "size": 10,
             "solidity": 0.2
            },
            "type": "scatter"
           }
          ],
          "scatter3d": [
           {
            "line": {
             "colorbar": {
              "outlinewidth": 0,
              "ticks": ""
             }
            },
            "marker": {
             "colorbar": {
              "outlinewidth": 0,
              "ticks": ""
             }
            },
            "type": "scatter3d"
           }
          ],
          "scattercarpet": [
           {
            "marker": {
             "colorbar": {
              "outlinewidth": 0,
              "ticks": ""
             }
            },
            "type": "scattercarpet"
           }
          ],
          "scattergeo": [
           {
            "marker": {
             "colorbar": {
              "outlinewidth": 0,
              "ticks": ""
             }
            },
            "type": "scattergeo"
           }
          ],
          "scattergl": [
           {
            "marker": {
             "colorbar": {
              "outlinewidth": 0,
              "ticks": ""
             }
            },
            "type": "scattergl"
           }
          ],
          "scattermap": [
           {
            "marker": {
             "colorbar": {
              "outlinewidth": 0,
              "ticks": ""
             }
            },
            "type": "scattermap"
           }
          ],
          "scattermapbox": [
           {
            "marker": {
             "colorbar": {
              "outlinewidth": 0,
              "ticks": ""
             }
            },
            "type": "scattermapbox"
           }
          ],
          "scatterpolar": [
           {
            "marker": {
             "colorbar": {
              "outlinewidth": 0,
              "ticks": ""
             }
            },
            "type": "scatterpolar"
           }
          ],
          "scatterpolargl": [
           {
            "marker": {
             "colorbar": {
              "outlinewidth": 0,
              "ticks": ""
             }
            },
            "type": "scatterpolargl"
           }
          ],
          "scatterternary": [
           {
            "marker": {
             "colorbar": {
              "outlinewidth": 0,
              "ticks": ""
             }
            },
            "type": "scatterternary"
           }
          ],
          "surface": [
           {
            "colorbar": {
             "outlinewidth": 0,
             "ticks": ""
            },
            "colorscale": [
             [
              0,
              "#0d0887"
             ],
             [
              0.1111111111111111,
              "#46039f"
             ],
             [
              0.2222222222222222,
              "#7201a8"
             ],
             [
              0.3333333333333333,
              "#9c179e"
             ],
             [
              0.4444444444444444,
              "#bd3786"
             ],
             [
              0.5555555555555556,
              "#d8576b"
             ],
             [
              0.6666666666666666,
              "#ed7953"
             ],
             [
              0.7777777777777778,
              "#fb9f3a"
             ],
             [
              0.8888888888888888,
              "#fdca26"
             ],
             [
              1,
              "#f0f921"
             ]
            ],
            "type": "surface"
           }
          ],
          "table": [
           {
            "cells": {
             "fill": {
              "color": "#EBF0F8"
             },
             "line": {
              "color": "white"
             }
            },
            "header": {
             "fill": {
              "color": "#C8D4E3"
             },
             "line": {
              "color": "white"
             }
            },
            "type": "table"
           }
          ]
         },
         "layout": {
          "annotationdefaults": {
           "arrowcolor": "#2a3f5f",
           "arrowhead": 0,
           "arrowwidth": 1
          },
          "autotypenumbers": "strict",
          "coloraxis": {
           "colorbar": {
            "outlinewidth": 0,
            "ticks": ""
           }
          },
          "colorscale": {
           "diverging": [
            [
             0,
             "#8e0152"
            ],
            [
             0.1,
             "#c51b7d"
            ],
            [
             0.2,
             "#de77ae"
            ],
            [
             0.3,
             "#f1b6da"
            ],
            [
             0.4,
             "#fde0ef"
            ],
            [
             0.5,
             "#f7f7f7"
            ],
            [
             0.6,
             "#e6f5d0"
            ],
            [
             0.7,
             "#b8e186"
            ],
            [
             0.8,
             "#7fbc41"
            ],
            [
             0.9,
             "#4d9221"
            ],
            [
             1,
             "#276419"
            ]
           ],
           "sequential": [
            [
             0,
             "#0d0887"
            ],
            [
             0.1111111111111111,
             "#46039f"
            ],
            [
             0.2222222222222222,
             "#7201a8"
            ],
            [
             0.3333333333333333,
             "#9c179e"
            ],
            [
             0.4444444444444444,
             "#bd3786"
            ],
            [
             0.5555555555555556,
             "#d8576b"
            ],
            [
             0.6666666666666666,
             "#ed7953"
            ],
            [
             0.7777777777777778,
             "#fb9f3a"
            ],
            [
             0.8888888888888888,
             "#fdca26"
            ],
            [
             1,
             "#f0f921"
            ]
           ],
           "sequentialminus": [
            [
             0,
             "#0d0887"
            ],
            [
             0.1111111111111111,
             "#46039f"
            ],
            [
             0.2222222222222222,
             "#7201a8"
            ],
            [
             0.3333333333333333,
             "#9c179e"
            ],
            [
             0.4444444444444444,
             "#bd3786"
            ],
            [
             0.5555555555555556,
             "#d8576b"
            ],
            [
             0.6666666666666666,
             "#ed7953"
            ],
            [
             0.7777777777777778,
             "#fb9f3a"
            ],
            [
             0.8888888888888888,
             "#fdca26"
            ],
            [
             1,
             "#f0f921"
            ]
           ]
          },
          "colorway": [
           "#636efa",
           "#EF553B",
           "#00cc96",
           "#ab63fa",
           "#FFA15A",
           "#19d3f3",
           "#FF6692",
           "#B6E880",
           "#FF97FF",
           "#FECB52"
          ],
          "font": {
           "color": "#2a3f5f"
          },
          "geo": {
           "bgcolor": "white",
           "lakecolor": "white",
           "landcolor": "#E5ECF6",
           "showlakes": true,
           "showland": true,
           "subunitcolor": "white"
          },
          "hoverlabel": {
           "align": "left"
          },
          "hovermode": "closest",
          "mapbox": {
           "style": "light"
          },
          "paper_bgcolor": "white",
          "plot_bgcolor": "#E5ECF6",
          "polar": {
           "angularaxis": {
            "gridcolor": "white",
            "linecolor": "white",
            "ticks": ""
           },
           "bgcolor": "#E5ECF6",
           "radialaxis": {
            "gridcolor": "white",
            "linecolor": "white",
            "ticks": ""
           }
          },
          "scene": {
           "xaxis": {
            "backgroundcolor": "#E5ECF6",
            "gridcolor": "white",
            "gridwidth": 2,
            "linecolor": "white",
            "showbackground": true,
            "ticks": "",
            "zerolinecolor": "white"
           },
           "yaxis": {
            "backgroundcolor": "#E5ECF6",
            "gridcolor": "white",
            "gridwidth": 2,
            "linecolor": "white",
            "showbackground": true,
            "ticks": "",
            "zerolinecolor": "white"
           },
           "zaxis": {
            "backgroundcolor": "#E5ECF6",
            "gridcolor": "white",
            "gridwidth": 2,
            "linecolor": "white",
            "showbackground": true,
            "ticks": "",
            "zerolinecolor": "white"
           }
          },
          "shapedefaults": {
           "line": {
            "color": "#2a3f5f"
           }
          },
          "ternary": {
           "aaxis": {
            "gridcolor": "white",
            "linecolor": "white",
            "ticks": ""
           },
           "baxis": {
            "gridcolor": "white",
            "linecolor": "white",
            "ticks": ""
           },
           "bgcolor": "#E5ECF6",
           "caxis": {
            "gridcolor": "white",
            "linecolor": "white",
            "ticks": ""
           }
          },
          "title": {
           "x": 0.05
          },
          "xaxis": {
           "automargin": true,
           "gridcolor": "white",
           "linecolor": "white",
           "ticks": "",
           "title": {
            "standoff": 15
           },
           "zerolinecolor": "white",
           "zerolinewidth": 2
          },
          "yaxis": {
           "automargin": true,
           "gridcolor": "white",
           "linecolor": "white",
           "ticks": "",
           "title": {
            "standoff": 15
           },
           "zerolinecolor": "white",
           "zerolinewidth": 2
          }
         }
        },
        "title": {
         "text": "🌍 Distribución Global de Jugadores por País de Origen"
        },
        "width": 900
       }
      },
      "text/html": [
       "<div>            <script src=\"https://cdnjs.cloudflare.com/ajax/libs/mathjax/2.7.5/MathJax.js?config=TeX-AMS-MML_SVG\"></script><script type=\"text/javascript\">if (window.MathJax && window.MathJax.Hub && window.MathJax.Hub.Config) {window.MathJax.Hub.Config({SVG: {font: \"STIX-Web\"}});}</script>                <script type=\"text/javascript\">window.PlotlyConfig = {MathJaxConfig: 'local'};</script>\n",
       "        <script charset=\"utf-8\" src=\"https://cdn.plot.ly/plotly-3.0.1.min.js\" integrity=\"sha256-oy6Be7Eh6eiQFs5M7oXuPxxm9qbJXEtTpfSI93dW16Q=\" crossorigin=\"anonymous\"></script>                <div id=\"05a96806-124e-4f98-8815-9395c991532a\" class=\"plotly-graph-div\" style=\"height:500px; width:900px;\"></div>            <script type=\"text/javascript\">                window.PLOTLYENV=window.PLOTLYENV || {};                                if (document.getElementById(\"05a96806-124e-4f98-8815-9395c991532a\")) {                    Plotly.newPlot(                        \"05a96806-124e-4f98-8815-9395c991532a\",                        [{\"customdata\":{\"dtype\":\"f8\",\"bdata\":\"AAAAAAAAMUDQz8\\u002fPzw9TQAAAAAAAADZARhdddNEVU0AAAAAAAIBBQIac++wCYlNAAAAAAAAACECZmZmZmRlUQAAAAAAAAAhAvLu7u7t7UkAAAAAAAIBQQLrooosualNAAAAAAAAAMEBmZmZmZgZTQAAAAAAAACBAmpmZmZn9UUAAAAAAAAAcQB3UQR3UAVNAAAAAAAAAGEBnZmZmZgZTQAAAAAAAACxA+Yqv+IrPUkAAAAAAAAAIQLy7u7u7W1NA\",\"shape\":\"12, 2\"},\"geo\":\"geo\",\"hovertemplate\":\"\\u003cb\\u003e%{hovertext}\\u003c\\u002fb\\u003e\\u003cbr\\u003e\\u003cbr\\u003eNúmero de Jugadores=%{customdata[0]}\\u003cbr\\u003elat=%{lat}\\u003cbr\\u003elon=%{lon}\\u003cbr\\u003erating_promedio=%{customdata[1]}\\u003cbr\\u003eValor Promedio (M€)=%{marker.color}\\u003cextra\\u003e\\u003c\\u002fextra\\u003e\",\"hovertext\":[\"Alemania\",\"Argentina\",\"Brasil\",\"Chile\",\"Colombia\",\"España\",\"Francia\",\"Inglaterra\",\"Italia\",\"México\",\"Portugal\",\"Uruguay\"],\"lat\":{\"dtype\":\"f8\",\"bdata\":\"PnlYqDWVSUDM7snDQjVDwLgehetReCzAysNCrWnWQcBGJXUCmkgSQIV80LNZNURABTQRNjxNR0Av3SQGgS1KQPKwUGua70RA30+Nl26iN0DQ1VbsL7NDQKUsQxzrQkDA\"},\"legendgroup\":\"\",\"lon\":{\"dtype\":\"f8\",\"bdata\":\"ukkMAivnJEC7uI0G8M5PwJF++zpw9knAmG4Sg8DiUcB0RpT2BpNSwP5l9+RhoQ3AvJaQD3o2\\u002fj+1FfvL7snyvzSAt0CCIilApU5AE2GjWcBt5\\u002fup8XIgwG6jAbwF4kvA\"},\"marker\":{\"color\":{\"dtype\":\"f8\",\"bdata\":\"DAwMDAwMOkA9JchTgrw9QODJanljhEBAzczMzMxMOUDv7u7u7u44QLdCcSsUtz5AzczMzMxsO0DNzMzMzBw3QG7btm3bNj9A7+7u7u7OQECogzqog3o6QBEREREREURA\"},\"coloraxis\":\"coloraxis\",\"size\":{\"dtype\":\"i1\",\"bdata\":\"ERYjAwNCEAgHBg4D\"},\"sizemode\":\"area\",\"sizeref\":0.165,\"symbol\":\"circle\"},\"mode\":\"markers\",\"name\":\"\",\"showlegend\":false,\"type\":\"scattergeo\"}],                        {\"template\":{\"data\":{\"histogram2dcontour\":[{\"type\":\"histogram2dcontour\",\"colorbar\":{\"outlinewidth\":0,\"ticks\":\"\"},\"colorscale\":[[0.0,\"#0d0887\"],[0.1111111111111111,\"#46039f\"],[0.2222222222222222,\"#7201a8\"],[0.3333333333333333,\"#9c179e\"],[0.4444444444444444,\"#bd3786\"],[0.5555555555555556,\"#d8576b\"],[0.6666666666666666,\"#ed7953\"],[0.7777777777777778,\"#fb9f3a\"],[0.8888888888888888,\"#fdca26\"],[1.0,\"#f0f921\"]]}],\"choropleth\":[{\"type\":\"choropleth\",\"colorbar\":{\"outlinewidth\":0,\"ticks\":\"\"}}],\"histogram2d\":[{\"type\":\"histogram2d\",\"colorbar\":{\"outlinewidth\":0,\"ticks\":\"\"},\"colorscale\":[[0.0,\"#0d0887\"],[0.1111111111111111,\"#46039f\"],[0.2222222222222222,\"#7201a8\"],[0.3333333333333333,\"#9c179e\"],[0.4444444444444444,\"#bd3786\"],[0.5555555555555556,\"#d8576b\"],[0.6666666666666666,\"#ed7953\"],[0.7777777777777778,\"#fb9f3a\"],[0.8888888888888888,\"#fdca26\"],[1.0,\"#f0f921\"]]}],\"heatmap\":[{\"type\":\"heatmap\",\"colorbar\":{\"outlinewidth\":0,\"ticks\":\"\"},\"colorscale\":[[0.0,\"#0d0887\"],[0.1111111111111111,\"#46039f\"],[0.2222222222222222,\"#7201a8\"],[0.3333333333333333,\"#9c179e\"],[0.4444444444444444,\"#bd3786\"],[0.5555555555555556,\"#d8576b\"],[0.6666666666666666,\"#ed7953\"],[0.7777777777777778,\"#fb9f3a\"],[0.8888888888888888,\"#fdca26\"],[1.0,\"#f0f921\"]]}],\"contourcarpet\":[{\"type\":\"contourcarpet\",\"colorbar\":{\"outlinewidth\":0,\"ticks\":\"\"}}],\"contour\":[{\"type\":\"contour\",\"colorbar\":{\"outlinewidth\":0,\"ticks\":\"\"},\"colorscale\":[[0.0,\"#0d0887\"],[0.1111111111111111,\"#46039f\"],[0.2222222222222222,\"#7201a8\"],[0.3333333333333333,\"#9c179e\"],[0.4444444444444444,\"#bd3786\"],[0.5555555555555556,\"#d8576b\"],[0.6666666666666666,\"#ed7953\"],[0.7777777777777778,\"#fb9f3a\"],[0.8888888888888888,\"#fdca26\"],[1.0,\"#f0f921\"]]}],\"surface\":[{\"type\":\"surface\",\"colorbar\":{\"outlinewidth\":0,\"ticks\":\"\"},\"colorscale\":[[0.0,\"#0d0887\"],[0.1111111111111111,\"#46039f\"],[0.2222222222222222,\"#7201a8\"],[0.3333333333333333,\"#9c179e\"],[0.4444444444444444,\"#bd3786\"],[0.5555555555555556,\"#d8576b\"],[0.6666666666666666,\"#ed7953\"],[0.7777777777777778,\"#fb9f3a\"],[0.8888888888888888,\"#fdca26\"],[1.0,\"#f0f921\"]]}],\"mesh3d\":[{\"type\":\"mesh3d\",\"colorbar\":{\"outlinewidth\":0,\"ticks\":\"\"}}],\"scatter\":[{\"fillpattern\":{\"fillmode\":\"overlay\",\"size\":10,\"solidity\":0.2},\"type\":\"scatter\"}],\"parcoords\":[{\"type\":\"parcoords\",\"line\":{\"colorbar\":{\"outlinewidth\":0,\"ticks\":\"\"}}}],\"scatterpolargl\":[{\"type\":\"scatterpolargl\",\"marker\":{\"colorbar\":{\"outlinewidth\":0,\"ticks\":\"\"}}}],\"bar\":[{\"error_x\":{\"color\":\"#2a3f5f\"},\"error_y\":{\"color\":\"#2a3f5f\"},\"marker\":{\"line\":{\"color\":\"#E5ECF6\",\"width\":0.5},\"pattern\":{\"fillmode\":\"overlay\",\"size\":10,\"solidity\":0.2}},\"type\":\"bar\"}],\"scattergeo\":[{\"type\":\"scattergeo\",\"marker\":{\"colorbar\":{\"outlinewidth\":0,\"ticks\":\"\"}}}],\"scatterpolar\":[{\"type\":\"scatterpolar\",\"marker\":{\"colorbar\":{\"outlinewidth\":0,\"ticks\":\"\"}}}],\"histogram\":[{\"marker\":{\"pattern\":{\"fillmode\":\"overlay\",\"size\":10,\"solidity\":0.2}},\"type\":\"histogram\"}],\"scattergl\":[{\"type\":\"scattergl\",\"marker\":{\"colorbar\":{\"outlinewidth\":0,\"ticks\":\"\"}}}],\"scatter3d\":[{\"type\":\"scatter3d\",\"line\":{\"colorbar\":{\"outlinewidth\":0,\"ticks\":\"\"}},\"marker\":{\"colorbar\":{\"outlinewidth\":0,\"ticks\":\"\"}}}],\"scattermap\":[{\"type\":\"scattermap\",\"marker\":{\"colorbar\":{\"outlinewidth\":0,\"ticks\":\"\"}}}],\"scattermapbox\":[{\"type\":\"scattermapbox\",\"marker\":{\"colorbar\":{\"outlinewidth\":0,\"ticks\":\"\"}}}],\"scatterternary\":[{\"type\":\"scatterternary\",\"marker\":{\"colorbar\":{\"outlinewidth\":0,\"ticks\":\"\"}}}],\"scattercarpet\":[{\"type\":\"scattercarpet\",\"marker\":{\"colorbar\":{\"outlinewidth\":0,\"ticks\":\"\"}}}],\"carpet\":[{\"aaxis\":{\"endlinecolor\":\"#2a3f5f\",\"gridcolor\":\"white\",\"linecolor\":\"white\",\"minorgridcolor\":\"white\",\"startlinecolor\":\"#2a3f5f\"},\"baxis\":{\"endlinecolor\":\"#2a3f5f\",\"gridcolor\":\"white\",\"linecolor\":\"white\",\"minorgridcolor\":\"white\",\"startlinecolor\":\"#2a3f5f\"},\"type\":\"carpet\"}],\"table\":[{\"cells\":{\"fill\":{\"color\":\"#EBF0F8\"},\"line\":{\"color\":\"white\"}},\"header\":{\"fill\":{\"color\":\"#C8D4E3\"},\"line\":{\"color\":\"white\"}},\"type\":\"table\"}],\"barpolar\":[{\"marker\":{\"line\":{\"color\":\"#E5ECF6\",\"width\":0.5},\"pattern\":{\"fillmode\":\"overlay\",\"size\":10,\"solidity\":0.2}},\"type\":\"barpolar\"}],\"pie\":[{\"automargin\":true,\"type\":\"pie\"}]},\"layout\":{\"autotypenumbers\":\"strict\",\"colorway\":[\"#636efa\",\"#EF553B\",\"#00cc96\",\"#ab63fa\",\"#FFA15A\",\"#19d3f3\",\"#FF6692\",\"#B6E880\",\"#FF97FF\",\"#FECB52\"],\"font\":{\"color\":\"#2a3f5f\"},\"hovermode\":\"closest\",\"hoverlabel\":{\"align\":\"left\"},\"paper_bgcolor\":\"white\",\"plot_bgcolor\":\"#E5ECF6\",\"polar\":{\"bgcolor\":\"#E5ECF6\",\"angularaxis\":{\"gridcolor\":\"white\",\"linecolor\":\"white\",\"ticks\":\"\"},\"radialaxis\":{\"gridcolor\":\"white\",\"linecolor\":\"white\",\"ticks\":\"\"}},\"ternary\":{\"bgcolor\":\"#E5ECF6\",\"aaxis\":{\"gridcolor\":\"white\",\"linecolor\":\"white\",\"ticks\":\"\"},\"baxis\":{\"gridcolor\":\"white\",\"linecolor\":\"white\",\"ticks\":\"\"},\"caxis\":{\"gridcolor\":\"white\",\"linecolor\":\"white\",\"ticks\":\"\"}},\"coloraxis\":{\"colorbar\":{\"outlinewidth\":0,\"ticks\":\"\"}},\"colorscale\":{\"sequential\":[[0.0,\"#0d0887\"],[0.1111111111111111,\"#46039f\"],[0.2222222222222222,\"#7201a8\"],[0.3333333333333333,\"#9c179e\"],[0.4444444444444444,\"#bd3786\"],[0.5555555555555556,\"#d8576b\"],[0.6666666666666666,\"#ed7953\"],[0.7777777777777778,\"#fb9f3a\"],[0.8888888888888888,\"#fdca26\"],[1.0,\"#f0f921\"]],\"sequentialminus\":[[0.0,\"#0d0887\"],[0.1111111111111111,\"#46039f\"],[0.2222222222222222,\"#7201a8\"],[0.3333333333333333,\"#9c179e\"],[0.4444444444444444,\"#bd3786\"],[0.5555555555555556,\"#d8576b\"],[0.6666666666666666,\"#ed7953\"],[0.7777777777777778,\"#fb9f3a\"],[0.8888888888888888,\"#fdca26\"],[1.0,\"#f0f921\"]],\"diverging\":[[0,\"#8e0152\"],[0.1,\"#c51b7d\"],[0.2,\"#de77ae\"],[0.3,\"#f1b6da\"],[0.4,\"#fde0ef\"],[0.5,\"#f7f7f7\"],[0.6,\"#e6f5d0\"],[0.7,\"#b8e186\"],[0.8,\"#7fbc41\"],[0.9,\"#4d9221\"],[1,\"#276419\"]]},\"xaxis\":{\"gridcolor\":\"white\",\"linecolor\":\"white\",\"ticks\":\"\",\"title\":{\"standoff\":15},\"zerolinecolor\":\"white\",\"automargin\":true,\"zerolinewidth\":2},\"yaxis\":{\"gridcolor\":\"white\",\"linecolor\":\"white\",\"ticks\":\"\",\"title\":{\"standoff\":15},\"zerolinecolor\":\"white\",\"automargin\":true,\"zerolinewidth\":2},\"scene\":{\"xaxis\":{\"backgroundcolor\":\"#E5ECF6\",\"gridcolor\":\"white\",\"linecolor\":\"white\",\"showbackground\":true,\"ticks\":\"\",\"zerolinecolor\":\"white\",\"gridwidth\":2},\"yaxis\":{\"backgroundcolor\":\"#E5ECF6\",\"gridcolor\":\"white\",\"linecolor\":\"white\",\"showbackground\":true,\"ticks\":\"\",\"zerolinecolor\":\"white\",\"gridwidth\":2},\"zaxis\":{\"backgroundcolor\":\"#E5ECF6\",\"gridcolor\":\"white\",\"linecolor\":\"white\",\"showbackground\":true,\"ticks\":\"\",\"zerolinecolor\":\"white\",\"gridwidth\":2}},\"shapedefaults\":{\"line\":{\"color\":\"#2a3f5f\"}},\"annotationdefaults\":{\"arrowcolor\":\"#2a3f5f\",\"arrowhead\":0,\"arrowwidth\":1},\"geo\":{\"bgcolor\":\"white\",\"landcolor\":\"#E5ECF6\",\"subunitcolor\":\"white\",\"showland\":true,\"showlakes\":true,\"lakecolor\":\"white\"},\"title\":{\"x\":0.05},\"mapbox\":{\"style\":\"light\"}}},\"geo\":{\"domain\":{\"x\":[0.0,1.0],\"y\":[0.0,1.0]},\"center\":{},\"projection\":{\"type\":\"equirectangular\"},\"showland\":true,\"landcolor\":\"lightgray\",\"coastlinecolor\":\"darkgray\"},\"coloraxis\":{\"colorbar\":{\"title\":{\"text\":\"Valor Promedio (M€)\"}},\"colorscale\":[[0.0,\"#0d0887\"],[0.1111111111111111,\"#46039f\"],[0.2222222222222222,\"#7201a8\"],[0.3333333333333333,\"#9c179e\"],[0.4444444444444444,\"#bd3786\"],[0.5555555555555556,\"#d8576b\"],[0.6666666666666666,\"#ed7953\"],[0.7777777777777778,\"#fb9f3a\"],[0.8888888888888888,\"#fdca26\"],[1.0,\"#f0f921\"]]},\"legend\":{\"tracegroupgap\":0,\"itemsizing\":\"constant\"},\"title\":{\"text\":\"🌍 Distribución Global de Jugadores por País de Origen\"},\"width\":900,\"height\":500},                        {\"responsive\": true}                    ).then(function(){\n",
       "                            \n",
       "var gd = document.getElementById('05a96806-124e-4f98-8815-9395c991532a');\n",
       "var x = new MutationObserver(function (mutations, observer) {{\n",
       "        var display = window.getComputedStyle(gd).display;\n",
       "        if (!display || display === 'none') {{\n",
       "            console.log([gd, 'removed!']);\n",
       "            Plotly.purge(gd);\n",
       "            observer.disconnect();\n",
       "        }}\n",
       "}});\n",
       "\n",
       "// Listen for the removal of the full notebook cells\n",
       "var notebookContainer = gd.closest('#notebook-container');\n",
       "if (notebookContainer) {{\n",
       "    x.observe(notebookContainer, {childList: true});\n",
       "}}\n",
       "\n",
       "// Listen for the clearing of the current output cell\n",
       "var outputEl = gd.closest('.output');\n",
       "if (outputEl) {{\n",
       "    x.observe(outputEl, {childList: true});\n",
       "}}\n",
       "\n",
       "                        })                };            </script>        </div>"
      ]
     },
     "metadata": {},
     "output_type": "display_data"
    },
    {
     "name": "stdout",
     "output_type": "stream",
     "text": [
      "✅ Mapa geográfico de origen de jugadores creado\n"
     ]
    },
    {
     "data": {
      "application/vnd.plotly.v1+json": {
       "config": {
        "plotlyServerURL": "https://plot.ly"
       },
       "data": [
        {
         "hovertemplate": "Equipo=Real Madrid<br>Fecha=%{x}<br>Puntos Acumulados=%{y}<extra></extra>",
         "legendgroup": "Real Madrid",
         "line": {
          "color": "#636efa",
          "dash": "solid"
         },
         "marker": {
          "symbol": "circle"
         },
         "mode": "lines",
         "name": "Real Madrid",
         "orientation": "v",
         "showlegend": true,
         "type": "scatter",
         "x": [
          "2024-08-04T00:00:00",
          "2024-08-11T00:00:00",
          "2024-08-18T00:00:00",
          "2024-08-25T00:00:00",
          "2024-09-01T00:00:00",
          "2024-09-08T00:00:00",
          "2024-09-15T00:00:00",
          "2024-09-22T00:00:00",
          "2024-09-29T00:00:00",
          "2024-10-06T00:00:00",
          "2024-10-13T00:00:00",
          "2024-10-20T00:00:00",
          "2024-10-27T00:00:00",
          "2024-11-03T00:00:00",
          "2024-11-10T00:00:00",
          "2024-11-17T00:00:00",
          "2024-11-24T00:00:00",
          "2024-12-01T00:00:00",
          "2024-12-08T00:00:00",
          "2024-12-15T00:00:00"
         ],
         "xaxis": "x",
         "y": {
          "bdata": "AAIBBAYAEwEKFwgZGScBJi8CCSk=",
          "dtype": "i1"
         },
         "yaxis": "y"
        },
        {
         "hovertemplate": "Equipo=Barcelona<br>Fecha=%{x}<br>Puntos Acumulados=%{y}<extra></extra>",
         "legendgroup": "Barcelona",
         "line": {
          "color": "#EF553B",
          "dash": "solid"
         },
         "marker": {
          "symbol": "circle"
         },
         "mode": "lines",
         "name": "Barcelona",
         "orientation": "v",
         "showlegend": true,
         "type": "scatter",
         "x": [
          "2024-08-04T00:00:00",
          "2024-08-11T00:00:00",
          "2024-08-18T00:00:00",
          "2024-08-25T00:00:00",
          "2024-09-01T00:00:00",
          "2024-09-08T00:00:00",
          "2024-09-15T00:00:00",
          "2024-09-22T00:00:00",
          "2024-09-29T00:00:00",
          "2024-10-06T00:00:00",
          "2024-10-13T00:00:00",
          "2024-10-20T00:00:00",
          "2024-10-27T00:00:00",
          "2024-11-03T00:00:00",
          "2024-11-10T00:00:00",
          "2024-11-17T00:00:00",
          "2024-11-24T00:00:00",
          "2024-12-01T00:00:00",
          "2024-12-08T00:00:00",
          "2024-12-15T00:00:00"
         ],
         "xaxis": "x",
         "y": {
          "bdata": "AgQAAgMPCRQOBRQQGRAHKgILODo=",
          "dtype": "i1"
         },
         "yaxis": "y"
        },
        {
         "hovertemplate": "Equipo=Atlético Madrid<br>Fecha=%{x}<br>Puntos Acumulados=%{y}<extra></extra>",
         "legendgroup": "Atlético Madrid",
         "line": {
          "color": "#00cc96",
          "dash": "solid"
         },
         "marker": {
          "symbol": "circle"
         },
         "mode": "lines",
         "name": "Atlético Madrid",
         "orientation": "v",
         "showlegend": true,
         "type": "scatter",
         "x": [
          "2024-08-04T00:00:00",
          "2024-08-11T00:00:00",
          "2024-08-18T00:00:00",
          "2024-08-25T00:00:00",
          "2024-09-01T00:00:00",
          "2024-09-08T00:00:00",
          "2024-09-15T00:00:00",
          "2024-09-22T00:00:00",
          "2024-09-29T00:00:00",
          "2024-10-06T00:00:00",
          "2024-10-13T00:00:00",
          "2024-10-20T00:00:00",
          "2024-10-27T00:00:00",
          "2024-11-03T00:00:00",
          "2024-11-10T00:00:00",
          "2024-11-17T00:00:00",
          "2024-11-24T00:00:00",
          "2024-12-01T00:00:00",
          "2024-12-08T00:00:00",
          "2024-12-15T00:00:00"
         ],
         "xaxis": "x",
         "y": {
          "bdata": "AgAICAkLBBAaCB4FBQAqFiogHTA=",
          "dtype": "i1"
         },
         "yaxis": "y"
        },
        {
         "hovertemplate": "Equipo=Valencia<br>Fecha=%{x}<br>Puntos Acumulados=%{y}<extra></extra>",
         "legendgroup": "Valencia",
         "line": {
          "color": "#ab63fa",
          "dash": "solid"
         },
         "marker": {
          "symbol": "circle"
         },
         "mode": "lines",
         "name": "Valencia",
         "orientation": "v",
         "showlegend": true,
         "type": "scatter",
         "x": [
          "2024-08-04T00:00:00",
          "2024-08-11T00:00:00",
          "2024-08-18T00:00:00",
          "2024-08-25T00:00:00",
          "2024-09-01T00:00:00",
          "2024-09-08T00:00:00",
          "2024-09-15T00:00:00",
          "2024-09-22T00:00:00",
          "2024-09-29T00:00:00",
          "2024-10-06T00:00:00",
          "2024-10-13T00:00:00",
          "2024-10-20T00:00:00",
          "2024-10-27T00:00:00",
          "2024-11-03T00:00:00",
          "2024-11-10T00:00:00",
          "2024-11-17T00:00:00",
          "2024-11-24T00:00:00",
          "2024-12-01T00:00:00",
          "2024-12-08T00:00:00",
          "2024-12-15T00:00:00"
         ],
         "xaxis": "x",
         "y": {
          "bdata": "AAMHAgMPDxQCAQsNESMmBQMoKCI=",
          "dtype": "i1"
         },
         "yaxis": "y"
        },
        {
         "hovertemplate": "Equipo=Sevilla<br>Fecha=%{x}<br>Puntos Acumulados=%{y}<extra></extra>",
         "legendgroup": "Sevilla",
         "line": {
          "color": "#FFA15A",
          "dash": "solid"
         },
         "marker": {
          "symbol": "circle"
         },
         "mode": "lines",
         "name": "Sevilla",
         "orientation": "v",
         "showlegend": true,
         "type": "scatter",
         "x": [
          "2024-08-04T00:00:00",
          "2024-08-11T00:00:00",
          "2024-08-18T00:00:00",
          "2024-08-25T00:00:00",
          "2024-09-01T00:00:00",
          "2024-09-08T00:00:00",
          "2024-09-15T00:00:00",
          "2024-09-22T00:00:00",
          "2024-09-29T00:00:00",
          "2024-10-06T00:00:00",
          "2024-10-13T00:00:00",
          "2024-10-20T00:00:00",
          "2024-10-27T00:00:00",
          "2024-11-03T00:00:00",
          "2024-11-10T00:00:00",
          "2024-11-17T00:00:00",
          "2024-11-24T00:00:00",
          "2024-12-01T00:00:00",
          "2024-12-08T00:00:00",
          "2024-12-15T00:00:00"
         ],
         "xaxis": "x",
         "y": {
          "bdata": "AAMAAAMFAgAWGxUODQ0HLRAJIhk=",
          "dtype": "i1"
         },
         "yaxis": "y"
        },
        {
         "hovertemplate": "Equipo=Athletic Bilbao<br>Fecha=%{x}<br>Puntos Acumulados=%{y}<extra></extra>",
         "legendgroup": "Athletic Bilbao",
         "line": {
          "color": "#19d3f3",
          "dash": "solid"
         },
         "marker": {
          "symbol": "circle"
         },
         "mode": "lines",
         "name": "Athletic Bilbao",
         "orientation": "v",
         "showlegend": true,
         "type": "scatter",
         "x": [
          "2024-08-04T00:00:00",
          "2024-08-11T00:00:00",
          "2024-08-18T00:00:00",
          "2024-08-25T00:00:00",
          "2024-09-01T00:00:00",
          "2024-09-08T00:00:00",
          "2024-09-15T00:00:00",
          "2024-09-22T00:00:00",
          "2024-09-29T00:00:00",
          "2024-10-06T00:00:00",
          "2024-10-13T00:00:00",
          "2024-10-20T00:00:00",
          "2024-10-27T00:00:00",
          "2024-11-03T00:00:00",
          "2024-11-10T00:00:00",
          "2024-11-17T00:00:00",
          "2024-11-24T00:00:00",
          "2024-12-01T00:00:00",
          "2024-12-08T00:00:00",
          "2024-12-15T00:00:00"
         ],
         "xaxis": "x",
         "y": {
          "bdata": "AgQCAQAIFA4HCgAaBg4rHAQuITg=",
          "dtype": "i1"
         },
         "yaxis": "y"
        },
        {
         "hovertemplate": "Equipo=Real Sociedad<br>Fecha=%{x}<br>Puntos Acumulados=%{y}<extra></extra>",
         "legendgroup": "Real Sociedad",
         "line": {
          "color": "#FF6692",
          "dash": "solid"
         },
         "marker": {
          "symbol": "circle"
         },
         "mode": "lines",
         "name": "Real Sociedad",
         "orientation": "v",
         "showlegend": true,
         "type": "scatter",
         "x": [
          "2024-08-04T00:00:00",
          "2024-08-11T00:00:00",
          "2024-08-18T00:00:00",
          "2024-08-25T00:00:00",
          "2024-09-01T00:00:00",
          "2024-09-08T00:00:00",
          "2024-09-15T00:00:00",
          "2024-09-22T00:00:00",
          "2024-09-29T00:00:00",
          "2024-10-06T00:00:00",
          "2024-10-13T00:00:00",
          "2024-10-20T00:00:00",
          "2024-10-27T00:00:00",
          "2024-11-03T00:00:00",
          "2024-11-10T00:00:00",
          "2024-11-17T00:00:00",
          "2024-11-24T00:00:00",
          "2024-12-01T00:00:00",
          "2024-12-08T00:00:00",
          "2024-12-15T00:00:00"
         ],
         "xaxis": "x",
         "y": {
          "bdata": "AQMAAgYLDg0YCxQeDgMpHwUzCi4=",
          "dtype": "i1"
         },
         "yaxis": "y"
        },
        {
         "hovertemplate": "Equipo=Villarreal<br>Fecha=%{x}<br>Puntos Acumulados=%{y}<extra></extra>",
         "legendgroup": "Villarreal",
         "line": {
          "color": "#B6E880",
          "dash": "solid"
         },
         "marker": {
          "symbol": "circle"
         },
         "mode": "lines",
         "name": "Villarreal",
         "orientation": "v",
         "showlegend": true,
         "type": "scatter",
         "x": [
          "2024-08-04T00:00:00",
          "2024-08-11T00:00:00",
          "2024-08-18T00:00:00",
          "2024-08-25T00:00:00",
          "2024-09-01T00:00:00",
          "2024-09-08T00:00:00",
          "2024-09-15T00:00:00",
          "2024-09-22T00:00:00",
          "2024-09-29T00:00:00",
          "2024-10-06T00:00:00",
          "2024-10-13T00:00:00",
          "2024-10-20T00:00:00",
          "2024-10-27T00:00:00",
          "2024-11-03T00:00:00",
          "2024-11-10T00:00:00",
          "2024-11-17T00:00:00",
          "2024-11-24T00:00:00",
          "2024-12-01T00:00:00",
          "2024-12-08T00:00:00",
          "2024-12-15T00:00:00"
         ],
         "xaxis": "x",
         "y": {
          "bdata": "AQAECgINEQ0HDBUiIg8PDgAdFCk=",
          "dtype": "i1"
         },
         "yaxis": "y"
        },
        {
         "hovertemplate": "Equipo=Betis<br>Fecha=%{x}<br>Puntos Acumulados=%{y}<extra></extra>",
         "legendgroup": "Betis",
         "line": {
          "color": "#FF97FF",
          "dash": "solid"
         },
         "marker": {
          "symbol": "circle"
         },
         "mode": "lines",
         "name": "Betis",
         "orientation": "v",
         "showlegend": true,
         "type": "scatter",
         "x": [
          "2024-08-04T00:00:00",
          "2024-08-11T00:00:00",
          "2024-08-18T00:00:00",
          "2024-08-25T00:00:00",
          "2024-09-01T00:00:00",
          "2024-09-08T00:00:00",
          "2024-09-15T00:00:00",
          "2024-09-22T00:00:00",
          "2024-09-29T00:00:00",
          "2024-10-06T00:00:00",
          "2024-10-13T00:00:00",
          "2024-10-20T00:00:00",
          "2024-10-27T00:00:00",
          "2024-11-03T00:00:00",
          "2024-11-10T00:00:00",
          "2024-11-17T00:00:00",
          "2024-11-24T00:00:00",
          "2024-12-01T00:00:00",
          "2024-12-08T00:00:00",
          "2024-12-15T00:00:00"
         ],
         "xaxis": "x",
         "y": {
          "bdata": "AQUGAgIBAxcEHA8EEgMJHy8hBgw=",
          "dtype": "i1"
         },
         "yaxis": "y"
        },
        {
         "hovertemplate": "Equipo=Espanyol<br>Fecha=%{x}<br>Puntos Acumulados=%{y}<extra></extra>",
         "legendgroup": "Espanyol",
         "line": {
          "color": "#FECB52",
          "dash": "solid"
         },
         "marker": {
          "symbol": "circle"
         },
         "mode": "lines",
         "name": "Espanyol",
         "orientation": "v",
         "showlegend": true,
         "type": "scatter",
         "x": [
          "2024-08-04T00:00:00",
          "2024-08-11T00:00:00",
          "2024-08-18T00:00:00",
          "2024-08-25T00:00:00",
          "2024-09-01T00:00:00",
          "2024-09-08T00:00:00",
          "2024-09-15T00:00:00",
          "2024-09-22T00:00:00",
          "2024-09-29T00:00:00",
          "2024-10-06T00:00:00",
          "2024-10-13T00:00:00",
          "2024-10-20T00:00:00",
          "2024-10-27T00:00:00",
          "2024-11-03T00:00:00",
          "2024-11-10T00:00:00",
          "2024-11-17T00:00:00",
          "2024-11-24T00:00:00",
          "2024-12-01T00:00:00",
          "2024-12-08T00:00:00",
          "2024-12-15T00:00:00"
         ],
         "xaxis": "x",
         "y": {
          "bdata": "AQMFCwcJDwQUGxAWIhsECQwvATU=",
          "dtype": "i1"
         },
         "yaxis": "y"
        }
       ],
       "layout": {
        "height": 500,
        "hovermode": "x unified",
        "legend": {
         "title": {
          "text": "Equipo"
         },
         "tracegroupgap": 0
        },
        "template": {
         "data": {
          "bar": [
           {
            "error_x": {
             "color": "#2a3f5f"
            },
            "error_y": {
             "color": "#2a3f5f"
            },
            "marker": {
             "line": {
              "color": "white",
              "width": 0.5
             },
             "pattern": {
              "fillmode": "overlay",
              "size": 10,
              "solidity": 0.2
             }
            },
            "type": "bar"
           }
          ],
          "barpolar": [
           {
            "marker": {
             "line": {
              "color": "white",
              "width": 0.5
             },
             "pattern": {
              "fillmode": "overlay",
              "size": 10,
              "solidity": 0.2
             }
            },
            "type": "barpolar"
           }
          ],
          "carpet": [
           {
            "aaxis": {
             "endlinecolor": "#2a3f5f",
             "gridcolor": "#C8D4E3",
             "linecolor": "#C8D4E3",
             "minorgridcolor": "#C8D4E3",
             "startlinecolor": "#2a3f5f"
            },
            "baxis": {
             "endlinecolor": "#2a3f5f",
             "gridcolor": "#C8D4E3",
             "linecolor": "#C8D4E3",
             "minorgridcolor": "#C8D4E3",
             "startlinecolor": "#2a3f5f"
            },
            "type": "carpet"
           }
          ],
          "choropleth": [
           {
            "colorbar": {
             "outlinewidth": 0,
             "ticks": ""
            },
            "type": "choropleth"
           }
          ],
          "contour": [
           {
            "colorbar": {
             "outlinewidth": 0,
             "ticks": ""
            },
            "colorscale": [
             [
              0,
              "#0d0887"
             ],
             [
              0.1111111111111111,
              "#46039f"
             ],
             [
              0.2222222222222222,
              "#7201a8"
             ],
             [
              0.3333333333333333,
              "#9c179e"
             ],
             [
              0.4444444444444444,
              "#bd3786"
             ],
             [
              0.5555555555555556,
              "#d8576b"
             ],
             [
              0.6666666666666666,
              "#ed7953"
             ],
             [
              0.7777777777777778,
              "#fb9f3a"
             ],
             [
              0.8888888888888888,
              "#fdca26"
             ],
             [
              1,
              "#f0f921"
             ]
            ],
            "type": "contour"
           }
          ],
          "contourcarpet": [
           {
            "colorbar": {
             "outlinewidth": 0,
             "ticks": ""
            },
            "type": "contourcarpet"
           }
          ],
          "heatmap": [
           {
            "colorbar": {
             "outlinewidth": 0,
             "ticks": ""
            },
            "colorscale": [
             [
              0,
              "#0d0887"
             ],
             [
              0.1111111111111111,
              "#46039f"
             ],
             [
              0.2222222222222222,
              "#7201a8"
             ],
             [
              0.3333333333333333,
              "#9c179e"
             ],
             [
              0.4444444444444444,
              "#bd3786"
             ],
             [
              0.5555555555555556,
              "#d8576b"
             ],
             [
              0.6666666666666666,
              "#ed7953"
             ],
             [
              0.7777777777777778,
              "#fb9f3a"
             ],
             [
              0.8888888888888888,
              "#fdca26"
             ],
             [
              1,
              "#f0f921"
             ]
            ],
            "type": "heatmap"
           }
          ],
          "histogram": [
           {
            "marker": {
             "pattern": {
              "fillmode": "overlay",
              "size": 10,
              "solidity": 0.2
             }
            },
            "type": "histogram"
           }
          ],
          "histogram2d": [
           {
            "colorbar": {
             "outlinewidth": 0,
             "ticks": ""
            },
            "colorscale": [
             [
              0,
              "#0d0887"
             ],
             [
              0.1111111111111111,
              "#46039f"
             ],
             [
              0.2222222222222222,
              "#7201a8"
             ],
             [
              0.3333333333333333,
              "#9c179e"
             ],
             [
              0.4444444444444444,
              "#bd3786"
             ],
             [
              0.5555555555555556,
              "#d8576b"
             ],
             [
              0.6666666666666666,
              "#ed7953"
             ],
             [
              0.7777777777777778,
              "#fb9f3a"
             ],
             [
              0.8888888888888888,
              "#fdca26"
             ],
             [
              1,
              "#f0f921"
             ]
            ],
            "type": "histogram2d"
           }
          ],
          "histogram2dcontour": [
           {
            "colorbar": {
             "outlinewidth": 0,
             "ticks": ""
            },
            "colorscale": [
             [
              0,
              "#0d0887"
             ],
             [
              0.1111111111111111,
              "#46039f"
             ],
             [
              0.2222222222222222,
              "#7201a8"
             ],
             [
              0.3333333333333333,
              "#9c179e"
             ],
             [
              0.4444444444444444,
              "#bd3786"
             ],
             [
              0.5555555555555556,
              "#d8576b"
             ],
             [
              0.6666666666666666,
              "#ed7953"
             ],
             [
              0.7777777777777778,
              "#fb9f3a"
             ],
             [
              0.8888888888888888,
              "#fdca26"
             ],
             [
              1,
              "#f0f921"
             ]
            ],
            "type": "histogram2dcontour"
           }
          ],
          "mesh3d": [
           {
            "colorbar": {
             "outlinewidth": 0,
             "ticks": ""
            },
            "type": "mesh3d"
           }
          ],
          "parcoords": [
           {
            "line": {
             "colorbar": {
              "outlinewidth": 0,
              "ticks": ""
             }
            },
            "type": "parcoords"
           }
          ],
          "pie": [
           {
            "automargin": true,
            "type": "pie"
           }
          ],
          "scatter": [
           {
            "fillpattern": {
             "fillmode": "overlay",
             "size": 10,
             "solidity": 0.2
            },
            "type": "scatter"
           }
          ],
          "scatter3d": [
           {
            "line": {
             "colorbar": {
              "outlinewidth": 0,
              "ticks": ""
             }
            },
            "marker": {
             "colorbar": {
              "outlinewidth": 0,
              "ticks": ""
             }
            },
            "type": "scatter3d"
           }
          ],
          "scattercarpet": [
           {
            "marker": {
             "colorbar": {
              "outlinewidth": 0,
              "ticks": ""
             }
            },
            "type": "scattercarpet"
           }
          ],
          "scattergeo": [
           {
            "marker": {
             "colorbar": {
              "outlinewidth": 0,
              "ticks": ""
             }
            },
            "type": "scattergeo"
           }
          ],
          "scattergl": [
           {
            "marker": {
             "colorbar": {
              "outlinewidth": 0,
              "ticks": ""
             }
            },
            "type": "scattergl"
           }
          ],
          "scattermap": [
           {
            "marker": {
             "colorbar": {
              "outlinewidth": 0,
              "ticks": ""
             }
            },
            "type": "scattermap"
           }
          ],
          "scattermapbox": [
           {
            "marker": {
             "colorbar": {
              "outlinewidth": 0,
              "ticks": ""
             }
            },
            "type": "scattermapbox"
           }
          ],
          "scatterpolar": [
           {
            "marker": {
             "colorbar": {
              "outlinewidth": 0,
              "ticks": ""
             }
            },
            "type": "scatterpolar"
           }
          ],
          "scatterpolargl": [
           {
            "marker": {
             "colorbar": {
              "outlinewidth": 0,
              "ticks": ""
             }
            },
            "type": "scatterpolargl"
           }
          ],
          "scatterternary": [
           {
            "marker": {
             "colorbar": {
              "outlinewidth": 0,
              "ticks": ""
             }
            },
            "type": "scatterternary"
           }
          ],
          "surface": [
           {
            "colorbar": {
             "outlinewidth": 0,
             "ticks": ""
            },
            "colorscale": [
             [
              0,
              "#0d0887"
             ],
             [
              0.1111111111111111,
              "#46039f"
             ],
             [
              0.2222222222222222,
              "#7201a8"
             ],
             [
              0.3333333333333333,
              "#9c179e"
             ],
             [
              0.4444444444444444,
              "#bd3786"
             ],
             [
              0.5555555555555556,
              "#d8576b"
             ],
             [
              0.6666666666666666,
              "#ed7953"
             ],
             [
              0.7777777777777778,
              "#fb9f3a"
             ],
             [
              0.8888888888888888,
              "#fdca26"
             ],
             [
              1,
              "#f0f921"
             ]
            ],
            "type": "surface"
           }
          ],
          "table": [
           {
            "cells": {
             "fill": {
              "color": "#EBF0F8"
             },
             "line": {
              "color": "white"
             }
            },
            "header": {
             "fill": {
              "color": "#C8D4E3"
             },
             "line": {
              "color": "white"
             }
            },
            "type": "table"
           }
          ]
         },
         "layout": {
          "annotationdefaults": {
           "arrowcolor": "#2a3f5f",
           "arrowhead": 0,
           "arrowwidth": 1
          },
          "autotypenumbers": "strict",
          "coloraxis": {
           "colorbar": {
            "outlinewidth": 0,
            "ticks": ""
           }
          },
          "colorscale": {
           "diverging": [
            [
             0,
             "#8e0152"
            ],
            [
             0.1,
             "#c51b7d"
            ],
            [
             0.2,
             "#de77ae"
            ],
            [
             0.3,
             "#f1b6da"
            ],
            [
             0.4,
             "#fde0ef"
            ],
            [
             0.5,
             "#f7f7f7"
            ],
            [
             0.6,
             "#e6f5d0"
            ],
            [
             0.7,
             "#b8e186"
            ],
            [
             0.8,
             "#7fbc41"
            ],
            [
             0.9,
             "#4d9221"
            ],
            [
             1,
             "#276419"
            ]
           ],
           "sequential": [
            [
             0,
             "#0d0887"
            ],
            [
             0.1111111111111111,
             "#46039f"
            ],
            [
             0.2222222222222222,
             "#7201a8"
            ],
            [
             0.3333333333333333,
             "#9c179e"
            ],
            [
             0.4444444444444444,
             "#bd3786"
            ],
            [
             0.5555555555555556,
             "#d8576b"
            ],
            [
             0.6666666666666666,
             "#ed7953"
            ],
            [
             0.7777777777777778,
             "#fb9f3a"
            ],
            [
             0.8888888888888888,
             "#fdca26"
            ],
            [
             1,
             "#f0f921"
            ]
           ],
           "sequentialminus": [
            [
             0,
             "#0d0887"
            ],
            [
             0.1111111111111111,
             "#46039f"
            ],
            [
             0.2222222222222222,
             "#7201a8"
            ],
            [
             0.3333333333333333,
             "#9c179e"
            ],
            [
             0.4444444444444444,
             "#bd3786"
            ],
            [
             0.5555555555555556,
             "#d8576b"
            ],
            [
             0.6666666666666666,
             "#ed7953"
            ],
            [
             0.7777777777777778,
             "#fb9f3a"
            ],
            [
             0.8888888888888888,
             "#fdca26"
            ],
            [
             1,
             "#f0f921"
            ]
           ]
          },
          "colorway": [
           "#636efa",
           "#EF553B",
           "#00cc96",
           "#ab63fa",
           "#FFA15A",
           "#19d3f3",
           "#FF6692",
           "#B6E880",
           "#FF97FF",
           "#FECB52"
          ],
          "font": {
           "color": "#2a3f5f"
          },
          "geo": {
           "bgcolor": "white",
           "lakecolor": "white",
           "landcolor": "white",
           "showlakes": true,
           "showland": true,
           "subunitcolor": "#C8D4E3"
          },
          "hoverlabel": {
           "align": "left"
          },
          "hovermode": "closest",
          "mapbox": {
           "style": "light"
          },
          "paper_bgcolor": "white",
          "plot_bgcolor": "white",
          "polar": {
           "angularaxis": {
            "gridcolor": "#EBF0F8",
            "linecolor": "#EBF0F8",
            "ticks": ""
           },
           "bgcolor": "white",
           "radialaxis": {
            "gridcolor": "#EBF0F8",
            "linecolor": "#EBF0F8",
            "ticks": ""
           }
          },
          "scene": {
           "xaxis": {
            "backgroundcolor": "white",
            "gridcolor": "#DFE8F3",
            "gridwidth": 2,
            "linecolor": "#EBF0F8",
            "showbackground": true,
            "ticks": "",
            "zerolinecolor": "#EBF0F8"
           },
           "yaxis": {
            "backgroundcolor": "white",
            "gridcolor": "#DFE8F3",
            "gridwidth": 2,
            "linecolor": "#EBF0F8",
            "showbackground": true,
            "ticks": "",
            "zerolinecolor": "#EBF0F8"
           },
           "zaxis": {
            "backgroundcolor": "white",
            "gridcolor": "#DFE8F3",
            "gridwidth": 2,
            "linecolor": "#EBF0F8",
            "showbackground": true,
            "ticks": "",
            "zerolinecolor": "#EBF0F8"
           }
          },
          "shapedefaults": {
           "line": {
            "color": "#2a3f5f"
           }
          },
          "ternary": {
           "aaxis": {
            "gridcolor": "#DFE8F3",
            "linecolor": "#A2B1C6",
            "ticks": ""
           },
           "baxis": {
            "gridcolor": "#DFE8F3",
            "linecolor": "#A2B1C6",
            "ticks": ""
           },
           "bgcolor": "white",
           "caxis": {
            "gridcolor": "#DFE8F3",
            "linecolor": "#A2B1C6",
            "ticks": ""
           }
          },
          "title": {
           "x": 0.05
          },
          "xaxis": {
           "automargin": true,
           "gridcolor": "#EBF0F8",
           "linecolor": "#EBF0F8",
           "ticks": "",
           "title": {
            "standoff": 15
           },
           "zerolinecolor": "#EBF0F8",
           "zerolinewidth": 2
          },
          "yaxis": {
           "automargin": true,
           "gridcolor": "#EBF0F8",
           "linecolor": "#EBF0F8",
           "ticks": "",
           "title": {
            "standoff": 15
           },
           "zerolinecolor": "#EBF0F8",
           "zerolinewidth": 2
          }
         }
        },
        "title": {
         "text": "📈 Evolución de Puntos Acumulados por Equipo"
        },
        "width": 900,
        "xaxis": {
         "anchor": "y",
         "domain": [
          0,
          1
         ],
         "title": {
          "text": "Fecha"
         }
        },
        "yaxis": {
         "anchor": "x",
         "domain": [
          0,
          1
         ],
         "title": {
          "text": "Puntos Acumulados"
         }
        }
       }
      },
      "text/html": [
       "<div>            <script src=\"https://cdnjs.cloudflare.com/ajax/libs/mathjax/2.7.5/MathJax.js?config=TeX-AMS-MML_SVG\"></script><script type=\"text/javascript\">if (window.MathJax && window.MathJax.Hub && window.MathJax.Hub.Config) {window.MathJax.Hub.Config({SVG: {font: \"STIX-Web\"}});}</script>                <script type=\"text/javascript\">window.PlotlyConfig = {MathJaxConfig: 'local'};</script>\n",
       "        <script charset=\"utf-8\" src=\"https://cdn.plot.ly/plotly-3.0.1.min.js\" integrity=\"sha256-oy6Be7Eh6eiQFs5M7oXuPxxm9qbJXEtTpfSI93dW16Q=\" crossorigin=\"anonymous\"></script>                <div id=\"ed694143-b4f6-4297-bcb2-05d650261bce\" class=\"plotly-graph-div\" style=\"height:500px; width:900px;\"></div>            <script type=\"text/javascript\">                window.PLOTLYENV=window.PLOTLYENV || {};                                if (document.getElementById(\"ed694143-b4f6-4297-bcb2-05d650261bce\")) {                    Plotly.newPlot(                        \"ed694143-b4f6-4297-bcb2-05d650261bce\",                        [{\"hovertemplate\":\"Equipo=Real Madrid\\u003cbr\\u003eFecha=%{x}\\u003cbr\\u003ePuntos Acumulados=%{y}\\u003cextra\\u003e\\u003c\\u002fextra\\u003e\",\"legendgroup\":\"Real Madrid\",\"line\":{\"color\":\"#636efa\",\"dash\":\"solid\"},\"marker\":{\"symbol\":\"circle\"},\"mode\":\"lines\",\"name\":\"Real Madrid\",\"orientation\":\"v\",\"showlegend\":true,\"x\":[\"2024-08-04T00:00:00\",\"2024-08-11T00:00:00\",\"2024-08-18T00:00:00\",\"2024-08-25T00:00:00\",\"2024-09-01T00:00:00\",\"2024-09-08T00:00:00\",\"2024-09-15T00:00:00\",\"2024-09-22T00:00:00\",\"2024-09-29T00:00:00\",\"2024-10-06T00:00:00\",\"2024-10-13T00:00:00\",\"2024-10-20T00:00:00\",\"2024-10-27T00:00:00\",\"2024-11-03T00:00:00\",\"2024-11-10T00:00:00\",\"2024-11-17T00:00:00\",\"2024-11-24T00:00:00\",\"2024-12-01T00:00:00\",\"2024-12-08T00:00:00\",\"2024-12-15T00:00:00\"],\"xaxis\":\"x\",\"y\":{\"dtype\":\"i1\",\"bdata\":\"AAIBBAYAEwEKFwgZGScBJi8CCSk=\"},\"yaxis\":\"y\",\"type\":\"scatter\"},{\"hovertemplate\":\"Equipo=Barcelona\\u003cbr\\u003eFecha=%{x}\\u003cbr\\u003ePuntos Acumulados=%{y}\\u003cextra\\u003e\\u003c\\u002fextra\\u003e\",\"legendgroup\":\"Barcelona\",\"line\":{\"color\":\"#EF553B\",\"dash\":\"solid\"},\"marker\":{\"symbol\":\"circle\"},\"mode\":\"lines\",\"name\":\"Barcelona\",\"orientation\":\"v\",\"showlegend\":true,\"x\":[\"2024-08-04T00:00:00\",\"2024-08-11T00:00:00\",\"2024-08-18T00:00:00\",\"2024-08-25T00:00:00\",\"2024-09-01T00:00:00\",\"2024-09-08T00:00:00\",\"2024-09-15T00:00:00\",\"2024-09-22T00:00:00\",\"2024-09-29T00:00:00\",\"2024-10-06T00:00:00\",\"2024-10-13T00:00:00\",\"2024-10-20T00:00:00\",\"2024-10-27T00:00:00\",\"2024-11-03T00:00:00\",\"2024-11-10T00:00:00\",\"2024-11-17T00:00:00\",\"2024-11-24T00:00:00\",\"2024-12-01T00:00:00\",\"2024-12-08T00:00:00\",\"2024-12-15T00:00:00\"],\"xaxis\":\"x\",\"y\":{\"dtype\":\"i1\",\"bdata\":\"AgQAAgMPCRQOBRQQGRAHKgILODo=\"},\"yaxis\":\"y\",\"type\":\"scatter\"},{\"hovertemplate\":\"Equipo=Atlético Madrid\\u003cbr\\u003eFecha=%{x}\\u003cbr\\u003ePuntos Acumulados=%{y}\\u003cextra\\u003e\\u003c\\u002fextra\\u003e\",\"legendgroup\":\"Atlético Madrid\",\"line\":{\"color\":\"#00cc96\",\"dash\":\"solid\"},\"marker\":{\"symbol\":\"circle\"},\"mode\":\"lines\",\"name\":\"Atlético Madrid\",\"orientation\":\"v\",\"showlegend\":true,\"x\":[\"2024-08-04T00:00:00\",\"2024-08-11T00:00:00\",\"2024-08-18T00:00:00\",\"2024-08-25T00:00:00\",\"2024-09-01T00:00:00\",\"2024-09-08T00:00:00\",\"2024-09-15T00:00:00\",\"2024-09-22T00:00:00\",\"2024-09-29T00:00:00\",\"2024-10-06T00:00:00\",\"2024-10-13T00:00:00\",\"2024-10-20T00:00:00\",\"2024-10-27T00:00:00\",\"2024-11-03T00:00:00\",\"2024-11-10T00:00:00\",\"2024-11-17T00:00:00\",\"2024-11-24T00:00:00\",\"2024-12-01T00:00:00\",\"2024-12-08T00:00:00\",\"2024-12-15T00:00:00\"],\"xaxis\":\"x\",\"y\":{\"dtype\":\"i1\",\"bdata\":\"AgAICAkLBBAaCB4FBQAqFiogHTA=\"},\"yaxis\":\"y\",\"type\":\"scatter\"},{\"hovertemplate\":\"Equipo=Valencia\\u003cbr\\u003eFecha=%{x}\\u003cbr\\u003ePuntos Acumulados=%{y}\\u003cextra\\u003e\\u003c\\u002fextra\\u003e\",\"legendgroup\":\"Valencia\",\"line\":{\"color\":\"#ab63fa\",\"dash\":\"solid\"},\"marker\":{\"symbol\":\"circle\"},\"mode\":\"lines\",\"name\":\"Valencia\",\"orientation\":\"v\",\"showlegend\":true,\"x\":[\"2024-08-04T00:00:00\",\"2024-08-11T00:00:00\",\"2024-08-18T00:00:00\",\"2024-08-25T00:00:00\",\"2024-09-01T00:00:00\",\"2024-09-08T00:00:00\",\"2024-09-15T00:00:00\",\"2024-09-22T00:00:00\",\"2024-09-29T00:00:00\",\"2024-10-06T00:00:00\",\"2024-10-13T00:00:00\",\"2024-10-20T00:00:00\",\"2024-10-27T00:00:00\",\"2024-11-03T00:00:00\",\"2024-11-10T00:00:00\",\"2024-11-17T00:00:00\",\"2024-11-24T00:00:00\",\"2024-12-01T00:00:00\",\"2024-12-08T00:00:00\",\"2024-12-15T00:00:00\"],\"xaxis\":\"x\",\"y\":{\"dtype\":\"i1\",\"bdata\":\"AAMHAgMPDxQCAQsNESMmBQMoKCI=\"},\"yaxis\":\"y\",\"type\":\"scatter\"},{\"hovertemplate\":\"Equipo=Sevilla\\u003cbr\\u003eFecha=%{x}\\u003cbr\\u003ePuntos Acumulados=%{y}\\u003cextra\\u003e\\u003c\\u002fextra\\u003e\",\"legendgroup\":\"Sevilla\",\"line\":{\"color\":\"#FFA15A\",\"dash\":\"solid\"},\"marker\":{\"symbol\":\"circle\"},\"mode\":\"lines\",\"name\":\"Sevilla\",\"orientation\":\"v\",\"showlegend\":true,\"x\":[\"2024-08-04T00:00:00\",\"2024-08-11T00:00:00\",\"2024-08-18T00:00:00\",\"2024-08-25T00:00:00\",\"2024-09-01T00:00:00\",\"2024-09-08T00:00:00\",\"2024-09-15T00:00:00\",\"2024-09-22T00:00:00\",\"2024-09-29T00:00:00\",\"2024-10-06T00:00:00\",\"2024-10-13T00:00:00\",\"2024-10-20T00:00:00\",\"2024-10-27T00:00:00\",\"2024-11-03T00:00:00\",\"2024-11-10T00:00:00\",\"2024-11-17T00:00:00\",\"2024-11-24T00:00:00\",\"2024-12-01T00:00:00\",\"2024-12-08T00:00:00\",\"2024-12-15T00:00:00\"],\"xaxis\":\"x\",\"y\":{\"dtype\":\"i1\",\"bdata\":\"AAMAAAMFAgAWGxUODQ0HLRAJIhk=\"},\"yaxis\":\"y\",\"type\":\"scatter\"},{\"hovertemplate\":\"Equipo=Athletic Bilbao\\u003cbr\\u003eFecha=%{x}\\u003cbr\\u003ePuntos Acumulados=%{y}\\u003cextra\\u003e\\u003c\\u002fextra\\u003e\",\"legendgroup\":\"Athletic Bilbao\",\"line\":{\"color\":\"#19d3f3\",\"dash\":\"solid\"},\"marker\":{\"symbol\":\"circle\"},\"mode\":\"lines\",\"name\":\"Athletic Bilbao\",\"orientation\":\"v\",\"showlegend\":true,\"x\":[\"2024-08-04T00:00:00\",\"2024-08-11T00:00:00\",\"2024-08-18T00:00:00\",\"2024-08-25T00:00:00\",\"2024-09-01T00:00:00\",\"2024-09-08T00:00:00\",\"2024-09-15T00:00:00\",\"2024-09-22T00:00:00\",\"2024-09-29T00:00:00\",\"2024-10-06T00:00:00\",\"2024-10-13T00:00:00\",\"2024-10-20T00:00:00\",\"2024-10-27T00:00:00\",\"2024-11-03T00:00:00\",\"2024-11-10T00:00:00\",\"2024-11-17T00:00:00\",\"2024-11-24T00:00:00\",\"2024-12-01T00:00:00\",\"2024-12-08T00:00:00\",\"2024-12-15T00:00:00\"],\"xaxis\":\"x\",\"y\":{\"dtype\":\"i1\",\"bdata\":\"AgQCAQAIFA4HCgAaBg4rHAQuITg=\"},\"yaxis\":\"y\",\"type\":\"scatter\"},{\"hovertemplate\":\"Equipo=Real Sociedad\\u003cbr\\u003eFecha=%{x}\\u003cbr\\u003ePuntos Acumulados=%{y}\\u003cextra\\u003e\\u003c\\u002fextra\\u003e\",\"legendgroup\":\"Real Sociedad\",\"line\":{\"color\":\"#FF6692\",\"dash\":\"solid\"},\"marker\":{\"symbol\":\"circle\"},\"mode\":\"lines\",\"name\":\"Real Sociedad\",\"orientation\":\"v\",\"showlegend\":true,\"x\":[\"2024-08-04T00:00:00\",\"2024-08-11T00:00:00\",\"2024-08-18T00:00:00\",\"2024-08-25T00:00:00\",\"2024-09-01T00:00:00\",\"2024-09-08T00:00:00\",\"2024-09-15T00:00:00\",\"2024-09-22T00:00:00\",\"2024-09-29T00:00:00\",\"2024-10-06T00:00:00\",\"2024-10-13T00:00:00\",\"2024-10-20T00:00:00\",\"2024-10-27T00:00:00\",\"2024-11-03T00:00:00\",\"2024-11-10T00:00:00\",\"2024-11-17T00:00:00\",\"2024-11-24T00:00:00\",\"2024-12-01T00:00:00\",\"2024-12-08T00:00:00\",\"2024-12-15T00:00:00\"],\"xaxis\":\"x\",\"y\":{\"dtype\":\"i1\",\"bdata\":\"AQMAAgYLDg0YCxQeDgMpHwUzCi4=\"},\"yaxis\":\"y\",\"type\":\"scatter\"},{\"hovertemplate\":\"Equipo=Villarreal\\u003cbr\\u003eFecha=%{x}\\u003cbr\\u003ePuntos Acumulados=%{y}\\u003cextra\\u003e\\u003c\\u002fextra\\u003e\",\"legendgroup\":\"Villarreal\",\"line\":{\"color\":\"#B6E880\",\"dash\":\"solid\"},\"marker\":{\"symbol\":\"circle\"},\"mode\":\"lines\",\"name\":\"Villarreal\",\"orientation\":\"v\",\"showlegend\":true,\"x\":[\"2024-08-04T00:00:00\",\"2024-08-11T00:00:00\",\"2024-08-18T00:00:00\",\"2024-08-25T00:00:00\",\"2024-09-01T00:00:00\",\"2024-09-08T00:00:00\",\"2024-09-15T00:00:00\",\"2024-09-22T00:00:00\",\"2024-09-29T00:00:00\",\"2024-10-06T00:00:00\",\"2024-10-13T00:00:00\",\"2024-10-20T00:00:00\",\"2024-10-27T00:00:00\",\"2024-11-03T00:00:00\",\"2024-11-10T00:00:00\",\"2024-11-17T00:00:00\",\"2024-11-24T00:00:00\",\"2024-12-01T00:00:00\",\"2024-12-08T00:00:00\",\"2024-12-15T00:00:00\"],\"xaxis\":\"x\",\"y\":{\"dtype\":\"i1\",\"bdata\":\"AQAECgINEQ0HDBUiIg8PDgAdFCk=\"},\"yaxis\":\"y\",\"type\":\"scatter\"},{\"hovertemplate\":\"Equipo=Betis\\u003cbr\\u003eFecha=%{x}\\u003cbr\\u003ePuntos Acumulados=%{y}\\u003cextra\\u003e\\u003c\\u002fextra\\u003e\",\"legendgroup\":\"Betis\",\"line\":{\"color\":\"#FF97FF\",\"dash\":\"solid\"},\"marker\":{\"symbol\":\"circle\"},\"mode\":\"lines\",\"name\":\"Betis\",\"orientation\":\"v\",\"showlegend\":true,\"x\":[\"2024-08-04T00:00:00\",\"2024-08-11T00:00:00\",\"2024-08-18T00:00:00\",\"2024-08-25T00:00:00\",\"2024-09-01T00:00:00\",\"2024-09-08T00:00:00\",\"2024-09-15T00:00:00\",\"2024-09-22T00:00:00\",\"2024-09-29T00:00:00\",\"2024-10-06T00:00:00\",\"2024-10-13T00:00:00\",\"2024-10-20T00:00:00\",\"2024-10-27T00:00:00\",\"2024-11-03T00:00:00\",\"2024-11-10T00:00:00\",\"2024-11-17T00:00:00\",\"2024-11-24T00:00:00\",\"2024-12-01T00:00:00\",\"2024-12-08T00:00:00\",\"2024-12-15T00:00:00\"],\"xaxis\":\"x\",\"y\":{\"dtype\":\"i1\",\"bdata\":\"AQUGAgIBAxcEHA8EEgMJHy8hBgw=\"},\"yaxis\":\"y\",\"type\":\"scatter\"},{\"hovertemplate\":\"Equipo=Espanyol\\u003cbr\\u003eFecha=%{x}\\u003cbr\\u003ePuntos Acumulados=%{y}\\u003cextra\\u003e\\u003c\\u002fextra\\u003e\",\"legendgroup\":\"Espanyol\",\"line\":{\"color\":\"#FECB52\",\"dash\":\"solid\"},\"marker\":{\"symbol\":\"circle\"},\"mode\":\"lines\",\"name\":\"Espanyol\",\"orientation\":\"v\",\"showlegend\":true,\"x\":[\"2024-08-04T00:00:00\",\"2024-08-11T00:00:00\",\"2024-08-18T00:00:00\",\"2024-08-25T00:00:00\",\"2024-09-01T00:00:00\",\"2024-09-08T00:00:00\",\"2024-09-15T00:00:00\",\"2024-09-22T00:00:00\",\"2024-09-29T00:00:00\",\"2024-10-06T00:00:00\",\"2024-10-13T00:00:00\",\"2024-10-20T00:00:00\",\"2024-10-27T00:00:00\",\"2024-11-03T00:00:00\",\"2024-11-10T00:00:00\",\"2024-11-17T00:00:00\",\"2024-11-24T00:00:00\",\"2024-12-01T00:00:00\",\"2024-12-08T00:00:00\",\"2024-12-15T00:00:00\"],\"xaxis\":\"x\",\"y\":{\"dtype\":\"i1\",\"bdata\":\"AQMFCwcJDwQUGxAWIhsECQwvATU=\"},\"yaxis\":\"y\",\"type\":\"scatter\"}],                        {\"template\":{\"data\":{\"barpolar\":[{\"marker\":{\"line\":{\"color\":\"white\",\"width\":0.5},\"pattern\":{\"fillmode\":\"overlay\",\"size\":10,\"solidity\":0.2}},\"type\":\"barpolar\"}],\"bar\":[{\"error_x\":{\"color\":\"#2a3f5f\"},\"error_y\":{\"color\":\"#2a3f5f\"},\"marker\":{\"line\":{\"color\":\"white\",\"width\":0.5},\"pattern\":{\"fillmode\":\"overlay\",\"size\":10,\"solidity\":0.2}},\"type\":\"bar\"}],\"carpet\":[{\"aaxis\":{\"endlinecolor\":\"#2a3f5f\",\"gridcolor\":\"#C8D4E3\",\"linecolor\":\"#C8D4E3\",\"minorgridcolor\":\"#C8D4E3\",\"startlinecolor\":\"#2a3f5f\"},\"baxis\":{\"endlinecolor\":\"#2a3f5f\",\"gridcolor\":\"#C8D4E3\",\"linecolor\":\"#C8D4E3\",\"minorgridcolor\":\"#C8D4E3\",\"startlinecolor\":\"#2a3f5f\"},\"type\":\"carpet\"}],\"choropleth\":[{\"colorbar\":{\"outlinewidth\":0,\"ticks\":\"\"},\"type\":\"choropleth\"}],\"contourcarpet\":[{\"colorbar\":{\"outlinewidth\":0,\"ticks\":\"\"},\"type\":\"contourcarpet\"}],\"contour\":[{\"colorbar\":{\"outlinewidth\":0,\"ticks\":\"\"},\"colorscale\":[[0.0,\"#0d0887\"],[0.1111111111111111,\"#46039f\"],[0.2222222222222222,\"#7201a8\"],[0.3333333333333333,\"#9c179e\"],[0.4444444444444444,\"#bd3786\"],[0.5555555555555556,\"#d8576b\"],[0.6666666666666666,\"#ed7953\"],[0.7777777777777778,\"#fb9f3a\"],[0.8888888888888888,\"#fdca26\"],[1.0,\"#f0f921\"]],\"type\":\"contour\"}],\"heatmap\":[{\"colorbar\":{\"outlinewidth\":0,\"ticks\":\"\"},\"colorscale\":[[0.0,\"#0d0887\"],[0.1111111111111111,\"#46039f\"],[0.2222222222222222,\"#7201a8\"],[0.3333333333333333,\"#9c179e\"],[0.4444444444444444,\"#bd3786\"],[0.5555555555555556,\"#d8576b\"],[0.6666666666666666,\"#ed7953\"],[0.7777777777777778,\"#fb9f3a\"],[0.8888888888888888,\"#fdca26\"],[1.0,\"#f0f921\"]],\"type\":\"heatmap\"}],\"histogram2dcontour\":[{\"colorbar\":{\"outlinewidth\":0,\"ticks\":\"\"},\"colorscale\":[[0.0,\"#0d0887\"],[0.1111111111111111,\"#46039f\"],[0.2222222222222222,\"#7201a8\"],[0.3333333333333333,\"#9c179e\"],[0.4444444444444444,\"#bd3786\"],[0.5555555555555556,\"#d8576b\"],[0.6666666666666666,\"#ed7953\"],[0.7777777777777778,\"#fb9f3a\"],[0.8888888888888888,\"#fdca26\"],[1.0,\"#f0f921\"]],\"type\":\"histogram2dcontour\"}],\"histogram2d\":[{\"colorbar\":{\"outlinewidth\":0,\"ticks\":\"\"},\"colorscale\":[[0.0,\"#0d0887\"],[0.1111111111111111,\"#46039f\"],[0.2222222222222222,\"#7201a8\"],[0.3333333333333333,\"#9c179e\"],[0.4444444444444444,\"#bd3786\"],[0.5555555555555556,\"#d8576b\"],[0.6666666666666666,\"#ed7953\"],[0.7777777777777778,\"#fb9f3a\"],[0.8888888888888888,\"#fdca26\"],[1.0,\"#f0f921\"]],\"type\":\"histogram2d\"}],\"histogram\":[{\"marker\":{\"pattern\":{\"fillmode\":\"overlay\",\"size\":10,\"solidity\":0.2}},\"type\":\"histogram\"}],\"mesh3d\":[{\"colorbar\":{\"outlinewidth\":0,\"ticks\":\"\"},\"type\":\"mesh3d\"}],\"parcoords\":[{\"line\":{\"colorbar\":{\"outlinewidth\":0,\"ticks\":\"\"}},\"type\":\"parcoords\"}],\"pie\":[{\"automargin\":true,\"type\":\"pie\"}],\"scatter3d\":[{\"line\":{\"colorbar\":{\"outlinewidth\":0,\"ticks\":\"\"}},\"marker\":{\"colorbar\":{\"outlinewidth\":0,\"ticks\":\"\"}},\"type\":\"scatter3d\"}],\"scattercarpet\":[{\"marker\":{\"colorbar\":{\"outlinewidth\":0,\"ticks\":\"\"}},\"type\":\"scattercarpet\"}],\"scattergeo\":[{\"marker\":{\"colorbar\":{\"outlinewidth\":0,\"ticks\":\"\"}},\"type\":\"scattergeo\"}],\"scattergl\":[{\"marker\":{\"colorbar\":{\"outlinewidth\":0,\"ticks\":\"\"}},\"type\":\"scattergl\"}],\"scattermapbox\":[{\"marker\":{\"colorbar\":{\"outlinewidth\":0,\"ticks\":\"\"}},\"type\":\"scattermapbox\"}],\"scattermap\":[{\"marker\":{\"colorbar\":{\"outlinewidth\":0,\"ticks\":\"\"}},\"type\":\"scattermap\"}],\"scatterpolargl\":[{\"marker\":{\"colorbar\":{\"outlinewidth\":0,\"ticks\":\"\"}},\"type\":\"scatterpolargl\"}],\"scatterpolar\":[{\"marker\":{\"colorbar\":{\"outlinewidth\":0,\"ticks\":\"\"}},\"type\":\"scatterpolar\"}],\"scatter\":[{\"fillpattern\":{\"fillmode\":\"overlay\",\"size\":10,\"solidity\":0.2},\"type\":\"scatter\"}],\"scatterternary\":[{\"marker\":{\"colorbar\":{\"outlinewidth\":0,\"ticks\":\"\"}},\"type\":\"scatterternary\"}],\"surface\":[{\"colorbar\":{\"outlinewidth\":0,\"ticks\":\"\"},\"colorscale\":[[0.0,\"#0d0887\"],[0.1111111111111111,\"#46039f\"],[0.2222222222222222,\"#7201a8\"],[0.3333333333333333,\"#9c179e\"],[0.4444444444444444,\"#bd3786\"],[0.5555555555555556,\"#d8576b\"],[0.6666666666666666,\"#ed7953\"],[0.7777777777777778,\"#fb9f3a\"],[0.8888888888888888,\"#fdca26\"],[1.0,\"#f0f921\"]],\"type\":\"surface\"}],\"table\":[{\"cells\":{\"fill\":{\"color\":\"#EBF0F8\"},\"line\":{\"color\":\"white\"}},\"header\":{\"fill\":{\"color\":\"#C8D4E3\"},\"line\":{\"color\":\"white\"}},\"type\":\"table\"}]},\"layout\":{\"annotationdefaults\":{\"arrowcolor\":\"#2a3f5f\",\"arrowhead\":0,\"arrowwidth\":1},\"autotypenumbers\":\"strict\",\"coloraxis\":{\"colorbar\":{\"outlinewidth\":0,\"ticks\":\"\"}},\"colorscale\":{\"diverging\":[[0,\"#8e0152\"],[0.1,\"#c51b7d\"],[0.2,\"#de77ae\"],[0.3,\"#f1b6da\"],[0.4,\"#fde0ef\"],[0.5,\"#f7f7f7\"],[0.6,\"#e6f5d0\"],[0.7,\"#b8e186\"],[0.8,\"#7fbc41\"],[0.9,\"#4d9221\"],[1,\"#276419\"]],\"sequential\":[[0.0,\"#0d0887\"],[0.1111111111111111,\"#46039f\"],[0.2222222222222222,\"#7201a8\"],[0.3333333333333333,\"#9c179e\"],[0.4444444444444444,\"#bd3786\"],[0.5555555555555556,\"#d8576b\"],[0.6666666666666666,\"#ed7953\"],[0.7777777777777778,\"#fb9f3a\"],[0.8888888888888888,\"#fdca26\"],[1.0,\"#f0f921\"]],\"sequentialminus\":[[0.0,\"#0d0887\"],[0.1111111111111111,\"#46039f\"],[0.2222222222222222,\"#7201a8\"],[0.3333333333333333,\"#9c179e\"],[0.4444444444444444,\"#bd3786\"],[0.5555555555555556,\"#d8576b\"],[0.6666666666666666,\"#ed7953\"],[0.7777777777777778,\"#fb9f3a\"],[0.8888888888888888,\"#fdca26\"],[1.0,\"#f0f921\"]]},\"colorway\":[\"#636efa\",\"#EF553B\",\"#00cc96\",\"#ab63fa\",\"#FFA15A\",\"#19d3f3\",\"#FF6692\",\"#B6E880\",\"#FF97FF\",\"#FECB52\"],\"font\":{\"color\":\"#2a3f5f\"},\"geo\":{\"bgcolor\":\"white\",\"lakecolor\":\"white\",\"landcolor\":\"white\",\"showlakes\":true,\"showland\":true,\"subunitcolor\":\"#C8D4E3\"},\"hoverlabel\":{\"align\":\"left\"},\"hovermode\":\"closest\",\"mapbox\":{\"style\":\"light\"},\"paper_bgcolor\":\"white\",\"plot_bgcolor\":\"white\",\"polar\":{\"angularaxis\":{\"gridcolor\":\"#EBF0F8\",\"linecolor\":\"#EBF0F8\",\"ticks\":\"\"},\"bgcolor\":\"white\",\"radialaxis\":{\"gridcolor\":\"#EBF0F8\",\"linecolor\":\"#EBF0F8\",\"ticks\":\"\"}},\"scene\":{\"xaxis\":{\"backgroundcolor\":\"white\",\"gridcolor\":\"#DFE8F3\",\"gridwidth\":2,\"linecolor\":\"#EBF0F8\",\"showbackground\":true,\"ticks\":\"\",\"zerolinecolor\":\"#EBF0F8\"},\"yaxis\":{\"backgroundcolor\":\"white\",\"gridcolor\":\"#DFE8F3\",\"gridwidth\":2,\"linecolor\":\"#EBF0F8\",\"showbackground\":true,\"ticks\":\"\",\"zerolinecolor\":\"#EBF0F8\"},\"zaxis\":{\"backgroundcolor\":\"white\",\"gridcolor\":\"#DFE8F3\",\"gridwidth\":2,\"linecolor\":\"#EBF0F8\",\"showbackground\":true,\"ticks\":\"\",\"zerolinecolor\":\"#EBF0F8\"}},\"shapedefaults\":{\"line\":{\"color\":\"#2a3f5f\"}},\"ternary\":{\"aaxis\":{\"gridcolor\":\"#DFE8F3\",\"linecolor\":\"#A2B1C6\",\"ticks\":\"\"},\"baxis\":{\"gridcolor\":\"#DFE8F3\",\"linecolor\":\"#A2B1C6\",\"ticks\":\"\"},\"bgcolor\":\"white\",\"caxis\":{\"gridcolor\":\"#DFE8F3\",\"linecolor\":\"#A2B1C6\",\"ticks\":\"\"}},\"title\":{\"x\":0.05},\"xaxis\":{\"automargin\":true,\"gridcolor\":\"#EBF0F8\",\"linecolor\":\"#EBF0F8\",\"ticks\":\"\",\"title\":{\"standoff\":15},\"zerolinecolor\":\"#EBF0F8\",\"zerolinewidth\":2},\"yaxis\":{\"automargin\":true,\"gridcolor\":\"#EBF0F8\",\"linecolor\":\"#EBF0F8\",\"ticks\":\"\",\"title\":{\"standoff\":15},\"zerolinecolor\":\"#EBF0F8\",\"zerolinewidth\":2}}},\"xaxis\":{\"anchor\":\"y\",\"domain\":[0.0,1.0],\"title\":{\"text\":\"Fecha\"}},\"yaxis\":{\"anchor\":\"x\",\"domain\":[0.0,1.0],\"title\":{\"text\":\"Puntos Acumulados\"}},\"legend\":{\"title\":{\"text\":\"Equipo\"},\"tracegroupgap\":0},\"title\":{\"text\":\"📈 Evolución de Puntos Acumulados por Equipo\"},\"width\":900,\"height\":500,\"hovermode\":\"x unified\"},                        {\"responsive\": true}                    ).then(function(){\n",
       "                            \n",
       "var gd = document.getElementById('ed694143-b4f6-4297-bcb2-05d650261bce');\n",
       "var x = new MutationObserver(function (mutations, observer) {{\n",
       "        var display = window.getComputedStyle(gd).display;\n",
       "        if (!display || display === 'none') {{\n",
       "            console.log([gd, 'removed!']);\n",
       "            Plotly.purge(gd);\n",
       "            observer.disconnect();\n",
       "        }}\n",
       "}});\n",
       "\n",
       "// Listen for the removal of the full notebook cells\n",
       "var notebookContainer = gd.closest('#notebook-container');\n",
       "if (notebookContainer) {{\n",
       "    x.observe(notebookContainer, {childList: true});\n",
       "}}\n",
       "\n",
       "// Listen for the clearing of the current output cell\n",
       "var outputEl = gd.closest('.output');\n",
       "if (outputEl) {{\n",
       "    x.observe(outputEl, {childList: true});\n",
       "}}\n",
       "\n",
       "                        })                };            </script>        </div>"
      ]
     },
     "metadata": {},
     "output_type": "display_data"
    },
    {
     "name": "stdout",
     "output_type": "stream",
     "text": [
      "✅ Gráfico de series temporales creado\n"
     ]
    },
    {
     "data": {
      "application/vnd.plotly.v1+json": {
       "config": {
        "plotlyServerURL": "https://plot.ly"
       },
       "data": [
        {
         "coloraxis": "coloraxis",
         "hovertemplate": "x: %{x}<br>y: %{y}<br>color: %{z}<extra></extra>",
         "name": "0",
         "texttemplate": "%{z}",
         "type": "heatmap",
         "x": [
          "edad",
          "goles_temporada",
          "asistencias_temporada",
          "valor_mercado",
          "rating_promedio",
          "salario_anual"
         ],
         "xaxis": "x",
         "y": [
          "edad",
          "goles_temporada",
          "asistencias_temporada",
          "valor_mercado",
          "rating_promedio",
          "salario_anual"
         ],
         "yaxis": "y",
         "z": {
          "bdata": "AAAAAAAA8D9mlo9KloGoP/hE2WS5sLU/ovdQE/gWs7/5nAqKgo6xP68VmMLzrbW/ZpaPSpaBqD8AAAAAAADwP0RntsJIPdQ/11O0NIiG5T9m2xp40BvmP+Q7msDWauQ/+ETZZLmwtT9EZ7bCSD3UPwAAAAAAAPA/MuzpK3P04T9BBTIfB5blPwxWHmeT3+A/ovdQE/gWs7/XU7Q0iIblPzLs6Stz9OE/AAAAAAAA8D+MjumSJN7mP6U3yTomk+4/+ZwKioKOsT9m2xp40BvmP0EFMh8HluU/jI7pkiTe5j8AAAAAAADwP0nlNz6GX+U/rxWYwvOttb/kO5rA1mrkPwxWHmeT3+A/pTfJOiaT7j9J5Tc+hl/lPwAAAAAAAPA/",
          "dtype": "f8",
          "shape": "6, 6"
         }
        }
       ],
       "layout": {
        "coloraxis": {
         "colorscale": [
          [
           0,
           "rgb(5,48,97)"
          ],
          [
           0.1,
           "rgb(33,102,172)"
          ],
          [
           0.2,
           "rgb(67,147,195)"
          ],
          [
           0.3,
           "rgb(146,197,222)"
          ],
          [
           0.4,
           "rgb(209,229,240)"
          ],
          [
           0.5,
           "rgb(247,247,247)"
          ],
          [
           0.6,
           "rgb(253,219,199)"
          ],
          [
           0.7,
           "rgb(244,165,130)"
          ],
          [
           0.8,
           "rgb(214,96,77)"
          ],
          [
           0.9,
           "rgb(178,24,43)"
          ],
          [
           1,
           "rgb(103,0,31)"
          ]
         ]
        },
        "height": 500,
        "template": {
         "data": {
          "bar": [
           {
            "error_x": {
             "color": "#2a3f5f"
            },
            "error_y": {
             "color": "#2a3f5f"
            },
            "marker": {
             "line": {
              "color": "#E5ECF6",
              "width": 0.5
             },
             "pattern": {
              "fillmode": "overlay",
              "size": 10,
              "solidity": 0.2
             }
            },
            "type": "bar"
           }
          ],
          "barpolar": [
           {
            "marker": {
             "line": {
              "color": "#E5ECF6",
              "width": 0.5
             },
             "pattern": {
              "fillmode": "overlay",
              "size": 10,
              "solidity": 0.2
             }
            },
            "type": "barpolar"
           }
          ],
          "carpet": [
           {
            "aaxis": {
             "endlinecolor": "#2a3f5f",
             "gridcolor": "white",
             "linecolor": "white",
             "minorgridcolor": "white",
             "startlinecolor": "#2a3f5f"
            },
            "baxis": {
             "endlinecolor": "#2a3f5f",
             "gridcolor": "white",
             "linecolor": "white",
             "minorgridcolor": "white",
             "startlinecolor": "#2a3f5f"
            },
            "type": "carpet"
           }
          ],
          "choropleth": [
           {
            "colorbar": {
             "outlinewidth": 0,
             "ticks": ""
            },
            "type": "choropleth"
           }
          ],
          "contour": [
           {
            "colorbar": {
             "outlinewidth": 0,
             "ticks": ""
            },
            "colorscale": [
             [
              0,
              "#0d0887"
             ],
             [
              0.1111111111111111,
              "#46039f"
             ],
             [
              0.2222222222222222,
              "#7201a8"
             ],
             [
              0.3333333333333333,
              "#9c179e"
             ],
             [
              0.4444444444444444,
              "#bd3786"
             ],
             [
              0.5555555555555556,
              "#d8576b"
             ],
             [
              0.6666666666666666,
              "#ed7953"
             ],
             [
              0.7777777777777778,
              "#fb9f3a"
             ],
             [
              0.8888888888888888,
              "#fdca26"
             ],
             [
              1,
              "#f0f921"
             ]
            ],
            "type": "contour"
           }
          ],
          "contourcarpet": [
           {
            "colorbar": {
             "outlinewidth": 0,
             "ticks": ""
            },
            "type": "contourcarpet"
           }
          ],
          "heatmap": [
           {
            "colorbar": {
             "outlinewidth": 0,
             "ticks": ""
            },
            "colorscale": [
             [
              0,
              "#0d0887"
             ],
             [
              0.1111111111111111,
              "#46039f"
             ],
             [
              0.2222222222222222,
              "#7201a8"
             ],
             [
              0.3333333333333333,
              "#9c179e"
             ],
             [
              0.4444444444444444,
              "#bd3786"
             ],
             [
              0.5555555555555556,
              "#d8576b"
             ],
             [
              0.6666666666666666,
              "#ed7953"
             ],
             [
              0.7777777777777778,
              "#fb9f3a"
             ],
             [
              0.8888888888888888,
              "#fdca26"
             ],
             [
              1,
              "#f0f921"
             ]
            ],
            "type": "heatmap"
           }
          ],
          "histogram": [
           {
            "marker": {
             "pattern": {
              "fillmode": "overlay",
              "size": 10,
              "solidity": 0.2
             }
            },
            "type": "histogram"
           }
          ],
          "histogram2d": [
           {
            "colorbar": {
             "outlinewidth": 0,
             "ticks": ""
            },
            "colorscale": [
             [
              0,
              "#0d0887"
             ],
             [
              0.1111111111111111,
              "#46039f"
             ],
             [
              0.2222222222222222,
              "#7201a8"
             ],
             [
              0.3333333333333333,
              "#9c179e"
             ],
             [
              0.4444444444444444,
              "#bd3786"
             ],
             [
              0.5555555555555556,
              "#d8576b"
             ],
             [
              0.6666666666666666,
              "#ed7953"
             ],
             [
              0.7777777777777778,
              "#fb9f3a"
             ],
             [
              0.8888888888888888,
              "#fdca26"
             ],
             [
              1,
              "#f0f921"
             ]
            ],
            "type": "histogram2d"
           }
          ],
          "histogram2dcontour": [
           {
            "colorbar": {
             "outlinewidth": 0,
             "ticks": ""
            },
            "colorscale": [
             [
              0,
              "#0d0887"
             ],
             [
              0.1111111111111111,
              "#46039f"
             ],
             [
              0.2222222222222222,
              "#7201a8"
             ],
             [
              0.3333333333333333,
              "#9c179e"
             ],
             [
              0.4444444444444444,
              "#bd3786"
             ],
             [
              0.5555555555555556,
              "#d8576b"
             ],
             [
              0.6666666666666666,
              "#ed7953"
             ],
             [
              0.7777777777777778,
              "#fb9f3a"
             ],
             [
              0.8888888888888888,
              "#fdca26"
             ],
             [
              1,
              "#f0f921"
             ]
            ],
            "type": "histogram2dcontour"
           }
          ],
          "mesh3d": [
           {
            "colorbar": {
             "outlinewidth": 0,
             "ticks": ""
            },
            "type": "mesh3d"
           }
          ],
          "parcoords": [
           {
            "line": {
             "colorbar": {
              "outlinewidth": 0,
              "ticks": ""
             }
            },
            "type": "parcoords"
           }
          ],
          "pie": [
           {
            "automargin": true,
            "type": "pie"
           }
          ],
          "scatter": [
           {
            "fillpattern": {
             "fillmode": "overlay",
             "size": 10,
             "solidity": 0.2
            },
            "type": "scatter"
           }
          ],
          "scatter3d": [
           {
            "line": {
             "colorbar": {
              "outlinewidth": 0,
              "ticks": ""
             }
            },
            "marker": {
             "colorbar": {
              "outlinewidth": 0,
              "ticks": ""
             }
            },
            "type": "scatter3d"
           }
          ],
          "scattercarpet": [
           {
            "marker": {
             "colorbar": {
              "outlinewidth": 0,
              "ticks": ""
             }
            },
            "type": "scattercarpet"
           }
          ],
          "scattergeo": [
           {
            "marker": {
             "colorbar": {
              "outlinewidth": 0,
              "ticks": ""
             }
            },
            "type": "scattergeo"
           }
          ],
          "scattergl": [
           {
            "marker": {
             "colorbar": {
              "outlinewidth": 0,
              "ticks": ""
             }
            },
            "type": "scattergl"
           }
          ],
          "scattermap": [
           {
            "marker": {
             "colorbar": {
              "outlinewidth": 0,
              "ticks": ""
             }
            },
            "type": "scattermap"
           }
          ],
          "scattermapbox": [
           {
            "marker": {
             "colorbar": {
              "outlinewidth": 0,
              "ticks": ""
             }
            },
            "type": "scattermapbox"
           }
          ],
          "scatterpolar": [
           {
            "marker": {
             "colorbar": {
              "outlinewidth": 0,
              "ticks": ""
             }
            },
            "type": "scatterpolar"
           }
          ],
          "scatterpolargl": [
           {
            "marker": {
             "colorbar": {
              "outlinewidth": 0,
              "ticks": ""
             }
            },
            "type": "scatterpolargl"
           }
          ],
          "scatterternary": [
           {
            "marker": {
             "colorbar": {
              "outlinewidth": 0,
              "ticks": ""
             }
            },
            "type": "scatterternary"
           }
          ],
          "surface": [
           {
            "colorbar": {
             "outlinewidth": 0,
             "ticks": ""
            },
            "colorscale": [
             [
              0,
              "#0d0887"
             ],
             [
              0.1111111111111111,
              "#46039f"
             ],
             [
              0.2222222222222222,
              "#7201a8"
             ],
             [
              0.3333333333333333,
              "#9c179e"
             ],
             [
              0.4444444444444444,
              "#bd3786"
             ],
             [
              0.5555555555555556,
              "#d8576b"
             ],
             [
              0.6666666666666666,
              "#ed7953"
             ],
             [
              0.7777777777777778,
              "#fb9f3a"
             ],
             [
              0.8888888888888888,
              "#fdca26"
             ],
             [
              1,
              "#f0f921"
             ]
            ],
            "type": "surface"
           }
          ],
          "table": [
           {
            "cells": {
             "fill": {
              "color": "#EBF0F8"
             },
             "line": {
              "color": "white"
             }
            },
            "header": {
             "fill": {
              "color": "#C8D4E3"
             },
             "line": {
              "color": "white"
             }
            },
            "type": "table"
           }
          ]
         },
         "layout": {
          "annotationdefaults": {
           "arrowcolor": "#2a3f5f",
           "arrowhead": 0,
           "arrowwidth": 1
          },
          "autotypenumbers": "strict",
          "coloraxis": {
           "colorbar": {
            "outlinewidth": 0,
            "ticks": ""
           }
          },
          "colorscale": {
           "diverging": [
            [
             0,
             "#8e0152"
            ],
            [
             0.1,
             "#c51b7d"
            ],
            [
             0.2,
             "#de77ae"
            ],
            [
             0.3,
             "#f1b6da"
            ],
            [
             0.4,
             "#fde0ef"
            ],
            [
             0.5,
             "#f7f7f7"
            ],
            [
             0.6,
             "#e6f5d0"
            ],
            [
             0.7,
             "#b8e186"
            ],
            [
             0.8,
             "#7fbc41"
            ],
            [
             0.9,
             "#4d9221"
            ],
            [
             1,
             "#276419"
            ]
           ],
           "sequential": [
            [
             0,
             "#0d0887"
            ],
            [
             0.1111111111111111,
             "#46039f"
            ],
            [
             0.2222222222222222,
             "#7201a8"
            ],
            [
             0.3333333333333333,
             "#9c179e"
            ],
            [
             0.4444444444444444,
             "#bd3786"
            ],
            [
             0.5555555555555556,
             "#d8576b"
            ],
            [
             0.6666666666666666,
             "#ed7953"
            ],
            [
             0.7777777777777778,
             "#fb9f3a"
            ],
            [
             0.8888888888888888,
             "#fdca26"
            ],
            [
             1,
             "#f0f921"
            ]
           ],
           "sequentialminus": [
            [
             0,
             "#0d0887"
            ],
            [
             0.1111111111111111,
             "#46039f"
            ],
            [
             0.2222222222222222,
             "#7201a8"
            ],
            [
             0.3333333333333333,
             "#9c179e"
            ],
            [
             0.4444444444444444,
             "#bd3786"
            ],
            [
             0.5555555555555556,
             "#d8576b"
            ],
            [
             0.6666666666666666,
             "#ed7953"
            ],
            [
             0.7777777777777778,
             "#fb9f3a"
            ],
            [
             0.8888888888888888,
             "#fdca26"
            ],
            [
             1,
             "#f0f921"
            ]
           ]
          },
          "colorway": [
           "#636efa",
           "#EF553B",
           "#00cc96",
           "#ab63fa",
           "#FFA15A",
           "#19d3f3",
           "#FF6692",
           "#B6E880",
           "#FF97FF",
           "#FECB52"
          ],
          "font": {
           "color": "#2a3f5f"
          },
          "geo": {
           "bgcolor": "white",
           "lakecolor": "white",
           "landcolor": "#E5ECF6",
           "showlakes": true,
           "showland": true,
           "subunitcolor": "white"
          },
          "hoverlabel": {
           "align": "left"
          },
          "hovermode": "closest",
          "mapbox": {
           "style": "light"
          },
          "paper_bgcolor": "white",
          "plot_bgcolor": "#E5ECF6",
          "polar": {
           "angularaxis": {
            "gridcolor": "white",
            "linecolor": "white",
            "ticks": ""
           },
           "bgcolor": "#E5ECF6",
           "radialaxis": {
            "gridcolor": "white",
            "linecolor": "white",
            "ticks": ""
           }
          },
          "scene": {
           "xaxis": {
            "backgroundcolor": "#E5ECF6",
            "gridcolor": "white",
            "gridwidth": 2,
            "linecolor": "white",
            "showbackground": true,
            "ticks": "",
            "zerolinecolor": "white"
           },
           "yaxis": {
            "backgroundcolor": "#E5ECF6",
            "gridcolor": "white",
            "gridwidth": 2,
            "linecolor": "white",
            "showbackground": true,
            "ticks": "",
            "zerolinecolor": "white"
           },
           "zaxis": {
            "backgroundcolor": "#E5ECF6",
            "gridcolor": "white",
            "gridwidth": 2,
            "linecolor": "white",
            "showbackground": true,
            "ticks": "",
            "zerolinecolor": "white"
           }
          },
          "shapedefaults": {
           "line": {
            "color": "#2a3f5f"
           }
          },
          "ternary": {
           "aaxis": {
            "gridcolor": "white",
            "linecolor": "white",
            "ticks": ""
           },
           "baxis": {
            "gridcolor": "white",
            "linecolor": "white",
            "ticks": ""
           },
           "bgcolor": "#E5ECF6",
           "caxis": {
            "gridcolor": "white",
            "linecolor": "white",
            "ticks": ""
           }
          },
          "title": {
           "x": 0.05
          },
          "xaxis": {
           "automargin": true,
           "gridcolor": "white",
           "linecolor": "white",
           "ticks": "",
           "title": {
            "standoff": 15
           },
           "zerolinecolor": "white",
           "zerolinewidth": 2
          },
          "yaxis": {
           "automargin": true,
           "gridcolor": "white",
           "linecolor": "white",
           "ticks": "",
           "title": {
            "standoff": 15
           },
           "zerolinecolor": "white",
           "zerolinewidth": 2
          }
         }
        },
        "title": {
         "text": "🔥 Matriz de Correlaciones entre Variables"
        },
        "width": 700,
        "xaxis": {
         "anchor": "y",
         "domain": [
          0,
          1
         ]
        },
        "yaxis": {
         "anchor": "x",
         "autorange": "reversed",
         "domain": [
          0,
          1
         ]
        }
       }
      },
      "text/html": [
       "<div>            <script src=\"https://cdnjs.cloudflare.com/ajax/libs/mathjax/2.7.5/MathJax.js?config=TeX-AMS-MML_SVG\"></script><script type=\"text/javascript\">if (window.MathJax && window.MathJax.Hub && window.MathJax.Hub.Config) {window.MathJax.Hub.Config({SVG: {font: \"STIX-Web\"}});}</script>                <script type=\"text/javascript\">window.PlotlyConfig = {MathJaxConfig: 'local'};</script>\n",
       "        <script charset=\"utf-8\" src=\"https://cdn.plot.ly/plotly-3.0.1.min.js\" integrity=\"sha256-oy6Be7Eh6eiQFs5M7oXuPxxm9qbJXEtTpfSI93dW16Q=\" crossorigin=\"anonymous\"></script>                <div id=\"d451682f-678b-44c9-8a83-8a322c78a022\" class=\"plotly-graph-div\" style=\"height:500px; width:700px;\"></div>            <script type=\"text/javascript\">                window.PLOTLYENV=window.PLOTLYENV || {};                                if (document.getElementById(\"d451682f-678b-44c9-8a83-8a322c78a022\")) {                    Plotly.newPlot(                        \"d451682f-678b-44c9-8a83-8a322c78a022\",                        [{\"coloraxis\":\"coloraxis\",\"name\":\"0\",\"texttemplate\":\"%{z}\",\"x\":[\"edad\",\"goles_temporada\",\"asistencias_temporada\",\"valor_mercado\",\"rating_promedio\",\"salario_anual\"],\"y\":[\"edad\",\"goles_temporada\",\"asistencias_temporada\",\"valor_mercado\",\"rating_promedio\",\"salario_anual\"],\"z\":{\"dtype\":\"f8\",\"bdata\":\"AAAAAAAA8D9mlo9KloGoP\\u002fhE2WS5sLU\\u002fovdQE\\u002fgWs7\\u002f5nAqKgo6xP68VmMLzrbW\\u002fZpaPSpaBqD8AAAAAAADwP0RntsJIPdQ\\u002f11O0NIiG5T9m2xp40BvmP+Q7msDWauQ\\u002f+ETZZLmwtT9EZ7bCSD3UPwAAAAAAAPA\\u002fMuzpK3P04T9BBTIfB5blPwxWHmeT3+A\\u002fovdQE\\u002fgWs7\\u002fXU7Q0iIblPzLs6Stz9OE\\u002fAAAAAAAA8D+MjumSJN7mP6U3yTomk+4\\u002f+ZwKioKOsT9m2xp40BvmP0EFMh8HluU\\u002fjI7pkiTe5j8AAAAAAADwP0nlNz6GX+U\\u002frxWYwvOttb\\u002fkO5rA1mrkPwxWHmeT3+A\\u002fpTfJOiaT7j9J5Tc+hl\\u002flPwAAAAAAAPA\\u002f\",\"shape\":\"6, 6\"},\"type\":\"heatmap\",\"xaxis\":\"x\",\"yaxis\":\"y\",\"hovertemplate\":\"x: %{x}\\u003cbr\\u003ey: %{y}\\u003cbr\\u003ecolor: %{z}\\u003cextra\\u003e\\u003c\\u002fextra\\u003e\"}],                        {\"template\":{\"data\":{\"histogram2dcontour\":[{\"type\":\"histogram2dcontour\",\"colorbar\":{\"outlinewidth\":0,\"ticks\":\"\"},\"colorscale\":[[0.0,\"#0d0887\"],[0.1111111111111111,\"#46039f\"],[0.2222222222222222,\"#7201a8\"],[0.3333333333333333,\"#9c179e\"],[0.4444444444444444,\"#bd3786\"],[0.5555555555555556,\"#d8576b\"],[0.6666666666666666,\"#ed7953\"],[0.7777777777777778,\"#fb9f3a\"],[0.8888888888888888,\"#fdca26\"],[1.0,\"#f0f921\"]]}],\"choropleth\":[{\"type\":\"choropleth\",\"colorbar\":{\"outlinewidth\":0,\"ticks\":\"\"}}],\"histogram2d\":[{\"type\":\"histogram2d\",\"colorbar\":{\"outlinewidth\":0,\"ticks\":\"\"},\"colorscale\":[[0.0,\"#0d0887\"],[0.1111111111111111,\"#46039f\"],[0.2222222222222222,\"#7201a8\"],[0.3333333333333333,\"#9c179e\"],[0.4444444444444444,\"#bd3786\"],[0.5555555555555556,\"#d8576b\"],[0.6666666666666666,\"#ed7953\"],[0.7777777777777778,\"#fb9f3a\"],[0.8888888888888888,\"#fdca26\"],[1.0,\"#f0f921\"]]}],\"heatmap\":[{\"type\":\"heatmap\",\"colorbar\":{\"outlinewidth\":0,\"ticks\":\"\"},\"colorscale\":[[0.0,\"#0d0887\"],[0.1111111111111111,\"#46039f\"],[0.2222222222222222,\"#7201a8\"],[0.3333333333333333,\"#9c179e\"],[0.4444444444444444,\"#bd3786\"],[0.5555555555555556,\"#d8576b\"],[0.6666666666666666,\"#ed7953\"],[0.7777777777777778,\"#fb9f3a\"],[0.8888888888888888,\"#fdca26\"],[1.0,\"#f0f921\"]]}],\"contourcarpet\":[{\"type\":\"contourcarpet\",\"colorbar\":{\"outlinewidth\":0,\"ticks\":\"\"}}],\"contour\":[{\"type\":\"contour\",\"colorbar\":{\"outlinewidth\":0,\"ticks\":\"\"},\"colorscale\":[[0.0,\"#0d0887\"],[0.1111111111111111,\"#46039f\"],[0.2222222222222222,\"#7201a8\"],[0.3333333333333333,\"#9c179e\"],[0.4444444444444444,\"#bd3786\"],[0.5555555555555556,\"#d8576b\"],[0.6666666666666666,\"#ed7953\"],[0.7777777777777778,\"#fb9f3a\"],[0.8888888888888888,\"#fdca26\"],[1.0,\"#f0f921\"]]}],\"surface\":[{\"type\":\"surface\",\"colorbar\":{\"outlinewidth\":0,\"ticks\":\"\"},\"colorscale\":[[0.0,\"#0d0887\"],[0.1111111111111111,\"#46039f\"],[0.2222222222222222,\"#7201a8\"],[0.3333333333333333,\"#9c179e\"],[0.4444444444444444,\"#bd3786\"],[0.5555555555555556,\"#d8576b\"],[0.6666666666666666,\"#ed7953\"],[0.7777777777777778,\"#fb9f3a\"],[0.8888888888888888,\"#fdca26\"],[1.0,\"#f0f921\"]]}],\"mesh3d\":[{\"type\":\"mesh3d\",\"colorbar\":{\"outlinewidth\":0,\"ticks\":\"\"}}],\"scatter\":[{\"fillpattern\":{\"fillmode\":\"overlay\",\"size\":10,\"solidity\":0.2},\"type\":\"scatter\"}],\"parcoords\":[{\"type\":\"parcoords\",\"line\":{\"colorbar\":{\"outlinewidth\":0,\"ticks\":\"\"}}}],\"scatterpolargl\":[{\"type\":\"scatterpolargl\",\"marker\":{\"colorbar\":{\"outlinewidth\":0,\"ticks\":\"\"}}}],\"bar\":[{\"error_x\":{\"color\":\"#2a3f5f\"},\"error_y\":{\"color\":\"#2a3f5f\"},\"marker\":{\"line\":{\"color\":\"#E5ECF6\",\"width\":0.5},\"pattern\":{\"fillmode\":\"overlay\",\"size\":10,\"solidity\":0.2}},\"type\":\"bar\"}],\"scattergeo\":[{\"type\":\"scattergeo\",\"marker\":{\"colorbar\":{\"outlinewidth\":0,\"ticks\":\"\"}}}],\"scatterpolar\":[{\"type\":\"scatterpolar\",\"marker\":{\"colorbar\":{\"outlinewidth\":0,\"ticks\":\"\"}}}],\"histogram\":[{\"marker\":{\"pattern\":{\"fillmode\":\"overlay\",\"size\":10,\"solidity\":0.2}},\"type\":\"histogram\"}],\"scattergl\":[{\"type\":\"scattergl\",\"marker\":{\"colorbar\":{\"outlinewidth\":0,\"ticks\":\"\"}}}],\"scatter3d\":[{\"type\":\"scatter3d\",\"line\":{\"colorbar\":{\"outlinewidth\":0,\"ticks\":\"\"}},\"marker\":{\"colorbar\":{\"outlinewidth\":0,\"ticks\":\"\"}}}],\"scattermap\":[{\"type\":\"scattermap\",\"marker\":{\"colorbar\":{\"outlinewidth\":0,\"ticks\":\"\"}}}],\"scattermapbox\":[{\"type\":\"scattermapbox\",\"marker\":{\"colorbar\":{\"outlinewidth\":0,\"ticks\":\"\"}}}],\"scatterternary\":[{\"type\":\"scatterternary\",\"marker\":{\"colorbar\":{\"outlinewidth\":0,\"ticks\":\"\"}}}],\"scattercarpet\":[{\"type\":\"scattercarpet\",\"marker\":{\"colorbar\":{\"outlinewidth\":0,\"ticks\":\"\"}}}],\"carpet\":[{\"aaxis\":{\"endlinecolor\":\"#2a3f5f\",\"gridcolor\":\"white\",\"linecolor\":\"white\",\"minorgridcolor\":\"white\",\"startlinecolor\":\"#2a3f5f\"},\"baxis\":{\"endlinecolor\":\"#2a3f5f\",\"gridcolor\":\"white\",\"linecolor\":\"white\",\"minorgridcolor\":\"white\",\"startlinecolor\":\"#2a3f5f\"},\"type\":\"carpet\"}],\"table\":[{\"cells\":{\"fill\":{\"color\":\"#EBF0F8\"},\"line\":{\"color\":\"white\"}},\"header\":{\"fill\":{\"color\":\"#C8D4E3\"},\"line\":{\"color\":\"white\"}},\"type\":\"table\"}],\"barpolar\":[{\"marker\":{\"line\":{\"color\":\"#E5ECF6\",\"width\":0.5},\"pattern\":{\"fillmode\":\"overlay\",\"size\":10,\"solidity\":0.2}},\"type\":\"barpolar\"}],\"pie\":[{\"automargin\":true,\"type\":\"pie\"}]},\"layout\":{\"autotypenumbers\":\"strict\",\"colorway\":[\"#636efa\",\"#EF553B\",\"#00cc96\",\"#ab63fa\",\"#FFA15A\",\"#19d3f3\",\"#FF6692\",\"#B6E880\",\"#FF97FF\",\"#FECB52\"],\"font\":{\"color\":\"#2a3f5f\"},\"hovermode\":\"closest\",\"hoverlabel\":{\"align\":\"left\"},\"paper_bgcolor\":\"white\",\"plot_bgcolor\":\"#E5ECF6\",\"polar\":{\"bgcolor\":\"#E5ECF6\",\"angularaxis\":{\"gridcolor\":\"white\",\"linecolor\":\"white\",\"ticks\":\"\"},\"radialaxis\":{\"gridcolor\":\"white\",\"linecolor\":\"white\",\"ticks\":\"\"}},\"ternary\":{\"bgcolor\":\"#E5ECF6\",\"aaxis\":{\"gridcolor\":\"white\",\"linecolor\":\"white\",\"ticks\":\"\"},\"baxis\":{\"gridcolor\":\"white\",\"linecolor\":\"white\",\"ticks\":\"\"},\"caxis\":{\"gridcolor\":\"white\",\"linecolor\":\"white\",\"ticks\":\"\"}},\"coloraxis\":{\"colorbar\":{\"outlinewidth\":0,\"ticks\":\"\"}},\"colorscale\":{\"sequential\":[[0.0,\"#0d0887\"],[0.1111111111111111,\"#46039f\"],[0.2222222222222222,\"#7201a8\"],[0.3333333333333333,\"#9c179e\"],[0.4444444444444444,\"#bd3786\"],[0.5555555555555556,\"#d8576b\"],[0.6666666666666666,\"#ed7953\"],[0.7777777777777778,\"#fb9f3a\"],[0.8888888888888888,\"#fdca26\"],[1.0,\"#f0f921\"]],\"sequentialminus\":[[0.0,\"#0d0887\"],[0.1111111111111111,\"#46039f\"],[0.2222222222222222,\"#7201a8\"],[0.3333333333333333,\"#9c179e\"],[0.4444444444444444,\"#bd3786\"],[0.5555555555555556,\"#d8576b\"],[0.6666666666666666,\"#ed7953\"],[0.7777777777777778,\"#fb9f3a\"],[0.8888888888888888,\"#fdca26\"],[1.0,\"#f0f921\"]],\"diverging\":[[0,\"#8e0152\"],[0.1,\"#c51b7d\"],[0.2,\"#de77ae\"],[0.3,\"#f1b6da\"],[0.4,\"#fde0ef\"],[0.5,\"#f7f7f7\"],[0.6,\"#e6f5d0\"],[0.7,\"#b8e186\"],[0.8,\"#7fbc41\"],[0.9,\"#4d9221\"],[1,\"#276419\"]]},\"xaxis\":{\"gridcolor\":\"white\",\"linecolor\":\"white\",\"ticks\":\"\",\"title\":{\"standoff\":15},\"zerolinecolor\":\"white\",\"automargin\":true,\"zerolinewidth\":2},\"yaxis\":{\"gridcolor\":\"white\",\"linecolor\":\"white\",\"ticks\":\"\",\"title\":{\"standoff\":15},\"zerolinecolor\":\"white\",\"automargin\":true,\"zerolinewidth\":2},\"scene\":{\"xaxis\":{\"backgroundcolor\":\"#E5ECF6\",\"gridcolor\":\"white\",\"linecolor\":\"white\",\"showbackground\":true,\"ticks\":\"\",\"zerolinecolor\":\"white\",\"gridwidth\":2},\"yaxis\":{\"backgroundcolor\":\"#E5ECF6\",\"gridcolor\":\"white\",\"linecolor\":\"white\",\"showbackground\":true,\"ticks\":\"\",\"zerolinecolor\":\"white\",\"gridwidth\":2},\"zaxis\":{\"backgroundcolor\":\"#E5ECF6\",\"gridcolor\":\"white\",\"linecolor\":\"white\",\"showbackground\":true,\"ticks\":\"\",\"zerolinecolor\":\"white\",\"gridwidth\":2}},\"shapedefaults\":{\"line\":{\"color\":\"#2a3f5f\"}},\"annotationdefaults\":{\"arrowcolor\":\"#2a3f5f\",\"arrowhead\":0,\"arrowwidth\":1},\"geo\":{\"bgcolor\":\"white\",\"landcolor\":\"#E5ECF6\",\"subunitcolor\":\"white\",\"showland\":true,\"showlakes\":true,\"lakecolor\":\"white\"},\"title\":{\"x\":0.05},\"mapbox\":{\"style\":\"light\"}}},\"xaxis\":{\"anchor\":\"y\",\"domain\":[0.0,1.0]},\"yaxis\":{\"anchor\":\"x\",\"domain\":[0.0,1.0],\"autorange\":\"reversed\"},\"coloraxis\":{\"colorscale\":[[0.0,\"rgb(5,48,97)\"],[0.1,\"rgb(33,102,172)\"],[0.2,\"rgb(67,147,195)\"],[0.3,\"rgb(146,197,222)\"],[0.4,\"rgb(209,229,240)\"],[0.5,\"rgb(247,247,247)\"],[0.6,\"rgb(253,219,199)\"],[0.7,\"rgb(244,165,130)\"],[0.8,\"rgb(214,96,77)\"],[0.9,\"rgb(178,24,43)\"],[1.0,\"rgb(103,0,31)\"]]},\"title\":{\"text\":\"🔥 Matriz de Correlaciones entre Variables\"},\"width\":700,\"height\":500},                        {\"responsive\": true}                    ).then(function(){\n",
       "                            \n",
       "var gd = document.getElementById('d451682f-678b-44c9-8a83-8a322c78a022');\n",
       "var x = new MutationObserver(function (mutations, observer) {{\n",
       "        var display = window.getComputedStyle(gd).display;\n",
       "        if (!display || display === 'none') {{\n",
       "            console.log([gd, 'removed!']);\n",
       "            Plotly.purge(gd);\n",
       "            observer.disconnect();\n",
       "        }}\n",
       "}});\n",
       "\n",
       "// Listen for the removal of the full notebook cells\n",
       "var notebookContainer = gd.closest('#notebook-container');\n",
       "if (notebookContainer) {{\n",
       "    x.observe(notebookContainer, {childList: true});\n",
       "}}\n",
       "\n",
       "// Listen for the clearing of the current output cell\n",
       "var outputEl = gd.closest('.output');\n",
       "if (outputEl) {{\n",
       "    x.observe(outputEl, {childList: true});\n",
       "}}\n",
       "\n",
       "                        })                };            </script>        </div>"
      ]
     },
     "metadata": {},
     "output_type": "display_data"
    },
    {
     "name": "stdout",
     "output_type": "stream",
     "text": [
      "✅ Heatmap de correlaciones interactivo creado\n"
     ]
    },
    {
     "data": {
      "application/vnd.plotly.v1+json": {
       "config": {
        "plotlyServerURL": "https://plot.ly"
       },
       "data": [
        {
         "alignmentgroup": "True",
         "box": {
          "visible": true
         },
         "hovertemplate": "Posición=%{x}<br>Salario Anual (M€)=%{y}<extra></extra>",
         "legendgroup": "Defensor",
         "marker": {
          "color": "#636efa"
         },
         "name": "Defensor",
         "offsetgroup": "Defensor",
         "orientation": "v",
         "scalegroup": "True",
         "showlegend": true,
         "type": "violin",
         "x": [
          "Defensor",
          "Defensor",
          "Defensor",
          "Defensor",
          "Defensor",
          "Defensor",
          "Defensor",
          "Defensor",
          "Defensor",
          "Defensor",
          "Defensor",
          "Defensor",
          "Defensor",
          "Defensor",
          "Defensor",
          "Defensor",
          "Defensor",
          "Defensor",
          "Defensor",
          "Defensor",
          "Defensor",
          "Defensor",
          "Defensor",
          "Defensor",
          "Defensor",
          "Defensor",
          "Defensor",
          "Defensor",
          "Defensor",
          "Defensor",
          "Defensor",
          "Defensor",
          "Defensor",
          "Defensor",
          "Defensor",
          "Defensor",
          "Defensor",
          "Defensor",
          "Defensor",
          "Defensor",
          "Defensor",
          "Defensor",
          "Defensor",
          "Defensor",
          "Defensor",
          "Defensor",
          "Defensor",
          "Defensor",
          "Defensor",
          "Defensor",
          "Defensor",
          "Defensor",
          "Defensor",
          "Defensor",
          "Defensor",
          "Defensor"
         ],
         "x0": " ",
         "xaxis": "x",
         "y": {
          "bdata": "mpmZmZkZMEAzMzMzMzM6QM3MzMzMzDBAmpmZmZmZMEDNzMzMzMw4QGZmZmZmZilAzczMzMzMJkAzMzMzM7M0QDMzMzMzMydAAAAAAACAMkDNzMzMzEw5QJqZmZmZmThAmpmZmZkZNkAzMzMzM7M7QGZmZmZmZi5AMzMzMzOzQEDNzMzMzMw2QGZmZmZm5jNAAAAAAAAAKEDNzMzMzMw5QJqZmZmZGTVAAAAAAAAAM0DNzMzMzIxBQDMzMzMzMzJAmpmZmZkZOUAzMzMzMzMuQDMzMzMzszxAmpmZmZmZMkAAAAAAAAAuQJqZmZmZGTZAZmZmZmZmOUBmZmZmZmYpQJqZmZmZGTxAZmZmZmZmKEAAAAAAAAApQAAAAAAAQEFAMzMzMzMzNkDNzMzMzMwkQJqZmZmZmTRAzczMzMzMMkCamZmZmZk5QAAAAAAAAEFAzczMzMzMKEBmZmZmZuY0QAAAAAAAADJAzczMzMzMKEAAAAAAAAA+QAAAAAAAgDRAAAAAAAAAO0AzMzMzMzMwQJqZmZmZGTBAzczMzMxMNUAAAAAAAIAzQAAAAAAAADRAmpmZmZmZJ0CamZmZmZk0QA==",
          "dtype": "f8"
         },
         "y0": " ",
         "yaxis": "y"
        },
        {
         "alignmentgroup": "True",
         "box": {
          "visible": true
         },
         "hovertemplate": "Posición=%{x}<br>Salario Anual (M€)=%{y}<extra></extra>",
         "legendgroup": "Mediocampista",
         "marker": {
          "color": "#EF553B"
         },
         "name": "Mediocampista",
         "offsetgroup": "Mediocampista",
         "orientation": "v",
         "scalegroup": "True",
         "showlegend": true,
         "type": "violin",
         "x": [
          "Mediocampista",
          "Mediocampista",
          "Mediocampista",
          "Mediocampista",
          "Mediocampista",
          "Mediocampista",
          "Mediocampista",
          "Mediocampista",
          "Mediocampista",
          "Mediocampista",
          "Mediocampista",
          "Mediocampista",
          "Mediocampista",
          "Mediocampista",
          "Mediocampista",
          "Mediocampista",
          "Mediocampista",
          "Mediocampista",
          "Mediocampista",
          "Mediocampista",
          "Mediocampista",
          "Mediocampista",
          "Mediocampista",
          "Mediocampista",
          "Mediocampista",
          "Mediocampista",
          "Mediocampista",
          "Mediocampista",
          "Mediocampista",
          "Mediocampista",
          "Mediocampista",
          "Mediocampista",
          "Mediocampista",
          "Mediocampista",
          "Mediocampista",
          "Mediocampista",
          "Mediocampista",
          "Mediocampista",
          "Mediocampista",
          "Mediocampista",
          "Mediocampista",
          "Mediocampista",
          "Mediocampista",
          "Mediocampista",
          "Mediocampista",
          "Mediocampista",
          "Mediocampista",
          "Mediocampista",
          "Mediocampista",
          "Mediocampista",
          "Mediocampista",
          "Mediocampista",
          "Mediocampista",
          "Mediocampista",
          "Mediocampista",
          "Mediocampista",
          "Mediocampista",
          "Mediocampista",
          "Mediocampista",
          "Mediocampista",
          "Mediocampista",
          "Mediocampista",
          "Mediocampista",
          "Mediocampista",
          "Mediocampista",
          "Mediocampista",
          "Mediocampista",
          "Mediocampista",
          "Mediocampista",
          "Mediocampista",
          "Mediocampista"
         ],
         "x0": " ",
         "xaxis": "x",
         "y": {
          "bdata": "zczMzMzMJkAAAAAAAAA0QM3MzMzMzC5AmpmZmZkZPkDNzMzMzEw2QJqZmZmZmTVAmpmZmZmZPEAzMzMzMzM6QM3MzMzMTDhAzczMzMxMMECamZmZmZlCQGZmZmZm5jRAMzMzMzOzOEDNzMzMzMwjQDMzMzMzMzNAMzMzMzMzPkCamZmZmRkyQAAAAAAAAD5AzczMzMzMPEDNzMzMzEw1QDMzMzMzs0lAzczMzMyMQUBmZmZmZiZBQGZmZmZmZjJAMzMzMzMzL0AzMzMzM7M3QGZmZmZmZjtAZmZmZmYmTUAzMzMzMzM1QAAAAAAAAC1AMzMzMzOzNUDNzMzMzMw0QDMzMzMzszJAAAAAAAAAO0AAAAAAAIA3QM3MzMzMzDJAzczMzMzML0AAAAAAAEBPQM3MzMzMTDJAzczMzMxMN0CamZmZmRlBQGZmZmZm5jZAAAAAAAAAQkBmZmZmZmYxQGZmZmZmZjBAzczMzMwMREDNzMzMzMw0QJqZmZmZmShAAAAAAACAMUAzMzMzM7MyQJqZmZmZmUZAzczMzMxMMkCamZmZmZkqQAAAAAAAADpAZmZmZmbmR0BmZmZmZmY+QGZmZmZmZjZAZmZmZmZmPEBmZmZmZmY7QJqZmZmZmUNAmpmZmZkZO0CamZmZmRkzQJqZmZmZmTFAmpmZmZmZLEBmZmZmZmY8QDMzMzMzszJAzczMzMyMQECamZmZmZlBQM3MzMzMzERAMzMzMzMzPUAAAAAAAAA4QA==",
          "dtype": "f8"
         },
         "y0": " ",
         "yaxis": "y"
        },
        {
         "alignmentgroup": "True",
         "box": {
          "visible": true
         },
         "hovertemplate": "Posición=%{x}<br>Salario Anual (M€)=%{y}<extra></extra>",
         "legendgroup": "Delantero",
         "marker": {
          "color": "#00cc96"
         },
         "name": "Delantero",
         "offsetgroup": "Delantero",
         "orientation": "v",
         "scalegroup": "True",
         "showlegend": true,
         "type": "violin",
         "x": [
          "Delantero",
          "Delantero",
          "Delantero",
          "Delantero",
          "Delantero",
          "Delantero",
          "Delantero",
          "Delantero",
          "Delantero",
          "Delantero",
          "Delantero",
          "Delantero",
          "Delantero",
          "Delantero",
          "Delantero",
          "Delantero",
          "Delantero",
          "Delantero",
          "Delantero",
          "Delantero",
          "Delantero",
          "Delantero",
          "Delantero",
          "Delantero",
          "Delantero",
          "Delantero",
          "Delantero",
          "Delantero",
          "Delantero",
          "Delantero",
          "Delantero",
          "Delantero",
          "Delantero",
          "Delantero",
          "Delantero",
          "Delantero",
          "Delantero",
          "Delantero",
          "Delantero",
          "Delantero",
          "Delantero",
          "Delantero",
          "Delantero",
          "Delantero",
          "Delantero",
          "Delantero",
          "Delantero",
          "Delantero",
          "Delantero",
          "Delantero",
          "Delantero",
          "Delantero",
          "Delantero"
         ],
         "x0": " ",
         "xaxis": "x",
         "y": {
          "bdata": "mpmZmZlZQEBmZmZmZmY0QAAAAAAAgENAmpmZmZkZQUBmZmZmZuZEQM3MzMzMTDRAZmZmZmZmN0BmZmZmZmZGQM3MzMzMzDNAZmZmZmYmQUDNzMzMzMw0QGZmZmZmZihAmpmZmZkZPEBmZmZmZiZHQGZmZmZmZidAmpmZmZmZK0DNzMzMzMxDQGZmZmZmZjhAzczMzMzMLkAAAAAAAIBKQJqZmZmZmTpAAAAAAAAAN0AzMzMzMzMqQDMzMzMzMzlAmpmZmZkZPEDNzMzMzEwwQDMzMzMzsz1AzczMzMzMLUAAAAAAAIAyQGZmZmZm5jhAzczMzMzMMUBmZmZmZmY7QDMzMzMzM0JAAAAAAACAQEAAAAAAAIBPQJqZmZmZGTJAMzMzMzMzOUBmZmZmZiZBQJqZmZmZGT1AMzMzMzMzKUAzMzMzM7NGQGZmZmZmZjdAMzMzMzMzNECamZmZmRk/QDMzMzMzszxAMzMzMzMzN0CamZmZmRk8QGZmZmZmZkJAmpmZmZmZL0DNzMzMzIxDQGZmZmZm5jtAzczMzMxMQUAzMzMzMzMyQA==",
          "dtype": "f8"
         },
         "y0": " ",
         "yaxis": "y"
        },
        {
         "alignmentgroup": "True",
         "box": {
          "visible": true
         },
         "hovertemplate": "Posición=%{x}<br>Salario Anual (M€)=%{y}<extra></extra>",
         "legendgroup": "Portero",
         "marker": {
          "color": "#ab63fa"
         },
         "name": "Portero",
         "offsetgroup": "Portero",
         "orientation": "v",
         "scalegroup": "True",
         "showlegend": true,
         "type": "violin",
         "x": [
          "Portero",
          "Portero",
          "Portero",
          "Portero",
          "Portero",
          "Portero",
          "Portero",
          "Portero",
          "Portero",
          "Portero",
          "Portero",
          "Portero",
          "Portero",
          "Portero",
          "Portero",
          "Portero",
          "Portero",
          "Portero",
          "Portero",
          "Portero"
         ],
         "x0": " ",
         "xaxis": "x",
         "y": {
          "bdata": "AAAAAADAQUDNzMzMzMwvQAAAAAAAADBAMzMzMzMzOkAzMzMzMzMuQGZmZmZm5jNAMzMzMzOzMkAAAAAAAAAnQAAAAAAAgDBAZmZmZmbmM0AAAAAAAAAwQM3MzMzMTDJAZmZmZmZmIEAAAAAAAIA3QM3MzMzMzDlAMzMzMzMzK0AzMzMzMzMqQJqZmZmZGTBAAAAAAACANkAzMzMzMzMlQA==",
          "dtype": "f8"
         },
         "y0": " ",
         "yaxis": "y"
        }
       ],
       "layout": {
        "height": 500,
        "legend": {
         "title": {
          "text": "Posición"
         },
         "tracegroupgap": 0
        },
        "template": {
         "data": {
          "bar": [
           {
            "error_x": {
             "color": "#2a3f5f"
            },
            "error_y": {
             "color": "#2a3f5f"
            },
            "marker": {
             "line": {
              "color": "white",
              "width": 0.5
             },
             "pattern": {
              "fillmode": "overlay",
              "size": 10,
              "solidity": 0.2
             }
            },
            "type": "bar"
           }
          ],
          "barpolar": [
           {
            "marker": {
             "line": {
              "color": "white",
              "width": 0.5
             },
             "pattern": {
              "fillmode": "overlay",
              "size": 10,
              "solidity": 0.2
             }
            },
            "type": "barpolar"
           }
          ],
          "carpet": [
           {
            "aaxis": {
             "endlinecolor": "#2a3f5f",
             "gridcolor": "#C8D4E3",
             "linecolor": "#C8D4E3",
             "minorgridcolor": "#C8D4E3",
             "startlinecolor": "#2a3f5f"
            },
            "baxis": {
             "endlinecolor": "#2a3f5f",
             "gridcolor": "#C8D4E3",
             "linecolor": "#C8D4E3",
             "minorgridcolor": "#C8D4E3",
             "startlinecolor": "#2a3f5f"
            },
            "type": "carpet"
           }
          ],
          "choropleth": [
           {
            "colorbar": {
             "outlinewidth": 0,
             "ticks": ""
            },
            "type": "choropleth"
           }
          ],
          "contour": [
           {
            "colorbar": {
             "outlinewidth": 0,
             "ticks": ""
            },
            "colorscale": [
             [
              0,
              "#0d0887"
             ],
             [
              0.1111111111111111,
              "#46039f"
             ],
             [
              0.2222222222222222,
              "#7201a8"
             ],
             [
              0.3333333333333333,
              "#9c179e"
             ],
             [
              0.4444444444444444,
              "#bd3786"
             ],
             [
              0.5555555555555556,
              "#d8576b"
             ],
             [
              0.6666666666666666,
              "#ed7953"
             ],
             [
              0.7777777777777778,
              "#fb9f3a"
             ],
             [
              0.8888888888888888,
              "#fdca26"
             ],
             [
              1,
              "#f0f921"
             ]
            ],
            "type": "contour"
           }
          ],
          "contourcarpet": [
           {
            "colorbar": {
             "outlinewidth": 0,
             "ticks": ""
            },
            "type": "contourcarpet"
           }
          ],
          "heatmap": [
           {
            "colorbar": {
             "outlinewidth": 0,
             "ticks": ""
            },
            "colorscale": [
             [
              0,
              "#0d0887"
             ],
             [
              0.1111111111111111,
              "#46039f"
             ],
             [
              0.2222222222222222,
              "#7201a8"
             ],
             [
              0.3333333333333333,
              "#9c179e"
             ],
             [
              0.4444444444444444,
              "#bd3786"
             ],
             [
              0.5555555555555556,
              "#d8576b"
             ],
             [
              0.6666666666666666,
              "#ed7953"
             ],
             [
              0.7777777777777778,
              "#fb9f3a"
             ],
             [
              0.8888888888888888,
              "#fdca26"
             ],
             [
              1,
              "#f0f921"
             ]
            ],
            "type": "heatmap"
           }
          ],
          "histogram": [
           {
            "marker": {
             "pattern": {
              "fillmode": "overlay",
              "size": 10,
              "solidity": 0.2
             }
            },
            "type": "histogram"
           }
          ],
          "histogram2d": [
           {
            "colorbar": {
             "outlinewidth": 0,
             "ticks": ""
            },
            "colorscale": [
             [
              0,
              "#0d0887"
             ],
             [
              0.1111111111111111,
              "#46039f"
             ],
             [
              0.2222222222222222,
              "#7201a8"
             ],
             [
              0.3333333333333333,
              "#9c179e"
             ],
             [
              0.4444444444444444,
              "#bd3786"
             ],
             [
              0.5555555555555556,
              "#d8576b"
             ],
             [
              0.6666666666666666,
              "#ed7953"
             ],
             [
              0.7777777777777778,
              "#fb9f3a"
             ],
             [
              0.8888888888888888,
              "#fdca26"
             ],
             [
              1,
              "#f0f921"
             ]
            ],
            "type": "histogram2d"
           }
          ],
          "histogram2dcontour": [
           {
            "colorbar": {
             "outlinewidth": 0,
             "ticks": ""
            },
            "colorscale": [
             [
              0,
              "#0d0887"
             ],
             [
              0.1111111111111111,
              "#46039f"
             ],
             [
              0.2222222222222222,
              "#7201a8"
             ],
             [
              0.3333333333333333,
              "#9c179e"
             ],
             [
              0.4444444444444444,
              "#bd3786"
             ],
             [
              0.5555555555555556,
              "#d8576b"
             ],
             [
              0.6666666666666666,
              "#ed7953"
             ],
             [
              0.7777777777777778,
              "#fb9f3a"
             ],
             [
              0.8888888888888888,
              "#fdca26"
             ],
             [
              1,
              "#f0f921"
             ]
            ],
            "type": "histogram2dcontour"
           }
          ],
          "mesh3d": [
           {
            "colorbar": {
             "outlinewidth": 0,
             "ticks": ""
            },
            "type": "mesh3d"
           }
          ],
          "parcoords": [
           {
            "line": {
             "colorbar": {
              "outlinewidth": 0,
              "ticks": ""
             }
            },
            "type": "parcoords"
           }
          ],
          "pie": [
           {
            "automargin": true,
            "type": "pie"
           }
          ],
          "scatter": [
           {
            "fillpattern": {
             "fillmode": "overlay",
             "size": 10,
             "solidity": 0.2
            },
            "type": "scatter"
           }
          ],
          "scatter3d": [
           {
            "line": {
             "colorbar": {
              "outlinewidth": 0,
              "ticks": ""
             }
            },
            "marker": {
             "colorbar": {
              "outlinewidth": 0,
              "ticks": ""
             }
            },
            "type": "scatter3d"
           }
          ],
          "scattercarpet": [
           {
            "marker": {
             "colorbar": {
              "outlinewidth": 0,
              "ticks": ""
             }
            },
            "type": "scattercarpet"
           }
          ],
          "scattergeo": [
           {
            "marker": {
             "colorbar": {
              "outlinewidth": 0,
              "ticks": ""
             }
            },
            "type": "scattergeo"
           }
          ],
          "scattergl": [
           {
            "marker": {
             "colorbar": {
              "outlinewidth": 0,
              "ticks": ""
             }
            },
            "type": "scattergl"
           }
          ],
          "scattermap": [
           {
            "marker": {
             "colorbar": {
              "outlinewidth": 0,
              "ticks": ""
             }
            },
            "type": "scattermap"
           }
          ],
          "scattermapbox": [
           {
            "marker": {
             "colorbar": {
              "outlinewidth": 0,
              "ticks": ""
             }
            },
            "type": "scattermapbox"
           }
          ],
          "scatterpolar": [
           {
            "marker": {
             "colorbar": {
              "outlinewidth": 0,
              "ticks": ""
             }
            },
            "type": "scatterpolar"
           }
          ],
          "scatterpolargl": [
           {
            "marker": {
             "colorbar": {
              "outlinewidth": 0,
              "ticks": ""
             }
            },
            "type": "scatterpolargl"
           }
          ],
          "scatterternary": [
           {
            "marker": {
             "colorbar": {
              "outlinewidth": 0,
              "ticks": ""
             }
            },
            "type": "scatterternary"
           }
          ],
          "surface": [
           {
            "colorbar": {
             "outlinewidth": 0,
             "ticks": ""
            },
            "colorscale": [
             [
              0,
              "#0d0887"
             ],
             [
              0.1111111111111111,
              "#46039f"
             ],
             [
              0.2222222222222222,
              "#7201a8"
             ],
             [
              0.3333333333333333,
              "#9c179e"
             ],
             [
              0.4444444444444444,
              "#bd3786"
             ],
             [
              0.5555555555555556,
              "#d8576b"
             ],
             [
              0.6666666666666666,
              "#ed7953"
             ],
             [
              0.7777777777777778,
              "#fb9f3a"
             ],
             [
              0.8888888888888888,
              "#fdca26"
             ],
             [
              1,
              "#f0f921"
             ]
            ],
            "type": "surface"
           }
          ],
          "table": [
           {
            "cells": {
             "fill": {
              "color": "#EBF0F8"
             },
             "line": {
              "color": "white"
             }
            },
            "header": {
             "fill": {
              "color": "#C8D4E3"
             },
             "line": {
              "color": "white"
             }
            },
            "type": "table"
           }
          ]
         },
         "layout": {
          "annotationdefaults": {
           "arrowcolor": "#2a3f5f",
           "arrowhead": 0,
           "arrowwidth": 1
          },
          "autotypenumbers": "strict",
          "coloraxis": {
           "colorbar": {
            "outlinewidth": 0,
            "ticks": ""
           }
          },
          "colorscale": {
           "diverging": [
            [
             0,
             "#8e0152"
            ],
            [
             0.1,
             "#c51b7d"
            ],
            [
             0.2,
             "#de77ae"
            ],
            [
             0.3,
             "#f1b6da"
            ],
            [
             0.4,
             "#fde0ef"
            ],
            [
             0.5,
             "#f7f7f7"
            ],
            [
             0.6,
             "#e6f5d0"
            ],
            [
             0.7,
             "#b8e186"
            ],
            [
             0.8,
             "#7fbc41"
            ],
            [
             0.9,
             "#4d9221"
            ],
            [
             1,
             "#276419"
            ]
           ],
           "sequential": [
            [
             0,
             "#0d0887"
            ],
            [
             0.1111111111111111,
             "#46039f"
            ],
            [
             0.2222222222222222,
             "#7201a8"
            ],
            [
             0.3333333333333333,
             "#9c179e"
            ],
            [
             0.4444444444444444,
             "#bd3786"
            ],
            [
             0.5555555555555556,
             "#d8576b"
            ],
            [
             0.6666666666666666,
             "#ed7953"
            ],
            [
             0.7777777777777778,
             "#fb9f3a"
            ],
            [
             0.8888888888888888,
             "#fdca26"
            ],
            [
             1,
             "#f0f921"
            ]
           ],
           "sequentialminus": [
            [
             0,
             "#0d0887"
            ],
            [
             0.1111111111111111,
             "#46039f"
            ],
            [
             0.2222222222222222,
             "#7201a8"
            ],
            [
             0.3333333333333333,
             "#9c179e"
            ],
            [
             0.4444444444444444,
             "#bd3786"
            ],
            [
             0.5555555555555556,
             "#d8576b"
            ],
            [
             0.6666666666666666,
             "#ed7953"
            ],
            [
             0.7777777777777778,
             "#fb9f3a"
            ],
            [
             0.8888888888888888,
             "#fdca26"
            ],
            [
             1,
             "#f0f921"
            ]
           ]
          },
          "colorway": [
           "#636efa",
           "#EF553B",
           "#00cc96",
           "#ab63fa",
           "#FFA15A",
           "#19d3f3",
           "#FF6692",
           "#B6E880",
           "#FF97FF",
           "#FECB52"
          ],
          "font": {
           "color": "#2a3f5f"
          },
          "geo": {
           "bgcolor": "white",
           "lakecolor": "white",
           "landcolor": "white",
           "showlakes": true,
           "showland": true,
           "subunitcolor": "#C8D4E3"
          },
          "hoverlabel": {
           "align": "left"
          },
          "hovermode": "closest",
          "mapbox": {
           "style": "light"
          },
          "paper_bgcolor": "white",
          "plot_bgcolor": "white",
          "polar": {
           "angularaxis": {
            "gridcolor": "#EBF0F8",
            "linecolor": "#EBF0F8",
            "ticks": ""
           },
           "bgcolor": "white",
           "radialaxis": {
            "gridcolor": "#EBF0F8",
            "linecolor": "#EBF0F8",
            "ticks": ""
           }
          },
          "scene": {
           "xaxis": {
            "backgroundcolor": "white",
            "gridcolor": "#DFE8F3",
            "gridwidth": 2,
            "linecolor": "#EBF0F8",
            "showbackground": true,
            "ticks": "",
            "zerolinecolor": "#EBF0F8"
           },
           "yaxis": {
            "backgroundcolor": "white",
            "gridcolor": "#DFE8F3",
            "gridwidth": 2,
            "linecolor": "#EBF0F8",
            "showbackground": true,
            "ticks": "",
            "zerolinecolor": "#EBF0F8"
           },
           "zaxis": {
            "backgroundcolor": "white",
            "gridcolor": "#DFE8F3",
            "gridwidth": 2,
            "linecolor": "#EBF0F8",
            "showbackground": true,
            "ticks": "",
            "zerolinecolor": "#EBF0F8"
           }
          },
          "shapedefaults": {
           "line": {
            "color": "#2a3f5f"
           }
          },
          "ternary": {
           "aaxis": {
            "gridcolor": "#DFE8F3",
            "linecolor": "#A2B1C6",
            "ticks": ""
           },
           "baxis": {
            "gridcolor": "#DFE8F3",
            "linecolor": "#A2B1C6",
            "ticks": ""
           },
           "bgcolor": "white",
           "caxis": {
            "gridcolor": "#DFE8F3",
            "linecolor": "#A2B1C6",
            "ticks": ""
           }
          },
          "title": {
           "x": 0.05
          },
          "xaxis": {
           "automargin": true,
           "gridcolor": "#EBF0F8",
           "linecolor": "#EBF0F8",
           "ticks": "",
           "title": {
            "standoff": 15
           },
           "zerolinecolor": "#EBF0F8",
           "zerolinewidth": 2
          },
          "yaxis": {
           "automargin": true,
           "gridcolor": "#EBF0F8",
           "linecolor": "#EBF0F8",
           "ticks": "",
           "title": {
            "standoff": 15
           },
           "zerolinecolor": "#EBF0F8",
           "zerolinewidth": 2
          }
         }
        },
        "title": {
         "text": "🎻 Distribución de Salarios por Posición"
        },
        "violinmode": "overlay",
        "width": 800,
        "xaxis": {
         "anchor": "y",
         "categoryarray": [
          "Defensor",
          "Mediocampista",
          "Delantero",
          "Portero"
         ],
         "categoryorder": "array",
         "domain": [
          0,
          1
         ],
         "title": {
          "text": "Posición"
         }
        },
        "yaxis": {
         "anchor": "x",
         "domain": [
          0,
          1
         ],
         "title": {
          "text": "Salario Anual (M€)"
         }
        }
       }
      },
      "text/html": [
       "<div>            <script src=\"https://cdnjs.cloudflare.com/ajax/libs/mathjax/2.7.5/MathJax.js?config=TeX-AMS-MML_SVG\"></script><script type=\"text/javascript\">if (window.MathJax && window.MathJax.Hub && window.MathJax.Hub.Config) {window.MathJax.Hub.Config({SVG: {font: \"STIX-Web\"}});}</script>                <script type=\"text/javascript\">window.PlotlyConfig = {MathJaxConfig: 'local'};</script>\n",
       "        <script charset=\"utf-8\" src=\"https://cdn.plot.ly/plotly-3.0.1.min.js\" integrity=\"sha256-oy6Be7Eh6eiQFs5M7oXuPxxm9qbJXEtTpfSI93dW16Q=\" crossorigin=\"anonymous\"></script>                <div id=\"07f205c2-3ddc-414c-9489-76ef46470a07\" class=\"plotly-graph-div\" style=\"height:500px; width:800px;\"></div>            <script type=\"text/javascript\">                window.PLOTLYENV=window.PLOTLYENV || {};                                if (document.getElementById(\"07f205c2-3ddc-414c-9489-76ef46470a07\")) {                    Plotly.newPlot(                        \"07f205c2-3ddc-414c-9489-76ef46470a07\",                        [{\"alignmentgroup\":\"True\",\"box\":{\"visible\":true},\"hovertemplate\":\"Posición=%{x}\\u003cbr\\u003eSalario Anual (M€)=%{y}\\u003cextra\\u003e\\u003c\\u002fextra\\u003e\",\"legendgroup\":\"Defensor\",\"marker\":{\"color\":\"#636efa\"},\"name\":\"Defensor\",\"offsetgroup\":\"Defensor\",\"orientation\":\"v\",\"scalegroup\":\"True\",\"showlegend\":true,\"x\":[\"Defensor\",\"Defensor\",\"Defensor\",\"Defensor\",\"Defensor\",\"Defensor\",\"Defensor\",\"Defensor\",\"Defensor\",\"Defensor\",\"Defensor\",\"Defensor\",\"Defensor\",\"Defensor\",\"Defensor\",\"Defensor\",\"Defensor\",\"Defensor\",\"Defensor\",\"Defensor\",\"Defensor\",\"Defensor\",\"Defensor\",\"Defensor\",\"Defensor\",\"Defensor\",\"Defensor\",\"Defensor\",\"Defensor\",\"Defensor\",\"Defensor\",\"Defensor\",\"Defensor\",\"Defensor\",\"Defensor\",\"Defensor\",\"Defensor\",\"Defensor\",\"Defensor\",\"Defensor\",\"Defensor\",\"Defensor\",\"Defensor\",\"Defensor\",\"Defensor\",\"Defensor\",\"Defensor\",\"Defensor\",\"Defensor\",\"Defensor\",\"Defensor\",\"Defensor\",\"Defensor\",\"Defensor\",\"Defensor\",\"Defensor\"],\"x0\":\" \",\"xaxis\":\"x\",\"y\":{\"dtype\":\"f8\",\"bdata\":\"mpmZmZkZMEAzMzMzMzM6QM3MzMzMzDBAmpmZmZmZMEDNzMzMzMw4QGZmZmZmZilAzczMzMzMJkAzMzMzM7M0QDMzMzMzMydAAAAAAACAMkDNzMzMzEw5QJqZmZmZmThAmpmZmZkZNkAzMzMzM7M7QGZmZmZmZi5AMzMzMzOzQEDNzMzMzMw2QGZmZmZm5jNAAAAAAAAAKEDNzMzMzMw5QJqZmZmZGTVAAAAAAAAAM0DNzMzMzIxBQDMzMzMzMzJAmpmZmZkZOUAzMzMzMzMuQDMzMzMzszxAmpmZmZmZMkAAAAAAAAAuQJqZmZmZGTZAZmZmZmZmOUBmZmZmZmYpQJqZmZmZGTxAZmZmZmZmKEAAAAAAAAApQAAAAAAAQEFAMzMzMzMzNkDNzMzMzMwkQJqZmZmZmTRAzczMzMzMMkCamZmZmZk5QAAAAAAAAEFAzczMzMzMKEBmZmZmZuY0QAAAAAAAADJAzczMzMzMKEAAAAAAAAA+QAAAAAAAgDRAAAAAAAAAO0AzMzMzMzMwQJqZmZmZGTBAzczMzMxMNUAAAAAAAIAzQAAAAAAAADRAmpmZmZmZJ0CamZmZmZk0QA==\"},\"y0\":\" \",\"yaxis\":\"y\",\"type\":\"violin\"},{\"alignmentgroup\":\"True\",\"box\":{\"visible\":true},\"hovertemplate\":\"Posición=%{x}\\u003cbr\\u003eSalario Anual (M€)=%{y}\\u003cextra\\u003e\\u003c\\u002fextra\\u003e\",\"legendgroup\":\"Mediocampista\",\"marker\":{\"color\":\"#EF553B\"},\"name\":\"Mediocampista\",\"offsetgroup\":\"Mediocampista\",\"orientation\":\"v\",\"scalegroup\":\"True\",\"showlegend\":true,\"x\":[\"Mediocampista\",\"Mediocampista\",\"Mediocampista\",\"Mediocampista\",\"Mediocampista\",\"Mediocampista\",\"Mediocampista\",\"Mediocampista\",\"Mediocampista\",\"Mediocampista\",\"Mediocampista\",\"Mediocampista\",\"Mediocampista\",\"Mediocampista\",\"Mediocampista\",\"Mediocampista\",\"Mediocampista\",\"Mediocampista\",\"Mediocampista\",\"Mediocampista\",\"Mediocampista\",\"Mediocampista\",\"Mediocampista\",\"Mediocampista\",\"Mediocampista\",\"Mediocampista\",\"Mediocampista\",\"Mediocampista\",\"Mediocampista\",\"Mediocampista\",\"Mediocampista\",\"Mediocampista\",\"Mediocampista\",\"Mediocampista\",\"Mediocampista\",\"Mediocampista\",\"Mediocampista\",\"Mediocampista\",\"Mediocampista\",\"Mediocampista\",\"Mediocampista\",\"Mediocampista\",\"Mediocampista\",\"Mediocampista\",\"Mediocampista\",\"Mediocampista\",\"Mediocampista\",\"Mediocampista\",\"Mediocampista\",\"Mediocampista\",\"Mediocampista\",\"Mediocampista\",\"Mediocampista\",\"Mediocampista\",\"Mediocampista\",\"Mediocampista\",\"Mediocampista\",\"Mediocampista\",\"Mediocampista\",\"Mediocampista\",\"Mediocampista\",\"Mediocampista\",\"Mediocampista\",\"Mediocampista\",\"Mediocampista\",\"Mediocampista\",\"Mediocampista\",\"Mediocampista\",\"Mediocampista\",\"Mediocampista\",\"Mediocampista\"],\"x0\":\" \",\"xaxis\":\"x\",\"y\":{\"dtype\":\"f8\",\"bdata\":\"zczMzMzMJkAAAAAAAAA0QM3MzMzMzC5AmpmZmZkZPkDNzMzMzEw2QJqZmZmZmTVAmpmZmZmZPEAzMzMzMzM6QM3MzMzMTDhAzczMzMxMMECamZmZmZlCQGZmZmZm5jRAMzMzMzOzOEDNzMzMzMwjQDMzMzMzMzNAMzMzMzMzPkCamZmZmRkyQAAAAAAAAD5AzczMzMzMPEDNzMzMzEw1QDMzMzMzs0lAzczMzMyMQUBmZmZmZiZBQGZmZmZmZjJAMzMzMzMzL0AzMzMzM7M3QGZmZmZmZjtAZmZmZmYmTUAzMzMzMzM1QAAAAAAAAC1AMzMzMzOzNUDNzMzMzMw0QDMzMzMzszJAAAAAAAAAO0AAAAAAAIA3QM3MzMzMzDJAzczMzMzML0AAAAAAAEBPQM3MzMzMTDJAzczMzMxMN0CamZmZmRlBQGZmZmZm5jZAAAAAAAAAQkBmZmZmZmYxQGZmZmZmZjBAzczMzMwMREDNzMzMzMw0QJqZmZmZmShAAAAAAACAMUAzMzMzM7MyQJqZmZmZmUZAzczMzMxMMkCamZmZmZkqQAAAAAAAADpAZmZmZmbmR0BmZmZmZmY+QGZmZmZmZjZAZmZmZmZmPEBmZmZmZmY7QJqZmZmZmUNAmpmZmZkZO0CamZmZmRkzQJqZmZmZmTFAmpmZmZmZLEBmZmZmZmY8QDMzMzMzszJAzczMzMyMQECamZmZmZlBQM3MzMzMzERAMzMzMzMzPUAAAAAAAAA4QA==\"},\"y0\":\" \",\"yaxis\":\"y\",\"type\":\"violin\"},{\"alignmentgroup\":\"True\",\"box\":{\"visible\":true},\"hovertemplate\":\"Posición=%{x}\\u003cbr\\u003eSalario Anual (M€)=%{y}\\u003cextra\\u003e\\u003c\\u002fextra\\u003e\",\"legendgroup\":\"Delantero\",\"marker\":{\"color\":\"#00cc96\"},\"name\":\"Delantero\",\"offsetgroup\":\"Delantero\",\"orientation\":\"v\",\"scalegroup\":\"True\",\"showlegend\":true,\"x\":[\"Delantero\",\"Delantero\",\"Delantero\",\"Delantero\",\"Delantero\",\"Delantero\",\"Delantero\",\"Delantero\",\"Delantero\",\"Delantero\",\"Delantero\",\"Delantero\",\"Delantero\",\"Delantero\",\"Delantero\",\"Delantero\",\"Delantero\",\"Delantero\",\"Delantero\",\"Delantero\",\"Delantero\",\"Delantero\",\"Delantero\",\"Delantero\",\"Delantero\",\"Delantero\",\"Delantero\",\"Delantero\",\"Delantero\",\"Delantero\",\"Delantero\",\"Delantero\",\"Delantero\",\"Delantero\",\"Delantero\",\"Delantero\",\"Delantero\",\"Delantero\",\"Delantero\",\"Delantero\",\"Delantero\",\"Delantero\",\"Delantero\",\"Delantero\",\"Delantero\",\"Delantero\",\"Delantero\",\"Delantero\",\"Delantero\",\"Delantero\",\"Delantero\",\"Delantero\",\"Delantero\"],\"x0\":\" \",\"xaxis\":\"x\",\"y\":{\"dtype\":\"f8\",\"bdata\":\"mpmZmZlZQEBmZmZmZmY0QAAAAAAAgENAmpmZmZkZQUBmZmZmZuZEQM3MzMzMTDRAZmZmZmZmN0BmZmZmZmZGQM3MzMzMzDNAZmZmZmYmQUDNzMzMzMw0QGZmZmZmZihAmpmZmZkZPEBmZmZmZiZHQGZmZmZmZidAmpmZmZmZK0DNzMzMzMxDQGZmZmZmZjhAzczMzMzMLkAAAAAAAIBKQJqZmZmZmTpAAAAAAAAAN0AzMzMzMzMqQDMzMzMzMzlAmpmZmZkZPEDNzMzMzEwwQDMzMzMzsz1AzczMzMzMLUAAAAAAAIAyQGZmZmZm5jhAzczMzMzMMUBmZmZmZmY7QDMzMzMzM0JAAAAAAACAQEAAAAAAAIBPQJqZmZmZGTJAMzMzMzMzOUBmZmZmZiZBQJqZmZmZGT1AMzMzMzMzKUAzMzMzM7NGQGZmZmZmZjdAMzMzMzMzNECamZmZmRk\\u002fQDMzMzMzszxAMzMzMzMzN0CamZmZmRk8QGZmZmZmZkJAmpmZmZmZL0DNzMzMzIxDQGZmZmZm5jtAzczMzMxMQUAzMzMzMzMyQA==\"},\"y0\":\" \",\"yaxis\":\"y\",\"type\":\"violin\"},{\"alignmentgroup\":\"True\",\"box\":{\"visible\":true},\"hovertemplate\":\"Posición=%{x}\\u003cbr\\u003eSalario Anual (M€)=%{y}\\u003cextra\\u003e\\u003c\\u002fextra\\u003e\",\"legendgroup\":\"Portero\",\"marker\":{\"color\":\"#ab63fa\"},\"name\":\"Portero\",\"offsetgroup\":\"Portero\",\"orientation\":\"v\",\"scalegroup\":\"True\",\"showlegend\":true,\"x\":[\"Portero\",\"Portero\",\"Portero\",\"Portero\",\"Portero\",\"Portero\",\"Portero\",\"Portero\",\"Portero\",\"Portero\",\"Portero\",\"Portero\",\"Portero\",\"Portero\",\"Portero\",\"Portero\",\"Portero\",\"Portero\",\"Portero\",\"Portero\"],\"x0\":\" \",\"xaxis\":\"x\",\"y\":{\"dtype\":\"f8\",\"bdata\":\"AAAAAADAQUDNzMzMzMwvQAAAAAAAADBAMzMzMzMzOkAzMzMzMzMuQGZmZmZm5jNAMzMzMzOzMkAAAAAAAAAnQAAAAAAAgDBAZmZmZmbmM0AAAAAAAAAwQM3MzMzMTDJAZmZmZmZmIEAAAAAAAIA3QM3MzMzMzDlAMzMzMzMzK0AzMzMzMzMqQJqZmZmZGTBAAAAAAACANkAzMzMzMzMlQA==\"},\"y0\":\" \",\"yaxis\":\"y\",\"type\":\"violin\"}],                        {\"template\":{\"data\":{\"barpolar\":[{\"marker\":{\"line\":{\"color\":\"white\",\"width\":0.5},\"pattern\":{\"fillmode\":\"overlay\",\"size\":10,\"solidity\":0.2}},\"type\":\"barpolar\"}],\"bar\":[{\"error_x\":{\"color\":\"#2a3f5f\"},\"error_y\":{\"color\":\"#2a3f5f\"},\"marker\":{\"line\":{\"color\":\"white\",\"width\":0.5},\"pattern\":{\"fillmode\":\"overlay\",\"size\":10,\"solidity\":0.2}},\"type\":\"bar\"}],\"carpet\":[{\"aaxis\":{\"endlinecolor\":\"#2a3f5f\",\"gridcolor\":\"#C8D4E3\",\"linecolor\":\"#C8D4E3\",\"minorgridcolor\":\"#C8D4E3\",\"startlinecolor\":\"#2a3f5f\"},\"baxis\":{\"endlinecolor\":\"#2a3f5f\",\"gridcolor\":\"#C8D4E3\",\"linecolor\":\"#C8D4E3\",\"minorgridcolor\":\"#C8D4E3\",\"startlinecolor\":\"#2a3f5f\"},\"type\":\"carpet\"}],\"choropleth\":[{\"colorbar\":{\"outlinewidth\":0,\"ticks\":\"\"},\"type\":\"choropleth\"}],\"contourcarpet\":[{\"colorbar\":{\"outlinewidth\":0,\"ticks\":\"\"},\"type\":\"contourcarpet\"}],\"contour\":[{\"colorbar\":{\"outlinewidth\":0,\"ticks\":\"\"},\"colorscale\":[[0.0,\"#0d0887\"],[0.1111111111111111,\"#46039f\"],[0.2222222222222222,\"#7201a8\"],[0.3333333333333333,\"#9c179e\"],[0.4444444444444444,\"#bd3786\"],[0.5555555555555556,\"#d8576b\"],[0.6666666666666666,\"#ed7953\"],[0.7777777777777778,\"#fb9f3a\"],[0.8888888888888888,\"#fdca26\"],[1.0,\"#f0f921\"]],\"type\":\"contour\"}],\"heatmap\":[{\"colorbar\":{\"outlinewidth\":0,\"ticks\":\"\"},\"colorscale\":[[0.0,\"#0d0887\"],[0.1111111111111111,\"#46039f\"],[0.2222222222222222,\"#7201a8\"],[0.3333333333333333,\"#9c179e\"],[0.4444444444444444,\"#bd3786\"],[0.5555555555555556,\"#d8576b\"],[0.6666666666666666,\"#ed7953\"],[0.7777777777777778,\"#fb9f3a\"],[0.8888888888888888,\"#fdca26\"],[1.0,\"#f0f921\"]],\"type\":\"heatmap\"}],\"histogram2dcontour\":[{\"colorbar\":{\"outlinewidth\":0,\"ticks\":\"\"},\"colorscale\":[[0.0,\"#0d0887\"],[0.1111111111111111,\"#46039f\"],[0.2222222222222222,\"#7201a8\"],[0.3333333333333333,\"#9c179e\"],[0.4444444444444444,\"#bd3786\"],[0.5555555555555556,\"#d8576b\"],[0.6666666666666666,\"#ed7953\"],[0.7777777777777778,\"#fb9f3a\"],[0.8888888888888888,\"#fdca26\"],[1.0,\"#f0f921\"]],\"type\":\"histogram2dcontour\"}],\"histogram2d\":[{\"colorbar\":{\"outlinewidth\":0,\"ticks\":\"\"},\"colorscale\":[[0.0,\"#0d0887\"],[0.1111111111111111,\"#46039f\"],[0.2222222222222222,\"#7201a8\"],[0.3333333333333333,\"#9c179e\"],[0.4444444444444444,\"#bd3786\"],[0.5555555555555556,\"#d8576b\"],[0.6666666666666666,\"#ed7953\"],[0.7777777777777778,\"#fb9f3a\"],[0.8888888888888888,\"#fdca26\"],[1.0,\"#f0f921\"]],\"type\":\"histogram2d\"}],\"histogram\":[{\"marker\":{\"pattern\":{\"fillmode\":\"overlay\",\"size\":10,\"solidity\":0.2}},\"type\":\"histogram\"}],\"mesh3d\":[{\"colorbar\":{\"outlinewidth\":0,\"ticks\":\"\"},\"type\":\"mesh3d\"}],\"parcoords\":[{\"line\":{\"colorbar\":{\"outlinewidth\":0,\"ticks\":\"\"}},\"type\":\"parcoords\"}],\"pie\":[{\"automargin\":true,\"type\":\"pie\"}],\"scatter3d\":[{\"line\":{\"colorbar\":{\"outlinewidth\":0,\"ticks\":\"\"}},\"marker\":{\"colorbar\":{\"outlinewidth\":0,\"ticks\":\"\"}},\"type\":\"scatter3d\"}],\"scattercarpet\":[{\"marker\":{\"colorbar\":{\"outlinewidth\":0,\"ticks\":\"\"}},\"type\":\"scattercarpet\"}],\"scattergeo\":[{\"marker\":{\"colorbar\":{\"outlinewidth\":0,\"ticks\":\"\"}},\"type\":\"scattergeo\"}],\"scattergl\":[{\"marker\":{\"colorbar\":{\"outlinewidth\":0,\"ticks\":\"\"}},\"type\":\"scattergl\"}],\"scattermapbox\":[{\"marker\":{\"colorbar\":{\"outlinewidth\":0,\"ticks\":\"\"}},\"type\":\"scattermapbox\"}],\"scattermap\":[{\"marker\":{\"colorbar\":{\"outlinewidth\":0,\"ticks\":\"\"}},\"type\":\"scattermap\"}],\"scatterpolargl\":[{\"marker\":{\"colorbar\":{\"outlinewidth\":0,\"ticks\":\"\"}},\"type\":\"scatterpolargl\"}],\"scatterpolar\":[{\"marker\":{\"colorbar\":{\"outlinewidth\":0,\"ticks\":\"\"}},\"type\":\"scatterpolar\"}],\"scatter\":[{\"fillpattern\":{\"fillmode\":\"overlay\",\"size\":10,\"solidity\":0.2},\"type\":\"scatter\"}],\"scatterternary\":[{\"marker\":{\"colorbar\":{\"outlinewidth\":0,\"ticks\":\"\"}},\"type\":\"scatterternary\"}],\"surface\":[{\"colorbar\":{\"outlinewidth\":0,\"ticks\":\"\"},\"colorscale\":[[0.0,\"#0d0887\"],[0.1111111111111111,\"#46039f\"],[0.2222222222222222,\"#7201a8\"],[0.3333333333333333,\"#9c179e\"],[0.4444444444444444,\"#bd3786\"],[0.5555555555555556,\"#d8576b\"],[0.6666666666666666,\"#ed7953\"],[0.7777777777777778,\"#fb9f3a\"],[0.8888888888888888,\"#fdca26\"],[1.0,\"#f0f921\"]],\"type\":\"surface\"}],\"table\":[{\"cells\":{\"fill\":{\"color\":\"#EBF0F8\"},\"line\":{\"color\":\"white\"}},\"header\":{\"fill\":{\"color\":\"#C8D4E3\"},\"line\":{\"color\":\"white\"}},\"type\":\"table\"}]},\"layout\":{\"annotationdefaults\":{\"arrowcolor\":\"#2a3f5f\",\"arrowhead\":0,\"arrowwidth\":1},\"autotypenumbers\":\"strict\",\"coloraxis\":{\"colorbar\":{\"outlinewidth\":0,\"ticks\":\"\"}},\"colorscale\":{\"diverging\":[[0,\"#8e0152\"],[0.1,\"#c51b7d\"],[0.2,\"#de77ae\"],[0.3,\"#f1b6da\"],[0.4,\"#fde0ef\"],[0.5,\"#f7f7f7\"],[0.6,\"#e6f5d0\"],[0.7,\"#b8e186\"],[0.8,\"#7fbc41\"],[0.9,\"#4d9221\"],[1,\"#276419\"]],\"sequential\":[[0.0,\"#0d0887\"],[0.1111111111111111,\"#46039f\"],[0.2222222222222222,\"#7201a8\"],[0.3333333333333333,\"#9c179e\"],[0.4444444444444444,\"#bd3786\"],[0.5555555555555556,\"#d8576b\"],[0.6666666666666666,\"#ed7953\"],[0.7777777777777778,\"#fb9f3a\"],[0.8888888888888888,\"#fdca26\"],[1.0,\"#f0f921\"]],\"sequentialminus\":[[0.0,\"#0d0887\"],[0.1111111111111111,\"#46039f\"],[0.2222222222222222,\"#7201a8\"],[0.3333333333333333,\"#9c179e\"],[0.4444444444444444,\"#bd3786\"],[0.5555555555555556,\"#d8576b\"],[0.6666666666666666,\"#ed7953\"],[0.7777777777777778,\"#fb9f3a\"],[0.8888888888888888,\"#fdca26\"],[1.0,\"#f0f921\"]]},\"colorway\":[\"#636efa\",\"#EF553B\",\"#00cc96\",\"#ab63fa\",\"#FFA15A\",\"#19d3f3\",\"#FF6692\",\"#B6E880\",\"#FF97FF\",\"#FECB52\"],\"font\":{\"color\":\"#2a3f5f\"},\"geo\":{\"bgcolor\":\"white\",\"lakecolor\":\"white\",\"landcolor\":\"white\",\"showlakes\":true,\"showland\":true,\"subunitcolor\":\"#C8D4E3\"},\"hoverlabel\":{\"align\":\"left\"},\"hovermode\":\"closest\",\"mapbox\":{\"style\":\"light\"},\"paper_bgcolor\":\"white\",\"plot_bgcolor\":\"white\",\"polar\":{\"angularaxis\":{\"gridcolor\":\"#EBF0F8\",\"linecolor\":\"#EBF0F8\",\"ticks\":\"\"},\"bgcolor\":\"white\",\"radialaxis\":{\"gridcolor\":\"#EBF0F8\",\"linecolor\":\"#EBF0F8\",\"ticks\":\"\"}},\"scene\":{\"xaxis\":{\"backgroundcolor\":\"white\",\"gridcolor\":\"#DFE8F3\",\"gridwidth\":2,\"linecolor\":\"#EBF0F8\",\"showbackground\":true,\"ticks\":\"\",\"zerolinecolor\":\"#EBF0F8\"},\"yaxis\":{\"backgroundcolor\":\"white\",\"gridcolor\":\"#DFE8F3\",\"gridwidth\":2,\"linecolor\":\"#EBF0F8\",\"showbackground\":true,\"ticks\":\"\",\"zerolinecolor\":\"#EBF0F8\"},\"zaxis\":{\"backgroundcolor\":\"white\",\"gridcolor\":\"#DFE8F3\",\"gridwidth\":2,\"linecolor\":\"#EBF0F8\",\"showbackground\":true,\"ticks\":\"\",\"zerolinecolor\":\"#EBF0F8\"}},\"shapedefaults\":{\"line\":{\"color\":\"#2a3f5f\"}},\"ternary\":{\"aaxis\":{\"gridcolor\":\"#DFE8F3\",\"linecolor\":\"#A2B1C6\",\"ticks\":\"\"},\"baxis\":{\"gridcolor\":\"#DFE8F3\",\"linecolor\":\"#A2B1C6\",\"ticks\":\"\"},\"bgcolor\":\"white\",\"caxis\":{\"gridcolor\":\"#DFE8F3\",\"linecolor\":\"#A2B1C6\",\"ticks\":\"\"}},\"title\":{\"x\":0.05},\"xaxis\":{\"automargin\":true,\"gridcolor\":\"#EBF0F8\",\"linecolor\":\"#EBF0F8\",\"ticks\":\"\",\"title\":{\"standoff\":15},\"zerolinecolor\":\"#EBF0F8\",\"zerolinewidth\":2},\"yaxis\":{\"automargin\":true,\"gridcolor\":\"#EBF0F8\",\"linecolor\":\"#EBF0F8\",\"ticks\":\"\",\"title\":{\"standoff\":15},\"zerolinecolor\":\"#EBF0F8\",\"zerolinewidth\":2}}},\"xaxis\":{\"anchor\":\"y\",\"domain\":[0.0,1.0],\"title\":{\"text\":\"Posición\"},\"categoryorder\":\"array\",\"categoryarray\":[\"Defensor\",\"Mediocampista\",\"Delantero\",\"Portero\"]},\"yaxis\":{\"anchor\":\"x\",\"domain\":[0.0,1.0],\"title\":{\"text\":\"Salario Anual (M€)\"}},\"legend\":{\"title\":{\"text\":\"Posición\"},\"tracegroupgap\":0},\"title\":{\"text\":\"🎻 Distribución de Salarios por Posición\"},\"violinmode\":\"overlay\",\"width\":800,\"height\":500},                        {\"responsive\": true}                    ).then(function(){\n",
       "                            \n",
       "var gd = document.getElementById('07f205c2-3ddc-414c-9489-76ef46470a07');\n",
       "var x = new MutationObserver(function (mutations, observer) {{\n",
       "        var display = window.getComputedStyle(gd).display;\n",
       "        if (!display || display === 'none') {{\n",
       "            console.log([gd, 'removed!']);\n",
       "            Plotly.purge(gd);\n",
       "            observer.disconnect();\n",
       "        }}\n",
       "}});\n",
       "\n",
       "// Listen for the removal of the full notebook cells\n",
       "var notebookContainer = gd.closest('#notebook-container');\n",
       "if (notebookContainer) {{\n",
       "    x.observe(notebookContainer, {childList: true});\n",
       "}}\n",
       "\n",
       "// Listen for the clearing of the current output cell\n",
       "var outputEl = gd.closest('.output');\n",
       "if (outputEl) {{\n",
       "    x.observe(outputEl, {childList: true});\n",
       "}}\n",
       "\n",
       "                        })                };            </script>        </div>"
      ]
     },
     "metadata": {},
     "output_type": "display_data"
    },
    {
     "name": "stdout",
     "output_type": "stream",
     "text": [
      "✅ Gráfico de violin para distribuciones creado\n",
      "\n",
      "📊 Estadísticas del análisis geográfico:\n",
      "   🌍 Países representados: 12\n",
      "   👥 País con más jugadores: España (66 jugadores)\n",
      "   💰 País con mayor valor promedio: Uruguay (40.1 M€)\n",
      "\n",
      "📈 Estadísticas temporales:\n",
      "   📅 Periodo analizado: 20 jornadas\n",
      "   🏆 Equipo con más puntos: Barcelona\n",
      "   ⚽ Total de goles por jornada: 22.8 promedio\n"
     ]
    }
   ],
   "source": [
    "# 4.3 Mapa geográfico de origen de jugadores\n",
    "\n",
    "print(\"\\n🗺️ VISUALIZACIONES GEOGRÁFICAS Y TEMPORALES\")\n",
    "print(\"=\" * 60)\n",
    "\n",
    "# Agregar datos por país para el mapa\n",
    "df_paises = df_jugadores.groupby('pais').agg({\n",
    "    'jugador_id': 'count',\n",
    "    'valor_mercado': 'mean',\n",
    "    'rating_promedio': 'mean',\n",
    "    'lat': 'first',\n",
    "    'lon': 'first'\n",
    "}).reset_index()\n",
    "\n",
    "df_paises.columns = ['pais', 'num_jugadores', 'valor_promedio', 'rating_promedio', 'lat', 'lon']\n",
    "\n",
    "# Crear mapa de dispersión geográfico\n",
    "fig_map = px.scatter_geo(\n",
    "    df_paises,\n",
    "    lat='lat',\n",
    "    lon='lon',\n",
    "    size='num_jugadores',\n",
    "    color='valor_promedio',\n",
    "    hover_name='pais',\n",
    "    hover_data=['num_jugadores', 'rating_promedio'],\n",
    "    title='🌍 Distribución Global de Jugadores por País de Origen',\n",
    "    labels={\n",
    "        'valor_promedio': 'Valor Promedio (M€)',\n",
    "        'num_jugadores': 'Número de Jugadores'\n",
    "    }\n",
    ")\n",
    "\n",
    "fig_map.update_layout(\n",
    "    geo=dict(\n",
    "        projection_type='equirectangular',\n",
    "        showland=True,\n",
    "        landcolor='lightgray',\n",
    "        coastlinecolor='darkgray',\n",
    "    ),\n",
    "    width=900,\n",
    "    height=500\n",
    ")\n",
    "\n",
    "fig_map.show()\n",
    "\n",
    "print(\"✅ Mapa geográfico de origen de jugadores creado\")\n",
    "\n",
    "# Gráfico de series temporales - Evolución de puntos por equipo\n",
    "fig_temporal = px.line(\n",
    "    df_temporal,\n",
    "    x='fecha',\n",
    "    y='puntos_acumulados',\n",
    "    color='equipo',\n",
    "    title='📈 Evolución de Puntos Acumulados por Equipo',\n",
    "    labels={\n",
    "        'fecha': 'Fecha',\n",
    "        'puntos_acumulados': 'Puntos Acumulados',\n",
    "        'equipo': 'Equipo'\n",
    "    }\n",
    ")\n",
    "\n",
    "fig_temporal.update_layout(\n",
    "    width=900,\n",
    "    height=500,\n",
    "    hovermode='x unified',\n",
    "    template='plotly_white'\n",
    ")\n",
    "\n",
    "fig_temporal.show()\n",
    "\n",
    "print(\"✅ Gráfico de series temporales creado\")\n",
    "\n",
    "# Heatmap de correlaciones interactivo\n",
    "variables_numericas = ['edad', 'goles_temporada', 'asistencias_temporada', \n",
    "                      'valor_mercado', 'rating_promedio', 'salario_anual']\n",
    "\n",
    "correlacion_matrix = df_jugadores[variables_numericas].corr()\n",
    "\n",
    "fig_heatmap = px.imshow(\n",
    "    correlacion_matrix,\n",
    "    text_auto=True,\n",
    "    aspect=\"auto\",\n",
    "    title='🔥 Matriz de Correlaciones entre Variables',\n",
    "    color_continuous_scale='RdBu_r'\n",
    ")\n",
    "\n",
    "fig_heatmap.update_layout(\n",
    "    width=700,\n",
    "    height=500\n",
    ")\n",
    "\n",
    "fig_heatmap.show()\n",
    "\n",
    "print(\"✅ Heatmap de correlaciones interactivo creado\")\n",
    "\n",
    "# Gráfico de violin para distribuciones detalladas\n",
    "fig_violin = px.violin(\n",
    "    df_jugadores,\n",
    "    x='posicion',\n",
    "    y='salario_anual',\n",
    "    color='posicion',\n",
    "    box=True,\n",
    "    title='🎻 Distribución de Salarios por Posición',\n",
    "    labels={\n",
    "        'posicion': 'Posición',\n",
    "        'salario_anual': 'Salario Anual (M€)'\n",
    "    }\n",
    ")\n",
    "\n",
    "fig_violin.update_layout(\n",
    "    width=800,\n",
    "    height=500,\n",
    "    template='plotly_white'\n",
    ")\n",
    "\n",
    "fig_violin.show()\n",
    "\n",
    "print(\"✅ Gráfico de violin para distribuciones creado\")\n",
    "\n",
    "print(f\"\\n📊 Estadísticas del análisis geográfico:\")\n",
    "print(f\"   🌍 Países representados: {len(df_paises)}\")\n",
    "print(f\"   👥 País con más jugadores: {df_paises.loc[df_paises['num_jugadores'].idxmax(), 'pais']} ({df_paises['num_jugadores'].max()} jugadores)\")\n",
    "print(f\"   💰 País con mayor valor promedio: {df_paises.loc[df_paises['valor_promedio'].idxmax(), 'pais']} ({df_paises['valor_promedio'].max():.1f} M€)\")\n",
    "\n",
    "print(f\"\\n📈 Estadísticas temporales:\")\n",
    "print(f\"   📅 Periodo analizado: {df_temporal['jornada'].max()} jornadas\")\n",
    "print(f\"   🏆 Equipo con más puntos: {df_temporal.groupby('equipo')['puntos_acumulados'].max().idxmax()}\")\n",
    "print(f\"   ⚽ Total de goles por jornada: {df_temporal.groupby('jornada')['goles_fecha'].sum().mean():.1f} promedio\")"
   ]
  },
  {
   "cell_type": "markdown",
   "id": "0a383b6e",
   "metadata": {},
   "source": [
    "## 5. Dashboards y Storytelling con Datos\n",
    "\n",
    "### 5.1 Creación de Dashboards Integrados\n",
    "\n",
    "Los **dashboards** combinan múltiples visualizaciones para contar una historia completa. Son esenciales para:\n",
    "\n",
    "#### **📊 Análisis Executivo**\n",
    "- **Resumen de métricas clave**: KPIs principales en una vista\n",
    "- **Comparaciones rápidas**: Entre equipos, jugadores, temporadas\n",
    "- **Detección de tendencias**: Patrones y anomalías\n",
    "\n",
    "#### **🎯 Toma de Decisiones**\n",
    "- **Información contextualizada**: Datos relevantes en tiempo real\n",
    "- **Filtros dinámicos**: Exploración personalizada\n",
    "- **Alertas visuales**: Destacar información crítica\n",
    "\n",
    "### 5.2 Dashboard Ejecutivo de Rendimiento\n",
    "\n",
    "Creamos un dashboard que combine las visualizaciones más importantes."
   ]
  },
  {
   "cell_type": "code",
   "execution_count": 5,
   "id": "ef4b03d7",
   "metadata": {},
   "outputs": [
    {
     "name": "stdout",
     "output_type": "stream",
     "text": [
      "\n",
      "📊 DASHBOARD EJECUTIVO DE RENDIMIENTO\n",
      "============================================================\n"
     ]
    },
    {
     "data": {
      "application/vnd.plotly.v1+json": {
       "config": {
        "plotlyServerURL": "https://plot.ly"
       },
       "data": [
        {
         "marker": {
          "color": "lightblue"
         },
         "name": "Valor M€",
         "orientation": "h",
         "type": "bar",
         "x": {
          "bdata": "mpmZmZm5VkBmZmZmZmZTQDMzMzMz805AMzMzMzMzTUCamZmZmdlMQGZmZmZmJkxAmpmZmZkZS0AAAAAAAEBKQM3MzMzMDEpAMzMzMzPzSUA=",
          "dtype": "f8"
         },
         "xaxis": "x",
         "y": [
          "Jugador_126",
          "Jugador_113",
          "Jugador_076",
          "Jugador_070",
          "Jugador_058",
          "Jugador_054",
          "Jugador_008",
          "Jugador_115",
          "Jugador_144",
          "Jugador_025"
         ],
         "yaxis": "y"
        },
        {
         "marker": {
          "color": {
           "bdata": "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",
           "dtype": "f8"
          },
          "colorscale": [
           [
            0,
            "#440154"
           ],
           [
            0.1111111111111111,
            "#482878"
           ],
           [
            0.2222222222222222,
            "#3e4989"
           ],
           [
            0.3333333333333333,
            "#31688e"
           ],
           [
            0.4444444444444444,
            "#26828e"
           ],
           [
            0.5555555555555556,
            "#1f9e89"
           ],
           [
            0.6666666666666666,
            "#35b779"
           ],
           [
            0.7777777777777778,
            "#6ece58"
           ],
           [
            0.8888888888888888,
            "#b5de2b"
           ],
           [
            1,
            "#fde725"
           ]
          ],
          "showscale": true,
          "size": {
           "bdata": "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",
           "dtype": "f8"
          }
         },
         "mode": "markers",
         "name": "Jugadores",
         "text": [
          "Jugador_001",
          "Jugador_002",
          "Jugador_003",
          "Jugador_004",
          "Jugador_005",
          "Jugador_006",
          "Jugador_007",
          "Jugador_008",
          "Jugador_009",
          "Jugador_010",
          "Jugador_011",
          "Jugador_012",
          "Jugador_013",
          "Jugador_014",
          "Jugador_015",
          "Jugador_016",
          "Jugador_017",
          "Jugador_018",
          "Jugador_019",
          "Jugador_020",
          "Jugador_021",
          "Jugador_022",
          "Jugador_023",
          "Jugador_024",
          "Jugador_025",
          "Jugador_026",
          "Jugador_027",
          "Jugador_028",
          "Jugador_029",
          "Jugador_030",
          "Jugador_031",
          "Jugador_032",
          "Jugador_033",
          "Jugador_034",
          "Jugador_035",
          "Jugador_036",
          "Jugador_037",
          "Jugador_038",
          "Jugador_039",
          "Jugador_040",
          "Jugador_041",
          "Jugador_042",
          "Jugador_043",
          "Jugador_044",
          "Jugador_045",
          "Jugador_046",
          "Jugador_047",
          "Jugador_048",
          "Jugador_049",
          "Jugador_050",
          "Jugador_051",
          "Jugador_052",
          "Jugador_053",
          "Jugador_054",
          "Jugador_055",
          "Jugador_056",
          "Jugador_057",
          "Jugador_058",
          "Jugador_059",
          "Jugador_060",
          "Jugador_061",
          "Jugador_062",
          "Jugador_063",
          "Jugador_064",
          "Jugador_065",
          "Jugador_066",
          "Jugador_067",
          "Jugador_068",
          "Jugador_069",
          "Jugador_070",
          "Jugador_071",
          "Jugador_072",
          "Jugador_073",
          "Jugador_074",
          "Jugador_075",
          "Jugador_076",
          "Jugador_077",
          "Jugador_078",
          "Jugador_079",
          "Jugador_080",
          "Jugador_081",
          "Jugador_082",
          "Jugador_083",
          "Jugador_084",
          "Jugador_085",
          "Jugador_086",
          "Jugador_087",
          "Jugador_088",
          "Jugador_089",
          "Jugador_090",
          "Jugador_091",
          "Jugador_092",
          "Jugador_093",
          "Jugador_094",
          "Jugador_095",
          "Jugador_096",
          "Jugador_097",
          "Jugador_098",
          "Jugador_099",
          "Jugador_100",
          "Jugador_101",
          "Jugador_102",
          "Jugador_103",
          "Jugador_104",
          "Jugador_105",
          "Jugador_106",
          "Jugador_107",
          "Jugador_108",
          "Jugador_109",
          "Jugador_110",
          "Jugador_111",
          "Jugador_112",
          "Jugador_113",
          "Jugador_114",
          "Jugador_115",
          "Jugador_116",
          "Jugador_117",
          "Jugador_118",
          "Jugador_119",
          "Jugador_120",
          "Jugador_121",
          "Jugador_122",
          "Jugador_123",
          "Jugador_124",
          "Jugador_125",
          "Jugador_126",
          "Jugador_127",
          "Jugador_128",
          "Jugador_129",
          "Jugador_130",
          "Jugador_131",
          "Jugador_132",
          "Jugador_133",
          "Jugador_134",
          "Jugador_135",
          "Jugador_136",
          "Jugador_137",
          "Jugador_138",
          "Jugador_139",
          "Jugador_140",
          "Jugador_141",
          "Jugador_142",
          "Jugador_143",
          "Jugador_144",
          "Jugador_145",
          "Jugador_146",
          "Jugador_147",
          "Jugador_148",
          "Jugador_149",
          "Jugador_150",
          "Jugador_151",
          "Jugador_152",
          "Jugador_153",
          "Jugador_154",
          "Jugador_155",
          "Jugador_156",
          "Jugador_157",
          "Jugador_158",
          "Jugador_159",
          "Jugador_160",
          "Jugador_161",
          "Jugador_162",
          "Jugador_163",
          "Jugador_164",
          "Jugador_165",
          "Jugador_166",
          "Jugador_167",
          "Jugador_168",
          "Jugador_169",
          "Jugador_170",
          "Jugador_171",
          "Jugador_172",
          "Jugador_173",
          "Jugador_174",
          "Jugador_175",
          "Jugador_176",
          "Jugador_177",
          "Jugador_178",
          "Jugador_179",
          "Jugador_180",
          "Jugador_181",
          "Jugador_182",
          "Jugador_183",
          "Jugador_184",
          "Jugador_185",
          "Jugador_186",
          "Jugador_187",
          "Jugador_188",
          "Jugador_189",
          "Jugador_190",
          "Jugador_191",
          "Jugador_192",
          "Jugador_193",
          "Jugador_194",
          "Jugador_195",
          "Jugador_196",
          "Jugador_197",
          "Jugador_198",
          "Jugador_199",
          "Jugador_200"
         ],
         "type": "scatter",
         "x": {
          "bdata": "AAAAAAANBQsABQIFCgcBAQMBAwUBAgkACgADAAMGAwADAAAAAwIBAgEAAAIGAgADAAIHAwIMAgEDCQAGBAAIAQACAgADDgEBAQECBAcCAwADAAEBAgAEAAUAAAIHAAIBAAABAAIJAwEFAAACAAABBAcDDQkBAgICAgIDAAIQAwMAAAEAAQEDAAMFAwACAwICAAYEAwACAQMBDgYAAAMEAgMAAAIAAQYEAAAGAxECAgIAAAoABAYDAQIAAwAKAAIBBwMABQIGAAQ=",
          "dtype": "i1"
         },
         "xaxis": "x2",
         "y": {
          "bdata": "AAEBAQQEBQMDAAIDBwUCBAQAAwEABAEABAIBAwkDCAAEAAECAwIBBQYBAAYHBgMAAQEBAAEHAwIBDgEDBQEAAAICCwUDBwcCBAAEBwACBQEDAgAAAwEABAICAQMAAAAEAgIAAAUEAQIDAAEDAgAHAQ4BBAUCAgIBCwUGAgICAhAAAQEABAEDBQEIAgEDAwEHAg4CBgIBAAQFBQEBAAUEAQcAAwUBAwIAAAECAQUEAQcBAAQBAwUAAQcABgAEAAECAQIAAQYAAQE=",
          "dtype": "i1"
         },
         "yaxis": "y2"
        },
        {
         "marker": {
          "color": "lightgreen"
         },
         "name": "Rating Promedio",
         "type": "bar",
         "x": [
          "Athletic Bilbao",
          "Atlético Madrid",
          "Barcelona",
          "Betis",
          "Espanyol",
          "Real Madrid",
          "Real Sociedad",
          "Sevilla",
          "Valencia",
          "Villarreal"
         ],
         "xaxis": "x3",
         "y": {
          "bdata": "DtXtUN0OUkDHcRzHcbxUQM3MzMzMBFZA6JY49XuOUkBQ+qRP+jRRQD4K16NwpVZAkZCQkJAQUkB0kxgEVu5SQHqe53meh1JAcer33BKnUkA=",
          "dtype": "f8"
         },
         "yaxis": "y3"
        },
        {
         "marker": {
          "color": "lightcoral"
         },
         "name": "Frecuencia",
         "nbinsx": 15,
         "type": "histogram",
         "x": {
          "bdata": "HBcXIBUeFBgVGhweFBkWHRgYFxgVFR4ZEhYXGBgcGxUTFh8aIR0bHRsUFxwhHBcYFyAYFhIZGx4jGhUXHxweFxceFxkgGh0TFxsYGRwXEhwbGhUcGRcUHhcZIxoYEhkeGxYUGRoTHRoYGBUUGhYeGRsYFB8bHhsYHhgVHxgXHRUdGRQYGx4VHhwaHxsiHBsZGR4SFiIYEhobFRwZGRcZHhwTHB0ZHxcYFx0gGyAeGR0YGCMcHBgcHRYVHBwfHCAbGhsTGhcYGxs=",
          "dtype": "i1"
         },
         "xaxis": "x4",
         "yaxis": "y4"
        }
       ],
       "layout": {
        "annotations": [
         {
          "font": {
           "size": 16
          },
          "showarrow": false,
          "text": "💰 Top 10 Jugadores por Valor",
          "x": 0.225,
          "xanchor": "center",
          "xref": "paper",
          "y": 1,
          "yanchor": "bottom",
          "yref": "paper"
         },
         {
          "font": {
           "size": 16
          },
          "showarrow": false,
          "text": "⚽ Goles vs Asistencias",
          "x": 0.775,
          "xanchor": "center",
          "xref": "paper",
          "y": 1,
          "yanchor": "bottom",
          "yref": "paper"
         },
         {
          "font": {
           "size": 16
          },
          "showarrow": false,
          "text": "🏆 Rendimiento por Equipo",
          "x": 0.225,
          "xanchor": "center",
          "xref": "paper",
          "y": 0.375,
          "yanchor": "bottom",
          "yref": "paper"
         },
         {
          "font": {
           "size": 16
          },
          "showarrow": false,
          "text": "📊 Distribución de Edades",
          "x": 0.775,
          "xanchor": "center",
          "xref": "paper",
          "y": 0.375,
          "yanchor": "bottom",
          "yref": "paper"
         }
        ],
        "height": 800,
        "showlegend": false,
        "template": {
         "data": {
          "bar": [
           {
            "error_x": {
             "color": "#2a3f5f"
            },
            "error_y": {
             "color": "#2a3f5f"
            },
            "marker": {
             "line": {
              "color": "#E5ECF6",
              "width": 0.5
             },
             "pattern": {
              "fillmode": "overlay",
              "size": 10,
              "solidity": 0.2
             }
            },
            "type": "bar"
           }
          ],
          "barpolar": [
           {
            "marker": {
             "line": {
              "color": "#E5ECF6",
              "width": 0.5
             },
             "pattern": {
              "fillmode": "overlay",
              "size": 10,
              "solidity": 0.2
             }
            },
            "type": "barpolar"
           }
          ],
          "carpet": [
           {
            "aaxis": {
             "endlinecolor": "#2a3f5f",
             "gridcolor": "white",
             "linecolor": "white",
             "minorgridcolor": "white",
             "startlinecolor": "#2a3f5f"
            },
            "baxis": {
             "endlinecolor": "#2a3f5f",
             "gridcolor": "white",
             "linecolor": "white",
             "minorgridcolor": "white",
             "startlinecolor": "#2a3f5f"
            },
            "type": "carpet"
           }
          ],
          "choropleth": [
           {
            "colorbar": {
             "outlinewidth": 0,
             "ticks": ""
            },
            "type": "choropleth"
           }
          ],
          "contour": [
           {
            "colorbar": {
             "outlinewidth": 0,
             "ticks": ""
            },
            "colorscale": [
             [
              0,
              "#0d0887"
             ],
             [
              0.1111111111111111,
              "#46039f"
             ],
             [
              0.2222222222222222,
              "#7201a8"
             ],
             [
              0.3333333333333333,
              "#9c179e"
             ],
             [
              0.4444444444444444,
              "#bd3786"
             ],
             [
              0.5555555555555556,
              "#d8576b"
             ],
             [
              0.6666666666666666,
              "#ed7953"
             ],
             [
              0.7777777777777778,
              "#fb9f3a"
             ],
             [
              0.8888888888888888,
              "#fdca26"
             ],
             [
              1,
              "#f0f921"
             ]
            ],
            "type": "contour"
           }
          ],
          "contourcarpet": [
           {
            "colorbar": {
             "outlinewidth": 0,
             "ticks": ""
            },
            "type": "contourcarpet"
           }
          ],
          "heatmap": [
           {
            "colorbar": {
             "outlinewidth": 0,
             "ticks": ""
            },
            "colorscale": [
             [
              0,
              "#0d0887"
             ],
             [
              0.1111111111111111,
              "#46039f"
             ],
             [
              0.2222222222222222,
              "#7201a8"
             ],
             [
              0.3333333333333333,
              "#9c179e"
             ],
             [
              0.4444444444444444,
              "#bd3786"
             ],
             [
              0.5555555555555556,
              "#d8576b"
             ],
             [
              0.6666666666666666,
              "#ed7953"
             ],
             [
              0.7777777777777778,
              "#fb9f3a"
             ],
             [
              0.8888888888888888,
              "#fdca26"
             ],
             [
              1,
              "#f0f921"
             ]
            ],
            "type": "heatmap"
           }
          ],
          "histogram": [
           {
            "marker": {
             "pattern": {
              "fillmode": "overlay",
              "size": 10,
              "solidity": 0.2
             }
            },
            "type": "histogram"
           }
          ],
          "histogram2d": [
           {
            "colorbar": {
             "outlinewidth": 0,
             "ticks": ""
            },
            "colorscale": [
             [
              0,
              "#0d0887"
             ],
             [
              0.1111111111111111,
              "#46039f"
             ],
             [
              0.2222222222222222,
              "#7201a8"
             ],
             [
              0.3333333333333333,
              "#9c179e"
             ],
             [
              0.4444444444444444,
              "#bd3786"
             ],
             [
              0.5555555555555556,
              "#d8576b"
             ],
             [
              0.6666666666666666,
              "#ed7953"
             ],
             [
              0.7777777777777778,
              "#fb9f3a"
             ],
             [
              0.8888888888888888,
              "#fdca26"
             ],
             [
              1,
              "#f0f921"
             ]
            ],
            "type": "histogram2d"
           }
          ],
          "histogram2dcontour": [
           {
            "colorbar": {
             "outlinewidth": 0,
             "ticks": ""
            },
            "colorscale": [
             [
              0,
              "#0d0887"
             ],
             [
              0.1111111111111111,
              "#46039f"
             ],
             [
              0.2222222222222222,
              "#7201a8"
             ],
             [
              0.3333333333333333,
              "#9c179e"
             ],
             [
              0.4444444444444444,
              "#bd3786"
             ],
             [
              0.5555555555555556,
              "#d8576b"
             ],
             [
              0.6666666666666666,
              "#ed7953"
             ],
             [
              0.7777777777777778,
              "#fb9f3a"
             ],
             [
              0.8888888888888888,
              "#fdca26"
             ],
             [
              1,
              "#f0f921"
             ]
            ],
            "type": "histogram2dcontour"
           }
          ],
          "mesh3d": [
           {
            "colorbar": {
             "outlinewidth": 0,
             "ticks": ""
            },
            "type": "mesh3d"
           }
          ],
          "parcoords": [
           {
            "line": {
             "colorbar": {
              "outlinewidth": 0,
              "ticks": ""
             }
            },
            "type": "parcoords"
           }
          ],
          "pie": [
           {
            "automargin": true,
            "type": "pie"
           }
          ],
          "scatter": [
           {
            "fillpattern": {
             "fillmode": "overlay",
             "size": 10,
             "solidity": 0.2
            },
            "type": "scatter"
           }
          ],
          "scatter3d": [
           {
            "line": {
             "colorbar": {
              "outlinewidth": 0,
              "ticks": ""
             }
            },
            "marker": {
             "colorbar": {
              "outlinewidth": 0,
              "ticks": ""
             }
            },
            "type": "scatter3d"
           }
          ],
          "scattercarpet": [
           {
            "marker": {
             "colorbar": {
              "outlinewidth": 0,
              "ticks": ""
             }
            },
            "type": "scattercarpet"
           }
          ],
          "scattergeo": [
           {
            "marker": {
             "colorbar": {
              "outlinewidth": 0,
              "ticks": ""
             }
            },
            "type": "scattergeo"
           }
          ],
          "scattergl": [
           {
            "marker": {
             "colorbar": {
              "outlinewidth": 0,
              "ticks": ""
             }
            },
            "type": "scattergl"
           }
          ],
          "scattermap": [
           {
            "marker": {
             "colorbar": {
              "outlinewidth": 0,
              "ticks": ""
             }
            },
            "type": "scattermap"
           }
          ],
          "scattermapbox": [
           {
            "marker": {
             "colorbar": {
              "outlinewidth": 0,
              "ticks": ""
             }
            },
            "type": "scattermapbox"
           }
          ],
          "scatterpolar": [
           {
            "marker": {
             "colorbar": {
              "outlinewidth": 0,
              "ticks": ""
             }
            },
            "type": "scatterpolar"
           }
          ],
          "scatterpolargl": [
           {
            "marker": {
             "colorbar": {
              "outlinewidth": 0,
              "ticks": ""
             }
            },
            "type": "scatterpolargl"
           }
          ],
          "scatterternary": [
           {
            "marker": {
             "colorbar": {
              "outlinewidth": 0,
              "ticks": ""
             }
            },
            "type": "scatterternary"
           }
          ],
          "surface": [
           {
            "colorbar": {
             "outlinewidth": 0,
             "ticks": ""
            },
            "colorscale": [
             [
              0,
              "#0d0887"
             ],
             [
              0.1111111111111111,
              "#46039f"
             ],
             [
              0.2222222222222222,
              "#7201a8"
             ],
             [
              0.3333333333333333,
              "#9c179e"
             ],
             [
              0.4444444444444444,
              "#bd3786"
             ],
             [
              0.5555555555555556,
              "#d8576b"
             ],
             [
              0.6666666666666666,
              "#ed7953"
             ],
             [
              0.7777777777777778,
              "#fb9f3a"
             ],
             [
              0.8888888888888888,
              "#fdca26"
             ],
             [
              1,
              "#f0f921"
             ]
            ],
            "type": "surface"
           }
          ],
          "table": [
           {
            "cells": {
             "fill": {
              "color": "#EBF0F8"
             },
             "line": {
              "color": "white"
             }
            },
            "header": {
             "fill": {
              "color": "#C8D4E3"
             },
             "line": {
              "color": "white"
             }
            },
            "type": "table"
           }
          ]
         },
         "layout": {
          "annotationdefaults": {
           "arrowcolor": "#2a3f5f",
           "arrowhead": 0,
           "arrowwidth": 1
          },
          "autotypenumbers": "strict",
          "coloraxis": {
           "colorbar": {
            "outlinewidth": 0,
            "ticks": ""
           }
          },
          "colorscale": {
           "diverging": [
            [
             0,
             "#8e0152"
            ],
            [
             0.1,
             "#c51b7d"
            ],
            [
             0.2,
             "#de77ae"
            ],
            [
             0.3,
             "#f1b6da"
            ],
            [
             0.4,
             "#fde0ef"
            ],
            [
             0.5,
             "#f7f7f7"
            ],
            [
             0.6,
             "#e6f5d0"
            ],
            [
             0.7,
             "#b8e186"
            ],
            [
             0.8,
             "#7fbc41"
            ],
            [
             0.9,
             "#4d9221"
            ],
            [
             1,
             "#276419"
            ]
           ],
           "sequential": [
            [
             0,
             "#0d0887"
            ],
            [
             0.1111111111111111,
             "#46039f"
            ],
            [
             0.2222222222222222,
             "#7201a8"
            ],
            [
             0.3333333333333333,
             "#9c179e"
            ],
            [
             0.4444444444444444,
             "#bd3786"
            ],
            [
             0.5555555555555556,
             "#d8576b"
            ],
            [
             0.6666666666666666,
             "#ed7953"
            ],
            [
             0.7777777777777778,
             "#fb9f3a"
            ],
            [
             0.8888888888888888,
             "#fdca26"
            ],
            [
             1,
             "#f0f921"
            ]
           ],
           "sequentialminus": [
            [
             0,
             "#0d0887"
            ],
            [
             0.1111111111111111,
             "#46039f"
            ],
            [
             0.2222222222222222,
             "#7201a8"
            ],
            [
             0.3333333333333333,
             "#9c179e"
            ],
            [
             0.4444444444444444,
             "#bd3786"
            ],
            [
             0.5555555555555556,
             "#d8576b"
            ],
            [
             0.6666666666666666,
             "#ed7953"
            ],
            [
             0.7777777777777778,
             "#fb9f3a"
            ],
            [
             0.8888888888888888,
             "#fdca26"
            ],
            [
             1,
             "#f0f921"
            ]
           ]
          },
          "colorway": [
           "#636efa",
           "#EF553B",
           "#00cc96",
           "#ab63fa",
           "#FFA15A",
           "#19d3f3",
           "#FF6692",
           "#B6E880",
           "#FF97FF",
           "#FECB52"
          ],
          "font": {
           "color": "#2a3f5f"
          },
          "geo": {
           "bgcolor": "white",
           "lakecolor": "white",
           "landcolor": "#E5ECF6",
           "showlakes": true,
           "showland": true,
           "subunitcolor": "white"
          },
          "hoverlabel": {
           "align": "left"
          },
          "hovermode": "closest",
          "mapbox": {
           "style": "light"
          },
          "paper_bgcolor": "white",
          "plot_bgcolor": "#E5ECF6",
          "polar": {
           "angularaxis": {
            "gridcolor": "white",
            "linecolor": "white",
            "ticks": ""
           },
           "bgcolor": "#E5ECF6",
           "radialaxis": {
            "gridcolor": "white",
            "linecolor": "white",
            "ticks": ""
           }
          },
          "scene": {
           "xaxis": {
            "backgroundcolor": "#E5ECF6",
            "gridcolor": "white",
            "gridwidth": 2,
            "linecolor": "white",
            "showbackground": true,
            "ticks": "",
            "zerolinecolor": "white"
           },
           "yaxis": {
            "backgroundcolor": "#E5ECF6",
            "gridcolor": "white",
            "gridwidth": 2,
            "linecolor": "white",
            "showbackground": true,
            "ticks": "",
            "zerolinecolor": "white"
           },
           "zaxis": {
            "backgroundcolor": "#E5ECF6",
            "gridcolor": "white",
            "gridwidth": 2,
            "linecolor": "white",
            "showbackground": true,
            "ticks": "",
            "zerolinecolor": "white"
           }
          },
          "shapedefaults": {
           "line": {
            "color": "#2a3f5f"
           }
          },
          "ternary": {
           "aaxis": {
            "gridcolor": "white",
            "linecolor": "white",
            "ticks": ""
           },
           "baxis": {
            "gridcolor": "white",
            "linecolor": "white",
            "ticks": ""
           },
           "bgcolor": "#E5ECF6",
           "caxis": {
            "gridcolor": "white",
            "linecolor": "white",
            "ticks": ""
           }
          },
          "title": {
           "x": 0.05
          },
          "xaxis": {
           "automargin": true,
           "gridcolor": "white",
           "linecolor": "white",
           "ticks": "",
           "title": {
            "standoff": 15
           },
           "zerolinecolor": "white",
           "zerolinewidth": 2
          },
          "yaxis": {
           "automargin": true,
           "gridcolor": "white",
           "linecolor": "white",
           "ticks": "",
           "title": {
            "standoff": 15
           },
           "zerolinecolor": "white",
           "zerolinewidth": 2
          }
         }
        },
        "title": {
         "font": {
          "size": 20
         },
         "text": "🏟️ Dashboard Ejecutivo de Rendimiento - Liga Española",
         "x": 0.5
        },
        "xaxis": {
         "anchor": "y",
         "domain": [
          0,
          0.45
         ],
         "title": {
          "text": "Valor de Mercado (M€)"
         }
        },
        "xaxis2": {
         "anchor": "y2",
         "domain": [
          0.55,
          1
         ],
         "title": {
          "text": "Goles"
         }
        },
        "xaxis3": {
         "anchor": "y3",
         "domain": [
          0,
          0.45
         ],
         "tickangle": 45,
         "title": {
          "text": "Equipos"
         }
        },
        "xaxis4": {
         "anchor": "y4",
         "domain": [
          0.55,
          1
         ],
         "title": {
          "text": "Edad"
         }
        },
        "yaxis": {
         "anchor": "x",
         "domain": [
          0.625,
          1
         ],
         "title": {
          "text": "Jugadores"
         }
        },
        "yaxis2": {
         "anchor": "x2",
         "domain": [
          0.625,
          1
         ],
         "title": {
          "text": "Asistencias"
         }
        },
        "yaxis3": {
         "anchor": "x3",
         "domain": [
          0,
          0.375
         ],
         "title": {
          "text": "Rating Promedio"
         }
        },
        "yaxis4": {
         "anchor": "x4",
         "domain": [
          0,
          0.375
         ],
         "title": {
          "text": "Frecuencia"
         }
        }
       }
      },
      "text/html": [
       "<div>            <script src=\"https://cdnjs.cloudflare.com/ajax/libs/mathjax/2.7.5/MathJax.js?config=TeX-AMS-MML_SVG\"></script><script type=\"text/javascript\">if (window.MathJax && window.MathJax.Hub && window.MathJax.Hub.Config) {window.MathJax.Hub.Config({SVG: {font: \"STIX-Web\"}});}</script>                <script type=\"text/javascript\">window.PlotlyConfig = {MathJaxConfig: 'local'};</script>\n",
       "        <script charset=\"utf-8\" src=\"https://cdn.plot.ly/plotly-3.0.1.min.js\" integrity=\"sha256-oy6Be7Eh6eiQFs5M7oXuPxxm9qbJXEtTpfSI93dW16Q=\" crossorigin=\"anonymous\"></script>                <div id=\"888954e3-9754-42f5-a691-be88d083f576\" class=\"plotly-graph-div\" style=\"height:800px; width:100%;\"></div>            <script type=\"text/javascript\">                window.PLOTLYENV=window.PLOTLYENV || {};                                if (document.getElementById(\"888954e3-9754-42f5-a691-be88d083f576\")) {                    Plotly.newPlot(                        \"888954e3-9754-42f5-a691-be88d083f576\",                        [{\"marker\":{\"color\":\"lightblue\"},\"name\":\"Valor M€\",\"orientation\":\"h\",\"x\":{\"dtype\":\"f8\",\"bdata\":\"mpmZmZm5VkBmZmZmZmZTQDMzMzMz805AMzMzMzMzTUCamZmZmdlMQGZmZmZmJkxAmpmZmZkZS0AAAAAAAEBKQM3MzMzMDEpAMzMzMzPzSUA=\"},\"y\":[\"Jugador_126\",\"Jugador_113\",\"Jugador_076\",\"Jugador_070\",\"Jugador_058\",\"Jugador_054\",\"Jugador_008\",\"Jugador_115\",\"Jugador_144\",\"Jugador_025\"],\"type\":\"bar\",\"xaxis\":\"x\",\"yaxis\":\"y\"},{\"marker\":{\"color\":{\"dtype\":\"f8\",\"bdata\":\"ZmZmZmbmOECamZmZmZlAQJqZmZmZGThAmpmZmZmZK0AAAAAAAIA1QDMzMzMzM0lAAAAAAAAAPkCamZmZmRlLQM3MzMzMzDJAzczMzMwMQ0DNzMzMzMw4QGZmZmZmZkFAmpmZmZlZSUAAAAAAAABCQGZmZmZm5jhAZmZmZmbmN0CamZmZmZlAQDMzMzMzMzFAAAAAAAAAOEDNzMzMzMw+QM3MzMzMzClAAAAAAACAPUDNzMzMzMw+QM3MzMzMzDVAMzMzMzPzSUCamZmZmRkxQAAAAAAAgDxAZmZmZmYmRECamZmZmdlEQAAAAAAAAEJAzczMzMxMP0AzMzMzM7MwQDMzMzMzMztAmpmZmZmZNkCamZmZmZktQAAAAAAAgDRAAAAAAACAQUDNzMzMzEw7QGZmZmZmZjxAAAAAAAAAPEBmZmZmZiZEQJqZmZmZGTFAmpmZmZkZPkDNzMzMzMw7QM3MzMzMjEBAMzMzMzPzQ0DNzMzMzMwzQDMzMzMzszZAZmZmZmbmPUCamZmZmZkuQM3MzMzMjENAZmZmZmamQUAAAAAAAIA7QGZmZmZmJkxAzczMzMzMOkDNzMzMzMw0QGZmZmZmZjBAmpmZmZnZTECamZmZmZkqQDMzMzMz80VAmpmZmZlZQEBmZmZmZmY1QM3MzMzMzERAzczMzMxMPEDNzMzMzMw7QGZmZmZm5jFAzczMzMwMSUDNzMzMzMw1QAAAAAAAgDZAMzMzMzMzTUDNzMzMzAxIQJqZmZmZmTdAZmZmZmZmNkBmZmZmZmY7QJqZmZmZ2UFAMzMzMzPzTkAAAAAAAAA9QGZmZmZmZkBAMzMzMzMzOkCamZmZmRkwQAAAAAAAgEBAmpmZmZkZP0DNzMzMzMw1QJqZmZmZGTFAzczMzMzMPUCamZmZmRk0QDMzMzMzszBAZmZmZmZmOkBmZmZmZuY6QM3MzMzMDEBAAAAAAAAAM0AzMzMzM7M6QM3MzMzMjEBAmpmZmZkZMUAzMzMzMzMzQGZmZmZmZjZAzczMzMzMPkCamZmZmZk\\u002fQGZmZmZm5jFAzczMzMzMN0AzMzMzM7M6QDMzMzMzc0VAzczMzMxMMkAzMzMzMzM4QAAAAAAAwEJAzczMzMzMK0DNzMzMzMwzQGZmZmZmZjZAmpmZmZmZMUAzMzMzM7MxQM3MzMzMTDNAMzMzMzOzNkBmZmZmZmZTQM3MzMzMTD5AAAAAAABASkDNzMzMzExBQM3MzMzMjEJAMzMzMzMzNkAzMzMzM7NAQGZmZmZmZjxAzczMzMxMREBmZmZmZmY9QM3MzMzMDEdAAAAAAAAAK0AAAAAAAAA7QJqZmZmZuVZAzczMzMzMMUDNzMzMzAxJQJqZmZmZmThAAAAAAAAANkBmZmZmZuY3QGZmZmZm5jVAmpmZmZmZPkCamZmZmRkxQDMzMzMzszNAAAAAAAAAN0BmZmZmZmZAQDMzMzMz80lAMzMzMzMzNEAzMzMzM7M3QM3MzMzMzC1AmpmZmZkZQEBmZmZmZmZHQM3MzMzMDEpAZmZmZmbmMUBmZmZmZiZHQGZmZmZmZjVAZmZmZmZmQUCamZmZmZklQM3MzMzMzDtAZmZmZmZmN0AAAAAAAIBBQGZmZmZmZjtAMzMzMzNzREBmZmZmZmZAQAAAAAAAADNAZmZmZmYmQkDNzMzMzIxAQGZmZmZm5khAZmZmZmbmMUDNzMzMzIxBQGZmZmZm5kBAMzMzMzMzQUCamZmZmZk4QDMzMzMzsztAmpmZmZmZNkCamZmZmVlIQDMzMzMzszxAzczMzMxMNEDNzMzMzMwrQJqZmZmZGTtAAAAAAACANUAAAAAAAABGQGZmZmZmJkNAMzMzMzMzPkCamZmZmZk6QM3MzMzMTDRAmpmZmZkZM0AAAAAAAABCQDMzMzMzsztAMzMzMzNzQUAzMzMzM\\u002fNEQDMzMzMz80BAmpmZmZkZNUBmZmZmZqZDQGZmZmZm5jJAzczMzMwMR0DNzMzMzEw4QM3MzMzMTENAmpmZmZkZOkAAAAAAAAAzQDMzMzMzMzJAAAAAAADARECamZmZmZk+QDMzMzMzMyxAMzMzMzMzRUBmZmZmZiZAQGZmZmZmpkVAmpmZmZmZNkBmZmZmZuY2QA==\"},\"colorscale\":[[0.0,\"#440154\"],[0.1111111111111111,\"#482878\"],[0.2222222222222222,\"#3e4989\"],[0.3333333333333333,\"#31688e\"],[0.4444444444444444,\"#26828e\"],[0.5555555555555556,\"#1f9e89\"],[0.6666666666666666,\"#35b779\"],[0.7777777777777778,\"#6ece58\"],[0.8888888888888888,\"#b5de2b\"],[1.0,\"#fde725\"]],\"showscale\":true,\"size\":{\"dtype\":\"f8\",\"bdata\":\"61G4HoXrKEB7FK5H4XouQJqZmZmZmSpA61G4HoXrK0DNzMzMzMwsQAAAAAAAADNAhetRuB6FMkAAAAAAAAAzQPYoXI\\u002fC9SpAMzMzMzMzLUC4HoXrUbgqQHsUrkfhejFAAAAAAAAAM0AAAAAAAAAzQOJ6FK5H4S5A1qNwPQrXK0AzMzMzMzMtQBWuR+F6FCpAUrgehetRL0BSuB6F61EuQI\\u002fC9ShcjyZAo3A9CtejLkCkcD0K16MwQF2PwvUoXCtAAAAAAAAAM0DC9Shcj8InQM3MzMzMzC9A1qNwPQrXLkAAAAAAAAAzQJqZmZmZmTBApHA9CtejMUAehetRuB4oQClcj8L1KDBAPQrXo3A9LUDD9Shcj8IrQJDC9ShcjyxAAAAAAACAMkAqXI\\u002fC9SgvQI\\u002fC9ShcjyhAXI\\u002fC9SjcMEAzMzMzMzMvQJqZmZmZmStAo3A9CtejL0AK16NwPQouQArXo3A9ijJAhetRuB4FMkBI4XoUrkcrQGZmZmZmZipAzczMzMzMKkBdj8L1KFwsQHA9CtejcC1APQrXo3A9LEBdj8L1KFwuQAAAAAAAADNAhetRuB6FLUDWo3A9CtcrQIXrUbgehS1AAAAAAAAAM0AzMzMzMzMpQM3MzMzMzDBAXI\\u002fC9SjcMEAzMzMzMzMrQFyPwvUoXDFAkML1KFyPKkDWo3A9CtcrQKNwPQrXoy1AAAAAAAAAM0CF61G4HoUtQHE9Ctej8DFAAAAAAAAAM0DrUbgeheswQFK4HoXrUS5AXY\\u002fC9ShcKkBxPQrXo3AmQKRwPQrXozFArkfhehQuMkBwPQrXo3AuQFK4HoXrUSpAj8L1KFyPMUB7FK5H4XoqQKRwPQrXIzFAPQrXo3A9LUDrUbgehesrQK5H4XoUrihAw\\u002fUoXI\\u002fCK0AAAAAAAAAvQIXrUbgehStAXY\\u002fC9ShcLECQwvUoXI8vQHA9CtejcC1Ao3A9CtejK0AVrkfhepQwQClcj8L1KDBA9ihcj8L1KkDWo3A9CtcrQGZmZmZmZi5AAAAAAAAAKUBSuB6F61EqQFK4HoXrUSlAwvUoXI\\u002fCJkAAAAAAAAAwQAAAAAAAADNA9ihcj8L1LkBwPQrXo3AsQOJ6FK5HYTBAuB6F61G4JkBdj8L1KFwrQCpcj8L1KC1AzczMzMzMKUCF61G4HoUqQKRwPQrXozBASOF6FK7HMEAAAAAAAAAzQAAAAAAAAC1AAAAAAAAAM0AAAAAAAAAzQHA9CtejcCpAUrgehetRK0D2KFyPwnUxQLgehetRuCtA61G4HoVrMkDC9Shcj0IwQAAAAAAAADNA9ihcj8L1K0AqXI\\u002fC9SgvQAAAAAAAADNAmpmZmZkZMEAAAAAAAAAzQOtRuB6F6ylAuB6F61G4LUAehetRuB4qQEjhehSuRylA4noUrkfhLUCuR+F6FK4oQBWuR+F6FC1AuB6F61G4LUBmZmZmZmYvQB6F61G4njJAhetRuB6FLEBSuB6F61ErQHsUrkfhei1AFa5H4XqUMEAK16NwPQouQD4K16NwvTJA61G4HoXrLUAAAAAAAAAzQOtRuB6F6zBAMzMzMzMzLEBI4XoUrkcpQArXo3A9Ci5A9ihcj8L1KkAehetRuB4wQF2PwvUoXC5AAAAAAAAAM0BSuB6F61EuQK5H4XoUripAAAAAAAAALkB7FK5H4fowQNejcD0KVzBAHoXrUbgeK0B7FK5H4XoxQKNwPQrXoy5ApHA9CtejMEAzMzMzM7MxQIXrUbgehStAMzMzMzMzK0CF61G4HoUwQM3MzMzMzCxA4noUrkfhLUCkcD0K16MoQGZmZmZm5jBAHoXrUbgeLUAAAAAAAAAzQGZmZmZmZjFA61G4HoXrLUBSuB6F61EtQM3MzMzMzC1AZmZmZmZmK0AAAAAAAAAzQAAAAAAAACxA4noUrkdhMUCF61G4HgUyQDMzMzMzMy5AmpmZmZmZLkDiehSuR+ExQOJ6FK5H4ShA16NwPQpXMECF61G4HoUpQAAAAAAAADNA16NwPQrXJ0AK16NwPQouQHA9CtejcC5ACtejcD0KMECQwvUoXI8sQArXo3A9CilAuB6F61G4LkAK16NwPQoyQM3MzMzMzC9AhetRuB6FKUDNzMzMzMwsQA==\"}},\"mode\":\"markers\",\"name\":\"Jugadores\",\"text\":[\"Jugador_001\",\"Jugador_002\",\"Jugador_003\",\"Jugador_004\",\"Jugador_005\",\"Jugador_006\",\"Jugador_007\",\"Jugador_008\",\"Jugador_009\",\"Jugador_010\",\"Jugador_011\",\"Jugador_012\",\"Jugador_013\",\"Jugador_014\",\"Jugador_015\",\"Jugador_016\",\"Jugador_017\",\"Jugador_018\",\"Jugador_019\",\"Jugador_020\",\"Jugador_021\",\"Jugador_022\",\"Jugador_023\",\"Jugador_024\",\"Jugador_025\",\"Jugador_026\",\"Jugador_027\",\"Jugador_028\",\"Jugador_029\",\"Jugador_030\",\"Jugador_031\",\"Jugador_032\",\"Jugador_033\",\"Jugador_034\",\"Jugador_035\",\"Jugador_036\",\"Jugador_037\",\"Jugador_038\",\"Jugador_039\",\"Jugador_040\",\"Jugador_041\",\"Jugador_042\",\"Jugador_043\",\"Jugador_044\",\"Jugador_045\",\"Jugador_046\",\"Jugador_047\",\"Jugador_048\",\"Jugador_049\",\"Jugador_050\",\"Jugador_051\",\"Jugador_052\",\"Jugador_053\",\"Jugador_054\",\"Jugador_055\",\"Jugador_056\",\"Jugador_057\",\"Jugador_058\",\"Jugador_059\",\"Jugador_060\",\"Jugador_061\",\"Jugador_062\",\"Jugador_063\",\"Jugador_064\",\"Jugador_065\",\"Jugador_066\",\"Jugador_067\",\"Jugador_068\",\"Jugador_069\",\"Jugador_070\",\"Jugador_071\",\"Jugador_072\",\"Jugador_073\",\"Jugador_074\",\"Jugador_075\",\"Jugador_076\",\"Jugador_077\",\"Jugador_078\",\"Jugador_079\",\"Jugador_080\",\"Jugador_081\",\"Jugador_082\",\"Jugador_083\",\"Jugador_084\",\"Jugador_085\",\"Jugador_086\",\"Jugador_087\",\"Jugador_088\",\"Jugador_089\",\"Jugador_090\",\"Jugador_091\",\"Jugador_092\",\"Jugador_093\",\"Jugador_094\",\"Jugador_095\",\"Jugador_096\",\"Jugador_097\",\"Jugador_098\",\"Jugador_099\",\"Jugador_100\",\"Jugador_101\",\"Jugador_102\",\"Jugador_103\",\"Jugador_104\",\"Jugador_105\",\"Jugador_106\",\"Jugador_107\",\"Jugador_108\",\"Jugador_109\",\"Jugador_110\",\"Jugador_111\",\"Jugador_112\",\"Jugador_113\",\"Jugador_114\",\"Jugador_115\",\"Jugador_116\",\"Jugador_117\",\"Jugador_118\",\"Jugador_119\",\"Jugador_120\",\"Jugador_121\",\"Jugador_122\",\"Jugador_123\",\"Jugador_124\",\"Jugador_125\",\"Jugador_126\",\"Jugador_127\",\"Jugador_128\",\"Jugador_129\",\"Jugador_130\",\"Jugador_131\",\"Jugador_132\",\"Jugador_133\",\"Jugador_134\",\"Jugador_135\",\"Jugador_136\",\"Jugador_137\",\"Jugador_138\",\"Jugador_139\",\"Jugador_140\",\"Jugador_141\",\"Jugador_142\",\"Jugador_143\",\"Jugador_144\",\"Jugador_145\",\"Jugador_146\",\"Jugador_147\",\"Jugador_148\",\"Jugador_149\",\"Jugador_150\",\"Jugador_151\",\"Jugador_152\",\"Jugador_153\",\"Jugador_154\",\"Jugador_155\",\"Jugador_156\",\"Jugador_157\",\"Jugador_158\",\"Jugador_159\",\"Jugador_160\",\"Jugador_161\",\"Jugador_162\",\"Jugador_163\",\"Jugador_164\",\"Jugador_165\",\"Jugador_166\",\"Jugador_167\",\"Jugador_168\",\"Jugador_169\",\"Jugador_170\",\"Jugador_171\",\"Jugador_172\",\"Jugador_173\",\"Jugador_174\",\"Jugador_175\",\"Jugador_176\",\"Jugador_177\",\"Jugador_178\",\"Jugador_179\",\"Jugador_180\",\"Jugador_181\",\"Jugador_182\",\"Jugador_183\",\"Jugador_184\",\"Jugador_185\",\"Jugador_186\",\"Jugador_187\",\"Jugador_188\",\"Jugador_189\",\"Jugador_190\",\"Jugador_191\",\"Jugador_192\",\"Jugador_193\",\"Jugador_194\",\"Jugador_195\",\"Jugador_196\",\"Jugador_197\",\"Jugador_198\",\"Jugador_199\",\"Jugador_200\"],\"x\":{\"dtype\":\"i1\",\"bdata\":\"AAAAAAANBQsABQIFCgcBAQMBAwUBAgkACgADAAMGAwADAAAAAwIBAgEAAAIGAgADAAIHAwIMAgEDCQAGBAAIAQACAgADDgEBAQECBAcCAwADAAEBAgAEAAUAAAIHAAIBAAABAAIJAwEFAAACAAABBAcDDQkBAgICAgIDAAIQAwMAAAEAAQEDAAMFAwACAwICAAYEAwACAQMBDgYAAAMEAgMAAAIAAQYEAAAGAxECAgIAAAoABAYDAQIAAwAKAAIBBwMABQIGAAQ=\"},\"y\":{\"dtype\":\"i1\",\"bdata\":\"AAEBAQQEBQMDAAIDBwUCBAQAAwEABAEABAIBAwkDCAAEAAECAwIBBQYBAAYHBgMAAQEBAAEHAwIBDgEDBQEAAAICCwUDBwcCBAAEBwACBQEDAgAAAwEABAICAQMAAAAEAgIAAAUEAQIDAAEDAgAHAQ4BBAUCAgIBCwUGAgICAhAAAQEABAEDBQEIAgEDAwEHAg4CBgIBAAQFBQEBAAUEAQcAAwUBAwIAAAECAQUEAQcBAAQBAwUAAQcABgAEAAECAQIAAQYAAQE=\"},\"type\":\"scatter\",\"xaxis\":\"x2\",\"yaxis\":\"y2\"},{\"marker\":{\"color\":\"lightgreen\"},\"name\":\"Rating Promedio\",\"x\":[\"Athletic Bilbao\",\"Atlético Madrid\",\"Barcelona\",\"Betis\",\"Espanyol\",\"Real Madrid\",\"Real Sociedad\",\"Sevilla\",\"Valencia\",\"Villarreal\"],\"y\":{\"dtype\":\"f8\",\"bdata\":\"DtXtUN0OUkDHcRzHcbxUQM3MzMzMBFZA6JY49XuOUkBQ+qRP+jRRQD4K16NwpVZAkZCQkJAQUkB0kxgEVu5SQHqe53meh1JAcer33BKnUkA=\"},\"type\":\"bar\",\"xaxis\":\"x3\",\"yaxis\":\"y3\"},{\"marker\":{\"color\":\"lightcoral\"},\"name\":\"Frecuencia\",\"nbinsx\":15,\"x\":{\"dtype\":\"i1\",\"bdata\":\"HBcXIBUeFBgVGhweFBkWHRgYFxgVFR4ZEhYXGBgcGxUTFh8aIR0bHRsUFxwhHBcYFyAYFhIZGx4jGhUXHxweFxceFxkgGh0TFxsYGRwXEhwbGhUcGRcUHhcZIxoYEhkeGxYUGRoTHRoYGBUUGhYeGRsYFB8bHhsYHhgVHxgXHRUdGRQYGx4VHhwaHxsiHBsZGR4SFiIYEhobFRwZGRcZHhwTHB0ZHxcYFx0gGyAeGR0YGCMcHBgcHRYVHBwfHCAbGhsTGhcYGxs=\"},\"type\":\"histogram\",\"xaxis\":\"x4\",\"yaxis\":\"y4\"}],                        {\"template\":{\"data\":{\"histogram2dcontour\":[{\"type\":\"histogram2dcontour\",\"colorbar\":{\"outlinewidth\":0,\"ticks\":\"\"},\"colorscale\":[[0.0,\"#0d0887\"],[0.1111111111111111,\"#46039f\"],[0.2222222222222222,\"#7201a8\"],[0.3333333333333333,\"#9c179e\"],[0.4444444444444444,\"#bd3786\"],[0.5555555555555556,\"#d8576b\"],[0.6666666666666666,\"#ed7953\"],[0.7777777777777778,\"#fb9f3a\"],[0.8888888888888888,\"#fdca26\"],[1.0,\"#f0f921\"]]}],\"choropleth\":[{\"type\":\"choropleth\",\"colorbar\":{\"outlinewidth\":0,\"ticks\":\"\"}}],\"histogram2d\":[{\"type\":\"histogram2d\",\"colorbar\":{\"outlinewidth\":0,\"ticks\":\"\"},\"colorscale\":[[0.0,\"#0d0887\"],[0.1111111111111111,\"#46039f\"],[0.2222222222222222,\"#7201a8\"],[0.3333333333333333,\"#9c179e\"],[0.4444444444444444,\"#bd3786\"],[0.5555555555555556,\"#d8576b\"],[0.6666666666666666,\"#ed7953\"],[0.7777777777777778,\"#fb9f3a\"],[0.8888888888888888,\"#fdca26\"],[1.0,\"#f0f921\"]]}],\"heatmap\":[{\"type\":\"heatmap\",\"colorbar\":{\"outlinewidth\":0,\"ticks\":\"\"},\"colorscale\":[[0.0,\"#0d0887\"],[0.1111111111111111,\"#46039f\"],[0.2222222222222222,\"#7201a8\"],[0.3333333333333333,\"#9c179e\"],[0.4444444444444444,\"#bd3786\"],[0.5555555555555556,\"#d8576b\"],[0.6666666666666666,\"#ed7953\"],[0.7777777777777778,\"#fb9f3a\"],[0.8888888888888888,\"#fdca26\"],[1.0,\"#f0f921\"]]}],\"contourcarpet\":[{\"type\":\"contourcarpet\",\"colorbar\":{\"outlinewidth\":0,\"ticks\":\"\"}}],\"contour\":[{\"type\":\"contour\",\"colorbar\":{\"outlinewidth\":0,\"ticks\":\"\"},\"colorscale\":[[0.0,\"#0d0887\"],[0.1111111111111111,\"#46039f\"],[0.2222222222222222,\"#7201a8\"],[0.3333333333333333,\"#9c179e\"],[0.4444444444444444,\"#bd3786\"],[0.5555555555555556,\"#d8576b\"],[0.6666666666666666,\"#ed7953\"],[0.7777777777777778,\"#fb9f3a\"],[0.8888888888888888,\"#fdca26\"],[1.0,\"#f0f921\"]]}],\"surface\":[{\"type\":\"surface\",\"colorbar\":{\"outlinewidth\":0,\"ticks\":\"\"},\"colorscale\":[[0.0,\"#0d0887\"],[0.1111111111111111,\"#46039f\"],[0.2222222222222222,\"#7201a8\"],[0.3333333333333333,\"#9c179e\"],[0.4444444444444444,\"#bd3786\"],[0.5555555555555556,\"#d8576b\"],[0.6666666666666666,\"#ed7953\"],[0.7777777777777778,\"#fb9f3a\"],[0.8888888888888888,\"#fdca26\"],[1.0,\"#f0f921\"]]}],\"mesh3d\":[{\"type\":\"mesh3d\",\"colorbar\":{\"outlinewidth\":0,\"ticks\":\"\"}}],\"scatter\":[{\"fillpattern\":{\"fillmode\":\"overlay\",\"size\":10,\"solidity\":0.2},\"type\":\"scatter\"}],\"parcoords\":[{\"type\":\"parcoords\",\"line\":{\"colorbar\":{\"outlinewidth\":0,\"ticks\":\"\"}}}],\"scatterpolargl\":[{\"type\":\"scatterpolargl\",\"marker\":{\"colorbar\":{\"outlinewidth\":0,\"ticks\":\"\"}}}],\"bar\":[{\"error_x\":{\"color\":\"#2a3f5f\"},\"error_y\":{\"color\":\"#2a3f5f\"},\"marker\":{\"line\":{\"color\":\"#E5ECF6\",\"width\":0.5},\"pattern\":{\"fillmode\":\"overlay\",\"size\":10,\"solidity\":0.2}},\"type\":\"bar\"}],\"scattergeo\":[{\"type\":\"scattergeo\",\"marker\":{\"colorbar\":{\"outlinewidth\":0,\"ticks\":\"\"}}}],\"scatterpolar\":[{\"type\":\"scatterpolar\",\"marker\":{\"colorbar\":{\"outlinewidth\":0,\"ticks\":\"\"}}}],\"histogram\":[{\"marker\":{\"pattern\":{\"fillmode\":\"overlay\",\"size\":10,\"solidity\":0.2}},\"type\":\"histogram\"}],\"scattergl\":[{\"type\":\"scattergl\",\"marker\":{\"colorbar\":{\"outlinewidth\":0,\"ticks\":\"\"}}}],\"scatter3d\":[{\"type\":\"scatter3d\",\"line\":{\"colorbar\":{\"outlinewidth\":0,\"ticks\":\"\"}},\"marker\":{\"colorbar\":{\"outlinewidth\":0,\"ticks\":\"\"}}}],\"scattermap\":[{\"type\":\"scattermap\",\"marker\":{\"colorbar\":{\"outlinewidth\":0,\"ticks\":\"\"}}}],\"scattermapbox\":[{\"type\":\"scattermapbox\",\"marker\":{\"colorbar\":{\"outlinewidth\":0,\"ticks\":\"\"}}}],\"scatterternary\":[{\"type\":\"scatterternary\",\"marker\":{\"colorbar\":{\"outlinewidth\":0,\"ticks\":\"\"}}}],\"scattercarpet\":[{\"type\":\"scattercarpet\",\"marker\":{\"colorbar\":{\"outlinewidth\":0,\"ticks\":\"\"}}}],\"carpet\":[{\"aaxis\":{\"endlinecolor\":\"#2a3f5f\",\"gridcolor\":\"white\",\"linecolor\":\"white\",\"minorgridcolor\":\"white\",\"startlinecolor\":\"#2a3f5f\"},\"baxis\":{\"endlinecolor\":\"#2a3f5f\",\"gridcolor\":\"white\",\"linecolor\":\"white\",\"minorgridcolor\":\"white\",\"startlinecolor\":\"#2a3f5f\"},\"type\":\"carpet\"}],\"table\":[{\"cells\":{\"fill\":{\"color\":\"#EBF0F8\"},\"line\":{\"color\":\"white\"}},\"header\":{\"fill\":{\"color\":\"#C8D4E3\"},\"line\":{\"color\":\"white\"}},\"type\":\"table\"}],\"barpolar\":[{\"marker\":{\"line\":{\"color\":\"#E5ECF6\",\"width\":0.5},\"pattern\":{\"fillmode\":\"overlay\",\"size\":10,\"solidity\":0.2}},\"type\":\"barpolar\"}],\"pie\":[{\"automargin\":true,\"type\":\"pie\"}]},\"layout\":{\"autotypenumbers\":\"strict\",\"colorway\":[\"#636efa\",\"#EF553B\",\"#00cc96\",\"#ab63fa\",\"#FFA15A\",\"#19d3f3\",\"#FF6692\",\"#B6E880\",\"#FF97FF\",\"#FECB52\"],\"font\":{\"color\":\"#2a3f5f\"},\"hovermode\":\"closest\",\"hoverlabel\":{\"align\":\"left\"},\"paper_bgcolor\":\"white\",\"plot_bgcolor\":\"#E5ECF6\",\"polar\":{\"bgcolor\":\"#E5ECF6\",\"angularaxis\":{\"gridcolor\":\"white\",\"linecolor\":\"white\",\"ticks\":\"\"},\"radialaxis\":{\"gridcolor\":\"white\",\"linecolor\":\"white\",\"ticks\":\"\"}},\"ternary\":{\"bgcolor\":\"#E5ECF6\",\"aaxis\":{\"gridcolor\":\"white\",\"linecolor\":\"white\",\"ticks\":\"\"},\"baxis\":{\"gridcolor\":\"white\",\"linecolor\":\"white\",\"ticks\":\"\"},\"caxis\":{\"gridcolor\":\"white\",\"linecolor\":\"white\",\"ticks\":\"\"}},\"coloraxis\":{\"colorbar\":{\"outlinewidth\":0,\"ticks\":\"\"}},\"colorscale\":{\"sequential\":[[0.0,\"#0d0887\"],[0.1111111111111111,\"#46039f\"],[0.2222222222222222,\"#7201a8\"],[0.3333333333333333,\"#9c179e\"],[0.4444444444444444,\"#bd3786\"],[0.5555555555555556,\"#d8576b\"],[0.6666666666666666,\"#ed7953\"],[0.7777777777777778,\"#fb9f3a\"],[0.8888888888888888,\"#fdca26\"],[1.0,\"#f0f921\"]],\"sequentialminus\":[[0.0,\"#0d0887\"],[0.1111111111111111,\"#46039f\"],[0.2222222222222222,\"#7201a8\"],[0.3333333333333333,\"#9c179e\"],[0.4444444444444444,\"#bd3786\"],[0.5555555555555556,\"#d8576b\"],[0.6666666666666666,\"#ed7953\"],[0.7777777777777778,\"#fb9f3a\"],[0.8888888888888888,\"#fdca26\"],[1.0,\"#f0f921\"]],\"diverging\":[[0,\"#8e0152\"],[0.1,\"#c51b7d\"],[0.2,\"#de77ae\"],[0.3,\"#f1b6da\"],[0.4,\"#fde0ef\"],[0.5,\"#f7f7f7\"],[0.6,\"#e6f5d0\"],[0.7,\"#b8e186\"],[0.8,\"#7fbc41\"],[0.9,\"#4d9221\"],[1,\"#276419\"]]},\"xaxis\":{\"gridcolor\":\"white\",\"linecolor\":\"white\",\"ticks\":\"\",\"title\":{\"standoff\":15},\"zerolinecolor\":\"white\",\"automargin\":true,\"zerolinewidth\":2},\"yaxis\":{\"gridcolor\":\"white\",\"linecolor\":\"white\",\"ticks\":\"\",\"title\":{\"standoff\":15},\"zerolinecolor\":\"white\",\"automargin\":true,\"zerolinewidth\":2},\"scene\":{\"xaxis\":{\"backgroundcolor\":\"#E5ECF6\",\"gridcolor\":\"white\",\"linecolor\":\"white\",\"showbackground\":true,\"ticks\":\"\",\"zerolinecolor\":\"white\",\"gridwidth\":2},\"yaxis\":{\"backgroundcolor\":\"#E5ECF6\",\"gridcolor\":\"white\",\"linecolor\":\"white\",\"showbackground\":true,\"ticks\":\"\",\"zerolinecolor\":\"white\",\"gridwidth\":2},\"zaxis\":{\"backgroundcolor\":\"#E5ECF6\",\"gridcolor\":\"white\",\"linecolor\":\"white\",\"showbackground\":true,\"ticks\":\"\",\"zerolinecolor\":\"white\",\"gridwidth\":2}},\"shapedefaults\":{\"line\":{\"color\":\"#2a3f5f\"}},\"annotationdefaults\":{\"arrowcolor\":\"#2a3f5f\",\"arrowhead\":0,\"arrowwidth\":1},\"geo\":{\"bgcolor\":\"white\",\"landcolor\":\"#E5ECF6\",\"subunitcolor\":\"white\",\"showland\":true,\"showlakes\":true,\"lakecolor\":\"white\"},\"title\":{\"x\":0.05},\"mapbox\":{\"style\":\"light\"}}},\"xaxis\":{\"anchor\":\"y\",\"domain\":[0.0,0.45],\"title\":{\"text\":\"Valor de Mercado (M€)\"}},\"yaxis\":{\"anchor\":\"x\",\"domain\":[0.625,1.0],\"title\":{\"text\":\"Jugadores\"}},\"xaxis2\":{\"anchor\":\"y2\",\"domain\":[0.55,1.0],\"title\":{\"text\":\"Goles\"}},\"yaxis2\":{\"anchor\":\"x2\",\"domain\":[0.625,1.0],\"title\":{\"text\":\"Asistencias\"}},\"xaxis3\":{\"anchor\":\"y3\",\"domain\":[0.0,0.45],\"title\":{\"text\":\"Equipos\"},\"tickangle\":45},\"yaxis3\":{\"anchor\":\"x3\",\"domain\":[0.0,0.375],\"title\":{\"text\":\"Rating Promedio\"}},\"xaxis4\":{\"anchor\":\"y4\",\"domain\":[0.55,1.0],\"title\":{\"text\":\"Edad\"}},\"yaxis4\":{\"anchor\":\"x4\",\"domain\":[0.0,0.375],\"title\":{\"text\":\"Frecuencia\"}},\"annotations\":[{\"font\":{\"size\":16},\"showarrow\":false,\"text\":\"💰 Top 10 Jugadores por Valor\",\"x\":0.225,\"xanchor\":\"center\",\"xref\":\"paper\",\"y\":1.0,\"yanchor\":\"bottom\",\"yref\":\"paper\"},{\"font\":{\"size\":16},\"showarrow\":false,\"text\":\"⚽ Goles vs Asistencias\",\"x\":0.775,\"xanchor\":\"center\",\"xref\":\"paper\",\"y\":1.0,\"yanchor\":\"bottom\",\"yref\":\"paper\"},{\"font\":{\"size\":16},\"showarrow\":false,\"text\":\"🏆 Rendimiento por Equipo\",\"x\":0.225,\"xanchor\":\"center\",\"xref\":\"paper\",\"y\":0.375,\"yanchor\":\"bottom\",\"yref\":\"paper\"},{\"font\":{\"size\":16},\"showarrow\":false,\"text\":\"📊 Distribución de Edades\",\"x\":0.775,\"xanchor\":\"center\",\"xref\":\"paper\",\"y\":0.375,\"yanchor\":\"bottom\",\"yref\":\"paper\"}],\"title\":{\"font\":{\"size\":20},\"text\":\"🏟️ Dashboard Ejecutivo de Rendimiento - Liga Española\",\"x\":0.5},\"height\":800,\"showlegend\":false},                        {\"responsive\": true}                    ).then(function(){\n",
       "                            \n",
       "var gd = document.getElementById('888954e3-9754-42f5-a691-be88d083f576');\n",
       "var x = new MutationObserver(function (mutations, observer) {{\n",
       "        var display = window.getComputedStyle(gd).display;\n",
       "        if (!display || display === 'none') {{\n",
       "            console.log([gd, 'removed!']);\n",
       "            Plotly.purge(gd);\n",
       "            observer.disconnect();\n",
       "        }}\n",
       "}});\n",
       "\n",
       "// Listen for the removal of the full notebook cells\n",
       "var notebookContainer = gd.closest('#notebook-container');\n",
       "if (notebookContainer) {{\n",
       "    x.observe(notebookContainer, {childList: true});\n",
       "}}\n",
       "\n",
       "// Listen for the clearing of the current output cell\n",
       "var outputEl = gd.closest('.output');\n",
       "if (outputEl) {{\n",
       "    x.observe(outputEl, {childList: true});\n",
       "}}\n",
       "\n",
       "                        })                };            </script>        </div>"
      ]
     },
     "metadata": {},
     "output_type": "display_data"
    },
    {
     "name": "stdout",
     "output_type": "stream",
     "text": [
      "✅ Dashboard ejecutivo creado\n",
      "\n",
      "📈 MÉTRICAS CLAVE (KPIs)\n",
      "----------------------------------------\n",
      "👥 Total de jugadores: 200\n",
      "💰 Valor total del mercado: 5966.1 M€\n",
      "🎂 Edad promedio: 25.7 años\n",
      "⭐ Rating promedio de la liga: 76.7/100\n",
      "⚽ Total de goles en la temporada: 555\n",
      "\n",
      "🏆 TOP PERFORMERS\n",
      "----------------------------------------\n",
      "🌟 Mejor jugador (rating): Jugador_006 (Real Madrid) - 95.0\n",
      "💎 Jugador más valioso: Jugador_126 (Real Madrid) - 90.9 M€\n",
      "⚽ Máximo goleador: Jugador_173 (Barcelona) - 17 goles\n",
      "🎯 Más asistencias: Jugador_128 (Real Madrid) - 16 asistencias\n",
      "\n",
      "✅ Dashboard y métricas ejecutivas completadas\n"
     ]
    }
   ],
   "source": [
    "# 5.2 Dashboard ejecutivo integrado\n",
    "\n",
    "print(\"\\n📊 DASHBOARD EJECUTIVO DE RENDIMIENTO\")\n",
    "print(\"=\" * 60)\n",
    "\n",
    "# Crear dashboard con múltiples subgráficos\n",
    "from plotly.subplots import make_subplots\n",
    "\n",
    "# Configurar layout del dashboard (2x2)\n",
    "fig_dashboard = make_subplots(\n",
    "    rows=2, cols=2,\n",
    "    subplot_titles=(\n",
    "        '💰 Top 10 Jugadores por Valor',\n",
    "        '⚽ Goles vs Asistencias',\n",
    "        '🏆 Rendimiento por Equipo',\n",
    "        '📊 Distribución de Edades'\n",
    "    ),\n",
    "    specs=[\n",
    "        [{\"type\": \"bar\"}, {\"type\": \"scatter\"}],\n",
    "        [{\"type\": \"bar\"}, {\"type\": \"histogram\"}]\n",
    "    ]\n",
    ")\n",
    "\n",
    "# 1. Top 10 jugadores por valor (Barras)\n",
    "top_jugadores = df_jugadores.nlargest(10, 'valor_mercado')\n",
    "fig_dashboard.add_trace(\n",
    "    go.Bar(\n",
    "        x=top_jugadores['valor_mercado'],\n",
    "        y=top_jugadores['nombre'],\n",
    "        orientation='h',\n",
    "        name='Valor M€',\n",
    "        marker_color='lightblue'\n",
    "    ),\n",
    "    row=1, col=1\n",
    ")\n",
    "\n",
    "# 2. Goles vs Asistencias (Dispersión)\n",
    "fig_dashboard.add_trace(\n",
    "    go.Scatter(\n",
    "        x=df_jugadores['goles_temporada'],\n",
    "        y=df_jugadores['asistencias_temporada'],\n",
    "        mode='markers',\n",
    "        marker=dict(\n",
    "            size=df_jugadores['rating_promedio']/5,\n",
    "            color=df_jugadores['valor_mercado'],\n",
    "            colorscale='Viridis',\n",
    "            showscale=True\n",
    "        ),\n",
    "        text=df_jugadores['nombre'],\n",
    "        name='Jugadores'\n",
    "    ),\n",
    "    row=1, col=2\n",
    ")\n",
    "\n",
    "# 3. Rendimiento por equipo (Barras)\n",
    "rendimiento_equipos = df_jugadores.groupby('equipo').agg({\n",
    "    'rating_promedio': 'mean',\n",
    "    'valor_mercado': 'sum'\n",
    "}).reset_index()\n",
    "\n",
    "fig_dashboard.add_trace(\n",
    "    go.Bar(\n",
    "        x=rendimiento_equipos['equipo'],\n",
    "        y=rendimiento_equipos['rating_promedio'],\n",
    "        name='Rating Promedio',\n",
    "        marker_color='lightgreen'\n",
    "    ),\n",
    "    row=2, col=1\n",
    ")\n",
    "\n",
    "# 4. Distribución de edades (Histograma)\n",
    "fig_dashboard.add_trace(\n",
    "    go.Histogram(\n",
    "        x=df_jugadores['edad'],\n",
    "        nbinsx=15,\n",
    "        name='Frecuencia',\n",
    "        marker_color='lightcoral'\n",
    "    ),\n",
    "    row=2, col=2\n",
    ")\n",
    "\n",
    "# Actualizar layout del dashboard\n",
    "fig_dashboard.update_layout(\n",
    "    height=800,\n",
    "    showlegend=False,\n",
    "    title_text=\"🏟️ Dashboard Ejecutivo de Rendimiento - Liga Española\",\n",
    "    title_x=0.5,\n",
    "    title_font_size=20\n",
    ")\n",
    "\n",
    "# Personalizar ejes\n",
    "fig_dashboard.update_xaxes(title_text=\"Valor de Mercado (M€)\", row=1, col=1)\n",
    "fig_dashboard.update_xaxes(title_text=\"Goles\", row=1, col=2)\n",
    "fig_dashboard.update_xaxes(title_text=\"Equipos\", row=2, col=1, tickangle=45)\n",
    "fig_dashboard.update_xaxes(title_text=\"Edad\", row=2, col=2)\n",
    "\n",
    "fig_dashboard.update_yaxes(title_text=\"Jugadores\", row=1, col=1)\n",
    "fig_dashboard.update_yaxes(title_text=\"Asistencias\", row=1, col=2)\n",
    "fig_dashboard.update_yaxes(title_text=\"Rating Promedio\", row=2, col=1)\n",
    "fig_dashboard.update_yaxes(title_text=\"Frecuencia\", row=2, col=2)\n",
    "\n",
    "fig_dashboard.show()\n",
    "\n",
    "print(\"✅ Dashboard ejecutivo creado\")\n",
    "\n",
    "# Métricas KPI para el dashboard\n",
    "print(\"\\n📈 MÉTRICAS CLAVE (KPIs)\")\n",
    "print(\"-\" * 40)\n",
    "\n",
    "total_jugadores = len(df_jugadores)\n",
    "valor_total_mercado = df_jugadores['valor_mercado'].sum()\n",
    "edad_promedio = df_jugadores['edad'].mean()\n",
    "rating_promedio_liga = df_jugadores['rating_promedio'].mean()\n",
    "goles_total = df_jugadores['goles_temporada'].sum()\n",
    "\n",
    "print(f\"👥 Total de jugadores: {total_jugadores}\")\n",
    "print(f\"💰 Valor total del mercado: {valor_total_mercado:.1f} M€\")\n",
    "print(f\"🎂 Edad promedio: {edad_promedio:.1f} años\")\n",
    "print(f\"⭐ Rating promedio de la liga: {rating_promedio_liga:.1f}/100\")\n",
    "print(f\"⚽ Total de goles en la temporada: {goles_total}\")\n",
    "\n",
    "# Top performers\n",
    "print(f\"\\n🏆 TOP PERFORMERS\")\n",
    "print(\"-\" * 40)\n",
    "\n",
    "mejor_jugador = df_jugadores.loc[df_jugadores['rating_promedio'].idxmax()]\n",
    "mas_caro = df_jugadores.loc[df_jugadores['valor_mercado'].idxmax()]\n",
    "maximo_goleador = df_jugadores.loc[df_jugadores['goles_temporada'].idxmax()]\n",
    "mas_asistencias = df_jugadores.loc[df_jugadores['asistencias_temporada'].idxmax()]\n",
    "\n",
    "print(f\"🌟 Mejor jugador (rating): {mejor_jugador['nombre']} ({mejor_jugador['equipo']}) - {mejor_jugador['rating_promedio']:.1f}\")\n",
    "print(f\"💎 Jugador más valioso: {mas_caro['nombre']} ({mas_caro['equipo']}) - {mas_caro['valor_mercado']:.1f} M€\")\n",
    "print(f\"⚽ Máximo goleador: {maximo_goleador['nombre']} ({maximo_goleador['equipo']}) - {maximo_goleador['goles_temporada']} goles\")\n",
    "print(f\"🎯 Más asistencias: {mas_asistencias['nombre']} ({mas_asistencias['equipo']}) - {mas_asistencias['asistencias_temporada']} asistencias\")\n",
    "\n",
    "print(\"\\n✅ Dashboard y métricas ejecutivas completadas\")"
   ]
  },
  {
   "cell_type": "markdown",
   "id": "51ddef4e",
   "metadata": {},
   "source": [
    "## 6. Storytelling y Presentación Profesional\n",
    "\n",
    "### 6.1 Principios del Storytelling con Datos\n",
    "\n",
    "El **storytelling** con datos transforma números en narrativas convincentes:\n",
    "\n",
    "#### **📖 Estructura Narrativa**\n",
    "- **Contexto**: Establecer el escenario y la importancia\n",
    "- **Conflicto**: Identificar problemas o preguntas clave\n",
    "- **Resolución**: Presentar insights y recomendaciones\n",
    "\n",
    "#### **🎯 Elementos Clave**\n",
    "- **Audiencia**: Adaptar el mensaje al público objetivo\n",
    "- **Mensaje principal**: Una idea central clara y memorable\n",
    "- **Evidencia visual**: Gráficos que apoyen la narrativa\n",
    "- **Call to action**: Qué debe hacer la audiencia\n",
    "\n",
    "### 6.2 Ejemplo de Storytelling: \"El Mercado de Fichajes\"\n",
    "\n",
    "Vamos a crear una narrativa completa usando nuestros datos."
   ]
  },
  {
   "cell_type": "code",
   "execution_count": 6,
   "id": "73b63385",
   "metadata": {},
   "outputs": [
    {
     "name": "stdout",
     "output_type": "stream",
     "text": [
      "📖 STORYTELLING: ANÁLISIS DEL MERCADO DE FICHAJES\n",
      "======================================================================\n",
      "\n",
      "🎬 NARRATIVA: \"La Revolución del Mercado de Fichajes\"\n",
      "\n",
      "CONTEXTO:\n",
      "El fútbol moderno ha experimentado una inflación sin precedentes en los valores \n",
      "de mercado. Los equipos invierten cientos de millones buscando el éxito deportivo.\n",
      "\n",
      "PREGUNTA CLAVE:\n",
      "¿Qué factores realmente determinan el valor de un jugador?\n",
      "¿Están los equipos invirtiendo de manera inteligente?\n",
      "\n",
      "HALLAZGOS PRINCIPALES:\n",
      "\n",
      "\n",
      "🔍 HALLAZGO 1: LA EDAD DORADA\n",
      "--------------------------------------------------\n",
      "Análisis de valor por grupo de edad:\n",
      "  Jóvenes (18-23): 29.4 M€ promedio (n=60, rating=76.0)\n",
      "  Prime (24-28): 32.0 M€ promedio (n=93, rating=76.1)\n",
      "  Veteranos (29+): 26.1 M€ promedio (n=47, rating=78.9)\n"
     ]
    },
    {
     "data": {
      "application/vnd.plotly.v1+json": {
       "config": {
        "plotlyServerURL": "https://plot.ly"
       },
       "data": [
        {
         "alignmentgroup": "True",
         "hovertemplate": "Grupo de Edad=%{x}<br>Valor (M€)=%{y}<extra></extra>",
         "legendgroup": "",
         "marker": {
          "color": "#636efa"
         },
         "name": "",
         "notched": false,
         "offsetgroup": "",
         "orientation": "v",
         "showlegend": false,
         "type": "box",
         "x": [
          "Prime (24-28)",
          "Jóvenes (18-23)",
          "Jóvenes (18-23)",
          "Veteranos (29+)",
          "Jóvenes (18-23)",
          "Veteranos (29+)",
          "Jóvenes (18-23)",
          "Prime (24-28)",
          "Jóvenes (18-23)",
          "Prime (24-28)",
          "Prime (24-28)",
          "Veteranos (29+)",
          "Jóvenes (18-23)",
          "Prime (24-28)",
          "Jóvenes (18-23)",
          "Veteranos (29+)",
          "Prime (24-28)",
          "Prime (24-28)",
          "Jóvenes (18-23)",
          "Prime (24-28)",
          "Jóvenes (18-23)",
          "Jóvenes (18-23)",
          "Veteranos (29+)",
          "Prime (24-28)",
          "Jóvenes (18-23)",
          "Jóvenes (18-23)",
          "Jóvenes (18-23)",
          "Prime (24-28)",
          "Prime (24-28)",
          "Prime (24-28)",
          "Prime (24-28)",
          "Jóvenes (18-23)",
          "Jóvenes (18-23)",
          "Jóvenes (18-23)",
          "Veteranos (29+)",
          "Prime (24-28)",
          "Veteranos (29+)",
          "Veteranos (29+)",
          "Prime (24-28)",
          "Veteranos (29+)",
          "Prime (24-28)",
          "Jóvenes (18-23)",
          "Jóvenes (18-23)",
          "Prime (24-28)",
          "Veteranos (29+)",
          "Prime (24-28)",
          "Jóvenes (18-23)",
          "Prime (24-28)",
          "Jóvenes (18-23)",
          "Veteranos (29+)",
          "Prime (24-28)",
          "Jóvenes (18-23)",
          "Jóvenes (18-23)",
          "Prime (24-28)",
          "Prime (24-28)",
          "Veteranos (29+)",
          "Veteranos (29+)",
          "Prime (24-28)",
          "Jóvenes (18-23)",
          "Jóvenes (18-23)",
          "Veteranos (29+)",
          "Prime (24-28)",
          "Veteranos (29+)",
          "Jóvenes (18-23)",
          "Jóvenes (18-23)",
          "Veteranos (29+)",
          "Jóvenes (18-23)",
          "Prime (24-28)",
          "Veteranos (29+)",
          "Prime (24-28)",
          "Veteranos (29+)",
          "Jóvenes (18-23)",
          "Jóvenes (18-23)",
          "Prime (24-28)",
          "Prime (24-28)",
          "Prime (24-28)",
          "Prime (24-28)",
          "Jóvenes (18-23)",
          "Jóvenes (18-23)",
          "Prime (24-28)",
          "Prime (24-28)",
          "Prime (24-28)",
          "Jóvenes (18-23)",
          "Prime (24-28)",
          "Prime (24-28)",
          "Jóvenes (18-23)",
          "Jóvenes (18-23)",
          "Veteranos (29+)",
          "Jóvenes (18-23)",
          "Prime (24-28)",
          "Veteranos (29+)",
          "Prime (24-28)",
          "Prime (24-28)",
          "Jóvenes (18-23)",
          "Prime (24-28)",
          "Veteranos (29+)",
          "Prime (24-28)",
          "Jóvenes (18-23)",
          "Jóvenes (18-23)",
          "Prime (24-28)",
          "Prime (24-28)",
          "Jóvenes (18-23)",
          "Veteranos (29+)",
          "Prime (24-28)",
          "Prime (24-28)",
          "Prime (24-28)",
          "Jóvenes (18-23)",
          "Jóvenes (18-23)",
          "Prime (24-28)",
          "Jóvenes (18-23)",
          "Veteranos (29+)",
          "Prime (24-28)",
          "Prime (24-28)",
          "Prime (24-28)",
          "Jóvenes (18-23)",
          "Veteranos (29+)",
          "Prime (24-28)",
          "Veteranos (29+)",
          "Prime (24-28)",
          "Prime (24-28)",
          "Veteranos (29+)",
          "Prime (24-28)",
          "Jóvenes (18-23)",
          "Veteranos (29+)",
          "Prime (24-28)",
          "Jóvenes (18-23)",
          "Veteranos (29+)",
          "Jóvenes (18-23)",
          "Veteranos (29+)",
          "Prime (24-28)",
          "Jóvenes (18-23)",
          "Prime (24-28)",
          "Prime (24-28)",
          "Veteranos (29+)",
          "Jóvenes (18-23)",
          "Veteranos (29+)",
          "Prime (24-28)",
          "Prime (24-28)",
          "Veteranos (29+)",
          "Prime (24-28)",
          "Veteranos (29+)",
          "Prime (24-28)",
          "Prime (24-28)",
          "Prime (24-28)",
          "Prime (24-28)",
          "Veteranos (29+)",
          "Jóvenes (18-23)",
          "Jóvenes (18-23)",
          "Veteranos (29+)",
          "Prime (24-28)",
          "Jóvenes (18-23)",
          "Prime (24-28)",
          "Prime (24-28)",
          "Jóvenes (18-23)",
          "Prime (24-28)",
          "Prime (24-28)",
          "Prime (24-28)",
          "Jóvenes (18-23)",
          "Prime (24-28)",
          "Veteranos (29+)",
          "Prime (24-28)",
          "Jóvenes (18-23)",
          "Prime (24-28)",
          "Veteranos (29+)",
          "Prime (24-28)",
          "Veteranos (29+)",
          "Jóvenes (18-23)",
          "Prime (24-28)",
          "Jóvenes (18-23)",
          "Veteranos (29+)",
          "Veteranos (29+)",
          "Prime (24-28)",
          "Veteranos (29+)",
          "Veteranos (29+)",
          "Prime (24-28)",
          "Veteranos (29+)",
          "Prime (24-28)",
          "Prime (24-28)",
          "Veteranos (29+)",
          "Prime (24-28)",
          "Prime (24-28)",
          "Prime (24-28)",
          "Prime (24-28)",
          "Veteranos (29+)",
          "Jóvenes (18-23)",
          "Jóvenes (18-23)",
          "Prime (24-28)",
          "Prime (24-28)",
          "Veteranos (29+)",
          "Prime (24-28)",
          "Veteranos (29+)",
          "Prime (24-28)",
          "Prime (24-28)",
          "Prime (24-28)",
          "Jóvenes (18-23)",
          "Prime (24-28)",
          "Jóvenes (18-23)",
          "Prime (24-28)",
          "Prime (24-28)",
          "Prime (24-28)"
         ],
         "x0": " ",
         "xaxis": "x",
         "y": {
          "bdata": "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",
          "dtype": "f8"
         },
         "y0": " ",
         "yaxis": "y"
        }
       ],
       "layout": {
        "boxmode": "group",
        "legend": {
         "tracegroupgap": 0
        },
        "template": {
         "data": {
          "bar": [
           {
            "error_x": {
             "color": "#2a3f5f"
            },
            "error_y": {
             "color": "#2a3f5f"
            },
            "marker": {
             "line": {
              "color": "#E5ECF6",
              "width": 0.5
             },
             "pattern": {
              "fillmode": "overlay",
              "size": 10,
              "solidity": 0.2
             }
            },
            "type": "bar"
           }
          ],
          "barpolar": [
           {
            "marker": {
             "line": {
              "color": "#E5ECF6",
              "width": 0.5
             },
             "pattern": {
              "fillmode": "overlay",
              "size": 10,
              "solidity": 0.2
             }
            },
            "type": "barpolar"
           }
          ],
          "carpet": [
           {
            "aaxis": {
             "endlinecolor": "#2a3f5f",
             "gridcolor": "white",
             "linecolor": "white",
             "minorgridcolor": "white",
             "startlinecolor": "#2a3f5f"
            },
            "baxis": {
             "endlinecolor": "#2a3f5f",
             "gridcolor": "white",
             "linecolor": "white",
             "minorgridcolor": "white",
             "startlinecolor": "#2a3f5f"
            },
            "type": "carpet"
           }
          ],
          "choropleth": [
           {
            "colorbar": {
             "outlinewidth": 0,
             "ticks": ""
            },
            "type": "choropleth"
           }
          ],
          "contour": [
           {
            "colorbar": {
             "outlinewidth": 0,
             "ticks": ""
            },
            "colorscale": [
             [
              0,
              "#0d0887"
             ],
             [
              0.1111111111111111,
              "#46039f"
             ],
             [
              0.2222222222222222,
              "#7201a8"
             ],
             [
              0.3333333333333333,
              "#9c179e"
             ],
             [
              0.4444444444444444,
              "#bd3786"
             ],
             [
              0.5555555555555556,
              "#d8576b"
             ],
             [
              0.6666666666666666,
              "#ed7953"
             ],
             [
              0.7777777777777778,
              "#fb9f3a"
             ],
             [
              0.8888888888888888,
              "#fdca26"
             ],
             [
              1,
              "#f0f921"
             ]
            ],
            "type": "contour"
           }
          ],
          "contourcarpet": [
           {
            "colorbar": {
             "outlinewidth": 0,
             "ticks": ""
            },
            "type": "contourcarpet"
           }
          ],
          "heatmap": [
           {
            "colorbar": {
             "outlinewidth": 0,
             "ticks": ""
            },
            "colorscale": [
             [
              0,
              "#0d0887"
             ],
             [
              0.1111111111111111,
              "#46039f"
             ],
             [
              0.2222222222222222,
              "#7201a8"
             ],
             [
              0.3333333333333333,
              "#9c179e"
             ],
             [
              0.4444444444444444,
              "#bd3786"
             ],
             [
              0.5555555555555556,
              "#d8576b"
             ],
             [
              0.6666666666666666,
              "#ed7953"
             ],
             [
              0.7777777777777778,
              "#fb9f3a"
             ],
             [
              0.8888888888888888,
              "#fdca26"
             ],
             [
              1,
              "#f0f921"
             ]
            ],
            "type": "heatmap"
           }
          ],
          "histogram": [
           {
            "marker": {
             "pattern": {
              "fillmode": "overlay",
              "size": 10,
              "solidity": 0.2
             }
            },
            "type": "histogram"
           }
          ],
          "histogram2d": [
           {
            "colorbar": {
             "outlinewidth": 0,
             "ticks": ""
            },
            "colorscale": [
             [
              0,
              "#0d0887"
             ],
             [
              0.1111111111111111,
              "#46039f"
             ],
             [
              0.2222222222222222,
              "#7201a8"
             ],
             [
              0.3333333333333333,
              "#9c179e"
             ],
             [
              0.4444444444444444,
              "#bd3786"
             ],
             [
              0.5555555555555556,
              "#d8576b"
             ],
             [
              0.6666666666666666,
              "#ed7953"
             ],
             [
              0.7777777777777778,
              "#fb9f3a"
             ],
             [
              0.8888888888888888,
              "#fdca26"
             ],
             [
              1,
              "#f0f921"
             ]
            ],
            "type": "histogram2d"
           }
          ],
          "histogram2dcontour": [
           {
            "colorbar": {
             "outlinewidth": 0,
             "ticks": ""
            },
            "colorscale": [
             [
              0,
              "#0d0887"
             ],
             [
              0.1111111111111111,
              "#46039f"
             ],
             [
              0.2222222222222222,
              "#7201a8"
             ],
             [
              0.3333333333333333,
              "#9c179e"
             ],
             [
              0.4444444444444444,
              "#bd3786"
             ],
             [
              0.5555555555555556,
              "#d8576b"
             ],
             [
              0.6666666666666666,
              "#ed7953"
             ],
             [
              0.7777777777777778,
              "#fb9f3a"
             ],
             [
              0.8888888888888888,
              "#fdca26"
             ],
             [
              1,
              "#f0f921"
             ]
            ],
            "type": "histogram2dcontour"
           }
          ],
          "mesh3d": [
           {
            "colorbar": {
             "outlinewidth": 0,
             "ticks": ""
            },
            "type": "mesh3d"
           }
          ],
          "parcoords": [
           {
            "line": {
             "colorbar": {
              "outlinewidth": 0,
              "ticks": ""
             }
            },
            "type": "parcoords"
           }
          ],
          "pie": [
           {
            "automargin": true,
            "type": "pie"
           }
          ],
          "scatter": [
           {
            "fillpattern": {
             "fillmode": "overlay",
             "size": 10,
             "solidity": 0.2
            },
            "type": "scatter"
           }
          ],
          "scatter3d": [
           {
            "line": {
             "colorbar": {
              "outlinewidth": 0,
              "ticks": ""
             }
            },
            "marker": {
             "colorbar": {
              "outlinewidth": 0,
              "ticks": ""
             }
            },
            "type": "scatter3d"
           }
          ],
          "scattercarpet": [
           {
            "marker": {
             "colorbar": {
              "outlinewidth": 0,
              "ticks": ""
             }
            },
            "type": "scattercarpet"
           }
          ],
          "scattergeo": [
           {
            "marker": {
             "colorbar": {
              "outlinewidth": 0,
              "ticks": ""
             }
            },
            "type": "scattergeo"
           }
          ],
          "scattergl": [
           {
            "marker": {
             "colorbar": {
              "outlinewidth": 0,
              "ticks": ""
             }
            },
            "type": "scattergl"
           }
          ],
          "scattermap": [
           {
            "marker": {
             "colorbar": {
              "outlinewidth": 0,
              "ticks": ""
             }
            },
            "type": "scattermap"
           }
          ],
          "scattermapbox": [
           {
            "marker": {
             "colorbar": {
              "outlinewidth": 0,
              "ticks": ""
             }
            },
            "type": "scattermapbox"
           }
          ],
          "scatterpolar": [
           {
            "marker": {
             "colorbar": {
              "outlinewidth": 0,
              "ticks": ""
             }
            },
            "type": "scatterpolar"
           }
          ],
          "scatterpolargl": [
           {
            "marker": {
             "colorbar": {
              "outlinewidth": 0,
              "ticks": ""
             }
            },
            "type": "scatterpolargl"
           }
          ],
          "scatterternary": [
           {
            "marker": {
             "colorbar": {
              "outlinewidth": 0,
              "ticks": ""
             }
            },
            "type": "scatterternary"
           }
          ],
          "surface": [
           {
            "colorbar": {
             "outlinewidth": 0,
             "ticks": ""
            },
            "colorscale": [
             [
              0,
              "#0d0887"
             ],
             [
              0.1111111111111111,
              "#46039f"
             ],
             [
              0.2222222222222222,
              "#7201a8"
             ],
             [
              0.3333333333333333,
              "#9c179e"
             ],
             [
              0.4444444444444444,
              "#bd3786"
             ],
             [
              0.5555555555555556,
              "#d8576b"
             ],
             [
              0.6666666666666666,
              "#ed7953"
             ],
             [
              0.7777777777777778,
              "#fb9f3a"
             ],
             [
              0.8888888888888888,
              "#fdca26"
             ],
             [
              1,
              "#f0f921"
             ]
            ],
            "type": "surface"
           }
          ],
          "table": [
           {
            "cells": {
             "fill": {
              "color": "#EBF0F8"
             },
             "line": {
              "color": "white"
             }
            },
            "header": {
             "fill": {
              "color": "#C8D4E3"
             },
             "line": {
              "color": "white"
             }
            },
            "type": "table"
           }
          ]
         },
         "layout": {
          "annotationdefaults": {
           "arrowcolor": "#2a3f5f",
           "arrowhead": 0,
           "arrowwidth": 1
          },
          "autotypenumbers": "strict",
          "coloraxis": {
           "colorbar": {
            "outlinewidth": 0,
            "ticks": ""
           }
          },
          "colorscale": {
           "diverging": [
            [
             0,
             "#8e0152"
            ],
            [
             0.1,
             "#c51b7d"
            ],
            [
             0.2,
             "#de77ae"
            ],
            [
             0.3,
             "#f1b6da"
            ],
            [
             0.4,
             "#fde0ef"
            ],
            [
             0.5,
             "#f7f7f7"
            ],
            [
             0.6,
             "#e6f5d0"
            ],
            [
             0.7,
             "#b8e186"
            ],
            [
             0.8,
             "#7fbc41"
            ],
            [
             0.9,
             "#4d9221"
            ],
            [
             1,
             "#276419"
            ]
           ],
           "sequential": [
            [
             0,
             "#0d0887"
            ],
            [
             0.1111111111111111,
             "#46039f"
            ],
            [
             0.2222222222222222,
             "#7201a8"
            ],
            [
             0.3333333333333333,
             "#9c179e"
            ],
            [
             0.4444444444444444,
             "#bd3786"
            ],
            [
             0.5555555555555556,
             "#d8576b"
            ],
            [
             0.6666666666666666,
             "#ed7953"
            ],
            [
             0.7777777777777778,
             "#fb9f3a"
            ],
            [
             0.8888888888888888,
             "#fdca26"
            ],
            [
             1,
             "#f0f921"
            ]
           ],
           "sequentialminus": [
            [
             0,
             "#0d0887"
            ],
            [
             0.1111111111111111,
             "#46039f"
            ],
            [
             0.2222222222222222,
             "#7201a8"
            ],
            [
             0.3333333333333333,
             "#9c179e"
            ],
            [
             0.4444444444444444,
             "#bd3786"
            ],
            [
             0.5555555555555556,
             "#d8576b"
            ],
            [
             0.6666666666666666,
             "#ed7953"
            ],
            [
             0.7777777777777778,
             "#fb9f3a"
            ],
            [
             0.8888888888888888,
             "#fdca26"
            ],
            [
             1,
             "#f0f921"
            ]
           ]
          },
          "colorway": [
           "#636efa",
           "#EF553B",
           "#00cc96",
           "#ab63fa",
           "#FFA15A",
           "#19d3f3",
           "#FF6692",
           "#B6E880",
           "#FF97FF",
           "#FECB52"
          ],
          "font": {
           "color": "#2a3f5f"
          },
          "geo": {
           "bgcolor": "white",
           "lakecolor": "white",
           "landcolor": "#E5ECF6",
           "showlakes": true,
           "showland": true,
           "subunitcolor": "white"
          },
          "hoverlabel": {
           "align": "left"
          },
          "hovermode": "closest",
          "mapbox": {
           "style": "light"
          },
          "paper_bgcolor": "white",
          "plot_bgcolor": "#E5ECF6",
          "polar": {
           "angularaxis": {
            "gridcolor": "white",
            "linecolor": "white",
            "ticks": ""
           },
           "bgcolor": "#E5ECF6",
           "radialaxis": {
            "gridcolor": "white",
            "linecolor": "white",
            "ticks": ""
           }
          },
          "scene": {
           "xaxis": {
            "backgroundcolor": "#E5ECF6",
            "gridcolor": "white",
            "gridwidth": 2,
            "linecolor": "white",
            "showbackground": true,
            "ticks": "",
            "zerolinecolor": "white"
           },
           "yaxis": {
            "backgroundcolor": "#E5ECF6",
            "gridcolor": "white",
            "gridwidth": 2,
            "linecolor": "white",
            "showbackground": true,
            "ticks": "",
            "zerolinecolor": "white"
           },
           "zaxis": {
            "backgroundcolor": "#E5ECF6",
            "gridcolor": "white",
            "gridwidth": 2,
            "linecolor": "white",
            "showbackground": true,
            "ticks": "",
            "zerolinecolor": "white"
           }
          },
          "shapedefaults": {
           "line": {
            "color": "#2a3f5f"
           }
          },
          "ternary": {
           "aaxis": {
            "gridcolor": "white",
            "linecolor": "white",
            "ticks": ""
           },
           "baxis": {
            "gridcolor": "white",
            "linecolor": "white",
            "ticks": ""
           },
           "bgcolor": "#E5ECF6",
           "caxis": {
            "gridcolor": "white",
            "linecolor": "white",
            "ticks": ""
           }
          },
          "title": {
           "x": 0.05
          },
          "xaxis": {
           "automargin": true,
           "gridcolor": "white",
           "linecolor": "white",
           "ticks": "",
           "title": {
            "standoff": 15
           },
           "zerolinecolor": "white",
           "zerolinewidth": 2
          },
          "yaxis": {
           "automargin": true,
           "gridcolor": "white",
           "linecolor": "white",
           "ticks": "",
           "title": {
            "standoff": 15
           },
           "zerolinecolor": "white",
           "zerolinewidth": 2
          }
         }
        },
        "title": {
         "text": "💎 El \"Prime\" de 24-28 años domina el mercado"
        },
        "xaxis": {
         "anchor": "y",
         "domain": [
          0,
          1
         ],
         "title": {
          "text": "Grupo de Edad"
         }
        },
        "yaxis": {
         "anchor": "x",
         "domain": [
          0,
          1
         ],
         "title": {
          "text": "Valor (M€)"
         }
        }
       }
      },
      "text/html": [
       "<div>            <script src=\"https://cdnjs.cloudflare.com/ajax/libs/mathjax/2.7.5/MathJax.js?config=TeX-AMS-MML_SVG\"></script><script type=\"text/javascript\">if (window.MathJax && window.MathJax.Hub && window.MathJax.Hub.Config) {window.MathJax.Hub.Config({SVG: {font: \"STIX-Web\"}});}</script>                <script type=\"text/javascript\">window.PlotlyConfig = {MathJaxConfig: 'local'};</script>\n",
       "        <script charset=\"utf-8\" src=\"https://cdn.plot.ly/plotly-3.0.1.min.js\" integrity=\"sha256-oy6Be7Eh6eiQFs5M7oXuPxxm9qbJXEtTpfSI93dW16Q=\" crossorigin=\"anonymous\"></script>                <div id=\"d3db6565-486e-4dc1-9c07-6b3cd8fed3d4\" class=\"plotly-graph-div\" style=\"height:525px; width:100%;\"></div>            <script type=\"text/javascript\">                window.PLOTLYENV=window.PLOTLYENV || {};                                if (document.getElementById(\"d3db6565-486e-4dc1-9c07-6b3cd8fed3d4\")) {                    Plotly.newPlot(                        \"d3db6565-486e-4dc1-9c07-6b3cd8fed3d4\",                        [{\"alignmentgroup\":\"True\",\"hovertemplate\":\"Grupo de Edad=%{x}\\u003cbr\\u003eValor (M€)=%{y}\\u003cextra\\u003e\\u003c\\u002fextra\\u003e\",\"legendgroup\":\"\",\"marker\":{\"color\":\"#636efa\"},\"name\":\"\",\"notched\":false,\"offsetgroup\":\"\",\"orientation\":\"v\",\"showlegend\":false,\"x\":[\"Prime (24-28)\",\"Jóvenes (18-23)\",\"Jóvenes (18-23)\",\"Veteranos (29+)\",\"Jóvenes (18-23)\",\"Veteranos (29+)\",\"Jóvenes (18-23)\",\"Prime (24-28)\",\"Jóvenes (18-23)\",\"Prime (24-28)\",\"Prime (24-28)\",\"Veteranos (29+)\",\"Jóvenes (18-23)\",\"Prime (24-28)\",\"Jóvenes (18-23)\",\"Veteranos (29+)\",\"Prime (24-28)\",\"Prime (24-28)\",\"Jóvenes (18-23)\",\"Prime (24-28)\",\"Jóvenes (18-23)\",\"Jóvenes (18-23)\",\"Veteranos (29+)\",\"Prime (24-28)\",\"Jóvenes (18-23)\",\"Jóvenes (18-23)\",\"Jóvenes (18-23)\",\"Prime (24-28)\",\"Prime (24-28)\",\"Prime (24-28)\",\"Prime (24-28)\",\"Jóvenes (18-23)\",\"Jóvenes (18-23)\",\"Jóvenes (18-23)\",\"Veteranos (29+)\",\"Prime (24-28)\",\"Veteranos (29+)\",\"Veteranos (29+)\",\"Prime (24-28)\",\"Veteranos (29+)\",\"Prime (24-28)\",\"Jóvenes (18-23)\",\"Jóvenes (18-23)\",\"Prime (24-28)\",\"Veteranos (29+)\",\"Prime (24-28)\",\"Jóvenes (18-23)\",\"Prime (24-28)\",\"Jóvenes (18-23)\",\"Veteranos (29+)\",\"Prime (24-28)\",\"Jóvenes (18-23)\",\"Jóvenes (18-23)\",\"Prime (24-28)\",\"Prime (24-28)\",\"Veteranos (29+)\",\"Veteranos (29+)\",\"Prime (24-28)\",\"Jóvenes (18-23)\",\"Jóvenes (18-23)\",\"Veteranos (29+)\",\"Prime (24-28)\",\"Veteranos (29+)\",\"Jóvenes (18-23)\",\"Jóvenes (18-23)\",\"Veteranos (29+)\",\"Jóvenes (18-23)\",\"Prime (24-28)\",\"Veteranos (29+)\",\"Prime (24-28)\",\"Veteranos (29+)\",\"Jóvenes (18-23)\",\"Jóvenes (18-23)\",\"Prime (24-28)\",\"Prime (24-28)\",\"Prime (24-28)\",\"Prime (24-28)\",\"Jóvenes (18-23)\",\"Jóvenes (18-23)\",\"Prime (24-28)\",\"Prime (24-28)\",\"Prime (24-28)\",\"Jóvenes (18-23)\",\"Prime (24-28)\",\"Prime (24-28)\",\"Jóvenes (18-23)\",\"Jóvenes (18-23)\",\"Veteranos (29+)\",\"Jóvenes (18-23)\",\"Prime (24-28)\",\"Veteranos (29+)\",\"Prime (24-28)\",\"Prime (24-28)\",\"Jóvenes (18-23)\",\"Prime (24-28)\",\"Veteranos (29+)\",\"Prime (24-28)\",\"Jóvenes (18-23)\",\"Jóvenes (18-23)\",\"Prime (24-28)\",\"Prime (24-28)\",\"Jóvenes (18-23)\",\"Veteranos (29+)\",\"Prime (24-28)\",\"Prime (24-28)\",\"Prime (24-28)\",\"Jóvenes (18-23)\",\"Jóvenes (18-23)\",\"Prime (24-28)\",\"Jóvenes (18-23)\",\"Veteranos (29+)\",\"Prime (24-28)\",\"Prime (24-28)\",\"Prime (24-28)\",\"Jóvenes (18-23)\",\"Veteranos (29+)\",\"Prime (24-28)\",\"Veteranos (29+)\",\"Prime (24-28)\",\"Prime (24-28)\",\"Veteranos (29+)\",\"Prime (24-28)\",\"Jóvenes (18-23)\",\"Veteranos (29+)\",\"Prime (24-28)\",\"Jóvenes (18-23)\",\"Veteranos (29+)\",\"Jóvenes (18-23)\",\"Veteranos (29+)\",\"Prime (24-28)\",\"Jóvenes (18-23)\",\"Prime (24-28)\",\"Prime (24-28)\",\"Veteranos (29+)\",\"Jóvenes (18-23)\",\"Veteranos (29+)\",\"Prime (24-28)\",\"Prime (24-28)\",\"Veteranos (29+)\",\"Prime (24-28)\",\"Veteranos (29+)\",\"Prime (24-28)\",\"Prime (24-28)\",\"Prime (24-28)\",\"Prime (24-28)\",\"Veteranos (29+)\",\"Jóvenes (18-23)\",\"Jóvenes (18-23)\",\"Veteranos (29+)\",\"Prime (24-28)\",\"Jóvenes (18-23)\",\"Prime (24-28)\",\"Prime (24-28)\",\"Jóvenes (18-23)\",\"Prime (24-28)\",\"Prime (24-28)\",\"Prime (24-28)\",\"Jóvenes (18-23)\",\"Prime (24-28)\",\"Veteranos (29+)\",\"Prime (24-28)\",\"Jóvenes (18-23)\",\"Prime (24-28)\",\"Veteranos (29+)\",\"Prime (24-28)\",\"Veteranos (29+)\",\"Jóvenes (18-23)\",\"Prime (24-28)\",\"Jóvenes (18-23)\",\"Veteranos (29+)\",\"Veteranos (29+)\",\"Prime (24-28)\",\"Veteranos (29+)\",\"Veteranos (29+)\",\"Prime (24-28)\",\"Veteranos (29+)\",\"Prime (24-28)\",\"Prime (24-28)\",\"Veteranos (29+)\",\"Prime (24-28)\",\"Prime (24-28)\",\"Prime (24-28)\",\"Prime (24-28)\",\"Veteranos (29+)\",\"Jóvenes (18-23)\",\"Jóvenes (18-23)\",\"Prime (24-28)\",\"Prime (24-28)\",\"Veteranos (29+)\",\"Prime (24-28)\",\"Veteranos (29+)\",\"Prime (24-28)\",\"Prime (24-28)\",\"Prime (24-28)\",\"Jóvenes (18-23)\",\"Prime (24-28)\",\"Jóvenes (18-23)\",\"Prime (24-28)\",\"Prime (24-28)\",\"Prime (24-28)\"],\"x0\":\" \",\"xaxis\":\"x\",\"y\":{\"dtype\":\"f8\",\"bdata\":\"ZmZmZmbmOECamZmZmZlAQJqZmZmZGThAmpmZmZmZK0AAAAAAAIA1QDMzMzMzM0lAAAAAAAAAPkCamZmZmRlLQM3MzMzMzDJAzczMzMwMQ0DNzMzMzMw4QGZmZmZmZkFAmpmZmZlZSUAAAAAAAABCQGZmZmZm5jhAZmZmZmbmN0CamZmZmZlAQDMzMzMzMzFAAAAAAAAAOEDNzMzMzMw+QM3MzMzMzClAAAAAAACAPUDNzMzMzMw+QM3MzMzMzDVAMzMzMzPzSUCamZmZmRkxQAAAAAAAgDxAZmZmZmYmRECamZmZmdlEQAAAAAAAAEJAzczMzMxMP0AzMzMzM7MwQDMzMzMzMztAmpmZmZmZNkCamZmZmZktQAAAAAAAgDRAAAAAAACAQUDNzMzMzEw7QGZmZmZmZjxAAAAAAAAAPEBmZmZmZiZEQJqZmZmZGTFAmpmZmZkZPkDNzMzMzMw7QM3MzMzMjEBAMzMzMzPzQ0DNzMzMzMwzQDMzMzMzszZAZmZmZmbmPUCamZmZmZkuQM3MzMzMjENAZmZmZmamQUAAAAAAAIA7QGZmZmZmJkxAzczMzMzMOkDNzMzMzMw0QGZmZmZmZjBAmpmZmZnZTECamZmZmZkqQDMzMzMz80VAmpmZmZlZQEBmZmZmZmY1QM3MzMzMzERAzczMzMxMPEDNzMzMzMw7QGZmZmZm5jFAzczMzMwMSUDNzMzMzMw1QAAAAAAAgDZAMzMzMzMzTUDNzMzMzAxIQJqZmZmZmTdAZmZmZmZmNkBmZmZmZmY7QJqZmZmZ2UFAMzMzMzPzTkAAAAAAAAA9QGZmZmZmZkBAMzMzMzMzOkCamZmZmRkwQAAAAAAAgEBAmpmZmZkZP0DNzMzMzMw1QJqZmZmZGTFAzczMzMzMPUCamZmZmRk0QDMzMzMzszBAZmZmZmZmOkBmZmZmZuY6QM3MzMzMDEBAAAAAAAAAM0AzMzMzM7M6QM3MzMzMjEBAmpmZmZkZMUAzMzMzMzMzQGZmZmZmZjZAzczMzMzMPkCamZmZmZk\\u002fQGZmZmZm5jFAzczMzMzMN0AzMzMzM7M6QDMzMzMzc0VAzczMzMxMMkAzMzMzMzM4QAAAAAAAwEJAzczMzMzMK0DNzMzMzMwzQGZmZmZmZjZAmpmZmZmZMUAzMzMzM7MxQM3MzMzMTDNAMzMzMzOzNkBmZmZmZmZTQM3MzMzMTD5AAAAAAABASkDNzMzMzExBQM3MzMzMjEJAMzMzMzMzNkAzMzMzM7NAQGZmZmZmZjxAzczMzMxMREBmZmZmZmY9QM3MzMzMDEdAAAAAAAAAK0AAAAAAAAA7QJqZmZmZuVZAzczMzMzMMUDNzMzMzAxJQJqZmZmZmThAAAAAAAAANkBmZmZmZuY3QGZmZmZm5jVAmpmZmZmZPkCamZmZmRkxQDMzMzMzszNAAAAAAAAAN0BmZmZmZmZAQDMzMzMz80lAMzMzMzMzNEAzMzMzM7M3QM3MzMzMzC1AmpmZmZkZQEBmZmZmZmZHQM3MzMzMDEpAZmZmZmbmMUBmZmZmZiZHQGZmZmZmZjVAZmZmZmZmQUCamZmZmZklQM3MzMzMzDtAZmZmZmZmN0AAAAAAAIBBQGZmZmZmZjtAMzMzMzNzREBmZmZmZmZAQAAAAAAAADNAZmZmZmYmQkDNzMzMzIxAQGZmZmZm5khAZmZmZmbmMUDNzMzMzIxBQGZmZmZm5kBAMzMzMzMzQUCamZmZmZk4QDMzMzMzsztAmpmZmZmZNkCamZmZmVlIQDMzMzMzszxAzczMzMxMNEDNzMzMzMwrQJqZmZmZGTtAAAAAAACANUAAAAAAAABGQGZmZmZmJkNAMzMzMzMzPkCamZmZmZk6QM3MzMzMTDRAmpmZmZkZM0AAAAAAAABCQDMzMzMzsztAMzMzMzNzQUAzMzMzM\\u002fNEQDMzMzMz80BAmpmZmZkZNUBmZmZmZqZDQGZmZmZm5jJAzczMzMwMR0DNzMzMzEw4QM3MzMzMTENAmpmZmZkZOkAAAAAAAAAzQDMzMzMzMzJAAAAAAADARECamZmZmZk+QDMzMzMzMyxAMzMzMzMzRUBmZmZmZiZAQGZmZmZmpkVAmpmZmZmZNkBmZmZmZuY2QA==\"},\"y0\":\" \",\"yaxis\":\"y\",\"type\":\"box\"}],                        {\"template\":{\"data\":{\"histogram2dcontour\":[{\"type\":\"histogram2dcontour\",\"colorbar\":{\"outlinewidth\":0,\"ticks\":\"\"},\"colorscale\":[[0.0,\"#0d0887\"],[0.1111111111111111,\"#46039f\"],[0.2222222222222222,\"#7201a8\"],[0.3333333333333333,\"#9c179e\"],[0.4444444444444444,\"#bd3786\"],[0.5555555555555556,\"#d8576b\"],[0.6666666666666666,\"#ed7953\"],[0.7777777777777778,\"#fb9f3a\"],[0.8888888888888888,\"#fdca26\"],[1.0,\"#f0f921\"]]}],\"choropleth\":[{\"type\":\"choropleth\",\"colorbar\":{\"outlinewidth\":0,\"ticks\":\"\"}}],\"histogram2d\":[{\"type\":\"histogram2d\",\"colorbar\":{\"outlinewidth\":0,\"ticks\":\"\"},\"colorscale\":[[0.0,\"#0d0887\"],[0.1111111111111111,\"#46039f\"],[0.2222222222222222,\"#7201a8\"],[0.3333333333333333,\"#9c179e\"],[0.4444444444444444,\"#bd3786\"],[0.5555555555555556,\"#d8576b\"],[0.6666666666666666,\"#ed7953\"],[0.7777777777777778,\"#fb9f3a\"],[0.8888888888888888,\"#fdca26\"],[1.0,\"#f0f921\"]]}],\"heatmap\":[{\"type\":\"heatmap\",\"colorbar\":{\"outlinewidth\":0,\"ticks\":\"\"},\"colorscale\":[[0.0,\"#0d0887\"],[0.1111111111111111,\"#46039f\"],[0.2222222222222222,\"#7201a8\"],[0.3333333333333333,\"#9c179e\"],[0.4444444444444444,\"#bd3786\"],[0.5555555555555556,\"#d8576b\"],[0.6666666666666666,\"#ed7953\"],[0.7777777777777778,\"#fb9f3a\"],[0.8888888888888888,\"#fdca26\"],[1.0,\"#f0f921\"]]}],\"contourcarpet\":[{\"type\":\"contourcarpet\",\"colorbar\":{\"outlinewidth\":0,\"ticks\":\"\"}}],\"contour\":[{\"type\":\"contour\",\"colorbar\":{\"outlinewidth\":0,\"ticks\":\"\"},\"colorscale\":[[0.0,\"#0d0887\"],[0.1111111111111111,\"#46039f\"],[0.2222222222222222,\"#7201a8\"],[0.3333333333333333,\"#9c179e\"],[0.4444444444444444,\"#bd3786\"],[0.5555555555555556,\"#d8576b\"],[0.6666666666666666,\"#ed7953\"],[0.7777777777777778,\"#fb9f3a\"],[0.8888888888888888,\"#fdca26\"],[1.0,\"#f0f921\"]]}],\"surface\":[{\"type\":\"surface\",\"colorbar\":{\"outlinewidth\":0,\"ticks\":\"\"},\"colorscale\":[[0.0,\"#0d0887\"],[0.1111111111111111,\"#46039f\"],[0.2222222222222222,\"#7201a8\"],[0.3333333333333333,\"#9c179e\"],[0.4444444444444444,\"#bd3786\"],[0.5555555555555556,\"#d8576b\"],[0.6666666666666666,\"#ed7953\"],[0.7777777777777778,\"#fb9f3a\"],[0.8888888888888888,\"#fdca26\"],[1.0,\"#f0f921\"]]}],\"mesh3d\":[{\"type\":\"mesh3d\",\"colorbar\":{\"outlinewidth\":0,\"ticks\":\"\"}}],\"scatter\":[{\"fillpattern\":{\"fillmode\":\"overlay\",\"size\":10,\"solidity\":0.2},\"type\":\"scatter\"}],\"parcoords\":[{\"type\":\"parcoords\",\"line\":{\"colorbar\":{\"outlinewidth\":0,\"ticks\":\"\"}}}],\"scatterpolargl\":[{\"type\":\"scatterpolargl\",\"marker\":{\"colorbar\":{\"outlinewidth\":0,\"ticks\":\"\"}}}],\"bar\":[{\"error_x\":{\"color\":\"#2a3f5f\"},\"error_y\":{\"color\":\"#2a3f5f\"},\"marker\":{\"line\":{\"color\":\"#E5ECF6\",\"width\":0.5},\"pattern\":{\"fillmode\":\"overlay\",\"size\":10,\"solidity\":0.2}},\"type\":\"bar\"}],\"scattergeo\":[{\"type\":\"scattergeo\",\"marker\":{\"colorbar\":{\"outlinewidth\":0,\"ticks\":\"\"}}}],\"scatterpolar\":[{\"type\":\"scatterpolar\",\"marker\":{\"colorbar\":{\"outlinewidth\":0,\"ticks\":\"\"}}}],\"histogram\":[{\"marker\":{\"pattern\":{\"fillmode\":\"overlay\",\"size\":10,\"solidity\":0.2}},\"type\":\"histogram\"}],\"scattergl\":[{\"type\":\"scattergl\",\"marker\":{\"colorbar\":{\"outlinewidth\":0,\"ticks\":\"\"}}}],\"scatter3d\":[{\"type\":\"scatter3d\",\"line\":{\"colorbar\":{\"outlinewidth\":0,\"ticks\":\"\"}},\"marker\":{\"colorbar\":{\"outlinewidth\":0,\"ticks\":\"\"}}}],\"scattermap\":[{\"type\":\"scattermap\",\"marker\":{\"colorbar\":{\"outlinewidth\":0,\"ticks\":\"\"}}}],\"scattermapbox\":[{\"type\":\"scattermapbox\",\"marker\":{\"colorbar\":{\"outlinewidth\":0,\"ticks\":\"\"}}}],\"scatterternary\":[{\"type\":\"scatterternary\",\"marker\":{\"colorbar\":{\"outlinewidth\":0,\"ticks\":\"\"}}}],\"scattercarpet\":[{\"type\":\"scattercarpet\",\"marker\":{\"colorbar\":{\"outlinewidth\":0,\"ticks\":\"\"}}}],\"carpet\":[{\"aaxis\":{\"endlinecolor\":\"#2a3f5f\",\"gridcolor\":\"white\",\"linecolor\":\"white\",\"minorgridcolor\":\"white\",\"startlinecolor\":\"#2a3f5f\"},\"baxis\":{\"endlinecolor\":\"#2a3f5f\",\"gridcolor\":\"white\",\"linecolor\":\"white\",\"minorgridcolor\":\"white\",\"startlinecolor\":\"#2a3f5f\"},\"type\":\"carpet\"}],\"table\":[{\"cells\":{\"fill\":{\"color\":\"#EBF0F8\"},\"line\":{\"color\":\"white\"}},\"header\":{\"fill\":{\"color\":\"#C8D4E3\"},\"line\":{\"color\":\"white\"}},\"type\":\"table\"}],\"barpolar\":[{\"marker\":{\"line\":{\"color\":\"#E5ECF6\",\"width\":0.5},\"pattern\":{\"fillmode\":\"overlay\",\"size\":10,\"solidity\":0.2}},\"type\":\"barpolar\"}],\"pie\":[{\"automargin\":true,\"type\":\"pie\"}]},\"layout\":{\"autotypenumbers\":\"strict\",\"colorway\":[\"#636efa\",\"#EF553B\",\"#00cc96\",\"#ab63fa\",\"#FFA15A\",\"#19d3f3\",\"#FF6692\",\"#B6E880\",\"#FF97FF\",\"#FECB52\"],\"font\":{\"color\":\"#2a3f5f\"},\"hovermode\":\"closest\",\"hoverlabel\":{\"align\":\"left\"},\"paper_bgcolor\":\"white\",\"plot_bgcolor\":\"#E5ECF6\",\"polar\":{\"bgcolor\":\"#E5ECF6\",\"angularaxis\":{\"gridcolor\":\"white\",\"linecolor\":\"white\",\"ticks\":\"\"},\"radialaxis\":{\"gridcolor\":\"white\",\"linecolor\":\"white\",\"ticks\":\"\"}},\"ternary\":{\"bgcolor\":\"#E5ECF6\",\"aaxis\":{\"gridcolor\":\"white\",\"linecolor\":\"white\",\"ticks\":\"\"},\"baxis\":{\"gridcolor\":\"white\",\"linecolor\":\"white\",\"ticks\":\"\"},\"caxis\":{\"gridcolor\":\"white\",\"linecolor\":\"white\",\"ticks\":\"\"}},\"coloraxis\":{\"colorbar\":{\"outlinewidth\":0,\"ticks\":\"\"}},\"colorscale\":{\"sequential\":[[0.0,\"#0d0887\"],[0.1111111111111111,\"#46039f\"],[0.2222222222222222,\"#7201a8\"],[0.3333333333333333,\"#9c179e\"],[0.4444444444444444,\"#bd3786\"],[0.5555555555555556,\"#d8576b\"],[0.6666666666666666,\"#ed7953\"],[0.7777777777777778,\"#fb9f3a\"],[0.8888888888888888,\"#fdca26\"],[1.0,\"#f0f921\"]],\"sequentialminus\":[[0.0,\"#0d0887\"],[0.1111111111111111,\"#46039f\"],[0.2222222222222222,\"#7201a8\"],[0.3333333333333333,\"#9c179e\"],[0.4444444444444444,\"#bd3786\"],[0.5555555555555556,\"#d8576b\"],[0.6666666666666666,\"#ed7953\"],[0.7777777777777778,\"#fb9f3a\"],[0.8888888888888888,\"#fdca26\"],[1.0,\"#f0f921\"]],\"diverging\":[[0,\"#8e0152\"],[0.1,\"#c51b7d\"],[0.2,\"#de77ae\"],[0.3,\"#f1b6da\"],[0.4,\"#fde0ef\"],[0.5,\"#f7f7f7\"],[0.6,\"#e6f5d0\"],[0.7,\"#b8e186\"],[0.8,\"#7fbc41\"],[0.9,\"#4d9221\"],[1,\"#276419\"]]},\"xaxis\":{\"gridcolor\":\"white\",\"linecolor\":\"white\",\"ticks\":\"\",\"title\":{\"standoff\":15},\"zerolinecolor\":\"white\",\"automargin\":true,\"zerolinewidth\":2},\"yaxis\":{\"gridcolor\":\"white\",\"linecolor\":\"white\",\"ticks\":\"\",\"title\":{\"standoff\":15},\"zerolinecolor\":\"white\",\"automargin\":true,\"zerolinewidth\":2},\"scene\":{\"xaxis\":{\"backgroundcolor\":\"#E5ECF6\",\"gridcolor\":\"white\",\"linecolor\":\"white\",\"showbackground\":true,\"ticks\":\"\",\"zerolinecolor\":\"white\",\"gridwidth\":2},\"yaxis\":{\"backgroundcolor\":\"#E5ECF6\",\"gridcolor\":\"white\",\"linecolor\":\"white\",\"showbackground\":true,\"ticks\":\"\",\"zerolinecolor\":\"white\",\"gridwidth\":2},\"zaxis\":{\"backgroundcolor\":\"#E5ECF6\",\"gridcolor\":\"white\",\"linecolor\":\"white\",\"showbackground\":true,\"ticks\":\"\",\"zerolinecolor\":\"white\",\"gridwidth\":2}},\"shapedefaults\":{\"line\":{\"color\":\"#2a3f5f\"}},\"annotationdefaults\":{\"arrowcolor\":\"#2a3f5f\",\"arrowhead\":0,\"arrowwidth\":1},\"geo\":{\"bgcolor\":\"white\",\"landcolor\":\"#E5ECF6\",\"subunitcolor\":\"white\",\"showland\":true,\"showlakes\":true,\"lakecolor\":\"white\"},\"title\":{\"x\":0.05},\"mapbox\":{\"style\":\"light\"}}},\"xaxis\":{\"anchor\":\"y\",\"domain\":[0.0,1.0],\"title\":{\"text\":\"Grupo de Edad\"}},\"yaxis\":{\"anchor\":\"x\",\"domain\":[0.0,1.0],\"title\":{\"text\":\"Valor (M€)\"}},\"legend\":{\"tracegroupgap\":0},\"title\":{\"text\":\"💎 El \\\"Prime\\\" de 24-28 años domina el mercado\"},\"boxmode\":\"group\"},                        {\"responsive\": true}                    ).then(function(){\n",
       "                            \n",
       "var gd = document.getElementById('d3db6565-486e-4dc1-9c07-6b3cd8fed3d4');\n",
       "var x = new MutationObserver(function (mutations, observer) {{\n",
       "        var display = window.getComputedStyle(gd).display;\n",
       "        if (!display || display === 'none') {{\n",
       "            console.log([gd, 'removed!']);\n",
       "            Plotly.purge(gd);\n",
       "            observer.disconnect();\n",
       "        }}\n",
       "}});\n",
       "\n",
       "// Listen for the removal of the full notebook cells\n",
       "var notebookContainer = gd.closest('#notebook-container');\n",
       "if (notebookContainer) {{\n",
       "    x.observe(notebookContainer, {childList: true});\n",
       "}}\n",
       "\n",
       "// Listen for the clearing of the current output cell\n",
       "var outputEl = gd.closest('.output');\n",
       "if (outputEl) {{\n",
       "    x.observe(outputEl, {childList: true});\n",
       "}}\n",
       "\n",
       "                        })                };            </script>        </div>"
      ]
     },
     "metadata": {},
     "output_type": "display_data"
    },
    {
     "name": "stdout",
     "output_type": "stream",
     "text": [
      "\n",
      "🔍 HALLAZGO 2: EL FACTOR POSICIÓN\n",
      "--------------------------------------------------\n",
      "Valor promedio por posición:\n",
      "  Defensor: 25.7 ± 7.9 M€ (rating=71.6)\n",
      "  Delantero: 34.5 ± 13.9 M€ (rating=81.8)\n",
      "  Mediocampista: 31.7 ± 12.2 M€ (rating=79.5)\n",
      "  Portero: 22.4 ± 7.5 M€ (rating=68.0)\n",
      "\n",
      "🔍 HALLAZGO 3: LA BRECHA DE EFICIENCIA\n",
      "--------------------------------------------------\n",
      "Eficiencia por equipo (Rating/Valor):\n",
      "  1. Betis: 34.70 (valor total: 439.1 M€)\n",
      "  2. Espanyol: 34.33 (valor total: 378.4 M€)\n",
      "  3. Athletic Bilbao: 33.51 (valor total: 711.6 M€)\n",
      "  4. Real Sociedad: 29.04 (valor total: 441.4 M€)\n",
      "  5. Villarreal: 28.85 (valor total: 522.9 M€)\n"
     ]
    },
    {
     "data": {
      "application/vnd.plotly.v1+json": {
       "config": {
        "plotlyServerURL": "https://plot.ly"
       },
       "data": [
        {
         "hovertemplate": "<b>%{hovertext}</b><br><br>Inversión Total (M€)=%{x}<br>Rating Promedio=%{y}<br>eficiencia=%{marker.size}<extra></extra>",
         "hovertext": [
          "Athletic Bilbao",
          "Atlético Madrid",
          "Barcelona",
          "Betis",
          "Espanyol",
          "Real Madrid",
          "Real Sociedad",
          "Sevilla",
          "Valencia",
          "Villarreal"
         ],
         "legendgroup": "",
         "marker": {
          "color": "#636efa",
          "size": {
           "bdata": "4XoUrkfBQEDNzMzMzAw5QArXo3A9ijVAmpmZmZlZQUAK16NwPSpBQPYoXI/CtTRACtejcD0KPUAK16NwPUo5QM3MzMzMjDxAmpmZmZnZPEA=",
           "dtype": "f8"
          },
          "sizemode": "area",
          "sizeref": 0.08675000000000001,
          "symbol": "circle"
         },
         "mode": "markers",
         "name": "",
         "orientation": "v",
         "showlegend": false,
         "type": "scatter",
         "x": {
          "bdata": "zczMzMw8hkAAAAAAAISDQJqZmZmZOYBAmpmZmZlxe0BmZmZmZqZ3QJqZmZmZ0Y1AZmZmZmaWe0BmZmZmZj6IQAAAAAAAuIJAMzMzMzNXgEA=",
          "dtype": "f8"
         },
         "xaxis": "x",
         "y": {
          "bdata": "H4XrUbgOUkBcj8L1KLxUQIXrUbgeBVZAH4XrUbiOUkCF61G4HjVRQIXrUbgepVZAcT0K16MQUkCuR+F6FO5SQEjhehSuh1JA16NwPQqnUkA=",
          "dtype": "f8"
         },
         "yaxis": "y"
        }
       ],
       "layout": {
        "legend": {
         "itemsizing": "constant",
         "tracegroupgap": 0
        },
        "template": {
         "data": {
          "bar": [
           {
            "error_x": {
             "color": "#2a3f5f"
            },
            "error_y": {
             "color": "#2a3f5f"
            },
            "marker": {
             "line": {
              "color": "#E5ECF6",
              "width": 0.5
             },
             "pattern": {
              "fillmode": "overlay",
              "size": 10,
              "solidity": 0.2
             }
            },
            "type": "bar"
           }
          ],
          "barpolar": [
           {
            "marker": {
             "line": {
              "color": "#E5ECF6",
              "width": 0.5
             },
             "pattern": {
              "fillmode": "overlay",
              "size": 10,
              "solidity": 0.2
             }
            },
            "type": "barpolar"
           }
          ],
          "carpet": [
           {
            "aaxis": {
             "endlinecolor": "#2a3f5f",
             "gridcolor": "white",
             "linecolor": "white",
             "minorgridcolor": "white",
             "startlinecolor": "#2a3f5f"
            },
            "baxis": {
             "endlinecolor": "#2a3f5f",
             "gridcolor": "white",
             "linecolor": "white",
             "minorgridcolor": "white",
             "startlinecolor": "#2a3f5f"
            },
            "type": "carpet"
           }
          ],
          "choropleth": [
           {
            "colorbar": {
             "outlinewidth": 0,
             "ticks": ""
            },
            "type": "choropleth"
           }
          ],
          "contour": [
           {
            "colorbar": {
             "outlinewidth": 0,
             "ticks": ""
            },
            "colorscale": [
             [
              0,
              "#0d0887"
             ],
             [
              0.1111111111111111,
              "#46039f"
             ],
             [
              0.2222222222222222,
              "#7201a8"
             ],
             [
              0.3333333333333333,
              "#9c179e"
             ],
             [
              0.4444444444444444,
              "#bd3786"
             ],
             [
              0.5555555555555556,
              "#d8576b"
             ],
             [
              0.6666666666666666,
              "#ed7953"
             ],
             [
              0.7777777777777778,
              "#fb9f3a"
             ],
             [
              0.8888888888888888,
              "#fdca26"
             ],
             [
              1,
              "#f0f921"
             ]
            ],
            "type": "contour"
           }
          ],
          "contourcarpet": [
           {
            "colorbar": {
             "outlinewidth": 0,
             "ticks": ""
            },
            "type": "contourcarpet"
           }
          ],
          "heatmap": [
           {
            "colorbar": {
             "outlinewidth": 0,
             "ticks": ""
            },
            "colorscale": [
             [
              0,
              "#0d0887"
             ],
             [
              0.1111111111111111,
              "#46039f"
             ],
             [
              0.2222222222222222,
              "#7201a8"
             ],
             [
              0.3333333333333333,
              "#9c179e"
             ],
             [
              0.4444444444444444,
              "#bd3786"
             ],
             [
              0.5555555555555556,
              "#d8576b"
             ],
             [
              0.6666666666666666,
              "#ed7953"
             ],
             [
              0.7777777777777778,
              "#fb9f3a"
             ],
             [
              0.8888888888888888,
              "#fdca26"
             ],
             [
              1,
              "#f0f921"
             ]
            ],
            "type": "heatmap"
           }
          ],
          "histogram": [
           {
            "marker": {
             "pattern": {
              "fillmode": "overlay",
              "size": 10,
              "solidity": 0.2
             }
            },
            "type": "histogram"
           }
          ],
          "histogram2d": [
           {
            "colorbar": {
             "outlinewidth": 0,
             "ticks": ""
            },
            "colorscale": [
             [
              0,
              "#0d0887"
             ],
             [
              0.1111111111111111,
              "#46039f"
             ],
             [
              0.2222222222222222,
              "#7201a8"
             ],
             [
              0.3333333333333333,
              "#9c179e"
             ],
             [
              0.4444444444444444,
              "#bd3786"
             ],
             [
              0.5555555555555556,
              "#d8576b"
             ],
             [
              0.6666666666666666,
              "#ed7953"
             ],
             [
              0.7777777777777778,
              "#fb9f3a"
             ],
             [
              0.8888888888888888,
              "#fdca26"
             ],
             [
              1,
              "#f0f921"
             ]
            ],
            "type": "histogram2d"
           }
          ],
          "histogram2dcontour": [
           {
            "colorbar": {
             "outlinewidth": 0,
             "ticks": ""
            },
            "colorscale": [
             [
              0,
              "#0d0887"
             ],
             [
              0.1111111111111111,
              "#46039f"
             ],
             [
              0.2222222222222222,
              "#7201a8"
             ],
             [
              0.3333333333333333,
              "#9c179e"
             ],
             [
              0.4444444444444444,
              "#bd3786"
             ],
             [
              0.5555555555555556,
              "#d8576b"
             ],
             [
              0.6666666666666666,
              "#ed7953"
             ],
             [
              0.7777777777777778,
              "#fb9f3a"
             ],
             [
              0.8888888888888888,
              "#fdca26"
             ],
             [
              1,
              "#f0f921"
             ]
            ],
            "type": "histogram2dcontour"
           }
          ],
          "mesh3d": [
           {
            "colorbar": {
             "outlinewidth": 0,
             "ticks": ""
            },
            "type": "mesh3d"
           }
          ],
          "parcoords": [
           {
            "line": {
             "colorbar": {
              "outlinewidth": 0,
              "ticks": ""
             }
            },
            "type": "parcoords"
           }
          ],
          "pie": [
           {
            "automargin": true,
            "type": "pie"
           }
          ],
          "scatter": [
           {
            "fillpattern": {
             "fillmode": "overlay",
             "size": 10,
             "solidity": 0.2
            },
            "type": "scatter"
           }
          ],
          "scatter3d": [
           {
            "line": {
             "colorbar": {
              "outlinewidth": 0,
              "ticks": ""
             }
            },
            "marker": {
             "colorbar": {
              "outlinewidth": 0,
              "ticks": ""
             }
            },
            "type": "scatter3d"
           }
          ],
          "scattercarpet": [
           {
            "marker": {
             "colorbar": {
              "outlinewidth": 0,
              "ticks": ""
             }
            },
            "type": "scattercarpet"
           }
          ],
          "scattergeo": [
           {
            "marker": {
             "colorbar": {
              "outlinewidth": 0,
              "ticks": ""
             }
            },
            "type": "scattergeo"
           }
          ],
          "scattergl": [
           {
            "marker": {
             "colorbar": {
              "outlinewidth": 0,
              "ticks": ""
             }
            },
            "type": "scattergl"
           }
          ],
          "scattermap": [
           {
            "marker": {
             "colorbar": {
              "outlinewidth": 0,
              "ticks": ""
             }
            },
            "type": "scattermap"
           }
          ],
          "scattermapbox": [
           {
            "marker": {
             "colorbar": {
              "outlinewidth": 0,
              "ticks": ""
             }
            },
            "type": "scattermapbox"
           }
          ],
          "scatterpolar": [
           {
            "marker": {
             "colorbar": {
              "outlinewidth": 0,
              "ticks": ""
             }
            },
            "type": "scatterpolar"
           }
          ],
          "scatterpolargl": [
           {
            "marker": {
             "colorbar": {
              "outlinewidth": 0,
              "ticks": ""
             }
            },
            "type": "scatterpolargl"
           }
          ],
          "scatterternary": [
           {
            "marker": {
             "colorbar": {
              "outlinewidth": 0,
              "ticks": ""
             }
            },
            "type": "scatterternary"
           }
          ],
          "surface": [
           {
            "colorbar": {
             "outlinewidth": 0,
             "ticks": ""
            },
            "colorscale": [
             [
              0,
              "#0d0887"
             ],
             [
              0.1111111111111111,
              "#46039f"
             ],
             [
              0.2222222222222222,
              "#7201a8"
             ],
             [
              0.3333333333333333,
              "#9c179e"
             ],
             [
              0.4444444444444444,
              "#bd3786"
             ],
             [
              0.5555555555555556,
              "#d8576b"
             ],
             [
              0.6666666666666666,
              "#ed7953"
             ],
             [
              0.7777777777777778,
              "#fb9f3a"
             ],
             [
              0.8888888888888888,
              "#fdca26"
             ],
             [
              1,
              "#f0f921"
             ]
            ],
            "type": "surface"
           }
          ],
          "table": [
           {
            "cells": {
             "fill": {
              "color": "#EBF0F8"
             },
             "line": {
              "color": "white"
             }
            },
            "header": {
             "fill": {
              "color": "#C8D4E3"
             },
             "line": {
              "color": "white"
             }
            },
            "type": "table"
           }
          ]
         },
         "layout": {
          "annotationdefaults": {
           "arrowcolor": "#2a3f5f",
           "arrowhead": 0,
           "arrowwidth": 1
          },
          "autotypenumbers": "strict",
          "coloraxis": {
           "colorbar": {
            "outlinewidth": 0,
            "ticks": ""
           }
          },
          "colorscale": {
           "diverging": [
            [
             0,
             "#8e0152"
            ],
            [
             0.1,
             "#c51b7d"
            ],
            [
             0.2,
             "#de77ae"
            ],
            [
             0.3,
             "#f1b6da"
            ],
            [
             0.4,
             "#fde0ef"
            ],
            [
             0.5,
             "#f7f7f7"
            ],
            [
             0.6,
             "#e6f5d0"
            ],
            [
             0.7,
             "#b8e186"
            ],
            [
             0.8,
             "#7fbc41"
            ],
            [
             0.9,
             "#4d9221"
            ],
            [
             1,
             "#276419"
            ]
           ],
           "sequential": [
            [
             0,
             "#0d0887"
            ],
            [
             0.1111111111111111,
             "#46039f"
            ],
            [
             0.2222222222222222,
             "#7201a8"
            ],
            [
             0.3333333333333333,
             "#9c179e"
            ],
            [
             0.4444444444444444,
             "#bd3786"
            ],
            [
             0.5555555555555556,
             "#d8576b"
            ],
            [
             0.6666666666666666,
             "#ed7953"
            ],
            [
             0.7777777777777778,
             "#fb9f3a"
            ],
            [
             0.8888888888888888,
             "#fdca26"
            ],
            [
             1,
             "#f0f921"
            ]
           ],
           "sequentialminus": [
            [
             0,
             "#0d0887"
            ],
            [
             0.1111111111111111,
             "#46039f"
            ],
            [
             0.2222222222222222,
             "#7201a8"
            ],
            [
             0.3333333333333333,
             "#9c179e"
            ],
            [
             0.4444444444444444,
             "#bd3786"
            ],
            [
             0.5555555555555556,
             "#d8576b"
            ],
            [
             0.6666666666666666,
             "#ed7953"
            ],
            [
             0.7777777777777778,
             "#fb9f3a"
            ],
            [
             0.8888888888888888,
             "#fdca26"
            ],
            [
             1,
             "#f0f921"
            ]
           ]
          },
          "colorway": [
           "#636efa",
           "#EF553B",
           "#00cc96",
           "#ab63fa",
           "#FFA15A",
           "#19d3f3",
           "#FF6692",
           "#B6E880",
           "#FF97FF",
           "#FECB52"
          ],
          "font": {
           "color": "#2a3f5f"
          },
          "geo": {
           "bgcolor": "white",
           "lakecolor": "white",
           "landcolor": "#E5ECF6",
           "showlakes": true,
           "showland": true,
           "subunitcolor": "white"
          },
          "hoverlabel": {
           "align": "left"
          },
          "hovermode": "closest",
          "mapbox": {
           "style": "light"
          },
          "paper_bgcolor": "white",
          "plot_bgcolor": "#E5ECF6",
          "polar": {
           "angularaxis": {
            "gridcolor": "white",
            "linecolor": "white",
            "ticks": ""
           },
           "bgcolor": "#E5ECF6",
           "radialaxis": {
            "gridcolor": "white",
            "linecolor": "white",
            "ticks": ""
           }
          },
          "scene": {
           "xaxis": {
            "backgroundcolor": "#E5ECF6",
            "gridcolor": "white",
            "gridwidth": 2,
            "linecolor": "white",
            "showbackground": true,
            "ticks": "",
            "zerolinecolor": "white"
           },
           "yaxis": {
            "backgroundcolor": "#E5ECF6",
            "gridcolor": "white",
            "gridwidth": 2,
            "linecolor": "white",
            "showbackground": true,
            "ticks": "",
            "zerolinecolor": "white"
           },
           "zaxis": {
            "backgroundcolor": "#E5ECF6",
            "gridcolor": "white",
            "gridwidth": 2,
            "linecolor": "white",
            "showbackground": true,
            "ticks": "",
            "zerolinecolor": "white"
           }
          },
          "shapedefaults": {
           "line": {
            "color": "#2a3f5f"
           }
          },
          "ternary": {
           "aaxis": {
            "gridcolor": "white",
            "linecolor": "white",
            "ticks": ""
           },
           "baxis": {
            "gridcolor": "white",
            "linecolor": "white",
            "ticks": ""
           },
           "bgcolor": "#E5ECF6",
           "caxis": {
            "gridcolor": "white",
            "linecolor": "white",
            "ticks": ""
           }
          },
          "title": {
           "x": 0.05
          },
          "xaxis": {
           "automargin": true,
           "gridcolor": "white",
           "linecolor": "white",
           "ticks": "",
           "title": {
            "standoff": 15
           },
           "zerolinecolor": "white",
           "zerolinewidth": 2
          },
          "yaxis": {
           "automargin": true,
           "gridcolor": "white",
           "linecolor": "white",
           "ticks": "",
           "title": {
            "standoff": 15
           },
           "zerolinecolor": "white",
           "zerolinewidth": 2
          }
         }
        },
        "title": {
         "text": "⚖️ Eficiencia: Rating vs Inversión Total"
        },
        "xaxis": {
         "anchor": "y",
         "domain": [
          0,
          1
         ],
         "title": {
          "text": "Inversión Total (M€)"
         }
        },
        "yaxis": {
         "anchor": "x",
         "domain": [
          0,
          1
         ],
         "title": {
          "text": "Rating Promedio"
         }
        }
       }
      },
      "text/html": [
       "<div>            <script src=\"https://cdnjs.cloudflare.com/ajax/libs/mathjax/2.7.5/MathJax.js?config=TeX-AMS-MML_SVG\"></script><script type=\"text/javascript\">if (window.MathJax && window.MathJax.Hub && window.MathJax.Hub.Config) {window.MathJax.Hub.Config({SVG: {font: \"STIX-Web\"}});}</script>                <script type=\"text/javascript\">window.PlotlyConfig = {MathJaxConfig: 'local'};</script>\n",
       "        <script charset=\"utf-8\" src=\"https://cdn.plot.ly/plotly-3.0.1.min.js\" integrity=\"sha256-oy6Be7Eh6eiQFs5M7oXuPxxm9qbJXEtTpfSI93dW16Q=\" crossorigin=\"anonymous\"></script>                <div id=\"1912b477-f3a0-4e51-8ea6-98a535e50364\" class=\"plotly-graph-div\" style=\"height:525px; width:100%;\"></div>            <script type=\"text/javascript\">                window.PLOTLYENV=window.PLOTLYENV || {};                                if (document.getElementById(\"1912b477-f3a0-4e51-8ea6-98a535e50364\")) {                    Plotly.newPlot(                        \"1912b477-f3a0-4e51-8ea6-98a535e50364\",                        [{\"hovertemplate\":\"\\u003cb\\u003e%{hovertext}\\u003c\\u002fb\\u003e\\u003cbr\\u003e\\u003cbr\\u003eInversión Total (M€)=%{x}\\u003cbr\\u003eRating Promedio=%{y}\\u003cbr\\u003eeficiencia=%{marker.size}\\u003cextra\\u003e\\u003c\\u002fextra\\u003e\",\"hovertext\":[\"Athletic Bilbao\",\"Atlético Madrid\",\"Barcelona\",\"Betis\",\"Espanyol\",\"Real Madrid\",\"Real Sociedad\",\"Sevilla\",\"Valencia\",\"Villarreal\"],\"legendgroup\":\"\",\"marker\":{\"color\":\"#636efa\",\"size\":{\"dtype\":\"f8\",\"bdata\":\"4XoUrkfBQEDNzMzMzAw5QArXo3A9ijVAmpmZmZlZQUAK16NwPSpBQPYoXI\\u002fCtTRACtejcD0KPUAK16NwPUo5QM3MzMzMjDxAmpmZmZnZPEA=\"},\"sizemode\":\"area\",\"sizeref\":0.08675000000000001,\"symbol\":\"circle\"},\"mode\":\"markers\",\"name\":\"\",\"orientation\":\"v\",\"showlegend\":false,\"x\":{\"dtype\":\"f8\",\"bdata\":\"zczMzMw8hkAAAAAAAISDQJqZmZmZOYBAmpmZmZlxe0BmZmZmZqZ3QJqZmZmZ0Y1AZmZmZmaWe0BmZmZmZj6IQAAAAAAAuIJAMzMzMzNXgEA=\"},\"xaxis\":\"x\",\"y\":{\"dtype\":\"f8\",\"bdata\":\"H4XrUbgOUkBcj8L1KLxUQIXrUbgeBVZAH4XrUbiOUkCF61G4HjVRQIXrUbgepVZAcT0K16MQUkCuR+F6FO5SQEjhehSuh1JA16NwPQqnUkA=\"},\"yaxis\":\"y\",\"type\":\"scatter\"}],                        {\"template\":{\"data\":{\"histogram2dcontour\":[{\"type\":\"histogram2dcontour\",\"colorbar\":{\"outlinewidth\":0,\"ticks\":\"\"},\"colorscale\":[[0.0,\"#0d0887\"],[0.1111111111111111,\"#46039f\"],[0.2222222222222222,\"#7201a8\"],[0.3333333333333333,\"#9c179e\"],[0.4444444444444444,\"#bd3786\"],[0.5555555555555556,\"#d8576b\"],[0.6666666666666666,\"#ed7953\"],[0.7777777777777778,\"#fb9f3a\"],[0.8888888888888888,\"#fdca26\"],[1.0,\"#f0f921\"]]}],\"choropleth\":[{\"type\":\"choropleth\",\"colorbar\":{\"outlinewidth\":0,\"ticks\":\"\"}}],\"histogram2d\":[{\"type\":\"histogram2d\",\"colorbar\":{\"outlinewidth\":0,\"ticks\":\"\"},\"colorscale\":[[0.0,\"#0d0887\"],[0.1111111111111111,\"#46039f\"],[0.2222222222222222,\"#7201a8\"],[0.3333333333333333,\"#9c179e\"],[0.4444444444444444,\"#bd3786\"],[0.5555555555555556,\"#d8576b\"],[0.6666666666666666,\"#ed7953\"],[0.7777777777777778,\"#fb9f3a\"],[0.8888888888888888,\"#fdca26\"],[1.0,\"#f0f921\"]]}],\"heatmap\":[{\"type\":\"heatmap\",\"colorbar\":{\"outlinewidth\":0,\"ticks\":\"\"},\"colorscale\":[[0.0,\"#0d0887\"],[0.1111111111111111,\"#46039f\"],[0.2222222222222222,\"#7201a8\"],[0.3333333333333333,\"#9c179e\"],[0.4444444444444444,\"#bd3786\"],[0.5555555555555556,\"#d8576b\"],[0.6666666666666666,\"#ed7953\"],[0.7777777777777778,\"#fb9f3a\"],[0.8888888888888888,\"#fdca26\"],[1.0,\"#f0f921\"]]}],\"contourcarpet\":[{\"type\":\"contourcarpet\",\"colorbar\":{\"outlinewidth\":0,\"ticks\":\"\"}}],\"contour\":[{\"type\":\"contour\",\"colorbar\":{\"outlinewidth\":0,\"ticks\":\"\"},\"colorscale\":[[0.0,\"#0d0887\"],[0.1111111111111111,\"#46039f\"],[0.2222222222222222,\"#7201a8\"],[0.3333333333333333,\"#9c179e\"],[0.4444444444444444,\"#bd3786\"],[0.5555555555555556,\"#d8576b\"],[0.6666666666666666,\"#ed7953\"],[0.7777777777777778,\"#fb9f3a\"],[0.8888888888888888,\"#fdca26\"],[1.0,\"#f0f921\"]]}],\"surface\":[{\"type\":\"surface\",\"colorbar\":{\"outlinewidth\":0,\"ticks\":\"\"},\"colorscale\":[[0.0,\"#0d0887\"],[0.1111111111111111,\"#46039f\"],[0.2222222222222222,\"#7201a8\"],[0.3333333333333333,\"#9c179e\"],[0.4444444444444444,\"#bd3786\"],[0.5555555555555556,\"#d8576b\"],[0.6666666666666666,\"#ed7953\"],[0.7777777777777778,\"#fb9f3a\"],[0.8888888888888888,\"#fdca26\"],[1.0,\"#f0f921\"]]}],\"mesh3d\":[{\"type\":\"mesh3d\",\"colorbar\":{\"outlinewidth\":0,\"ticks\":\"\"}}],\"scatter\":[{\"fillpattern\":{\"fillmode\":\"overlay\",\"size\":10,\"solidity\":0.2},\"type\":\"scatter\"}],\"parcoords\":[{\"type\":\"parcoords\",\"line\":{\"colorbar\":{\"outlinewidth\":0,\"ticks\":\"\"}}}],\"scatterpolargl\":[{\"type\":\"scatterpolargl\",\"marker\":{\"colorbar\":{\"outlinewidth\":0,\"ticks\":\"\"}}}],\"bar\":[{\"error_x\":{\"color\":\"#2a3f5f\"},\"error_y\":{\"color\":\"#2a3f5f\"},\"marker\":{\"line\":{\"color\":\"#E5ECF6\",\"width\":0.5},\"pattern\":{\"fillmode\":\"overlay\",\"size\":10,\"solidity\":0.2}},\"type\":\"bar\"}],\"scattergeo\":[{\"type\":\"scattergeo\",\"marker\":{\"colorbar\":{\"outlinewidth\":0,\"ticks\":\"\"}}}],\"scatterpolar\":[{\"type\":\"scatterpolar\",\"marker\":{\"colorbar\":{\"outlinewidth\":0,\"ticks\":\"\"}}}],\"histogram\":[{\"marker\":{\"pattern\":{\"fillmode\":\"overlay\",\"size\":10,\"solidity\":0.2}},\"type\":\"histogram\"}],\"scattergl\":[{\"type\":\"scattergl\",\"marker\":{\"colorbar\":{\"outlinewidth\":0,\"ticks\":\"\"}}}],\"scatter3d\":[{\"type\":\"scatter3d\",\"line\":{\"colorbar\":{\"outlinewidth\":0,\"ticks\":\"\"}},\"marker\":{\"colorbar\":{\"outlinewidth\":0,\"ticks\":\"\"}}}],\"scattermap\":[{\"type\":\"scattermap\",\"marker\":{\"colorbar\":{\"outlinewidth\":0,\"ticks\":\"\"}}}],\"scattermapbox\":[{\"type\":\"scattermapbox\",\"marker\":{\"colorbar\":{\"outlinewidth\":0,\"ticks\":\"\"}}}],\"scatterternary\":[{\"type\":\"scatterternary\",\"marker\":{\"colorbar\":{\"outlinewidth\":0,\"ticks\":\"\"}}}],\"scattercarpet\":[{\"type\":\"scattercarpet\",\"marker\":{\"colorbar\":{\"outlinewidth\":0,\"ticks\":\"\"}}}],\"carpet\":[{\"aaxis\":{\"endlinecolor\":\"#2a3f5f\",\"gridcolor\":\"white\",\"linecolor\":\"white\",\"minorgridcolor\":\"white\",\"startlinecolor\":\"#2a3f5f\"},\"baxis\":{\"endlinecolor\":\"#2a3f5f\",\"gridcolor\":\"white\",\"linecolor\":\"white\",\"minorgridcolor\":\"white\",\"startlinecolor\":\"#2a3f5f\"},\"type\":\"carpet\"}],\"table\":[{\"cells\":{\"fill\":{\"color\":\"#EBF0F8\"},\"line\":{\"color\":\"white\"}},\"header\":{\"fill\":{\"color\":\"#C8D4E3\"},\"line\":{\"color\":\"white\"}},\"type\":\"table\"}],\"barpolar\":[{\"marker\":{\"line\":{\"color\":\"#E5ECF6\",\"width\":0.5},\"pattern\":{\"fillmode\":\"overlay\",\"size\":10,\"solidity\":0.2}},\"type\":\"barpolar\"}],\"pie\":[{\"automargin\":true,\"type\":\"pie\"}]},\"layout\":{\"autotypenumbers\":\"strict\",\"colorway\":[\"#636efa\",\"#EF553B\",\"#00cc96\",\"#ab63fa\",\"#FFA15A\",\"#19d3f3\",\"#FF6692\",\"#B6E880\",\"#FF97FF\",\"#FECB52\"],\"font\":{\"color\":\"#2a3f5f\"},\"hovermode\":\"closest\",\"hoverlabel\":{\"align\":\"left\"},\"paper_bgcolor\":\"white\",\"plot_bgcolor\":\"#E5ECF6\",\"polar\":{\"bgcolor\":\"#E5ECF6\",\"angularaxis\":{\"gridcolor\":\"white\",\"linecolor\":\"white\",\"ticks\":\"\"},\"radialaxis\":{\"gridcolor\":\"white\",\"linecolor\":\"white\",\"ticks\":\"\"}},\"ternary\":{\"bgcolor\":\"#E5ECF6\",\"aaxis\":{\"gridcolor\":\"white\",\"linecolor\":\"white\",\"ticks\":\"\"},\"baxis\":{\"gridcolor\":\"white\",\"linecolor\":\"white\",\"ticks\":\"\"},\"caxis\":{\"gridcolor\":\"white\",\"linecolor\":\"white\",\"ticks\":\"\"}},\"coloraxis\":{\"colorbar\":{\"outlinewidth\":0,\"ticks\":\"\"}},\"colorscale\":{\"sequential\":[[0.0,\"#0d0887\"],[0.1111111111111111,\"#46039f\"],[0.2222222222222222,\"#7201a8\"],[0.3333333333333333,\"#9c179e\"],[0.4444444444444444,\"#bd3786\"],[0.5555555555555556,\"#d8576b\"],[0.6666666666666666,\"#ed7953\"],[0.7777777777777778,\"#fb9f3a\"],[0.8888888888888888,\"#fdca26\"],[1.0,\"#f0f921\"]],\"sequentialminus\":[[0.0,\"#0d0887\"],[0.1111111111111111,\"#46039f\"],[0.2222222222222222,\"#7201a8\"],[0.3333333333333333,\"#9c179e\"],[0.4444444444444444,\"#bd3786\"],[0.5555555555555556,\"#d8576b\"],[0.6666666666666666,\"#ed7953\"],[0.7777777777777778,\"#fb9f3a\"],[0.8888888888888888,\"#fdca26\"],[1.0,\"#f0f921\"]],\"diverging\":[[0,\"#8e0152\"],[0.1,\"#c51b7d\"],[0.2,\"#de77ae\"],[0.3,\"#f1b6da\"],[0.4,\"#fde0ef\"],[0.5,\"#f7f7f7\"],[0.6,\"#e6f5d0\"],[0.7,\"#b8e186\"],[0.8,\"#7fbc41\"],[0.9,\"#4d9221\"],[1,\"#276419\"]]},\"xaxis\":{\"gridcolor\":\"white\",\"linecolor\":\"white\",\"ticks\":\"\",\"title\":{\"standoff\":15},\"zerolinecolor\":\"white\",\"automargin\":true,\"zerolinewidth\":2},\"yaxis\":{\"gridcolor\":\"white\",\"linecolor\":\"white\",\"ticks\":\"\",\"title\":{\"standoff\":15},\"zerolinecolor\":\"white\",\"automargin\":true,\"zerolinewidth\":2},\"scene\":{\"xaxis\":{\"backgroundcolor\":\"#E5ECF6\",\"gridcolor\":\"white\",\"linecolor\":\"white\",\"showbackground\":true,\"ticks\":\"\",\"zerolinecolor\":\"white\",\"gridwidth\":2},\"yaxis\":{\"backgroundcolor\":\"#E5ECF6\",\"gridcolor\":\"white\",\"linecolor\":\"white\",\"showbackground\":true,\"ticks\":\"\",\"zerolinecolor\":\"white\",\"gridwidth\":2},\"zaxis\":{\"backgroundcolor\":\"#E5ECF6\",\"gridcolor\":\"white\",\"linecolor\":\"white\",\"showbackground\":true,\"ticks\":\"\",\"zerolinecolor\":\"white\",\"gridwidth\":2}},\"shapedefaults\":{\"line\":{\"color\":\"#2a3f5f\"}},\"annotationdefaults\":{\"arrowcolor\":\"#2a3f5f\",\"arrowhead\":0,\"arrowwidth\":1},\"geo\":{\"bgcolor\":\"white\",\"landcolor\":\"#E5ECF6\",\"subunitcolor\":\"white\",\"showland\":true,\"showlakes\":true,\"lakecolor\":\"white\"},\"title\":{\"x\":0.05},\"mapbox\":{\"style\":\"light\"}}},\"xaxis\":{\"anchor\":\"y\",\"domain\":[0.0,1.0],\"title\":{\"text\":\"Inversión Total (M€)\"}},\"yaxis\":{\"anchor\":\"x\",\"domain\":[0.0,1.0],\"title\":{\"text\":\"Rating Promedio\"}},\"legend\":{\"tracegroupgap\":0,\"itemsizing\":\"constant\"},\"title\":{\"text\":\"⚖️ Eficiencia: Rating vs Inversión Total\"}},                        {\"responsive\": true}                    ).then(function(){\n",
       "                            \n",
       "var gd = document.getElementById('1912b477-f3a0-4e51-8ea6-98a535e50364');\n",
       "var x = new MutationObserver(function (mutations, observer) {{\n",
       "        var display = window.getComputedStyle(gd).display;\n",
       "        if (!display || display === 'none') {{\n",
       "            console.log([gd, 'removed!']);\n",
       "            Plotly.purge(gd);\n",
       "            observer.disconnect();\n",
       "        }}\n",
       "}});\n",
       "\n",
       "// Listen for the removal of the full notebook cells\n",
       "var notebookContainer = gd.closest('#notebook-container');\n",
       "if (notebookContainer) {{\n",
       "    x.observe(notebookContainer, {childList: true});\n",
       "}}\n",
       "\n",
       "// Listen for the clearing of the current output cell\n",
       "var outputEl = gd.closest('.output');\n",
       "if (outputEl) {{\n",
       "    x.observe(outputEl, {childList: true});\n",
       "}}\n",
       "\n",
       "                        })                };            </script>        </div>"
      ]
     },
     "metadata": {},
     "output_type": "display_data"
    },
    {
     "name": "stdout",
     "output_type": "stream",
     "text": [
      "\n",
      "🔍 HALLAZGO 4: EL MITO DE LA NACIONALIDAD\n",
      "--------------------------------------------------\n",
      "Valor promedio por nacionalidad (países con 5+ jugadores):\n",
      "  México: 33.6 M€ promedio (n=6)\n",
      "  Brasil: 33.0 M€ promedio (n=35)\n",
      "  Italia: 31.2 M€ promedio (n=7)\n",
      "  España: 30.7 M€ promedio (n=66)\n",
      "  Argentina: 29.7 M€ promedio (n=22)\n",
      "\n",
      "💡 INSIGHTS CLAVE:\n",
      "--------------------------------------------------\n",
      "1. 🎯 EDAD ÓPTIMA: Los jugadores entre 24-28 años tienen el mayor valor\n",
      "2. ⚽ POSICIÓN IMPORTA: Los delanteros y mediocampistas dominan el mercado\n",
      "3. 📊 EFICIENCIA VARIABLE: No siempre más caro significa mejor rendimiento\n",
      "4. 🌍 DIVERSIDAD GLOBAL: El talento no conoce fronteras\n",
      "\n",
      "🎯 RECOMENDACIONES:\n",
      "--------------------------------------------------\n",
      "• PARA SCOUTS: Buscar talentos jóvenes antes de los 24 años\n",
      "• PARA DIRECTIVOS: Evaluar eficiencia, no solo valor absoluto\n",
      "• PARA ENTRENADORES: El rating promedio es mejor predictor que el precio\n",
      "• PARA INVERSORES: Los mercados emergentes ofrecen mejor relación calidad-precio\n",
      "\n",
      "✅ Análisis narrativo completado\n"
     ]
    }
   ],
   "source": [
    "# 6.2 Storytelling: \"Análisis del Mercado de Fichajes\"\n",
    "\n",
    "print(\"📖 STORYTELLING: ANÁLISIS DEL MERCADO DE FICHAJES\")\n",
    "print(\"=\" * 70)\n",
    "\n",
    "print(\"\"\"\n",
    "🎬 NARRATIVA: \"La Revolución del Mercado de Fichajes\"\n",
    "\n",
    "CONTEXTO:\n",
    "El fútbol moderno ha experimentado una inflación sin precedentes en los valores \n",
    "de mercado. Los equipos invierten cientos de millones buscando el éxito deportivo.\n",
    "\n",
    "PREGUNTA CLAVE:\n",
    "¿Qué factores realmente determinan el valor de un jugador?\n",
    "¿Están los equipos invirtiendo de manera inteligente?\n",
    "\n",
    "HALLAZGOS PRINCIPALES:\n",
    "\"\"\")\n",
    "\n",
    "# Análisis 1: Relación valor-rendimiento\n",
    "print(\"\\n🔍 HALLAZGO 1: LA EDAD DORADA\")\n",
    "print(\"-\" * 50)\n",
    "\n",
    "# Análisis por grupos de edad\n",
    "df_jugadores['grupo_edad'] = pd.cut(df_jugadores['edad'], \n",
    "                                  bins=[17, 23, 28, 35], \n",
    "                                  labels=['Jóvenes (18-23)', 'Prime (24-28)', 'Veteranos (29+)'])\n",
    "\n",
    "valor_por_edad = df_jugadores.groupby('grupo_edad').agg({\n",
    "    'valor_mercado': ['mean', 'count'],\n",
    "    'rating_promedio': 'mean'\n",
    "}).round(2)\n",
    "\n",
    "print(\"Análisis de valor por grupo de edad:\")\n",
    "for grupo in valor_por_edad.index:\n",
    "    media_valor = valor_por_edad.loc[grupo, ('valor_mercado', 'mean')]\n",
    "    cantidad = valor_por_edad.loc[grupo, ('valor_mercado', 'count')]\n",
    "    rating = valor_por_edad.loc[grupo, ('rating_promedio', 'mean')]\n",
    "    print(f\"  {grupo}: {media_valor:.1f} M€ promedio (n={cantidad}, rating={rating:.1f})\")\n",
    "\n",
    "# Visualización del hallazgo\n",
    "fig_edad = px.box(df_jugadores, x='grupo_edad', y='valor_mercado', \n",
    "                  title='💎 El \"Prime\" de 24-28 años domina el mercado',\n",
    "                  labels={'grupo_edad': 'Grupo de Edad', 'valor_mercado': 'Valor (M€)'})\n",
    "fig_edad.show()\n",
    "\n",
    "print(\"\\n🔍 HALLAZGO 2: EL FACTOR POSICIÓN\")\n",
    "print(\"-\" * 50)\n",
    "\n",
    "valor_por_posicion = df_jugadores.groupby('posicion').agg({\n",
    "    'valor_mercado': ['mean', 'std'],\n",
    "    'rating_promedio': 'mean'\n",
    "}).round(2)\n",
    "\n",
    "print(\"Valor promedio por posición:\")\n",
    "for pos in valor_por_posicion.index:\n",
    "    media = valor_por_posicion.loc[pos, ('valor_mercado', 'mean')]\n",
    "    std = valor_por_posicion.loc[pos, ('valor_mercado', 'std')]\n",
    "    rating = valor_por_posicion.loc[pos, ('rating_promedio', 'mean')]\n",
    "    print(f\"  {pos}: {media:.1f} ± {std:.1f} M€ (rating={rating:.1f})\")\n",
    "\n",
    "print(\"\\n🔍 HALLAZGO 3: LA BRECHA DE EFICIENCIA\")\n",
    "print(\"-\" * 50)\n",
    "\n",
    "# Calcular eficiencia: rendimiento vs valor\n",
    "df_jugadores['eficiencia'] = (df_jugadores['rating_promedio'] / df_jugadores['valor_mercado']) * 10\n",
    "\n",
    "eficiencia_equipos = df_jugadores.groupby('equipo').agg({\n",
    "    'eficiencia': 'mean',\n",
    "    'valor_mercado': 'sum',\n",
    "    'rating_promedio': 'mean'\n",
    "}).round(2)\n",
    "\n",
    "print(\"Eficiencia por equipo (Rating/Valor):\")\n",
    "eficiencia_ordenada = eficiencia_equipos.sort_values('eficiencia', ascending=False)\n",
    "for i, (equipo, row) in enumerate(eficiencia_ordenada.head().iterrows(), 1):\n",
    "    print(f\"  {i}. {equipo}: {row['eficiencia']:.2f} (valor total: {row['valor_mercado']:.1f} M€)\")\n",
    "\n",
    "# Visualización de eficiencia\n",
    "fig_eficiencia = px.scatter(eficiencia_equipos.reset_index(), \n",
    "                           x='valor_mercado', y='rating_promedio',\n",
    "                           size='eficiencia', hover_name='equipo',\n",
    "                           title='⚖️ Eficiencia: Rating vs Inversión Total',\n",
    "                           labels={'valor_mercado': 'Inversión Total (M€)', \n",
    "                                  'rating_promedio': 'Rating Promedio'})\n",
    "fig_eficiencia.show()\n",
    "\n",
    "print(\"\\n🔍 HALLAZGO 4: EL MITO DE LA NACIONALIDAD\")\n",
    "print(\"-\" * 50)\n",
    "\n",
    "valor_por_pais = df_jugadores.groupby('pais').agg({\n",
    "    'valor_mercado': ['mean', 'count']\n",
    "}).round(2)\n",
    "\n",
    "# Solo países con más de 5 jugadores\n",
    "paises_relevantes = valor_por_pais[valor_por_pais[('valor_mercado', 'count')] >= 5]\n",
    "paises_ordenados = paises_relevantes.sort_values(('valor_mercado', 'mean'), ascending=False)\n",
    "\n",
    "print(\"Valor promedio por nacionalidad (países con 5+ jugadores):\")\n",
    "for pais in paises_ordenados.head().index:\n",
    "    media = paises_ordenados.loc[pais, ('valor_mercado', 'mean')]\n",
    "    cantidad = paises_ordenados.loc[pais, ('valor_mercado', 'count')]\n",
    "    print(f\"  {pais}: {media:.1f} M€ promedio (n={cantidad})\")\n",
    "\n",
    "print(\"\\n💡 INSIGHTS CLAVE:\")\n",
    "print(\"-\" * 50)\n",
    "print(\"1. 🎯 EDAD ÓPTIMA: Los jugadores entre 24-28 años tienen el mayor valor\")\n",
    "print(\"2. ⚽ POSICIÓN IMPORTA: Los delanteros y mediocampistas dominan el mercado\")\n",
    "print(\"3. 📊 EFICIENCIA VARIABLE: No siempre más caro significa mejor rendimiento\")\n",
    "print(\"4. 🌍 DIVERSIDAD GLOBAL: El talento no conoce fronteras\")\n",
    "\n",
    "print(\"\\n🎯 RECOMENDACIONES:\")\n",
    "print(\"-\" * 50)\n",
    "print(\"• PARA SCOUTS: Buscar talentos jóvenes antes de los 24 años\")\n",
    "print(\"• PARA DIRECTIVOS: Evaluar eficiencia, no solo valor absoluto\")\n",
    "print(\"• PARA ENTRENADORES: El rating promedio es mejor predictor que el precio\")\n",
    "print(\"• PARA INVERSORES: Los mercados emergentes ofrecen mejor relación calidad-precio\")\n",
    "\n",
    "print(\"\\n✅ Análisis narrativo completado\")"
   ]
  },
  {
   "cell_type": "markdown",
   "id": "6b84df0d",
   "metadata": {},
   "source": [
    "## 🎯 Conclusiones y Resumen de la Semana 5\n",
    "\n",
    "### Objetivos Alcanzados\n",
    "\n",
    "En esta semana hemos dominado los fundamentos de la **visualización avanzada** y **presentación profesional** de datos en el contexto del fútbol. Los principales logros incluyen:\n",
    "\n",
    "#### 1. **Visualización Interactiva**\n",
    "- ✅ Creación de gráficos interactivos con Plotly\n",
    "- ✅ Implementación de mapas geográficos para análisis global\n",
    "- ✅ Desarrollo de visualizaciones temporales para tendencias\n",
    "- ✅ Uso de matrices de correlación y heatmaps\n",
    "\n",
    "#### 2. **Dashboard Ejecutivo**\n",
    "- ✅ Diseño de paneles de control con KPIs clave\n",
    "- ✅ Identificación automática de mejores jugadores\n",
    "- ✅ Visualización de métricas financieras y deportivas\n",
    "- ✅ Presentación clara de insights de negocio\n",
    "\n",
    "#### 3. **Storytelling con Datos**\n",
    "- ✅ Construcción de narrativas convincentes\n",
    "- ✅ Análisis de mercado de fichajes con insights accionables\n",
    "- ✅ Identificación de patrones y tendencias ocultas\n",
    "- ✅ Formulación de recomendaciones estratégicas\n",
    "\n",
    "### Conceptos Clave Aprendidos\n",
    "\n",
    "1. **Principios de Visualización Efectiva**\n",
    "   - Claridad sobre complejidad\n",
    "   - Elección del tipo de gráfico correcto\n",
    "   - Uso apropiado de colores y escalas\n",
    "\n",
    "2. **Herramientas Avanzadas**\n",
    "   - Plotly para interactividad\n",
    "   - Seaborn para análisis estadístico\n",
    "   - Pandas para manipulación de datos\n",
    "   - Matplotlib para personalización\n",
    "\n",
    "3. **Análisis de Negocio**\n",
    "   - Eficiencia en inversiones deportivas\n",
    "   - Identificación de oportunidades de mercado\n",
    "   - Evaluación de rendimiento vs. costo\n",
    "\n",
    "### Aplicaciones Prácticas\n",
    "\n",
    "Los conocimientos adquiridos en esta semana son directamente aplicables a:\n",
    "\n",
    "- **Análisis de scouting**: Identificación de talentos subestimados\n",
    "- **Gestión financiera**: Optimización de presupuestos de fichajes\n",
    "- **Estrategia deportiva**: Evaluación de rendimiento de plantillas\n",
    "- **Comunicación ejecutiva**: Presentación de datos a stakeholders\n",
    "\n",
    "### Preparación para el Bloque 2\n",
    "\n",
    "Con una base sólida en visualización y presentación, estamos listos para avanzar al **Bloque 2: Modelado Predictivo**, donde aplicaremos:\n",
    "\n",
    "- Machine Learning para predicción de rendimiento\n",
    "- Modelos de regresión avanzada\n",
    "- Algoritmos de clasificación\n",
    "- Optimización de hiperparámetros\n",
    "\n",
    "### Recursos Adicionales\n",
    "\n",
    "Para profundizar en visualización avanzada:\n",
    "- [Plotly Documentation](https://plotly.com/python/)\n",
    "- [Seaborn Gallery](https://seaborn.pydata.org/examples/)\n",
    "- [Storytelling with Data](https://www.storytellingwithdata.com/)\n",
    "\n",
    "---\n",
    "\n",
    "**¡Felicitaciones!** Has completado exitosamente la Semana 5 del Bloque 1. Los fundamentos de visualización y presentación que has dominado serán la base para crear insights impactantes en proyectos futuros de ciencia de datos aplicada al fútbol."
   ]
  },
  {
   "cell_type": "markdown",
   "id": "0c26330a",
   "metadata": {},
   "source": [
    "---\n",
    "\n",
    "## 🏆 Ejercicio Práctico Final\n",
    "\n",
    "### Desafío: Crear tu Propio Dashboard de Análisis\n",
    "\n",
    "**Objetivo**: Aplicar todos los conceptos aprendidos para crear un dashboard personalizado.\n",
    "\n",
    "### Instrucciones:\n",
    "\n",
    "1. **Genera un nuevo dataset** con las siguientes características:\n",
    "   - 100 jugadores de 5 ligas diferentes\n",
    "   - Incluye variables económicas (salario, bonos, cláusula)\n",
    "   - Añade métricas de rendimiento (partidos, goles, asistencias, tarjetas)\n",
    "   - Incorpora datos temporales (2 temporadas)\n",
    "\n",
    "2. **Crea 4 visualizaciones diferentes**:\n",
    "   - Un gráfico de dispersión que muestre relación valor-rendimiento\n",
    "   - Un mapa que muestre distribución geográfica del talento\n",
    "   - Una serie temporal que muestre evolución del mercado\n",
    "   - Un dashboard ejecutivo con 3 KPIs principales\n",
    "\n",
    "3. **Desarrolla una narrativa** que responda:\n",
    "   - ¿Qué liga tiene mejor relación calidad-precio?\n",
    "   - ¿Cuál es el perfil del jugador más eficiente?\n",
    "   - ¿Qué tendencias se observan en el mercado?\n",
    "\n",
    "### Criterios de Evaluación:\n",
    "- ✅ **Técnico**: Código limpio y funcional\n",
    "- ✅ **Visual**: Gráficos claros y atractivos\n",
    "- ✅ **Analítico**: Insights relevantes y accionables\n",
    "- ✅ **Comunicativo**: Narrativa convincente y bien estructurada\n",
    "\n",
    "### Tiempo Estimado: 2-3 horas\n",
    "\n",
    "**¡Demuestra tu dominio en visualización avanzada!**"
   ]
  },
  {
   "cell_type": "code",
   "execution_count": 7,
   "id": "f2ea961a",
   "metadata": {},
   "outputs": [
    {
     "name": "stdout",
     "output_type": "stream",
     "text": [
      "🏆 INICIANDO EJERCICIO PRÁCTICO\n",
      "Completa las funciones anteriores para crear tu dashboard personalizado\n",
      "¡Demuestra tu dominio en visualización avanzada!\n"
     ]
    }
   ],
   "source": [
    "# 🚀 PLANTILLA PARA EJERCICIO PRÁCTICO\n",
    "# Completa este código para crear tu dashboard personalizado\n",
    "\n",
    "# Paso 1: Generar dataset personalizado (completa la función)\n",
    "def generar_dataset_personalizado(n_jugadores=100, n_ligas=5):\n",
    "    \"\"\"\n",
    "    Genera un dataset personalizado para el ejercicio final\n",
    "    \"\"\"\n",
    "    # TODO: Implementar generación de datos\n",
    "    # Incluir: nombre, liga, posición, edad, valor_mercado, salario, \n",
    "    # rendimiento_2023, rendimiento_2024, nacionalidad, etc.\n",
    "    \n",
    "    jugadores_data = []\n",
    "    \n",
    "    # Tu código aquí...\n",
    "    \n",
    "    return pd.DataFrame(jugadores_data)\n",
    "\n",
    "# Paso 2: Crear visualizaciones (completa las funciones)\n",
    "def crear_grafico_valor_rendimiento(df):\n",
    "    \"\"\"Gráfico de dispersión valor vs rendimiento\"\"\"\n",
    "    # TODO: Crear gráfico interactivo con Plotly\n",
    "    pass\n",
    "\n",
    "def crear_mapa_geografico(df):\n",
    "    \"\"\"Mapa mundial del talento\"\"\"\n",
    "    # TODO: Crear mapa con distribución geográfica\n",
    "    pass\n",
    "\n",
    "def crear_serie_temporal(df):\n",
    "    \"\"\"Evolución temporal del mercado\"\"\"\n",
    "    # TODO: Crear serie temporal con tendencias\n",
    "    pass\n",
    "\n",
    "def crear_dashboard_ejecutivo(df):\n",
    "    \"\"\"Dashboard con KPIs principales\"\"\"\n",
    "    # TODO: Crear dashboard con subplots\n",
    "    pass\n",
    "\n",
    "# Paso 3: Desarrollar narrativa\n",
    "def analizar_narrativa(df):\n",
    "    \"\"\"\n",
    "    Desarrolla insights y conclusiones del análisis\n",
    "    \"\"\"\n",
    "    print(\"🎬 TU ANÁLISIS NARRATIVO\")\n",
    "    print(\"=\" * 50)\n",
    "    \n",
    "    # TODO: Incluir análisis de:\n",
    "    # - Mejor liga calidad-precio\n",
    "    # - Perfil jugador más eficiente\n",
    "    # - Tendencias del mercado\n",
    "    \n",
    "    pass\n",
    "\n",
    "# Ejecutar ejercicio\n",
    "print(\"🏆 INICIANDO EJERCICIO PRÁCTICO\")\n",
    "print(\"Completa las funciones anteriores para crear tu dashboard personalizado\")\n",
    "print(\"¡Demuestra tu dominio en visualización avanzada!\")\n",
    "\n",
    "# Descomenta estas líneas cuando hayas completado las funciones:\n",
    "# df_ejercicio = generar_dataset_personalizado()\n",
    "# crear_grafico_valor_rendimiento(df_ejercicio)\n",
    "# crear_mapa_geografico(df_ejercicio)\n",
    "# crear_serie_temporal(df_ejercicio)\n",
    "# crear_dashboard_ejecutivo(df_ejercicio)\n",
    "# analizar_narrativa(df_ejercicio)"
   ]
  }
 ],
 "metadata": {
  "kernelspec": {
   "display_name": ".venv (3.10.12)",
   "language": "python",
   "name": "python3"
  },
  "language_info": {
   "codemirror_mode": {
    "name": "ipython",
    "version": 3
   },
   "file_extension": ".py",
   "mimetype": "text/x-python",
   "name": "python",
   "nbconvert_exporter": "python",
   "pygments_lexer": "ipython3",
   "version": "3.10.12"
  }
 },
 "nbformat": 4,
 "nbformat_minor": 5
}
