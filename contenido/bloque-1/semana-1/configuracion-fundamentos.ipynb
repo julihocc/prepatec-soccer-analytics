{
 "cells": [
  {
   "cell_type": "markdown",
   "id": "09afa1d2",
   "metadata": {},
   "source": [
    "# Semana 1: Configuración del Entorno y Fundamentos\n",
    "\n",
    "## Prerrequisitos de Programación con Python\n",
    "\n",
    "---\n",
    "\n",
    "**Objetivos de aprendizaje:**\n",
    "- Configurar un entorno de desarrollo Python funcional\n",
    "- Comprender qué es Python y por qué es útil para el análisis de datos\n",
    "- Instalar Python, pip y Jupyter Notebook\n",
    "- Dar los primeros pasos con variables, tipos de datos y operadores\n",
    "\n",
    "---"
   ]
  },
  {
   "cell_type": "markdown",
   "id": "d76a65d3",
   "metadata": {},
   "source": [
    "## 1. Descubriendo Python: Un Viaje de Preguntas\n",
    "\n",
    "### ¿Qué sabes sobre programación?\n",
    "\n",
    "Antes de sumergirnos en Python, reflexionemos sobre algunas preguntas fundamentales:\n",
    "\n",
    "**Pregunta de reflexión**: ¿Alguna vez te has preguntado cómo funcionan las aplicaciones que usas diariamente en tu teléfono o computadora?\n",
    "\n",
    "### Exploremos juntos: ¿Qué es Python realmente?\n",
    "\n",
    "Imagina que tienes un conjunto de datos sobre tu equipo de fútbol favorito. ¿Cómo podrías analizar qué jugador es más efectivo? ¿O predecir el resultado de un partido?\n",
    "\n",
    "**Python** es como un traductor que nos permite comunicarnos con la computadora para resolver estos problemas.\n",
    "\n",
    "### ¿Por qué crees que Python es popular para analizar datos?\n",
    "\n",
    "Piensa en estas características y pregúntate: ¿cuál crees que es más importante?\n",
    "\n",
    "1. **Sintaxis Clara**: ¿Es importante que el código sea fácil de leer?\n",
    "2. **Librerías Especializadas**: ¿Qué ventaja tiene tener herramientas ya creadas?\n",
    "3. **Comunidad Activa**: ¿Por qué es valioso tener ayuda disponible?\n",
    "4. **Versatilidad**: ¿Es útil poder hacer muchas cosas con una sola herramienta?\n",
    "\n",
    "### Reflexión práctica: El ecosistema de herramientas\n",
    "\n",
    "**Pregunta guía**: Si tuvieras que construir una casa, ¿usarías solo un martillo o preferirías tener una caja de herramientas completa?\n",
    "\n",
    "Del mismo modo, Python nos ofrece un \"kit de herramientas\" para ciencia de datos:\n",
    "\n",
    "- **Python**: ¿La base de todo - pero qué hace especial a este lenguaje?\n",
    "- **pip**: ¿Por qué necesitamos un \"instalador\" de herramientas?\n",
    "- **Jupyter Notebook**: ¿Qué ventajas tiene combinar código con explicaciones?\n",
    "- **pandas**: ¿Cómo crees que nos ayuda a manejar tablas de datos?\n",
    "- **numpy**: ¿Para qué servirán los cálculos numéricos en el deporte?\n",
    "\n",
    "### Conectando con el deporte: ¿Qué preguntas podríamos responder?\n",
    "\n",
    "**Ejercicio de pensamiento**: Si fueras entrenador de un equipo de fútbol, ¿qué datos te gustaría analizar?\n",
    "\n",
    "Con Python podemos:\n",
    "- ¿Cómo identificar patrones en el rendimiento de jugadores?\n",
    "- ¿Es posible predecir qué equipo tiene más probabilidades de ganar?\n",
    "- ¿Qué factores influyen más en el resultado de un partido?\n",
    "- ¿Cómo optimizar la formación del equipo?\n",
    "\n",
    "**Pregunta de cierre**: ¿Te parece que estos análisis podrían darte una ventaja competitiva como analista deportivo?"
   ]
  },
  {
   "cell_type": "markdown",
   "id": "c4825cf5",
   "metadata": {},
   "source": [
    "## 2. Construyendo nuestro laboratorio: ¿Cómo preparamos las herramientas?\n",
    "\n",
    "### Reflexión inicial: ¿Qué necesita un analista deportivo?\n",
    "\n",
    "**Pregunta orientadora**: Si fueras a crear un laboratorio para analizar datos de fútbol, ¿qué herramientas considerarías esenciales?\n",
    "\n",
    "### Explorando opciones: ¿Cuál es la mejor forma de empezar?\n",
    "\n",
    "Tenemos dos caminos principales. ¿Cuál crees que es mejor para un principiante y por qué?\n",
    "\n",
    "### Opción 1: Anaconda - ¿La solución todo-en-uno?\n",
    "\n",
    "**Pregunta de análisis**: ¿Qué ventajas crees que tiene tener todas las herramientas pre-instaladas?\n",
    "\n",
    "Anaconda es como comprar un kit completo de análisis deportivo:\n",
    "\n",
    "1. **Descargar Anaconda**: ¿Por qué crees que es recomendado para principiantes?\n",
    "   - Visita https://www.anaconda.com/download\n",
    "2. **Instalar**: ¿Qué esperas que incluya esta instalación?\n",
    "3. **Verificar**: ¿Cómo podríamos confirmar que todo funciona correctamente?\n",
    "\n",
    "### Opción 2: Instalación Manual - ¿Más control, más responsabilidad?\n",
    "\n",
    "**Pregunta reflexiva**: ¿En qué situaciones preferirías tener control total sobre qué herramientas instalas?\n",
    "\n",
    "El enfoque paso a paso:\n",
    "\n",
    "1. **Instalar Python**: ¿Qué es lo primero que necesitamos?\n",
    "   - Visita https://www.python.org/downloads/\n",
    "2. **Verificar pip**: ¿Para qué sirve esta herramienta?\n",
    "3. **Instalar Jupyter**: ¿Por qué `pip install jupyter` nos da nuestro entorno de trabajo?\n",
    "4. **Instalar librerías**: ¿Qué hace `pip install pandas numpy matplotlib`?\n",
    "\n",
    "### Momento de verificación: ¿Cómo sabemos que estamos listos?\n",
    "\n",
    "**Pregunta práctica**: ¿Cómo verificarías que un auto está listo para un viaje largo?\n",
    "\n",
    "Del mismo modo, necesitamos verificar nuestro entorno de programación:"
   ]
  },
  {
   "cell_type": "code",
   "execution_count": 1,
   "id": "a1fbc3f9",
   "metadata": {},
   "outputs": [
    {
     "name": "stdout",
     "output_type": "stream",
     "text": [
      "Versión de Python: 3.10.12 (main, May 27 2025, 17:12:29) [GCC 11.4.0]\n",
      "Todas las librerías están instaladas correctamente\n",
      "pandas: 2.3.1\n",
      "numpy: 2.2.6\n"
     ]
    }
   ],
   "source": [
    "# Verificar versión de Python\n",
    "import sys\n",
    "print(f\"Versión de Python: {sys.version}\")\n",
    "\n",
    "# Verificar librerías principales\n",
    "try:\n",
    "    import pandas as pd\n",
    "    import numpy as np\n",
    "    import matplotlib.pyplot as plt\n",
    "    print(\"Todas las librerías están instaladas correctamente\")\n",
    "    print(f\"pandas: {pd.__version__}\")\n",
    "    print(f\"numpy: {np.__version__}\")\n",
    "except ImportError as e:\n",
    "    print(f\"Error al importar: {e}\")\n",
    "    print(\"Instala las librerías con: pip install pandas numpy matplotlib\")"
   ]
  },
  {
   "cell_type": "markdown",
   "id": "c28537c9",
   "metadata": {},
   "source": [
    "### Descubriendo Jupyter Notebook: ¿Tu nuevo laboratorio digital?\n",
    "\n",
    "**Pregunta inicial**: ¿Alguna vez has visto a un científico trabajando en un laboratorio? ¿Qué herramientas usa y cómo documenta sus experimentos?\n",
    "\n",
    "Jupyter Notebook es nuestro laboratorio digital. Pero, ¿qué lo hace especial?\n",
    "\n",
    "#### ¿Qué hace único a Jupyter Notebook?\n",
    "\n",
    "**Pregunta de reflexión**: ¿Qué pasaría si pudieras escribir código, ver los resultados inmediatamente, y documentar tus descubrimientos todo en el mismo lugar?\n",
    "\n",
    "Jupyter permite:\n",
    "\n",
    "- **¿Combinar código y explicaciones?**: ¿Por qué es valioso poder explicar tu análisis mientras lo haces?\n",
    "- **¿Ejecutar código por partes?**: ¿Qué ventaja tiene poder probar pequeñas secciones de código?\n",
    "- **¿Visualizar resultados instantáneamente?**: ¿Cómo ayuda esto en el análisis de datos deportivos?\n",
    "- **¿Compartir análisis fácilmente?**: ¿Por qué es importante poder mostrar tu trabajo a otros?\n",
    "\n",
    "#### Explorando los tipos de celdas: ¿Qué herramientas tenemos?\n",
    "\n",
    "**Pregunta analítica**: Si fueras a documentar el análisis de un partido de fútbol, ¿qué tipos de contenido incluirías?\n",
    "\n",
    "1. **Celdas de Código**: ¿Cuándo usarías estas para análisis deportivo?\n",
    "2. **Celdas de Markdown**: ¿Para qué servirían las explicaciones escritas?\n",
    "3. **Celdas Raw**: ¿En qué casos necesitarías texto sin formato?\n",
    "\n",
    "#### Dominando los atajos: ¿Cómo trabajar eficientemente?\n",
    "\n",
    "**Pregunta práctica**: ¿Por qué crees que los programadores usan atajos de teclado?\n",
    "\n",
    "Atajos esenciales para analistas:\n",
    "- **Shift + Enter**: ¿Qué crees que hace este comando?\n",
    "- **A/B**: ¿Para qué servirían estos comandos?\n",
    "- **M/Y**: ¿Qué tipos de celdas estarían controlando?\n",
    "\n",
    "**Desafío de pensamiento**: ¿Cuál de estos atajos crees que usarás más frecuentemente y por qué?"
   ]
  },
  {
   "cell_type": "markdown",
   "id": "5ca9dbf1",
   "metadata": {},
   "source": [
    "## 3. Entendiendo las variables: ¿Cómo almacenamos información?\n",
    "\n",
    "### Pregunta fundamental: ¿Qué son las variables?\n",
    "\n",
    "**Reflexión inicial**: Si tuvieras que organizar información sobre jugadores de fútbol en tu mente, ¿cómo lo harías?\n",
    "\n",
    "**Analogía para pensar**: Las variables son como etiquetas en cajas de almacenamiento. ¿Qué información sobre un jugador pondrías en cada \"caja\"?\n",
    "\n",
    "### Descubriendo variables en Python: ¿Cómo funciona?\n",
    "\n",
    "**Pregunta guía**: ¿Notaste algo especial sobre cómo declaramos variables en Python? ¿Tuvimos que decirle a Python qué tipo de información estábamos guardando?\n",
    "\n",
    "Observa este patrón y piensa: ¿Qué hace Python automáticamente por nosotros?"
   ]
  },
  {
   "cell_type": "code",
   "execution_count": null,
   "id": "96a48a03",
   "metadata": {},
   "outputs": [
    {
     "name": "stdout",
     "output_type": "stream",
     "text": [
      "Equipo: Barcelona\n",
      "Goles: 3\n",
      "Promedio de edad: 25.5\n",
      "Es ganador: True\n"
     ]
    }
   ],
   "source": [
    "# ¿Observaste algo especial sobre cómo creamos estas variables?\n",
    "# ¿Notaste que no tuvimos que decirle a Python qué tipo de dato era cada una?\n",
    "\n",
    "equipo = \"Barcelona\"           # ¿Qué tipo de información es esta?\n",
    "goles = 3                      # ¿Y esta?\n",
    "promedio_edad = 25.5           # ¿Qué indica el punto decimal?\n",
    "es_ganador = True              # ¿Verdadero o falso - qué otros valores podría tener?\n",
    "\n",
    "print(f\"Equipo: {equipo}\")\n",
    "print(f\"Goles: {goles}\")\n",
    "print(f\"Promedio de edad: {promedio_edad}\")\n",
    "print(f\"Es ganador: {es_ganador}\")\n",
    "\n",
    "# ¿Qué observas en los resultados? ¿Python reconoció automáticamente los tipos?"
   ]
  },
  {
   "cell_type": "markdown",
   "id": "91e6c022",
   "metadata": {},
   "source": [
    "### Investigando tipos de datos: ¿Qué tipos de información manejamos?\n",
    "\n",
    "**Pregunta de análisis**: Si fueras a crear una ficha técnica de un jugador de fútbol, ¿qué tipos de información diferentes incluirías?\n",
    "\n",
    "Piensa en estas categorías:\n",
    "- ¿Información de texto? (nombre, posición)\n",
    "- ¿Números enteros? (edad, goles)\n",
    "- ¿Números con decimales? (altura, peso)\n",
    "- ¿Información de verdadero/falso? (¿está activo?)\n",
    "- ¿Listas de elementos? (equipos donde ha jugado)\n",
    "- ¿Información agrupada? (estadísticas completas)\n",
    "\n",
    "**Pregunta reflexiva**: ¿Por qué crees que Python necesita distinguir entre estos tipos de información?"
   ]
  },
  {
   "cell_type": "code",
   "execution_count": null,
   "id": "dcf9ad27",
   "metadata": {},
   "outputs": [
    {
     "name": "stdout",
     "output_type": "stream",
     "text": [
      "Nombre: Lionel Messi - Tipo: <class 'str'>\n",
      "Edad: 36 - Tipo: <class 'int'>\n",
      "Altura: 1.7 - Tipo: <class 'float'>\n",
      "Es activo: True - Tipo: <class 'bool'>\n",
      "Equipos: ['Barcelona', 'PSG', 'Miami'] - Tipo: <class 'list'>\n",
      "Estadísticas: {'goles': 800, 'asistencias': 350} - Tipo: <class 'dict'>\n"
     ]
    }
   ],
   "source": [
    "# Exploremos los tipos de datos que Python reconoce automáticamente\n",
    "# ¿Puedes predecir qué tipo será cada variable antes de ejecutar?\n",
    "\n",
    "nombre_jugador = \"Lionel Messi\"           # ¿Qué tipo esperarías para texto?\n",
    "edad = 36                                 # ¿Para números enteros?\n",
    "altura = 1.70                            # ¿Para números decimales?\n",
    "es_activo = True                         # ¿Para verdadero/falso?\n",
    "equipos = [\"Barcelona\", \"PSG\", \"Miami\"]   # ¿Para listas de elementos?\n",
    "estadisticas = {\"goles\": 800, \"asistencias\": 350}  # ¿Para información agrupada?\n",
    "\n",
    "# Ahora verificamos nuestras predicciones\n",
    "print(f\"Nombre: {nombre_jugador} - Tipo: {type(nombre_jugador)}\")\n",
    "print(f\"Edad: {edad} - Tipo: {type(edad)}\")\n",
    "print(f\"Altura: {altura} - Tipo: {type(altura)}\")\n",
    "print(f\"Es activo: {es_activo} - Tipo: {type(es_activo)}\")\n",
    "print(f\"Equipos: {equipos} - Tipo: {type(equipos)}\")\n",
    "print(f\"Estadísticas: {estadisticas} - Tipo: {type(estadisticas)}\")\n",
    "\n",
    "# ¿Fueron correctas tus predicciones? ¿Qué te sorprendió?"
   ]
  },
  {
   "cell_type": "markdown",
   "id": "1e4bbc93",
   "metadata": {},
   "source": [
    "### Explorando operadores: ¿Cómo manipulamos la información?\n",
    "\n",
    "**Pregunta de conexión**: Si tienes estadísticas de un partido, ¿qué operaciones te gustaría hacer con esos números?\n",
    "\n",
    "**Reflexión práctica**: ¿Cómo un entrenador calcula la efectividad de su equipo usando estadísticas básicas?\n",
    "\n",
    "Los operadores son nuestras herramientas matemáticas:"
   ]
  },
  {
   "cell_type": "code",
   "execution_count": null,
   "id": "3f46a35d",
   "metadata": {},
   "outputs": [
    {
     "name": "stdout",
     "output_type": "stream",
     "text": [
      "Total de goles: 3\n",
      "Diferencia de goles: 1\n",
      "Promedio de puntos por partido: 2.4\n",
      "Puntos posibles: 30\n",
      "Eficiencia: 80.0%\n"
     ]
    }
   ],
   "source": [
    "# ¿Cómo calcularías estadísticas básicas de un partido?\n",
    "# Veamos qué operaciones necesitaríamos\n",
    "\n",
    "goles_casa = 2\n",
    "goles_visitante = 1\n",
    "partidos_jugados = 10\n",
    "puntos_totales = 24\n",
    "\n",
    "# ¿Qué información podemos derivar de estos números básicos?\n",
    "total_goles = goles_casa + goles_visitante           # ¿Para qué sirve sumar?\n",
    "diferencia_goles = goles_casa - goles_visitante      # ¿Y restar?\n",
    "promedio_puntos = puntos_totales / partidos_jugados  # ¿Por qué dividir?\n",
    "puntos_posibles = partidos_jugados * 3               # ¿Qué representa multiplicar por 3?\n",
    "\n",
    "print(f\"Total de goles: {total_goles}\")\n",
    "print(f\"Diferencia de goles: {diferencia_goles}\")\n",
    "print(f\"Promedio de puntos por partido: {promedio_puntos}\")\n",
    "print(f\"Puntos posibles: {puntos_posibles}\")\n",
    "print(f\"Eficiencia: {(puntos_totales/puntos_posibles)*100:.1f}%\")\n",
    "\n",
    "# ¿Qué te dice el porcentaje de eficiencia sobre el rendimiento del equipo?"
   ]
  },
  {
   "cell_type": "code",
   "execution_count": 5,
   "id": "2d241968",
   "metadata": {},
   "outputs": [
    {
     "name": "stdout",
     "output_type": "stream",
     "text": [
      "¿Equipo A ganó?: True\n",
      "¿Fue empate?: False\n",
      "¿Equipo B perdió?: True\n",
      "¿Hubo al menos 2 goles?: True\n"
     ]
    }
   ],
   "source": [
    "# Operadores de comparación\n",
    "equipo_a_goles = 3\n",
    "equipo_b_goles = 1\n",
    "\n",
    "print(f\"¿Equipo A ganó?: {equipo_a_goles > equipo_b_goles}\")\n",
    "print(f\"¿Fue empate?: {equipo_a_goles == equipo_b_goles}\")\n",
    "print(f\"¿Equipo B perdió?: {equipo_b_goles < equipo_a_goles}\")\n",
    "print(f\"¿Hubo al menos 2 goles?: {equipo_a_goles + equipo_b_goles >= 2}\")"
   ]
  },
  {
   "cell_type": "markdown",
   "id": "96d6541b",
   "metadata": {},
   "source": [
    "### Aplicando conocimientos: ¿Podemos analizar un partido real?\n",
    "\n",
    "**Desafío de pensamiento**: Imagina que eres el analista de datos de un canal deportivo. Te piden crear un reporte básico de un partido. ¿Qué información incluirías?\n",
    "\n",
    "**Pregunta guía**: ¿Cómo podríamos usar Python para automatizar este tipo de análisis?\n",
    "\n",
    "Vamos a construir nuestro primer análisis paso a paso:"
   ]
  },
  {
   "cell_type": "code",
   "execution_count": 6,
   "id": "f5120291",
   "metadata": {},
   "outputs": [
    {
     "name": "stdout",
     "output_type": "stream",
     "text": [
      "=== ANÁLISIS DEL PARTIDO ===\n",
      "Partido: Real Madrid vs Barcelona\n",
      "Resultado: 2 - 1\n",
      "Ganador: Real Madrid\n",
      "Total de goles: 3\n",
      "Diferencia: 1\n",
      "Asistencia: 75,000 espectadores\n",
      "Promedio de goles por minuto: 0.0333\n",
      "Tipo de resultado: Victoria local\n"
     ]
    }
   ],
   "source": [
    "# Datos del partido\n",
    "equipo_local = \"Real Madrid\"\n",
    "equipo_visitante = \"Barcelona\"\n",
    "goles_local = 2\n",
    "goles_visitante = 1\n",
    "asistencia = 75000\n",
    "minutos_jugados = 90\n",
    "\n",
    "# Análisis básico\n",
    "total_goles = goles_local + goles_visitante\n",
    "diferencia = abs(goles_local - goles_visitante)\n",
    "promedio_goles_por_minuto = total_goles / minutos_jugados\n",
    "\n",
    "# Determinar resultado\n",
    "if goles_local > goles_visitante:\n",
    "    ganador = equipo_local\n",
    "    resultado = \"Victoria local\"\n",
    "elif goles_visitante > goles_local:\n",
    "    ganador = equipo_visitante\n",
    "    resultado = \"Victoria visitante\"\n",
    "else:\n",
    "    ganador = \"Empate\"\n",
    "    resultado = \"Empate\"\n",
    "\n",
    "# Mostrar análisis\n",
    "print(\"=== ANÁLISIS DEL PARTIDO ===\")\n",
    "print(f\"Partido: {equipo_local} vs {equipo_visitante}\")\n",
    "print(f\"Resultado: {goles_local} - {goles_visitante}\")\n",
    "print(f\"Ganador: {ganador}\")\n",
    "print(f\"Total de goles: {total_goles}\")\n",
    "print(f\"Diferencia: {diferencia}\")\n",
    "print(f\"Asistencia: {asistencia:,} espectadores\")\n",
    "print(f\"Promedio de goles por minuto: {promedio_goles_por_minuto:.4f}\")\n",
    "print(f\"Tipo de resultado: {resultado}\")"
   ]
  },
  {
   "cell_type": "markdown",
   "id": "eeaf1881",
   "metadata": {},
   "source": [
    "### Investigando strings: ¿Cómo trabajamos con texto en el análisis deportivo?\n",
    "\n",
    "**Pregunta reflexiva**: ¿Te has dado cuenta de que muchos datos deportivos son texto? Nombres de jugadores, equipos, posiciones...\n",
    "\n",
    "**Desafío de pensamiento**: ¿Qué problemas podrían surgir si los nombres de los jugadores no están formateados consistentemente en una base de datos?\n",
    "\n",
    "Exploremos cómo Python nos ayuda a manejar texto:"
   ]
  },
  {
   "cell_type": "code",
   "execution_count": 7,
   "id": "594831cf",
   "metadata": {},
   "outputs": [
    {
     "name": "stdout",
     "output_type": "stream",
     "text": [
      "Jugador: Cristiano Ronaldo\n",
      "Equipo: AL-NASSR\n",
      "Posición: delantero\n",
      "\n",
      "Presentación: El jugador Cristiano Ronaldo juega como delantero en Al-Nassr\n",
      "\n",
      "Longitud del nombre: 17 caracteres\n",
      "¿Contiene 'Ronaldo'?: True\n"
     ]
    }
   ],
   "source": [
    "# Operaciones con strings\n",
    "jugador = \"cristiano ronaldo\"\n",
    "equipo = \"Al-Nassr\"\n",
    "posicion = \"Delantero\"\n",
    "\n",
    "# Formateo de strings\n",
    "jugador_formateado = jugador.title()  # Primera letra en mayúscula\n",
    "equipo_mayuscula = equipo.upper()     # Todo en mayúscula\n",
    "posicion_minuscula = posicion.lower() # Todo en minúscula\n",
    "\n",
    "print(f\"Jugador: {jugador_formateado}\")\n",
    "print(f\"Equipo: {equipo_mayuscula}\")\n",
    "print(f\"Posición: {posicion_minuscula}\")\n",
    "\n",
    "# Combinar strings\n",
    "presentacion = f\"El jugador {jugador_formateado} juega como {posicion_minuscula} en {equipo}\"\n",
    "print(f\"\\nPresentación: {presentacion}\")\n",
    "\n",
    "# Información sobre el string\n",
    "print(f\"\\nLongitud del nombre: {len(jugador_formateado)} caracteres\")\n",
    "print(f\"¿Contiene 'Ronaldo'?: {'Ronaldo' in jugador_formateado}\")"
   ]
  },
  {
   "cell_type": "markdown",
   "id": "66222592",
   "metadata": {},
   "source": [
    "## 4. Reflexión y Próximos Pasos\n",
    "\n",
    "### ¿Qué hemos descubierto juntos?\n",
    "\n",
    "**Pregunta de autoevaluación**: ¿Cuál de estos conceptos te resultó más sorprendente?\n",
    "\n",
    "En esta primera semana hemos explorado:\n",
    "\n",
    "**Configuración del entorno**: ¿Ya entiendes por qué necesitamos estas herramientas?\n",
    "\n",
    "**Conceptos básicos**: ¿Puedes explicar qué son las variables y por qué son importantes?\n",
    "\n",
    "**Tipos de datos fundamentales**: ¿Ves la conexión entre int, float, str, bool y los datos deportivos?\n",
    "\n",
    "**Operaciones básicas**: ¿Cómo usarías estas operaciones en análisis reales?\n",
    "\n",
    "**Aplicación práctica**: ¿Te sientes más confiado para crear análisis básicos?\n",
    "\n",
    "### Mirando hacia adelante: ¿Qué preguntas queremos responder?\n",
    "\n",
    "**Pregunta motivadora**: ¿Qué limitaciones encuentras con lo que sabemos hasta ahora?\n",
    "\n",
    "En la Semana 2 exploraremos:\n",
    "\n",
    "- **Estructuras de datos más complejas**: ¿Cómo organizarías información de múltiples jugadores?\n",
    "- **Control de flujo**: ¿Cómo automatizarías decisiones en tu análisis?\n",
    "- **Manipulación de datos**: ¿Qué pasaría si quisieras analizar toda una temporada?\n",
    "- **Ejercicios más desafiantes**: ¿Estás listo para análisis más sofisticados?\n",
    "\n",
    "### Reflexión final\n",
    "\n",
    "**Pregunta de cierre**: ¿Cómo ha cambiado tu perspectiva sobre lo que es posible hacer con programación?\n",
    "\n",
    "---\n",
    "\n",
    "**¡Felicitaciones por completar tu primera exploración de Python!**\n",
    "\n",
    "*Recuerda: Cada pregunta que te haces es el primer paso hacia un descubrimiento. ¿Qué quieres descubrir la próxima semana?*"
   ]
  }
 ],
 "metadata": {
  "kernelspec": {
   "display_name": ".venv (3.10.12)",
   "language": "python",
   "name": "python3"
  },
  "language_info": {
   "codemirror_mode": {
    "name": "ipython",
    "version": 3
   },
   "file_extension": ".py",
   "mimetype": "text/x-python",
   "name": "python",
   "nbconvert_exporter": "python",
   "pygments_lexer": "ipython3",
   "version": "3.10.12"
  }
 },
 "nbformat": 4,
 "nbformat_minor": 5
}
