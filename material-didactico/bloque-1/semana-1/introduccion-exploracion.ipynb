{
 "cells": [
  {
   "cell_type": "markdown",
   "id": "cfbe6423",
   "metadata": {},
   "source": [
    "# Semana 1: Introducción y Exploración\n",
    "\n",
    "## Ciencia de Datos en el Deporte - Fundamentos con Python\n",
    "\n",
    "---\n",
    "\n",
    "**Objetivos de aprendizaje:**\n",
    "- Comprender los conceptos básicos de ciencia de datos aplicados al fútbol\n",
    "- Explorar el dataset \"champs\" de Kaggle\n",
    "- Familiarizarse con Jupyter Notebook y pandas básico\n",
    "- Analizar la estructura de datos futbolísticos\n",
    "\n",
    "---"
   ]
  },
  {
   "cell_type": "markdown",
   "id": "c4bec061",
   "metadata": {},
   "source": [
    "## 1. Teoría: Presentación del Curso y Ciencia de Datos en el Deporte\n",
    "\n",
    "### ¿Qué es la Ciencia de Datos?\n",
    "\n",
    "La ciencia de datos es un campo interdisciplinario que utiliza métodos científicos, procesos, algoritmos y sistemas para extraer conocimiento y percepciones de datos estructurados y no estructurados.\n",
    "\n",
    "### Ciencia de Datos en el Deporte\n",
    "\n",
    "En el contexto deportivo, la ciencia de datos nos permite:\n",
    "\n",
    "1. **Análisis de Rendimiento**: Evaluar el desempeño de jugadores y equipos\n",
    "2. **Predicción de Resultados**: Crear modelos que anticipen resultados de partidos\n",
    "3. **Optimización Táctica**: Identificar patrones y estrategias exitosas\n",
    "4. **Gestión de Recursos**: Optimizar fichajes y gestión de plantillas\n",
    "5. **Experiencia del Aficionado**: Mejorar la experiencia mediante estadísticas avanzadas\n",
    "\n",
    "### El Fútbol como Fuente de Datos\n",
    "\n",
    "El fútbol genera una gran cantidad de datos:\n",
    "- **Resultados de partidos**: Marcadores, fechas, equipos\n",
    "- **Eventos del juego**: Goles, tarjetas, faltas, corners\n",
    "- **Datos de jugadores**: Posiciones, pases, disparos\n",
    "- **Datos temporales**: Temporadas, competiciones, fechas\n",
    "\n",
    "### Herramientas Principales\n",
    "\n",
    "- **Python**: Lenguaje de programación principal\n",
    "- **Pandas**: Manipulación y análisis de datos\n",
    "- **Matplotlib/Seaborn**: Visualización de datos\n",
    "- **Jupyter Notebook**: Entorno interactivo de desarrollo"
   ]
  },
  {
   "cell_type": "markdown",
   "id": "f987b145",
   "metadata": {},
   "source": [
    "## 2. Herramientas: Jupyter Notebook y Pandas Básico\n",
    "\n",
    "### Configuración del Entorno\n",
    "\n",
    "Primero, importemos las librerías necesarias para nuestro análisis:"
   ]
  },
  {
   "cell_type": "code",
   "execution_count": 1,
   "id": "46002846",
   "metadata": {},
   "outputs": [
    {
     "name": "stdout",
     "output_type": "stream",
     "text": [
      "✅ Librerías importadas exitosamente\n",
      "📊 Pandas versión: 2.3.1\n",
      "🔢 NumPy versión: 2.2.6\n"
     ]
    }
   ],
   "source": [
    "# Importar librerías esenciales\n",
    "import pandas as pd\n",
    "import numpy as np\n",
    "import matplotlib.pyplot as plt\n",
    "import seaborn as sns\n",
    "from datetime import datetime\n",
    "import warnings\n",
    "warnings.filterwarnings('ignore')\n",
    "\n",
    "# Configuración para mejorar la visualización\n",
    "plt.style.use('seaborn-v0_8')\n",
    "pd.set_option('display.max_columns', None)\n",
    "pd.set_option('display.width', None)\n",
    "\n",
    "print(\"✅ Librerías importadas exitosamente\")\n",
    "print(f\"📊 Pandas versión: {pd.__version__}\")\n",
    "print(f\"🔢 NumPy versión: {np.__version__}\")"
   ]
  },
  {
   "cell_type": "markdown",
   "id": "742ca56d",
   "metadata": {},
   "source": [
    "### Conceptos Básicos de Pandas\n",
    "\n",
    "Pandas es la librería fundamental para el análisis de datos en Python. Sus estructuras principales son:\n",
    "\n",
    "- **Series**: Estructura unidimensional (como una columna)\n",
    "- **DataFrame**: Estructura bidimensional (como una tabla)\n",
    "\n",
    "Veamos algunos ejemplos básicos:"
   ]
  },
  {
   "cell_type": "code",
   "execution_count": 2,
   "id": "ae1f36aa",
   "metadata": {},
   "outputs": [
    {
     "name": "stdout",
     "output_type": "stream",
     "text": [
      "Serie de equipos:\n",
      "0          Barcelona\n",
      "1        Real Madrid\n",
      "2    Atletico Madrid\n",
      "3            Sevilla\n",
      "4           Valencia\n",
      "dtype: object\n",
      "\n",
      "Tipo de datos: <class 'pandas.core.series.Series'>\n"
     ]
    }
   ],
   "source": [
    "# Crear una Serie simple con equipos de fútbol\n",
    "equipos = pd.Series(['Barcelona', 'Real Madrid', 'Atletico Madrid', 'Sevilla', 'Valencia'])\n",
    "print(\"Serie de equipos:\")\n",
    "print(equipos)\n",
    "print(f\"\\nTipo de datos: {type(equipos)}\")"
   ]
  },
  {
   "cell_type": "code",
   "execution_count": 3,
   "id": "98334e8c",
   "metadata": {},
   "outputs": [
    {
     "name": "stdout",
     "output_type": "stream",
     "text": [
      "DataFrame de ejemplo:\n",
      "            equipo  goles_favor  goles_contra  puntos\n",
      "0        Barcelona           68            38      85\n",
      "1      Real Madrid           87            28      88\n",
      "2  Atletico Madrid           55            25      76\n",
      "\n",
      "Dimensiones: (3, 4)\n",
      "Columnas: ['equipo', 'goles_favor', 'goles_contra', 'puntos']\n"
     ]
    }
   ],
   "source": [
    "# Crear un DataFrame simple con datos de ejemplo\n",
    "datos_ejemplo = {\n",
    "    'equipo': ['Barcelona', 'Real Madrid', 'Atletico Madrid'],\n",
    "    'goles_favor': [68, 87, 55],\n",
    "    'goles_contra': [38, 28, 25],\n",
    "    'puntos': [85, 88, 76]\n",
    "}\n",
    "\n",
    "df_ejemplo = pd.DataFrame(datos_ejemplo)\n",
    "print(\"DataFrame de ejemplo:\")\n",
    "print(df_ejemplo)\n",
    "print(f\"\\nDimensiones: {df_ejemplo.shape}\")\n",
    "print(f\"Columnas: {list(df_ejemplo.columns)}\")"
   ]
  },
  {
   "cell_type": "markdown",
   "id": "6759328e",
   "metadata": {},
   "source": [
    "## 3. Práctica: Exploración del Dataset \"champs\"\n",
    "\n",
    "### Carga del Dataset\n",
    "\n",
    "Vamos a cargar el dataset \"champs\" que contiene información sobre la UEFA Champions League. Este dataset típicamente contiene información sobre partidos, equipos, goles y resultados.\n",
    "\n",
    "**Nota**: Para este ejemplo, crearemos un dataset simulado que represente la estructura típica del dataset \"champs\". En un entorno real, cargarías el archivo CSV directamente."
   ]
  },
  {
   "cell_type": "code",
   "execution_count": 4,
   "id": "ca1cd04d",
   "metadata": {},
   "outputs": [
    {
     "name": "stdout",
     "output_type": "stream",
     "text": [
      "✅ Dataset 'champs' cargado exitosamente\n",
      "📊 Dimensiones: (200, 9)\n"
     ]
    }
   ],
   "source": [
    "# Simulamos la carga del dataset \"champs\"\n",
    "# En la práctica real, usarías: df_champs = pd.read_csv('path/to/champs.csv')\n",
    "\n",
    "# Creamos datos simulados que representen la estructura típica\n",
    "np.random.seed(42)\n",
    "\n",
    "# Generar datos de ejemplo\n",
    "equipos_champions = [\n",
    "    'Barcelona', 'Real Madrid', 'Bayern Munich', 'Manchester City',\n",
    "    'Liverpool', 'Paris Saint-Germain', 'Chelsea', 'Juventus',\n",
    "    'Manchester United', 'Arsenal', 'Atletico Madrid', 'Borussia Dortmund'\n",
    "]\n",
    "\n",
    "temporadas = ['2020-21', '2021-22', '2022-23']\n",
    "fases = ['Group Stage', 'Round of 16', 'Quarter-finals', 'Semi-finals', 'Final']\n",
    "\n",
    "# Generar datos simulados\n",
    "n_partidos = 200\n",
    "datos_champs = []\n",
    "\n",
    "for i in range(n_partidos):\n",
    "    equipo_local = np.random.choice(equipos_champions)\n",
    "    equipo_visitante = np.random.choice([e for e in equipos_champions if e != equipo_local])\n",
    "    \n",
    "    goles_local = np.random.poisson(1.5)\n",
    "    goles_visitante = np.random.poisson(1.2)\n",
    "    \n",
    "    datos_champs.append({\n",
    "        'season': np.random.choice(temporadas),\n",
    "        'stage': np.random.choice(fases),\n",
    "        'date': f\"2022-{np.random.randint(1,13):02d}-{np.random.randint(1,29):02d}\",\n",
    "        'home_team': equipo_local,\n",
    "        'away_team': equipo_visitante,\n",
    "        'home_goals': goles_local,\n",
    "        'away_goals': goles_visitante,\n",
    "        'home_possession': np.random.randint(35, 75),\n",
    "        'away_possession': 100 - np.random.randint(35, 75)\n",
    "    })\n",
    "\n",
    "df_champs = pd.DataFrame(datos_champs)\n",
    "print(\"✅ Dataset 'champs' cargado exitosamente\")\n",
    "print(f\"📊 Dimensiones: {df_champs.shape}\")"
   ]
  },
  {
   "cell_type": "markdown",
   "id": "21458fec",
   "metadata": {},
   "source": [
    "### Exploración Inicial del Dataset\n",
    "\n",
    "Comencemos explorando la estructura básica de nuestros datos:"
   ]
  },
  {
   "cell_type": "code",
   "execution_count": 5,
   "id": "f35937b8",
   "metadata": {},
   "outputs": [
    {
     "name": "stdout",
     "output_type": "stream",
     "text": [
      "🔍 Primeras 5 filas del dataset:\n",
      "    season           stage        date      home_team          away_team  \\\n",
      "0  2022-23  Quarter-finals  2022-08-21        Chelsea    Manchester City   \n",
      "1  2020-21     Group Stage  2022-12-26       Juventus      Bayern Munich   \n",
      "2  2022-23  Quarter-finals  2022-12-23      Barcelona  Borussia Dortmund   \n",
      "3  2020-21     Semi-finals  2022-02-26  Bayern Munich           Juventus   \n",
      "4  2021-22     Group Stage  2022-04-18      Liverpool        Real Madrid   \n",
      "\n",
      "   home_goals  away_goals  home_possession  away_possession  \n",
      "0           3           0               70               26  \n",
      "1           0           2               56               41  \n",
      "2           1           0               37               29  \n",
      "3           0           0               43               40  \n",
      "4           2           1               74               62  \n"
     ]
    }
   ],
   "source": [
    "# Mostrar las primeras filas del dataset\n",
    "print(\"🔍 Primeras 5 filas del dataset:\")\n",
    "print(df_champs.head())"
   ]
  },
  {
   "cell_type": "code",
   "execution_count": 6,
   "id": "a497a04b",
   "metadata": {},
   "outputs": [
    {
     "name": "stdout",
     "output_type": "stream",
     "text": [
      "📋 Información general del dataset:\n",
      "<class 'pandas.core.frame.DataFrame'>\n",
      "RangeIndex: 200 entries, 0 to 199\n",
      "Data columns (total 9 columns):\n",
      " #   Column           Non-Null Count  Dtype \n",
      "---  ------           --------------  ----- \n",
      " 0   season           200 non-null    object\n",
      " 1   stage            200 non-null    object\n",
      " 2   date             200 non-null    object\n",
      " 3   home_team        200 non-null    object\n",
      " 4   away_team        200 non-null    object\n",
      " 5   home_goals       200 non-null    int64 \n",
      " 6   away_goals       200 non-null    int64 \n",
      " 7   home_possession  200 non-null    int64 \n",
      " 8   away_possession  200 non-null    int64 \n",
      "dtypes: int64(4), object(5)\n",
      "memory usage: 14.2+ KB\n",
      "None\n"
     ]
    }
   ],
   "source": [
    "# Información general del dataset\n",
    "print(\"📋 Información general del dataset:\")\n",
    "print(df_champs.info())"
   ]
  },
  {
   "cell_type": "code",
   "execution_count": null,
   "id": "901aa499",
   "metadata": {},
   "outputs": [],
   "source": [
    "# Descripción estadística básica\n",
    "print(\"📊 Descripción estadística de variables numéricas:\")\n",
    "print(df_champs.describe())"
   ]
  },
  {
   "cell_type": "markdown",
   "id": "c5a6a998",
   "metadata": {},
   "source": [
    "### Análisis de la Estructura de Datos\n",
    "\n",
    "Vamos a analizar cada columna y entender qué representa:"
   ]
  },
  {
   "cell_type": "code",
   "execution_count": null,
   "id": "27af3182",
   "metadata": {},
   "outputs": [],
   "source": [
    "# Análisis de las columnas categóricas\n",
    "print(\"🏆 Temporadas disponibles:\")\n",
    "print(df_champs['season'].value_counts())\n",
    "\n",
    "print(\"\\n⚽ Fases del torneo:\")\n",
    "print(df_champs['stage'].value_counts())\n",
    "\n",
    "print(\"\\n🏟️ Equipos más frecuentes como locales:\")\n",
    "print(df_champs['home_team'].value_counts().head(10))"
   ]
  },
  {
   "cell_type": "code",
   "execution_count": 7,
   "id": "a597a991",
   "metadata": {},
   "outputs": [
    {
     "name": "stdout",
     "output_type": "stream",
     "text": [
      "⚽ Estadísticas de goles:\n",
      "Promedio de goles por partido (local): 1.42\n",
      "Promedio de goles por partido (visitante): 1.22\n",
      "Promedio total de goles por partido: 2.63\n",
      "\n",
      "Partido con más goles: 7 goles\n",
      "Partidos sin goles: 20\n"
     ]
    }
   ],
   "source": [
    "# Análisis de goles\n",
    "print(\"⚽ Estadísticas de goles:\")\n",
    "print(f\"Promedio de goles por partido (local): {df_champs['home_goals'].mean():.2f}\")\n",
    "print(f\"Promedio de goles por partido (visitante): {df_champs['away_goals'].mean():.2f}\")\n",
    "print(f\"Promedio total de goles por partido: {(df_champs['home_goals'] + df_champs['away_goals']).mean():.2f}\")\n",
    "\n",
    "# Calcular el total de goles por partido\n",
    "df_champs['total_goals'] = df_champs['home_goals'] + df_champs['away_goals']\n",
    "print(f\"\\nPartido con más goles: {df_champs['total_goals'].max()} goles\")\n",
    "print(f\"Partidos sin goles: {len(df_champs[df_champs['total_goals'] == 0])}\")"
   ]
  },
  {
   "cell_type": "markdown",
   "id": "5edcf785",
   "metadata": {},
   "source": [
    "### Visualizaciones Básicas\n",
    "\n",
    "Creemos algunas visualizaciones para entender mejor los datos:"
   ]
  },
  {
   "cell_type": "code",
   "execution_count": 8,
   "id": "9c8d8d72",
   "metadata": {},
   "outputs": [
    {
     "data": {
      "image/png": "[encoded data removed]",
      "text/plain": [
       "<Figure size 1500x1000 with 4 Axes>"
      ]
     },
     "metadata": {},
     "output_type": "display_data"
    }
   ],
   "source": [
    "# Configurar el estilo de las gráficas\n",
    "plt.figure(figsize=(15, 10))\n",
    "\n",
    "# Gráfica 1: Distribución de goles por partido\n",
    "plt.subplot(2, 2, 1)\n",
    "plt.hist(df_champs['total_goals'], bins=range(0, df_champs['total_goals'].max()+2), \n",
    "         alpha=0.7, color='skyblue', edgecolor='black')\n",
    "plt.title('Distribución de Goles Totales por Partido')\n",
    "plt.xlabel('Goles Totales')\n",
    "plt.ylabel('Frecuencia')\n",
    "plt.grid(True, alpha=0.3)\n",
    "\n",
    "# Gráfica 2: Goles locales vs visitantes\n",
    "plt.subplot(2, 2, 2)\n",
    "plt.scatter(df_champs['home_goals'], df_champs['away_goals'], alpha=0.6, color='coral')\n",
    "plt.title('Goles Locales vs Goles Visitantes')\n",
    "plt.xlabel('Goles Locales')\n",
    "plt.ylabel('Goles Visitantes')\n",
    "plt.grid(True, alpha=0.3)\n",
    "\n",
    "# Gráfica 3: Partidos por temporada\n",
    "plt.subplot(2, 2, 3)\n",
    "df_champs['season'].value_counts().plot(kind='bar', color='lightgreen')\n",
    "plt.title('Partidos por Temporada')\n",
    "plt.xlabel('Temporada')\n",
    "plt.ylabel('Número de Partidos')\n",
    "plt.xticks(rotation=45)\n",
    "\n",
    "# Gráfica 4: Partidos por fase\n",
    "plt.subplot(2, 2, 4)\n",
    "df_champs['stage'].value_counts().plot(kind='bar', color='lightcoral')\n",
    "plt.title('Partidos por Fase del Torneo')\n",
    "plt.xlabel('Fase')\n",
    "plt.ylabel('Número de Partidos')\n",
    "plt.xticks(rotation=45)\n",
    "\n",
    "plt.tight_layout()\n",
    "plt.show()"
   ]
  },
  {
   "cell_type": "markdown",
   "id": "61b0533d",
   "metadata": {},
   "source": [
    "### Análisis Exploratorio Avanzado\n",
    "\n",
    "Realicemos algunos análisis más profundos:"
   ]
  },
  {
   "cell_type": "code",
   "execution_count": 9,
   "id": "ada8b962",
   "metadata": {},
   "outputs": [
    {
     "name": "stdout",
     "output_type": "stream",
     "text": [
      "🏟️ Análisis de Ventaja de Local:\n",
      "Victorias locales: 83 (41.5%)\n",
      "Victorias visitantes: 68 (34.0%)\n",
      "Empates: 49 (24.5%)\n"
     ]
    },
    {
     "data": {
      "image/png": "[encoded data removed]",
      "text/plain": [
       "<Figure size 1000x600 with 1 Axes>"
      ]
     },
     "metadata": {},
     "output_type": "display_data"
    }
   ],
   "source": [
    "# Análisis de ventaja de local\n",
    "partidos_local = len(df_champs[df_champs['home_goals'] > df_champs['away_goals']])\n",
    "partidos_visitante = len(df_champs[df_champs['away_goals'] > df_champs['home_goals']])\n",
    "partidos_empate = len(df_champs[df_champs['home_goals'] == df_champs['away_goals']])\n",
    "\n",
    "print(\"🏟️ Análisis de Ventaja de Local:\")\n",
    "print(f\"Victorias locales: {partidos_local} ({partidos_local/len(df_champs)*100:.1f}%)\")\n",
    "print(f\"Victorias visitantes: {partidos_visitante} ({partidos_visitante/len(df_champs)*100:.1f}%)\")\n",
    "print(f\"Empates: {partidos_empate} ({partidos_empate/len(df_champs)*100:.1f}%)\")\n",
    "\n",
    "# Visualización de la ventaja de local\n",
    "plt.figure(figsize=(10, 6))\n",
    "resultados = ['Victorias Locales', 'Empates', 'Victorias Visitantes']\n",
    "valores = [partidos_local, partidos_empate, partidos_visitante]\n",
    "colores = ['#2E8B57', '#FFD700', '#DC143C']\n",
    "\n",
    "plt.pie(valores, labels=resultados, colors=colores, autopct='%1.1f%%', startangle=90)\n",
    "plt.title('Distribución de Resultados: Ventaja de Local')\n",
    "plt.axis('equal')\n",
    "plt.show()"
   ]
  },
  {
   "cell_type": "code",
   "execution_count": 10,
   "id": "369045ae",
   "metadata": {},
   "outputs": [
    {
     "name": "stdout",
     "output_type": "stream",
     "text": [
      "📊 Total de equipos en el dataset: 12\n",
      "Equipos: [np.str_('Arsenal'), np.str_('Atletico Madrid'), np.str_('Barcelona'), np.str_('Bayern Munich'), np.str_('Borussia Dortmund'), np.str_('Chelsea'), np.str_('Juventus'), np.str_('Liverpool'), np.str_('Manchester City'), np.str_('Manchester United'), np.str_('Paris Saint-Germain'), np.str_('Real Madrid')]\n",
      "\n",
      "🏆 Top 5 equipos por diferencia de goles:\n",
      "              equipo  partidos  goles_favor  goles_contra  diferencia_goles\n",
      "1    Atletico Madrid        28           44            32                12\n",
      "3          Liverpool        37           58            50                 8\n",
      "9            Arsenal        34           39            32                 7\n",
      "5            Chelsea        49           68            63                 5\n",
      "8  Borussia Dortmund        28           39            36                 3\n"
     ]
    }
   ],
   "source": [
    "# Análisis por equipo\n",
    "# Todos los equipos que aparecen en el dataset\n",
    "todos_equipos = set(df_champs['home_team'].unique()) | set(df_champs['away_team'].unique())\n",
    "print(f\"📊 Total de equipos en el dataset: {len(todos_equipos)}\")\n",
    "print(f\"Equipos: {sorted(todos_equipos)}\")\n",
    "\n",
    "# Estadísticas por equipo\n",
    "estadisticas_equipos = []\n",
    "\n",
    "for equipo in todos_equipos:\n",
    "    # Partidos como local\n",
    "    partidos_local = df_champs[df_champs['home_team'] == equipo]\n",
    "    # Partidos como visitante\n",
    "    partidos_visitante = df_champs[df_champs['away_team'] == equipo]\n",
    "    \n",
    "    total_partidos = len(partidos_local) + len(partidos_visitante)\n",
    "    goles_favor = partidos_local['home_goals'].sum() + partidos_visitante['away_goals'].sum()\n",
    "    goles_contra = partidos_local['away_goals'].sum() + partidos_visitante['home_goals'].sum()\n",
    "    \n",
    "    estadisticas_equipos.append({\n",
    "        'equipo': equipo,\n",
    "        'partidos': total_partidos,\n",
    "        'goles_favor': goles_favor,\n",
    "        'goles_contra': goles_contra,\n",
    "        'diferencia_goles': goles_favor - goles_contra\n",
    "    })\n",
    "\n",
    "df_estadisticas = pd.DataFrame(estadisticas_equipos)\n",
    "df_estadisticas = df_estadisticas.sort_values('diferencia_goles', ascending=False)\n",
    "\n",
    "print(\"\\n🏆 Top 5 equipos por diferencia de goles:\")\n",
    "print(df_estadisticas.head())"
   ]
  },
  {
   "cell_type": "markdown",
   "id": "ed72648a",
   "metadata": {},
   "source": [
    "### Limpieza y Preparación de Datos\n",
    "\n",
    "Veamos si hay datos faltantes o inconsistencias:"
   ]
  },
  {
   "cell_type": "code",
   "execution_count": 11,
   "id": "d81c2710",
   "metadata": {},
   "outputs": [
    {
     "name": "stdout",
     "output_type": "stream",
     "text": [
      "🔍 Verificación de datos faltantes:\n",
      "season             0\n",
      "stage              0\n",
      "date               0\n",
      "home_team          0\n",
      "away_team          0\n",
      "home_goals         0\n",
      "away_goals         0\n",
      "home_possession    0\n",
      "away_possession    0\n",
      "total_goals        0\n",
      "dtype: int64\n",
      "\n",
      "📋 Tipos de datos:\n",
      "season             object\n",
      "stage              object\n",
      "date               object\n",
      "home_team          object\n",
      "away_team          object\n",
      "home_goals          int64\n",
      "away_goals          int64\n",
      "home_possession     int64\n",
      "away_possession     int64\n",
      "total_goals         int64\n",
      "dtype: object\n",
      "\n",
      "✅ Columna 'date' convertida a datetime\n",
      "\n",
      "🔢 Valores únicos por columna:\n",
      "season: 3 valores únicos\n",
      "stage: 5 valores únicos\n"
     ]
    }
   ],
   "source": [
    "# Verificar datos faltantes\n",
    "print(\"🔍 Verificación de datos faltantes:\")\n",
    "print(df_champs.isnull().sum())\n",
    "\n",
    "# Verificar tipos de datos\n",
    "print(\"\\n📋 Tipos de datos:\")\n",
    "print(df_champs.dtypes)\n",
    "\n",
    "# Convertir la columna de fecha a datetime\n",
    "df_champs['date'] = pd.to_datetime(df_champs['date'])\n",
    "print(\"\\n✅ Columna 'date' convertida a datetime\")\n",
    "\n",
    "# Verificar valores únicos en columnas categóricas\n",
    "print(\"\\n🔢 Valores únicos por columna:\")\n",
    "for col in ['season', 'stage']:\n",
    "    print(f\"{col}: {df_champs[col].nunique()} valores únicos\")"
   ]
  },
  {
   "cell_type": "markdown",
   "id": "ed1ff3bf",
   "metadata": {},
   "source": [
    "## 4. Ejercicios Prácticos\n",
    "\n",
    "### Ejercicio 1: Análisis Básico\n",
    "Completa las siguientes tareas:"
   ]
  },
  {
   "cell_type": "code",
   "execution_count": 12,
   "id": "2e92e42d",
   "metadata": {},
   "outputs": [
    {
     "name": "stdout",
     "output_type": "stream",
     "text": [
      "🎯 Partido con más goles:\n",
      "Juventus 4 - 3 Chelsea\n",
      "Total de goles: 7\n",
      "Fecha: 2022-01-25 00:00:00\n",
      "Fase: Final\n"
     ]
    }
   ],
   "source": [
    "# TODO: Encuentra el partido con más goles totales\n",
    "# Pista: Usa df_champs['total_goals'].idxmax()\n",
    "\n",
    "# Tu código aquí:\n",
    "partido_mas_goles = df_champs.loc[df_champs['total_goals'].idxmax()]\n",
    "print(\"🎯 Partido con más goles:\")\n",
    "print(f\"{partido_mas_goles['home_team']} {partido_mas_goles['home_goals']} - {partido_mas_goles['away_goals']} {partido_mas_goles['away_team']}\")\n",
    "print(f\"Total de goles: {partido_mas_goles['total_goals']}\")\n",
    "print(f\"Fecha: {partido_mas_goles['date']}\")\n",
    "print(f\"Fase: {partido_mas_goles['stage']}\")"
   ]
  },
  {
   "cell_type": "code",
   "execution_count": 13,
   "id": "f83311ed",
   "metadata": {},
   "outputs": [
    {
     "name": "stdout",
     "output_type": "stream",
     "text": [
      "⚽ Equipo con más goles marcados:\n",
      "Equipo: Chelsea\n",
      "Goles a favor: 68\n",
      "Partidos jugados: 49\n",
      "Promedio de goles por partido: 1.39\n"
     ]
    }
   ],
   "source": [
    "# TODO: Encuentra el equipo que más goles ha marcado en total\n",
    "# Pista: Suma los goles como local y visitante para cada equipo\n",
    "\n",
    "# Tu código aquí:\n",
    "mejor_ataque = df_estadisticas.loc[df_estadisticas['goles_favor'].idxmax()]\n",
    "print(\"⚽ Equipo con más goles marcados:\")\n",
    "print(f\"Equipo: {mejor_ataque['equipo']}\")\n",
    "print(f\"Goles a favor: {mejor_ataque['goles_favor']}\")\n",
    "print(f\"Partidos jugados: {mejor_ataque['partidos']}\")\n",
    "print(f\"Promedio de goles por partido: {mejor_ataque['goles_favor']/mejor_ataque['partidos']:.2f}\")"
   ]
  },
  {
   "cell_type": "markdown",
   "id": "1c00d083",
   "metadata": {},
   "source": [
    "### Ejercicio 2: Filtrado de Datos\n",
    "Practica el filtrado de datos con diferentes condiciones:"
   ]
  },
  {
   "cell_type": "code",
   "execution_count": 14,
   "id": "a1f747f5",
   "metadata": {},
   "outputs": [
    {
     "name": "stdout",
     "output_type": "stream",
     "text": [
      "📅 Partidos en temporada 2022-23: 72\n",
      "🔥 Partidos con más de 4 goles: 24\n",
      "🏟️ Partidos de Barcelona como local: 15\n"
     ]
    }
   ],
   "source": [
    "# TODO: Filtra los partidos de la temporada 2022-23\n",
    "# Tu código aquí:\n",
    "temporada_2022_23 = df_champs[df_champs['season'] == '2022-23']\n",
    "print(f\"📅 Partidos en temporada 2022-23: {len(temporada_2022_23)}\")\n",
    "\n",
    "# TODO: Filtra los partidos con más de 4 goles totales\n",
    "# Tu código aquí:\n",
    "partidos_muchos_goles = df_champs[df_champs['total_goals'] > 4]\n",
    "print(f\"🔥 Partidos con más de 4 goles: {len(partidos_muchos_goles)}\")\n",
    "\n",
    "# TODO: Filtra los partidos donde Barcelona jugó como local\n",
    "# Tu código aquí:\n",
    "barcelona_local = df_champs[df_champs['home_team'] == 'Barcelona']\n",
    "print(f\"🏟️ Partidos de Barcelona como local: {len(barcelona_local)}\")"
   ]
  },
  {
   "cell_type": "markdown",
   "id": "6ef2e96b",
   "metadata": {},
   "source": [
    "## 5. Resumen y Conclusiones\n",
    "\n",
    "### ¿Qué hemos aprendido?\n",
    "\n",
    "1. **Conceptos básicos**: Entendimos qué es la ciencia de datos y su aplicación en el fútbol\n",
    "2. **Herramientas fundamentales**: Aprendimos a usar Jupyter Notebook y pandas básico\n",
    "3. **Exploración de datos**: Exploramos la estructura del dataset \"champs\"\n",
    "4. **Análisis básico**: Realizamos análisis estadísticos descriptivos simples\n",
    "5. **Visualización**: Creamos gráficas para entender mejor los datos\n",
    "\n",
    "### Insights Principales del Dataset\n",
    "\n",
    "- **Ventaja de local**: Observamos si existe ventaja para el equipo local\n",
    "- **Distribución de goles**: Analizamos cómo se distribuyen los goles por partido\n",
    "- **Equipos destacados**: Identificamos equipos con mejor rendimiento ofensivo\n",
    "- **Patrones temporales**: Exploramos diferencias entre temporadas\n",
    "\n",
    "### Próximos Pasos\n",
    "\n",
    "En las siguientes semanas profundizaremos en:\n",
    "- Tipos específicos de datos futbolísticos\n",
    "- Estadística descriptiva avanzada\n",
    "- Técnicas de visualización más sofisticadas\n",
    "- Análisis e interpretación de resultados"
   ]
  },
  {
   "cell_type": "markdown",
   "id": "99fa9879",
   "metadata": {},
   "source": [
    "## 6. Tarea para Casa\n",
    "\n",
    "### Ejercicio Individual\n",
    "\n",
    "1. **Análisis de un equipo específico**:\n",
    "   - Elige un equipo de tu preferencia\n",
    "   - Analiza su rendimiento como local vs visitante\n",
    "   - Calcula estadísticas básicas (goles promedio, partidos jugados)\n",
    "   - Crea al menos 2 visualizaciones\n",
    "\n",
    "2. **Exploración libre**:\n",
    "   - Plantea 3 preguntas sobre el dataset\n",
    "   - Responde usando código Python\n",
    "   - Documenta tus hallazgos\n",
    "\n",
    "### Preparación para la Próxima Semana\n",
    "\n",
    "- Revisar conceptos de tipos de datos en fútbol\n",
    "- Practicar operaciones básicas con pandas\n",
    "- Familiarizarse con la lectura de archivos CSV\n",
    "\n",
    "---\n",
    "\n",
    "**¡Excelente trabajo en tu primera semana de ciencia de datos deportivos!** 🎉"
   ]
  }
 ],
 "metadata": {
  "kernelspec": {
   "display_name": ".venv (3.10.12)",
   "language": "python",
   "name": "python3"
  },
  "language_info": {
   "codemirror_mode": {
    "name": "ipython",
    "version": 3
   },
   "file_extension": ".py",
   "mimetype": "text/x-python",
   "name": "python",
   "nbconvert_exporter": "python",
   "pygments_lexer": "ipython3",
   "version": "3.10.12"
  }
 },
 "nbformat": 4,
 "nbformat_minor": 5
}
