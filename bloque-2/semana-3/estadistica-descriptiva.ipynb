{
 "cells": [
  {
   "cell_type": "markdown",
   "id": "cd6b6975",
   "metadata": {},
   "source": [
    "# **Semana 3: Estadística Descriptiva Básica**\n",
    "\n",
    "## Ciencia de Datos en el Deporte - Fundamentos con Python\n",
    "\n",
    "### 📊 **Bloque 2: Análisis de Datos Deportivos**\n",
    "\n",
    "---\n",
    "\n",
    "**Objetivos de Aprendizaje:**\n",
    "- ✅ Entender qué es estadística básica\n",
    "- ✅ Calcular promedios y máximos\n",
    "- ✅ Crear gráficos simples con seaborn\n",
    "- ✅ Comparar datos de jugadores\n",
    "\n",
    "**Herramientas:**\n",
    "- 🐍 Python\n",
    "- 📊 Pandas (datos)\n",
    "- 🎨 Seaborn (gráficos bonitos)\n",
    "- 🔢 NumPy (cálculos)"
   ]
  },
  {
   "cell_type": "markdown",
   "id": "ad660d5f",
   "metadata": {},
   "source": [
    "## 1. Teoría: ¿Qué es la Estadística Descriptiva?\n",
    "\n",
    "### Conceptos Básicos\n",
    "\n",
    "La estadística descriptiva nos ayuda a entender datos de manera simple. Es como hacer un resumen de la información.\n",
    "\n",
    "### ¿Por qué es útil en el fútbol?\n",
    "\n",
    "- 📊 **Ver quién es mejor**: ¿Qué jugador anota más goles?\n",
    "- 🏆 **Comparar equipos**: ¿Qué posición es más efectiva?\n",
    "- 📈 **Entender tendencias**: ¿Los delanteros jóvenes anotan más?\n",
    "- 🎯 **Tomar decisiones**: ¿A quién fichamos?\n",
    "\n",
    "### Medidas Importantes\n",
    "\n",
    "#### 1.1 **Datos Básicos**\n",
    "- **Promedio**: ¿Cuántos goles anota un jugador típicamente?\n",
    "- **Máximo**: ¿Cuál es el mejor rendimiento?\n",
    "- **Mínimo**: ¿Cuál es el peor rendimiento?\n",
    "\n",
    "### Ejemplos Simples\n",
    "\n",
    "Si tres jugadores anotaron:\n",
    "- Jugador A: 10 goles\n",
    "- Jugador B: 15 goles  \n",
    "- Jugador C: 8 goles\n",
    "\n",
    "**Promedio**: (10 + 15 + 8) ÷ 3 = 11 goles  \n",
    "**Máximo**: 15 goles  \n",
    "**Mínimo**: 8 goles"
   ]
  },
  {
   "cell_type": "markdown",
   "id": "111c65a5",
   "metadata": {},
   "source": [
    "## 2. Configuración Simple\n",
    "\n",
    "### Librerías que Necesitamos\n",
    "\n",
    "Vamos a usar principalmente **seaborn** porque hace gráficos bonitos con muy poco código:\n",
    "- **Pandas**: Para manejar datos\n",
    "- **Seaborn**: Para gráficos bonitos\n",
    "- **NumPy**: Para cálculos básicos\n",
    "- **Matplotlib**: Para mostrar los gráficos\n",
    "\n",
    "### ¿Por qué Seaborn?\n",
    "- 🎨 Gráficos bonitos automáticamente\n",
    "- 📊 Ideal para estadística\n",
    "- ⚡ Menos código para gráficos más informativos"
   ]
  },
  {
   "cell_type": "code",
   "execution_count": 1,
   "id": "6d42196d",
   "metadata": {},
   "outputs": [
    {
     "name": "stdout",
     "output_type": "stream",
     "text": [
      "✅ Librerías listas para estadística\n",
      "📊 Pandas: Para datos\n",
      "🎨 Seaborn: Para gráficos bonitos\n",
      "🔢 NumPy: Para cálculos\n",
      "\n",
      "🎯 ¡Todo listo para aprender estadística con fútbol!\n"
     ]
    }
   ],
   "source": [
    "# Importar librerías para estadística\n",
    "import pandas as pd\n",
    "import numpy as np\n",
    "import seaborn as sns\n",
    "import matplotlib.pyplot as plt\n",
    "import warnings\n",
    "warnings.filterwarnings('ignore')\n",
    "\n",
    "# Configuración simple con seaborn\n",
    "sns.set_theme(style=\"whitegrid\", palette=\"Set2\")\n",
    "plt.rcParams['figure.figsize'] = (10, 6)\n",
    "\n",
    "print(\"✅ Librerías listas para estadística\")\n",
    "print(\"📊 Pandas: Para datos\")\n",
    "print(\"🎨 Seaborn: Para gráficos bonitos\")\n",
    "print(\"🔢 NumPy: Para cálculos\")\n",
    "print(\"\\n🎯 ¡Todo listo para aprender estadística con fútbol!\")"
   ]
  },
  {
   "cell_type": "markdown",
   "id": "d9df479a",
   "metadata": {},
   "source": [
    "## 3. Datos de Fútbol\n",
    "\n",
    "Vamos a crear datos simples de jugadores de fútbol para aprender estadística. Incluiremos:\n",
    "\n",
    "- **Goles**: Número de goles anotados\n",
    "- **Partidos**: Partidos jugados\n",
    "- **Posición**: Delantero, Mediocampista o Defensor\n",
    "- **Edad**: Edad del jugador\n",
    "\n",
    "### 3.1 Crear Datos Simples"
   ]
  },
  {
   "cell_type": "code",
   "execution_count": null,
   "id": "d4d4a0ab",
   "metadata": {},
   "outputs": [],
   "source": [
    "# Crear datos simples de jugadores\n",
    "np.random.seed(42)  # Para que todos tengan los mismos datos\n",
    "\n",
    "# Crear 30 jugadores con datos básicos\n",
    "datos = {\n",
    "    'Jugador': [f'Jugador_{i+1}' for i in range(30)],\n",
    "    'Posicion': np.random.choice(['Delantero', 'Mediocampista', 'Defensor'], 30),\n",
    "    'Edad': np.random.randint(18, 35, 30),\n",
    "    'Partidos': np.random.randint(10, 38, 30),\n",
    "    'Goles': np.random.randint(0, 25, 30)\n",
    "}\n",
    "\n",
    "# Crear tabla de datos\n",
    "df_jugadores = pd.DataFrame(datos)\n",
    "\n",
    "# Ver nuestros datos\n",
    "print(\"🏆 Datos de jugadores creados:\")\n",
    "print(f\"📊 Total de jugadores: {len(df_jugadores)}\")\n",
    "print(\"\\n📋 Primeros 5 jugadores:\")\n",
    "print(df_jugadores.head())\n",
    "\n",
    "print(\"\\n⚽ ¿Cuántos hay de cada posición?\")\n",
    "print(df_jugadores['Posicion'].value_counts())"
   ]
  },
  {
   "cell_type": "markdown",
   "id": "3b5cd300",
   "metadata": {},
   "source": [
    "## 4. Estadísticas Básicas\n",
    "\n",
    "Vamos a calcular estadísticas básicas de nuestros datos. Estas nos ayudan a entender mejor el rendimiento de los jugadores.\n",
    "\n",
    "### 4.1 Promedio, Mínimo y Máximo\n",
    "\n",
    "Los datos más básicos que podemos calcular son:\n",
    "- **Promedio**: ¿Cuántos goles anota un jugador típico?\n",
    "- **Mínimo**: ¿Cuál es el menor número de goles?\n",
    "- **Máximo**: ¿Cuál es el mayor número de goles?"
   ]
  },
  {
   "cell_type": "code",
   "execution_count": null,
   "id": "b261092b",
   "metadata": {},
   "outputs": [],
   "source": [
    "# Calcular estadísticas básicas de goles\n",
    "print(\"⚽ ESTADÍSTICAS DE GOLES\")\n",
    "print(\"=\" * 30)\n",
    "\n",
    "goles = df_jugadores['Goles']\n",
    "\n",
    "print(f\"📊 Promedio: {goles.mean():.1f} goles\")\n",
    "print(f\"🏆 Máximo: {goles.max()} goles\")\n",
    "print(f\"📉 Mínimo: {goles.min()} goles\")\n",
    "\n",
    "# Ver goles por posición\n",
    "print(\"\\n⚽ GOLES POR POSICIÓN\")\n",
    "print(\"=\" * 30)\n",
    "\n",
    "for posicion in df_jugadores['Posicion'].unique():\n",
    "    goles_pos = df_jugadores[df_jugadores['Posicion'] == posicion]['Goles']\n",
    "    print(f\"{posicion}: {goles_pos.mean():.1f} goles promedio\")\n",
    "\n",
    "# Crear un gráfico simple\n",
    "plt.figure(figsize=(10, 6))\n",
    "sns.boxplot(data=df_jugadores, x='Posicion', y='Goles', palette='Set2')\n",
    "plt.title('⚽ Goles por Posición', size=16, pad=20)\n",
    "plt.ylabel('Número de Goles')\n",
    "plt.xlabel('Posición del Jugador')\n",
    "plt.show()\n",
    "\n",
    "print(\"\\n🎯 ¡Los delanteros anotan más goles!\")"
   ]
  },
  {
   "cell_type": "markdown",
   "id": "115efa0a",
   "metadata": {},
   "source": [
    "### 4.2 Gráficos Simples\n",
    "\n",
    "Con seaborn podemos crear gráficos bonitos muy fácilmente."
   ]
  },
  {
   "cell_type": "code",
   "execution_count": null,
   "id": "b60dcd6b",
   "metadata": {},
   "outputs": [],
   "source": [
    "# Crear gráfico de edades\n",
    "plt.figure(figsize=(10, 6))\n",
    "sns.histplot(data=df_jugadores, x='Edad', bins=8, kde=True, color='lightblue')\n",
    "plt.title('📊 Distribución de Edades de los Jugadores', size=16, pad=20)\n",
    "plt.xlabel('Edad (años)')\n",
    "plt.ylabel('Número de Jugadores')\n",
    "plt.show()\n",
    "\n",
    "# Ver estadísticas de edad\n",
    "print(\"👥 ESTADÍSTICAS DE EDAD\")\n",
    "print(\"=\" * 25)\n",
    "edades = df_jugadores['Edad']\n",
    "print(f\"🎂 Edad promedio: {edades.mean():.1f} años\")\n",
    "print(f\"👶 Más joven: {edades.min()} años\")\n",
    "print(f\"👨 Más viejo: {edades.max()} años\")\n",
    "\n",
    "print(\"\\n🎯 ¡La mayoría de jugadores tienen entre 20 y 30 años!\")"
   ]
  },
  {
   "cell_type": "markdown",
   "id": "eacd6443",
   "metadata": {},
   "source": [
    "## 5. Resumen Final\n",
    "\n",
    "¡Hemos aprendido estadística básica con datos de fútbol!\n",
    "\n",
    "### 5.1 Lo que Aprendimos\n",
    "\n",
    "- ✅ Crear datos simples de jugadores\n",
    "- ✅ Calcular promedios, máximos y mínimos\n",
    "- ✅ Hacer gráficos bonitos con seaborn\n",
    "- ✅ Comparar jugadores por posición\n",
    "\n",
    "### 5.2 ¡Lo Lograste!\n",
    "\n",
    "🎉 ¡Felicitaciones! Ahora sabes:\n",
    "- Crear datos de fútbol\n",
    "- Calcular estadísticas básicas \n",
    "- Hacer gráficos con seaborn\n",
    "- Comparar datos entre grupos\n",
    "\n",
    "¡Sigue practicando!"
   ]
  }
 ],
 "metadata": {
  "kernelspec": {
   "display_name": ".venv",
   "language": "python",
   "name": "python3"
  },
  "language_info": {
   "codemirror_mode": {
    "name": "ipython",
    "version": 3
   },
   "file_extension": ".py",
   "mimetype": "text/x-python",
   "name": "python",
   "nbconvert_exporter": "python",
   "pygments_lexer": "ipython3",
   "version": "3.10.12"
  }
 },
 "nbformat": 4,
 "nbformat_minor": 5
}
