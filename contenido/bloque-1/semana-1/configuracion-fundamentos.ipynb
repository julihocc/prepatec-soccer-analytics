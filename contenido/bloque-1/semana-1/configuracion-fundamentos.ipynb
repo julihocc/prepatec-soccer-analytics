{
 "cells": [
  {
   "cell_type": "markdown",
   "id": "09afa1d2",
   "metadata": {},
   "source": [
    "# Semana 1: Introducción a Python para Análisis de Datos Deportivos\n",
    "\n",
    "## Configuración del Entorno y Fundamentos de Programación\n",
    "\n",
    "### **Estructura de la Semana (3 sesiones de 50 minutos)**\n",
    "\n",
    "---\n",
    "\n",
    "### **Sesión 1: Descubriendo Python y Configuración del Entorno**\n",
    "**Duración:** 50 minutos\n",
    "- ¿Qué es Python y por qué es útil?\n",
    "- Instalación y configuración de herramientas\n",
    "- Primer contacto con Jupyter Notebook\n",
    "\n",
    "### **Sesión 2: Variables y Tipos de Datos con Ejemplos Futbolísticos**  \n",
    "**Duración:** 50 minutos\n",
    "- Variables: nombres de jugadores y equipos\n",
    "- Tipos de datos: números, texto y booleanos\n",
    "- Operadores matemáticos básicos\n",
    "\n",
    "### **Sesión 3: Mi Primer Análisis de Datos de Fútbol**\n",
    "**Duración:** 50 minutos\n",
    "- Trabajando con estadísticas reales\n",
    "- Cálculos simples con datos deportivos\n",
    "- Preparación para próximas semanas\n",
    "\n",
    "---\n",
    "\n",
    "### **Objetivos de Aprendizaje de la Semana:**\n",
    "Al finalizar esta semana, podrás:\n",
    "- Instalar y usar Python en tu computadora\n",
    "- Crear y usar variables para datos de fútbol\n",
    "- Realizar cálculos básicos con estadísticas deportivas\n",
    "- Entender cómo Python nos ayuda a analizar datos\n",
    "\n",
    "---"
   ]
  },
  {
   "cell_type": "markdown",
   "id": "d76a65d3",
   "metadata": {},
   "source": [
    "# SESIÓN 1: Descubriendo Python y Configuración del Entorno\n",
    "**Tiempo:** 50 minutos | **Nivel:** Preparatoria\n",
    "\n",
    "---\n",
    "\n",
    "## ¡Bienvenidos al mundo de Python!\n",
    "\n",
    "### Pregunta inicial: ¿Qué aplicaciones usas todos los días?\n",
    "Piensa en:\n",
    "- Instagram, TikTok, WhatsApp\n",
    "- Netflix, YouTube, Spotify  \n",
    "- FIFA, Google Maps\n",
    "\n",
    "**¿Sabías que muchas de estas aplicaciones están hechas con Python?**\n",
    "\n",
    "---\n",
    "\n",
    "## ¿Qué es Python?\n",
    "\n",
    "**Python es un lenguaje de programación** - piénsalo como un idioma especial que usamos para \"hablar\" con las computadoras.\n",
    "\n",
    "### ¿Por qué Python es genial para analizar fútbol?\n",
    "\n",
    "**Imagina que eres entrenador del Barcelona:**\n",
    "- Necesitas saber qué jugador mete más goles\n",
    "- Quieres ver cuándo tu equipo juega mejor\n",
    "- Buscas patrones para ganar más partidos\n",
    "\n",
    "**¡Python te ayuda a encontrar estas respuestas!**\n",
    "\n",
    "---\n",
    "\n",
    "## Nuestro Kit de Herramientas\n",
    "\n",
    "### 1. **Python**\n",
    "- El \"idioma\" que vamos a aprender\n",
    "- Gratis y usado por millones de personas\n",
    "\n",
    "### 2. **Jupyter Notebook**\n",
    "- Como un cuaderno digital donde escribimos código\n",
    "- Podemos mezclar texto, código y gráficas\n",
    "\n",
    "### 3. **pip**\n",
    "- El \"instalador\" de herramientas adicionales\n",
    "- Como una tienda de aplicaciones para programadores\n",
    "\n",
    "---\n",
    "\n",
    "## Actividad: Tu Primera Exploración\n",
    "\n",
    "### Reflexiona y discute (10 minutos):\n",
    "\n",
    "1. **¿Qué estadística de fútbol te parece más interesante?**\n",
    "   - Goles por partido\n",
    "   - Porcentaje de pases correctos\n",
    "   - Distancia recorrida\n",
    "   - Otro: ________\n",
    "\n",
    "2. **¿Cómo crees que podríamos usar datos para mejorar un equipo?**\n",
    "\n",
    "3. **¿Qué preguntas te gustaría responder sobre tu equipo favorito?**\n",
    "\n",
    "---\n",
    "\n",
    "## Configuración Paso a Paso\n",
    "\n",
    "*En esta sección instalaremos Python y Jupyter Notebook siguiendo las instrucciones del profesor*\n",
    "\n",
    "### Verificación de Instalación\n",
    "Cuando tengamos todo instalado, verificaremos que funciona correctamente."
   ]
  },
  {
   "cell_type": "markdown",
   "id": "c4825cf5",
   "metadata": {},
   "source": [
    "## Prueba de Verificación: ¿Funciona Python?\n",
    "\n",
    "### ¡Nuestro primer código! \n",
    "Ejecuta esta celda para verificar que Python funciona correctamente:"
   ]
  },
  {
   "cell_type": "code",
   "execution_count": null,
   "id": "a1fbc3f9",
   "metadata": {},
   "outputs": [
    {
     "name": "stdout",
     "output_type": "stream",
     "text": [
      "Versión de Python: 3.10.12 (main, May 27 2025, 17:12:29) [GCC 11.4.0]\n",
      "Todas las librerías están instaladas correctamente\n",
      "pandas: 2.3.1\n",
      "numpy: 2.2.6\n"
     ]
    }
   ],
   "source": [
    "# ¡Mi primer código en Python!\n",
    "print(\"¡Hola mundo!\")\n",
    "print(\"¡Python funciona correctamente!\")\n",
    "print(\"Estoy listo para analizar datos de fútbol\")"
   ]
  },
  {
   "cell_type": "markdown",
   "id": "c28537c9",
   "metadata": {},
   "source": [
    "### ¡Excelente! Tu primera línea de código funcionó\n",
    "\n",
    "**¿Qué acabamos de hacer?**\n",
    "- Usamos la función `print()` para mostrar texto en pantalla\n",
    "- Python entendió nuestras instrucciones y las ejecutó\n",
    "\n",
    "---\n",
    "\n",
    "## Resumen de la Sesión 1\n",
    "\n",
    "### Lo que logramos hoy:\n",
    "1. Conocimos qué es Python y por qué es útil\n",
    "2. Instalamos nuestras herramientas de trabajo\n",
    "3. Ejecutamos nuestro primer código\n",
    "4. Nos preparamos para analizar datos de fútbol\n",
    "\n",
    "### Para la próxima sesión:\n",
    "Aprenderemos a crear **variables** para guardar información como:\n",
    "- Nombres de jugadores\n",
    "- Número de goles\n",
    "- Equipos favoritos\n",
    "\n",
    "---\n",
    "\n",
    "# SESIÓN 2: Variables y Tipos de Datos con Ejemplos Futbolísticos\n",
    "**Tiempo:** 50 minutos | **Nivel:** Preparatoria\n",
    "\n",
    "---"
   ]
  },
  {
   "cell_type": "markdown",
   "id": "5ca9dbf1",
   "metadata": {},
   "source": [
    "## ¿Qué son las Variables?\n",
    "\n",
    "**Una variable es como una caja donde guardamos información.**\n",
    "\n",
    "### Ejemplo de la vida real:\n",
    "- En tu cuarto, tienes cajas con etiquetas: \"videojuegos\", \"ropa\", \"libros\"\n",
    "- En Python, las variables son cajas con nombres: `jugador`, `goles`, `equipo`\n",
    "\n",
    "### Ejemplo futbolístico:\n",
    "- Jugador: \"Lionel Messi\"\n",
    "- Goles: 15\n",
    "- Equipo: \"Inter Miami\"\n",
    "\n",
    "**¡Vamos a crear nuestras primeras variables con datos de fútbol!**\n",
    "\n",
    "---\n",
    "\n",
    "## Creando Variables de Fútbol"
   ]
  },
  {
   "cell_type": "code",
   "execution_count": null,
   "id": "96a48a03",
   "metadata": {},
   "outputs": [
    {
     "name": "stdout",
     "output_type": "stream",
     "text": [
      "Equipo: Barcelona\n",
      "Goles: 3\n",
      "Promedio de edad: 25.5\n",
      "Es ganador: True\n"
     ]
    }
   ],
   "source": [
    "# Variables de texto (string) - entre comillas\n",
    "jugador = \"Lionel Messi\"\n",
    "equipo = \"Inter Miami\"\n",
    "posicion = \"Delantero\"\n",
    "\n",
    "print(\"Mi jugador favorito es:\", jugador)\n",
    "print(\"Juega en:\", equipo)\n",
    "print(\"Su posición es:\", posicion)"
   ]
  },
  {
   "cell_type": "markdown",
   "id": "91e6c022",
   "metadata": {},
   "source": [
    "### Variables de Números\n",
    "\n",
    "**Los números en Python NO van entre comillas**\n",
    "\n",
    "#### Hay dos tipos:\n",
    "1. **Enteros** (sin decimal): 10, 25, 100\n",
    "2. **Decimales** (con punto): 1.85, 24.5, 89.7\n",
    "\n",
    "### Estadísticas numéricas:"
   ]
  },
  {
   "cell_type": "code",
   "execution_count": null,
   "id": "dcf9ad27",
   "metadata": {},
   "outputs": [
    {
     "name": "stdout",
     "output_type": "stream",
     "text": [
      "Nombre: Lionel Messi - Tipo: <class 'str'>\n",
      "Edad: 36 - Tipo: <class 'int'>\n",
      "Altura: 1.7 - Tipo: <class 'float'>\n",
      "Es activo: True - Tipo: <class 'bool'>\n",
      "Equipos: ['Barcelona', 'PSG', 'Miami'] - Tipo: <class 'list'>\n",
      "Estadísticas: {'goles': 800, 'asistencias': 350} - Tipo: <class 'dict'>\n"
     ]
    }
   ],
   "source": [
    "# Variables de números enteros\n",
    "goles = 15\n",
    "partidos_jugados = 20\n",
    "edad = 36\n",
    "\n",
    "# Variables de números decimales  \n",
    "altura = 1.70  # metros\n",
    "promedio_goles = 0.75  # goles por partido\n",
    "\n",
    "print(\"Goles marcados:\", goles)\n",
    "print(\"Partidos jugados:\", partidos_jugados)\n",
    "print(\"Edad del jugador:\", edad, \"años\")\n",
    "print(\"Altura:\", altura, \"metros\")\n",
    "print(\"Promedio de goles por partido:\", promedio_goles)"
   ]
  },
  {
   "cell_type": "markdown",
   "id": "1e4bbc93",
   "metadata": {},
   "source": [
    "### Variables de Verdadero o Falso (Booleanos)\n",
    "\n",
    "**A veces solo queremos responder SÍ o NO**\n",
    "\n",
    "- ¿El equipo ganó? True (Verdadero)\n",
    "- ¿El jugador está lesionado? False (Falso)\n",
    "\n",
    "En Python usamos: `True` y `False` (con mayúscula)"
   ]
  },
  {
   "cell_type": "code",
   "execution_count": null,
   "id": "3f46a35d",
   "metadata": {},
   "outputs": [
    {
     "name": "stdout",
     "output_type": "stream",
     "text": [
      "Total de goles: 3\n",
      "Diferencia de goles: 1\n",
      "Promedio de puntos por partido: 2.4\n",
      "Puntos posibles: 30\n",
      "Eficiencia: 80.0%\n"
     ]
    }
   ],
   "source": [
    "# Variables booleanas (True o False)\n",
    "es_capitan = True\n",
    "esta_lesionado = False\n",
    "juega_en_casa = True\n",
    "\n",
    "print(\"¿Es capitán del equipo?\", es_capitan)\n",
    "print(\"¿Está lesionado?\", esta_lesionado)\n",
    "print(\"¿Juega en casa?\", juega_en_casa)"
   ]
  },
  {
   "cell_type": "code",
   "execution_count": null,
   "id": "2d241968",
   "metadata": {},
   "outputs": [
    {
     "name": "stdout",
     "output_type": "stream",
     "text": [
      "¿Equipo A ganó?: True\n",
      "¿Fue empate?: False\n",
      "¿Equipo B perdió?: True\n",
      "¿Hubo al menos 2 goles?: True\n"
     ]
    }
   ],
   "source": [
    "# Operaciones Matemáticas con Datos de Fútbol\n",
    "\n",
    "# Datos de un partido\n",
    "goles_casa = 3\n",
    "goles_visitante = 1\n",
    "\n",
    "# Operaciones básicas\n",
    "total_goles = goles_casa + goles_visitante  # Suma\n",
    "diferencia = goles_casa - goles_visitante   # Resta\n",
    "goles_dobles = goles_casa * 2               # Multiplicación\n",
    "promedio = total_goles / 2                  # División\n",
    "\n",
    "print(\"Goles del equipo local:\", goles_casa)\n",
    "print(\"Goles del equipo visitante:\", goles_visitante)\n",
    "print(\"Total de goles en el partido:\", total_goles)\n",
    "print(\"Diferencia de goles:\", diferencia)\n",
    "print(\"Si duplicáramos los goles locales:\", goles_dobles)\n",
    "print(\"Promedio de goles por equipo:\", promedio)"
   ]
  },
  {
   "cell_type": "markdown",
   "id": "96d6541b",
   "metadata": {},
   "source": [
    "## Resumen de la Sesión 2\n",
    "\n",
    "### Lo que aprendimos hoy:\n",
    "1. **Variables de texto**: guardamos nombres (entre comillas)\n",
    "2. **Variables de números**: enteros y decimales (sin comillas)\n",
    "3. **Variables booleanas**: True o False para respuestas sí/no\n",
    "4. **Operaciones matemáticas**: +, -, *, / para calcular estadísticas\n",
    "\n",
    "### Ahora puedes:\n",
    "- Crear variables para datos de fútbol\n",
    "- Hacer cálculos básicos con estadísticas\n",
    "- Entender diferentes tipos de información\n",
    "\n",
    "---\n",
    "\n",
    "# SESIÓN 3: Mi Primer Análisis de Datos de Fútbol\n",
    "**Tiempo:** 50 minutos | **Nivel:** Preparatoria\n",
    "\n",
    "---\n",
    "\n",
    "## ¡Hora de analizar datos reales!\n",
    "\n",
    "Ahora que conoces variables y operaciones, vamos a trabajar con **datos reales de fútbol** como un analista deportivo profesional."
   ]
  },
  {
   "cell_type": "code",
   "execution_count": null,
   "id": "f5120291",
   "metadata": {},
   "outputs": [
    {
     "name": "stdout",
     "output_type": "stream",
     "text": [
      "=== ANÁLISIS DEL PARTIDO ===\n",
      "Partido: Real Madrid vs Barcelona\n",
      "Resultado: 2 - 1\n",
      "Ganador: Real Madrid\n",
      "Total de goles: 3\n",
      "Diferencia: 1\n",
      "Asistencia: 75,000 espectadores\n",
      "Promedio de goles por minuto: 0.0333\n",
      "Tipo de resultado: Victoria local\n"
     ]
    }
   ],
   "source": [
    "# Análisis del Rendimiento del FC Barcelona\n",
    "# Datos de la temporada (ejemplo)\n",
    "\n",
    "print(\"=== ANÁLISIS FC BARCELONA ===\")\n",
    "print()\n",
    "\n",
    "# Datos del equipo\n",
    "nombre_equipo = \"FC Barcelona\"\n",
    "partidos_jugados = 10\n",
    "victorias = 7\n",
    "empates = 2\n",
    "derrotas = 1\n",
    "\n",
    "# Calculamos estadísticas\n",
    "puntos_totales = (victorias * 3) + (empates * 1) + (derrotas * 0)\n",
    "porcentaje_victorias = (victorias / partidos_jugados) * 100\n",
    "\n",
    "print(\"Equipo:\", nombre_equipo)\n",
    "print(\"Partidos jugados:\", partidos_jugados)\n",
    "print(\"Victorias:\", victorias)\n",
    "print(\"Empates:\", empates)  \n",
    "print(\"Derrotas:\", derrotas)\n",
    "print()\n",
    "print(\"ESTADÍSTICAS CALCULADAS:\")\n",
    "print(\"Puntos totales:\", puntos_totales)\n",
    "print(\"Porcentaje de victorias:\", porcentaje_victorias, \"%\")"
   ]
  },
  {
   "cell_type": "markdown",
   "id": "eeaf1881",
   "metadata": {},
   "source": [
    "### Actividad: Comparando Dos Equipos\n",
    "\n",
    "**¡Ahora tú eres el analista!** Vamos a comparar el rendimiento de dos equipos populares:"
   ]
  },
  {
   "cell_type": "code",
   "execution_count": null,
   "id": "594831cf",
   "metadata": {},
   "outputs": [
    {
     "name": "stdout",
     "output_type": "stream",
     "text": [
      "Jugador: Cristiano Ronaldo\n",
      "Equipo: AL-NASSR\n",
      "Posición: delantero\n",
      "\n",
      "Presentación: El jugador Cristiano Ronaldo juega como delantero en Al-Nassr\n",
      "\n",
      "Longitud del nombre: 17 caracteres\n",
      "¿Contiene 'Ronaldo'?: True\n"
     ]
    }
   ],
   "source": [
    "# Comparación: Barcelona vs Real Madrid\n",
    "\n",
    "print(\"=== COMPARACIÓN DE EQUIPOS ===\")\n",
    "print()\n",
    "\n",
    "# Datos del Barcelona\n",
    "barça_victorias = 7\n",
    "barça_partidos = 10\n",
    "barça_goles_favor = 25\n",
    "barça_goles_contra = 8\n",
    "\n",
    "# Datos del Real Madrid  \n",
    "madrid_victorias = 8\n",
    "madrid_partidos = 10\n",
    "madrid_goles_favor = 28\n",
    "madrid_goles_contra = 12\n",
    "\n",
    "# Calculamos estadísticas de ambos equipos\n",
    "barça_porcentaje = (barça_victorias / barça_partidos) * 100\n",
    "madrid_porcentaje = (madrid_victorias / madrid_partidos) * 100\n",
    "\n",
    "barça_diferencia = barça_goles_favor - barça_goles_contra\n",
    "madrid_diferencia = madrid_goles_favor - madrid_goles_contra\n",
    "\n",
    "print(\"FC BARCELONA:\")\n",
    "print(\"  Victorias:\", barça_victorias, \"/\", barça_partidos)\n",
    "print(\"  Porcentaje de victorias:\", barça_porcentaje, \"%\")\n",
    "print(\"  Goles a favor:\", barça_goles_favor)\n",
    "print(\"  Diferencia de goles:\", barça_diferencia)\n",
    "print()\n",
    "\n",
    "print(\"REAL MADRID:\")\n",
    "print(\"  Victorias:\", madrid_victorias, \"/\", madrid_partidos)\n",
    "print(\"  Porcentaje de victorias:\", madrid_porcentaje, \"%\")\n",
    "print(\"  Goles a favor:\", madrid_goles_favor)\n",
    "print(\"  Diferencia de goles:\", madrid_diferencia)\n",
    "print()\n",
    "\n",
    "print(\"CONCLUSIÓN:\")\n",
    "if madrid_porcentaje > barça_porcentaje:\n",
    "    print(\"El Real Madrid tiene mejor porcentaje de victorias\")\n",
    "else:\n",
    "    print(\"El Barcelona tiene mejor porcentaje de victorias\")"
   ]
  },
  {
   "cell_type": "markdown",
   "id": "66222592",
   "metadata": {},
   "source": [
    "## ¡Felicidades! Completaste tu Primera Semana\n",
    "\n",
    "### Resumen de la Sesión 3:\n",
    "- Analizaste datos reales de equipos de fútbol\n",
    "- Calculaste estadísticas como porcentajes y diferencias\n",
    "- Comparaste el rendimiento de dos equipos\n",
    "- ¡Usaste Python como un analista deportivo profesional!\n",
    "\n",
    "---\n",
    "\n",
    "## Lo que Lograste Esta Semana\n",
    "\n",
    "### **Sesión 1**: Instalación y Primer Contacto\n",
    "- Instalaste Python y Jupyter Notebook\n",
    "- Ejecutaste tu primer código\n",
    "- Entendiste qué es la programación\n",
    "\n",
    "### **Sesión 2**: Variables y Operaciones\n",
    "- Creaste variables de texto, números y booleanos\n",
    "- Aprendiste operaciones matemáticas básicas\n",
    "- Trabajaste con datos deportivos\n",
    "\n",
    "### **Sesión 3**: Primer Análisis Real\n",
    "- Analizaste estadísticas de equipos reales\n",
    "- Calculaste porcentajes y comparaciones\n",
    "- Creaste tu primer \"reporte\" de análisis\n",
    "\n",
    "---\n",
    "\n",
    "## Próxima Semana: Estructuras de Control\n",
    "\n",
    "### Te esperan nuevos desafíos:\n",
    "- **Decisiones**: ¿Cómo hacer que Python tome decisiones?\n",
    "- **Repeticiones**: ¿Cómo analizar muchos partidos automáticamente?\n",
    "- **Listas**: ¿Cómo manejar información de múltiples jugadores?\n",
    "\n",
    "### Tarea para Pensar:\n",
    "¿Qué otros datos de fútbol te gustaría analizar? Piensa en:\n",
    "- Estadísticas de jugadores individuales\n",
    "- Comparaciones entre ligas\n",
    "- Análisis de rendimiento por temporada\n",
    "\n",
    "---\n",
    "\n",
    "## ¡Reflexión Final!\n",
    "\n",
    "**¿Qué te pareció más interesante de esta semana?**\n",
    "**¿Qué aplicación le darías a lo que aprendiste?**\n",
    "\n",
    "¡Estás en el camino correcto para convertirte en un analista de datos deportivos!"
   ]
  }
 ],
 "metadata": {
  "kernelspec": {
   "display_name": ".venv (3.10.12)",
   "language": "python",
   "name": "python3"
  },
  "language_info": {
   "codemirror_mode": {
    "name": "ipython",
    "version": 3
   },
   "file_extension": ".py",
   "mimetype": "text/x-python",
   "name": "python",
   "nbconvert_exporter": "python",
   "pygments_lexer": "ipython3",
   "version": "3.10.12"
  }
 },
 "nbformat": 4,
 "nbformat_minor": 5
}
